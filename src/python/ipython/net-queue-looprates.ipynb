{
 "metadata": {
  "name": ""
 },
 "nbformat": 3,
 "nbformat_minor": 0,
 "worksheets": [
  {
   "cells": [
    {
     "cell_type": "code",
     "collapsed": false,
     "input": [
      "import sys\n",
      "sys.path.append(\"/home/chase/projects/net-queue/src/python\")\n",
      "from qnetWithDrivers import *"
     ],
     "language": "python",
     "metadata": {},
     "outputs": [],
     "prompt_number": 15
    },
    {
     "cell_type": "code",
     "collapsed": false,
     "input": [
      "MC = 50\n",
      "rates = 80\n",
      "utilizationStats = np.zeros((rates,3*MC))\n",
      "averageWaitTime = np.zeros((rates,2*MC))\n",
      "\n",
      "for jj in range(rates):\n",
      "    for kk in range(MC):\n",
      "        k = kk+1\n",
      "        QNet = blockfaceNet(\"QNetparams.txt\", [\"utilization\"])\n",
      "        QNet.params.lambd = QNet.params.lambd + float(jj)/100\n",
      "        for bf in QNet.bface.keys():\n",
      "            QNet.bface[bf].arrival_rate = QNet.params.lambd\n",
      "\n",
      "        while QNet.timer < QNet.params.simulation_time:\n",
      "            #find block numbers of blocks with <=0.0 time till next arrival\n",
      "            #can use itertools.compress on new arrivals list comprehension\n",
      "            currently_arriving_blocks = [ j for j, x in enumerate(list(QNet.new_arrivals)) if x < QNet.params.time_resolution ]\n",
      "            if len(currently_arriving_blocks) > 0:\n",
      "            #give arriving blocks new arrivals\n",
      "            #prioritize exogenous arrivals\n",
      "                for i in currently_arriving_blocks:\n",
      "                    blockindex = QNet.injection_map[i]\n",
      "                    next_arrival_time = np.random.exponential(QNet.bface[blockindex].arrival_rate)\n",
      "                    QNet.new_arrivals[i] = next_arrival_time \n",
      "                    QNet.bface[blockindex].exogenous += 1\n",
      "                    QNet.carIndex += 1\n",
      "                    QNet.cars[QNet.carIndex] = car(QNet.carIndex)\n",
      "                    #try to park, otherwise, drive somewhere else\n",
      "                    QNet.park(blockindex, QNet.carIndex)\n",
      "    \n",
      "            for origin in QNet.bface.keys():\n",
      "                #Checking for any drivers arriving at other blocks based on travel time in street buffer\n",
      "                #have to loop through every block? Yes, if I care about street direction\n",
      "                for dest in range(len(QNet.streets[origin])):\n",
      "                    #for each possible destination index, get the block index, neighbors is list of block indexs connected to origin\n",
      "                    #but dest is local index of street connected to origin to save space, \n",
      "                    #e.g. block 2 to block 3 is connected by block 2's street 1\n",
      "                    destblock = QNet.bface[origin].neighbors[dest]\n",
      "                    #at least first driver needs to be arriving\n",
      "                    if len(QNet.streets[origin][dest]) > 0 and QNet.streets[origin][dest][0] < QNet.params.time_resolution:\n",
      "                        #first driver in list will always be closest to 0 unless drive times vary\n",
      "                        #>>>>>THIS WON'T WORK IF DRIVE TIMES ARE NOT CONSTANT<<<<<<<<<<<\n",
      "                        for driver in QNet.streets[origin][dest]:\n",
      "                            #could be more than one arriving\n",
      "                            while QNet.streets[origin][dest][0] < QNet.params.time_resolution:\n",
      "                                carIndex = QNet.streetsDrivers[origin][dest][0]\n",
      "                                QNet.park(destblock, carIndex)\n",
      "                                #Get rid of first driver, go back up and check if next driver is also arriving\n",
      "                                QNet.streets[origin][dest].pop(0)\n",
      "                                QNet.streetsDrivers[origin][dest].pop(0)\n",
      "                                if len(QNet.streets[origin][dest]) == 0:\n",
      "                                    break\n",
      "    \n",
      "            #step simulation forward and collect any flagged global stats\n",
      "            QNet.step_time()\n",
      "\n",
      "        print(\"\\n==Results==\")\n",
      "        for i in QNet.bface.keys():\n",
      "            if i in QNet.injection_map.values():\n",
      "                print(\"block number \" + str(i) + \" (injector):\\n\\ttotal arrivals: \" + str(QNet.bface[i].total))\n",
      "                print(\"\\tinjected: \" + str(QNet.bface[i].exogenous))\n",
      "            else:\n",
      "                print(\"block number \" + str(i) + \":\\n\\ttotal arrivals: \" + str(QNet.bface[i].total))\n",
      "            print(\"\\tparked: \" + str(QNet.bface[i].served))\n",
      "            print(\"\\taverage utilization: \" + str(float(sum(QNet.bface[i].utilization))/float(len(QNet.bface[i].utilization)) * 100.0) + \"%\")\n",
      "            utilizationStats[jj,i+1*k] = float(sum(QNet.bface[i].utilization))/float(len(QNet.bface[i].utilization))\n",
      "    \n",
      "        #calculating average wait time\n",
      "        total = 0.0\n",
      "        numCars = float(len(QNet.cars.keys()))\n",
      "        for carInd in QNet.cars.keys():\n",
      "            total += QNet.cars[carInd].totalDriveTime\n",
      "        averageWait = total/numCars\n",
      "        print(\"average wait time: \" + str(averageWait) + \"\\n\")\n",
      "        \n",
      "        averageWaitTime[jj,k] = averageWait\n",
      "        utilizationStats[jj,0] = QNet.params.lambd\n",
      "        averageWaitTime[jj,0] = QNet.params.lambd\n"
     ],
     "language": "python",
     "metadata": {},
     "outputs": [
      {
       "output_type": "stream",
       "stream": "stdout",
       "text": [
        "0% complete\n",
        "10% complete"
       ]
      },
      {
       "output_type": "stream",
       "stream": "stdout",
       "text": [
        "\n",
        "20% complete"
       ]
      },
      {
       "output_type": "stream",
       "stream": "stdout",
       "text": [
        "\n",
        "30% complete"
       ]
      },
      {
       "output_type": "stream",
       "stream": "stdout",
       "text": [
        "\n",
        "40% complete"
       ]
      },
      {
       "output_type": "stream",
       "stream": "stdout",
       "text": [
        "\n",
        "50% complete"
       ]
      },
      {
       "output_type": "stream",
       "stream": "stdout",
       "text": [
        "\n",
        "60% complete"
       ]
      },
      {
       "output_type": "stream",
       "stream": "stdout",
       "text": [
        "\n",
        "70% complete"
       ]
      },
      {
       "output_type": "stream",
       "stream": "stdout",
       "text": [
        "\n",
        "80% complete"
       ]
      },
      {
       "output_type": "stream",
       "stream": "stdout",
       "text": [
        "\n",
        "90% complete"
       ]
      },
      {
       "output_type": "stream",
       "stream": "stdout",
       "text": [
        "\n",
        "100% complete"
       ]
      },
      {
       "output_type": "stream",
       "stream": "stdout",
       "text": [
        "\n",
        "\n",
        "==Results==\n",
        "block number 0 (injector):\n",
        "\ttotal arrivals: 146820\n",
        "\tinjected: 1277\n",
        "\tparked: 1004\n",
        "\taverage utilization: 92.7272727273%\n",
        "block number 1 (injector):\n",
        "\ttotal arrivals: 146793\n",
        "\tinjected: 1235\n",
        "\tparked: 982\n",
        "\taverage utilization: 92.7272727273%\n",
        "average wait time: 116.093550955\n",
        "\n",
        "0% complete\n",
        "10% complete"
       ]
      },
      {
       "output_type": "stream",
       "stream": "stdout",
       "text": [
        "\n",
        "20% complete"
       ]
      },
      {
       "output_type": "stream",
       "stream": "stdout",
       "text": [
        "\n",
        "30% complete"
       ]
      },
      {
       "output_type": "stream",
       "stream": "stdout",
       "text": [
        "\n",
        "40% complete"
       ]
      },
      {
       "output_type": "stream",
       "stream": "stdout",
       "text": [
        "\n",
        "50% complete"
       ]
      },
      {
       "output_type": "stream",
       "stream": "stdout",
       "text": [
        "\n",
        "60% complete"
       ]
      },
      {
       "output_type": "stream",
       "stream": "stdout",
       "text": [
        "\n",
        "70% complete"
       ]
      },
      {
       "output_type": "stream",
       "stream": "stdout",
       "text": [
        "\n",
        "80% complete"
       ]
      },
      {
       "output_type": "stream",
       "stream": "stdout",
       "text": [
        "\n",
        "90% complete"
       ]
      },
      {
       "output_type": "stream",
       "stream": "stdout",
       "text": [
        "\n",
        "100% complete"
       ]
      },
      {
       "output_type": "stream",
       "stream": "stdout",
       "text": [
        "\n",
        "\n",
        "==Results==\n",
        "block number 0 (injector):\n",
        "\ttotal arrivals: 145515\n",
        "\tinjected: 1196\n",
        "\tparked: 946\n",
        "\taverage utilization: 92.7272727273%\n",
        "block number 1 (injector):\n",
        "\ttotal arrivals: 145618\n",
        "\tinjected: 1294\n",
        "\tparked: 1047\n",
        "\taverage utilization: 92.7272727273%\n",
        "average wait time: 116.120481928\n",
        "\n",
        "0% complete\n",
        "10% complete"
       ]
      },
      {
       "output_type": "stream",
       "stream": "stdout",
       "text": [
        "\n",
        "20% complete"
       ]
      },
      {
       "output_type": "stream",
       "stream": "stdout",
       "text": [
        "\n",
        "30% complete"
       ]
      },
      {
       "output_type": "stream",
       "stream": "stdout",
       "text": [
        "\n",
        "40% complete"
       ]
      },
      {
       "output_type": "stream",
       "stream": "stdout",
       "text": [
        "\n",
        "50% complete"
       ]
      },
      {
       "output_type": "stream",
       "stream": "stdout",
       "text": [
        "\n",
        "60% complete"
       ]
      },
      {
       "output_type": "stream",
       "stream": "stdout",
       "text": [
        "\n",
        "70% complete"
       ]
      },
      {
       "output_type": "stream",
       "stream": "stdout",
       "text": [
        "\n",
        "80% complete"
       ]
      },
      {
       "output_type": "stream",
       "stream": "stdout",
       "text": [
        "\n",
        "90% complete"
       ]
      },
      {
       "output_type": "stream",
       "stream": "stdout",
       "text": [
        "\n",
        "100% complete"
       ]
      },
      {
       "output_type": "stream",
       "stream": "stdout",
       "text": [
        "\n",
        "\n",
        "==Results==\n",
        "block number 0 (injector):\n",
        "\ttotal arrivals: 116923\n",
        "\tinjected: 1274\n",
        "\tparked: 1024\n",
        "\taverage utilization: 92.7272727273%\n",
        "block number 1 (injector):\n",
        "\ttotal arrivals: 116896\n",
        "\tinjected: 1241\n",
        "\tparked: 1011\n",
        "\taverage utilization: 92.7272727273%\n",
        "average wait time: 92.1606361829\n",
        "\n",
        "0% complete\n",
        "10% complete"
       ]
      },
      {
       "output_type": "stream",
       "stream": "stdout",
       "text": [
        "\n",
        "20% complete"
       ]
      },
      {
       "output_type": "stream",
       "stream": "stdout",
       "text": [
        "\n",
        "30% complete"
       ]
      },
      {
       "output_type": "stream",
       "stream": "stdout",
       "text": [
        "\n",
        "40% complete"
       ]
      },
      {
       "output_type": "stream",
       "stream": "stdout",
       "text": [
        "\n",
        "50% complete"
       ]
      },
      {
       "output_type": "stream",
       "stream": "stdout",
       "text": [
        "\n",
        "60% complete"
       ]
      },
      {
       "output_type": "stream",
       "stream": "stdout",
       "text": [
        "\n",
        "70% complete"
       ]
      },
      {
       "output_type": "stream",
       "stream": "stdout",
       "text": [
        "\n",
        "80% complete"
       ]
      },
      {
       "output_type": "stream",
       "stream": "stdout",
       "text": [
        "\n",
        "90% complete"
       ]
      },
      {
       "output_type": "stream",
       "stream": "stdout",
       "text": [
        "\n",
        "100% complete"
       ]
      },
      {
       "output_type": "stream",
       "stream": "stdout",
       "text": [
        "\n",
        "\n",
        "==Results==\n",
        "block number 0 (injector):\n",
        "\ttotal arrivals: 143308\n",
        "\tinjected: 1294\n",
        "\tparked: 967\n",
        "\taverage utilization: 92.7272727273%\n",
        "block number 1 (injector):\n",
        "\ttotal arrivals: 143332\n",
        "\tinjected: 1259\n",
        "\tparked: 1011\n",
        "\taverage utilization: 92.7272727273%\n",
        "average wait time: 111.50097924\n",
        "\n",
        "0% complete\n",
        "10% complete"
       ]
      },
      {
       "output_type": "stream",
       "stream": "stdout",
       "text": [
        "\n",
        "20% complete"
       ]
      },
      {
       "output_type": "stream",
       "stream": "stdout",
       "text": [
        "\n",
        "30% complete"
       ]
      },
      {
       "output_type": "stream",
       "stream": "stdout",
       "text": [
        "\n",
        "40% complete"
       ]
      },
      {
       "output_type": "stream",
       "stream": "stdout",
       "text": [
        "\n",
        "50% complete"
       ]
      },
      {
       "output_type": "stream",
       "stream": "stdout",
       "text": [
        "\n",
        "60% complete"
       ]
      },
      {
       "output_type": "stream",
       "stream": "stdout",
       "text": [
        "\n",
        "70% complete"
       ]
      },
      {
       "output_type": "stream",
       "stream": "stdout",
       "text": [
        "\n",
        "80% complete"
       ]
      },
      {
       "output_type": "stream",
       "stream": "stdout",
       "text": [
        "\n",
        "90% complete"
       ]
      },
      {
       "output_type": "stream",
       "stream": "stdout",
       "text": [
        "\n",
        "100% complete"
       ]
      },
      {
       "output_type": "stream",
       "stream": "stdout",
       "text": [
        "\n",
        "\n",
        "==Results==\n",
        "block number 0 (injector):\n",
        "\ttotal arrivals: 140553\n",
        "\tinjected: 1268\n",
        "\tparked: 998\n",
        "\taverage utilization: 92.7272727273%\n",
        "block number 1 (injector):\n",
        "\ttotal arrivals: 140567\n",
        "\tinjected: 1293\n",
        "\tparked: 1003\n",
        "\taverage utilization: 90.9090909091%\n",
        "average wait time: 108.988285826\n",
        "\n",
        "0% complete\n",
        "10% complete"
       ]
      },
      {
       "output_type": "stream",
       "stream": "stdout",
       "text": [
        "\n",
        "20% complete"
       ]
      },
      {
       "output_type": "stream",
       "stream": "stdout",
       "text": [
        "\n",
        "30% complete"
       ]
      },
      {
       "output_type": "stream",
       "stream": "stdout",
       "text": [
        "\n",
        "40% complete"
       ]
      },
      {
       "output_type": "stream",
       "stream": "stdout",
       "text": [
        "\n",
        "50% complete"
       ]
      },
      {
       "output_type": "stream",
       "stream": "stdout",
       "text": [
        "\n",
        "60% complete"
       ]
      },
      {
       "output_type": "stream",
       "stream": "stdout",
       "text": [
        "\n",
        "70% complete"
       ]
      },
      {
       "output_type": "stream",
       "stream": "stdout",
       "text": [
        "\n",
        "80% complete"
       ]
      },
      {
       "output_type": "stream",
       "stream": "stdout",
       "text": [
        "\n",
        "90% complete"
       ]
      },
      {
       "output_type": "stream",
       "stream": "stdout",
       "text": [
        "\n",
        "100% complete"
       ]
      },
      {
       "output_type": "stream",
       "stream": "stdout",
       "text": [
        "\n",
        "\n",
        "==Results==\n",
        "block number 0 (injector):\n",
        "\ttotal arrivals: 128802\n",
        "\tinjected: 1228\n",
        "\tparked: 967\n",
        "\taverage utilization: 92.7272727273%\n",
        "block number 1 (injector):\n",
        "\ttotal arrivals: 128774\n",
        "\tinjected: 1262\n",
        "\tparked: 967\n",
        "\taverage utilization: 92.7272727273%\n",
        "average wait time: 102.66746988\n",
        "\n",
        "0% complete\n",
        "10% complete"
       ]
      },
      {
       "output_type": "stream",
       "stream": "stdout",
       "text": [
        "\n",
        "20% complete"
       ]
      },
      {
       "output_type": "stream",
       "stream": "stdout",
       "text": [
        "\n",
        "30% complete"
       ]
      },
      {
       "output_type": "stream",
       "stream": "stdout",
       "text": [
        "\n",
        "40% complete"
       ]
      },
      {
       "output_type": "stream",
       "stream": "stdout",
       "text": [
        "\n",
        "50% complete"
       ]
      },
      {
       "output_type": "stream",
       "stream": "stdout",
       "text": [
        "\n",
        "60% complete"
       ]
      },
      {
       "output_type": "stream",
       "stream": "stdout",
       "text": [
        "\n",
        "70% complete"
       ]
      },
      {
       "output_type": "stream",
       "stream": "stdout",
       "text": [
        "\n",
        "80% complete"
       ]
      },
      {
       "output_type": "stream",
       "stream": "stdout",
       "text": [
        "\n",
        "90% complete"
       ]
      },
      {
       "output_type": "stream",
       "stream": "stdout",
       "text": [
        "\n",
        "100% complete"
       ]
      },
      {
       "output_type": "stream",
       "stream": "stdout",
       "text": [
        "\n",
        "\n",
        "==Results==\n",
        "block number 0 (injector):\n",
        "\ttotal arrivals: 153136\n",
        "\tinjected: 1243\n",
        "\tparked: 961\n",
        "\taverage utilization: 92.7272727273%\n",
        "block number 1 (injector):\n",
        "\ttotal arrivals: 153236\n",
        "\tinjected: 1284\n",
        "\tparked: 996\n",
        "\taverage utilization: 92.7272727273%\n",
        "average wait time: 120.464978235\n",
        "\n",
        "0% complete\n",
        "10% complete"
       ]
      },
      {
       "output_type": "stream",
       "stream": "stdout",
       "text": [
        "\n",
        "20% complete"
       ]
      },
      {
       "output_type": "stream",
       "stream": "stdout",
       "text": [
        "\n",
        "30% complete"
       ]
      },
      {
       "output_type": "stream",
       "stream": "stdout",
       "text": [
        "\n",
        "40% complete"
       ]
      },
      {
       "output_type": "stream",
       "stream": "stdout",
       "text": [
        "\n",
        "50% complete"
       ]
      },
      {
       "output_type": "stream",
       "stream": "stdout",
       "text": [
        "\n",
        "60% complete"
       ]
      },
      {
       "output_type": "stream",
       "stream": "stdout",
       "text": [
        "\n",
        "70% complete"
       ]
      },
      {
       "output_type": "stream",
       "stream": "stdout",
       "text": [
        "\n",
        "80% complete"
       ]
      },
      {
       "output_type": "stream",
       "stream": "stdout",
       "text": [
        "\n",
        "90% complete"
       ]
      },
      {
       "output_type": "stream",
       "stream": "stdout",
       "text": [
        "\n",
        "100% complete"
       ]
      },
      {
       "output_type": "stream",
       "stream": "stdout",
       "text": [
        "\n",
        "\n",
        "==Results==\n",
        "block number 0 (injector):\n",
        "\ttotal arrivals: 113170\n",
        "\tinjected: 1220\n",
        "\tparked: 957\n",
        "\taverage utilization: 92.7272727273%\n",
        "block number 1 (injector):\n",
        "\ttotal arrivals: 113211\n",
        "\tinjected: 1215\n",
        "\tparked: 991\n",
        "\taverage utilization: 92.7272727273%\n",
        "average wait time: 92.1696098563\n",
        "\n",
        "0% complete\n",
        "10% complete"
       ]
      },
      {
       "output_type": "stream",
       "stream": "stdout",
       "text": [
        "\n",
        "20% complete"
       ]
      },
      {
       "output_type": "stream",
       "stream": "stdout",
       "text": [
        "\n",
        "30% complete"
       ]
      },
      {
       "output_type": "stream",
       "stream": "stdout",
       "text": [
        "\n",
        "40% complete"
       ]
      },
      {
       "output_type": "stream",
       "stream": "stdout",
       "text": [
        "\n",
        "50% complete"
       ]
      },
      {
       "output_type": "stream",
       "stream": "stdout",
       "text": [
        "\n",
        "60% complete"
       ]
      },
      {
       "output_type": "stream",
       "stream": "stdout",
       "text": [
        "\n",
        "70% complete"
       ]
      },
      {
       "output_type": "stream",
       "stream": "stdout",
       "text": [
        "\n",
        "80% complete"
       ]
      },
      {
       "output_type": "stream",
       "stream": "stdout",
       "text": [
        "\n",
        "90% complete"
       ]
      },
      {
       "output_type": "stream",
       "stream": "stdout",
       "text": [
        "\n",
        "100% complete"
       ]
      },
      {
       "output_type": "stream",
       "stream": "stdout",
       "text": [
        "\n",
        "\n",
        "==Results==\n",
        "block number 0 (injector):\n",
        "\ttotal arrivals: 120080\n",
        "\tinjected: 1324\n",
        "\tparked: 1071\n",
        "\taverage utilization: 92.7272727273%\n",
        "block number 1 (injector):\n",
        "\ttotal arrivals: 120009\n",
        "\tinjected: 1249\n",
        "\tparked: 1020\n",
        "\taverage utilization: 92.7272727273%\n",
        "average wait time: 92.4982510688\n",
        "\n",
        "0% complete\n",
        "10% complete"
       ]
      },
      {
       "output_type": "stream",
       "stream": "stdout",
       "text": [
        "\n",
        "20% complete"
       ]
      },
      {
       "output_type": "stream",
       "stream": "stdout",
       "text": [
        "\n",
        "30% complete"
       ]
      },
      {
       "output_type": "stream",
       "stream": "stdout",
       "text": [
        "\n",
        "40% complete"
       ]
      },
      {
       "output_type": "stream",
       "stream": "stdout",
       "text": [
        "\n",
        "50% complete"
       ]
      },
      {
       "output_type": "stream",
       "stream": "stdout",
       "text": [
        "\n",
        "60% complete"
       ]
      },
      {
       "output_type": "stream",
       "stream": "stdout",
       "text": [
        "\n",
        "70% complete"
       ]
      },
      {
       "output_type": "stream",
       "stream": "stdout",
       "text": [
        "\n",
        "80% complete"
       ]
      },
      {
       "output_type": "stream",
       "stream": "stdout",
       "text": [
        "\n",
        "90% complete"
       ]
      },
      {
       "output_type": "stream",
       "stream": "stdout",
       "text": [
        "\n",
        "100% complete"
       ]
      },
      {
       "output_type": "stream",
       "stream": "stdout",
       "text": [
        "\n",
        "\n",
        "==Results==\n",
        "block number 0 (injector):\n",
        "\ttotal arrivals: 131341\n",
        "\tinjected: 1207\n",
        "\tparked: 958\n",
        "\taverage utilization: 90.9090909091%\n",
        "block number 1 (injector):\n",
        "\ttotal arrivals: 131290\n",
        "\tinjected: 1179\n",
        "\tparked: 946\n",
        "\taverage utilization: 92.7272727273%\n",
        "average wait time: 109.273679799\n",
        "\n",
        "0% complete\n",
        "10% complete"
       ]
      },
      {
       "output_type": "stream",
       "stream": "stdout",
       "text": [
        "\n",
        "20% complete"
       ]
      },
      {
       "output_type": "stream",
       "stream": "stdout",
       "text": [
        "\n",
        "30% complete"
       ]
      },
      {
       "output_type": "stream",
       "stream": "stdout",
       "text": [
        "\n",
        "40% complete"
       ]
      },
      {
       "output_type": "stream",
       "stream": "stdout",
       "text": [
        "\n",
        "50% complete"
       ]
      },
      {
       "output_type": "stream",
       "stream": "stdout",
       "text": [
        "\n",
        "60% complete"
       ]
      },
      {
       "output_type": "stream",
       "stream": "stdout",
       "text": [
        "\n",
        "70% complete"
       ]
      },
      {
       "output_type": "stream",
       "stream": "stdout",
       "text": [
        "\n",
        "80% complete"
       ]
      },
      {
       "output_type": "stream",
       "stream": "stdout",
       "text": [
        "\n",
        "90% complete"
       ]
      },
      {
       "output_type": "stream",
       "stream": "stdout",
       "text": [
        "\n",
        "100% complete"
       ]
      },
      {
       "output_type": "stream",
       "stream": "stdout",
       "text": [
        "\n",
        "\n",
        "==Results==\n",
        "block number 0 (injector):\n",
        "\ttotal arrivals: 118448\n",
        "\tinjected: 1290\n",
        "\tparked: 999\n",
        "\taverage utilization: 90.9090909091%\n",
        "block number 1 (injector):\n",
        "\ttotal arrivals: 118395\n",
        "\tinjected: 1208\n",
        "\tparked: 970\n",
        "\taverage utilization: 92.7272727273%\n",
        "average wait time: 94.0248198559\n",
        "\n",
        "0% complete\n",
        "10% complete"
       ]
      },
      {
       "output_type": "stream",
       "stream": "stdout",
       "text": [
        "\n",
        "20% complete"
       ]
      },
      {
       "output_type": "stream",
       "stream": "stdout",
       "text": [
        "\n",
        "30% complete"
       ]
      },
      {
       "output_type": "stream",
       "stream": "stdout",
       "text": [
        "\n",
        "40% complete"
       ]
      },
      {
       "output_type": "stream",
       "stream": "stdout",
       "text": [
        "\n",
        "50% complete"
       ]
      },
      {
       "output_type": "stream",
       "stream": "stdout",
       "text": [
        "\n",
        "60% complete"
       ]
      },
      {
       "output_type": "stream",
       "stream": "stdout",
       "text": [
        "\n",
        "70% complete"
       ]
      },
      {
       "output_type": "stream",
       "stream": "stdout",
       "text": [
        "\n",
        "80% complete"
       ]
      },
      {
       "output_type": "stream",
       "stream": "stdout",
       "text": [
        "\n",
        "90% complete"
       ]
      },
      {
       "output_type": "stream",
       "stream": "stdout",
       "text": [
        "\n",
        "100% complete"
       ]
      },
      {
       "output_type": "stream",
       "stream": "stdout",
       "text": [
        "\n",
        "\n",
        "==Results==\n",
        "block number 0 (injector):\n",
        "\ttotal arrivals: 108265\n",
        "\tinjected: 1212\n",
        "\tparked: 1007\n",
        "\taverage utilization: 90.9090909091%\n",
        "block number 1 (injector):\n",
        "\ttotal arrivals: 108287\n",
        "\tinjected: 1274\n",
        "\tparked: 982\n",
        "\taverage utilization: 92.7272727273%\n",
        "average wait time: 86.3085277554\n",
        "\n",
        "0% complete\n",
        "10% complete"
       ]
      },
      {
       "output_type": "stream",
       "stream": "stdout",
       "text": [
        "\n",
        "20% complete"
       ]
      },
      {
       "output_type": "stream",
       "stream": "stdout",
       "text": [
        "\n",
        "30% complete"
       ]
      },
      {
       "output_type": "stream",
       "stream": "stdout",
       "text": [
        "\n",
        "40% complete"
       ]
      },
      {
       "output_type": "stream",
       "stream": "stdout",
       "text": [
        "\n",
        "50% complete"
       ]
      },
      {
       "output_type": "stream",
       "stream": "stdout",
       "text": [
        "\n",
        "60% complete"
       ]
      },
      {
       "output_type": "stream",
       "stream": "stdout",
       "text": [
        "\n",
        "70% complete"
       ]
      },
      {
       "output_type": "stream",
       "stream": "stdout",
       "text": [
        "\n",
        "80% complete"
       ]
      },
      {
       "output_type": "stream",
       "stream": "stdout",
       "text": [
        "\n",
        "90% complete"
       ]
      },
      {
       "output_type": "stream",
       "stream": "stdout",
       "text": [
        "\n",
        "100% complete"
       ]
      },
      {
       "output_type": "stream",
       "stream": "stdout",
       "text": [
        "\n",
        "\n",
        "==Results==\n",
        "block number 0 (injector):\n",
        "\ttotal arrivals: 146543\n",
        "\tinjected: 1243\n",
        "\tparked: 958\n",
        "\taverage utilization: 92.7272727273%\n",
        "block number 1 (injector):\n",
        "\ttotal arrivals: 146589\n",
        "\tinjected: 1274\n",
        "\tparked: 991\n",
        "\taverage utilization: 92.7272727273%\n",
        "average wait time: 115.686531585\n",
        "\n",
        "0% complete\n",
        "10% complete"
       ]
      },
      {
       "output_type": "stream",
       "stream": "stdout",
       "text": [
        "\n",
        "20% complete"
       ]
      },
      {
       "output_type": "stream",
       "stream": "stdout",
       "text": [
        "\n",
        "30% complete"
       ]
      },
      {
       "output_type": "stream",
       "stream": "stdout",
       "text": [
        "\n",
        "40% complete"
       ]
      },
      {
       "output_type": "stream",
       "stream": "stdout",
       "text": [
        "\n",
        "50% complete"
       ]
      },
      {
       "output_type": "stream",
       "stream": "stdout",
       "text": [
        "\n",
        "60% complete"
       ]
      },
      {
       "output_type": "stream",
       "stream": "stdout",
       "text": [
        "\n",
        "70% complete"
       ]
      },
      {
       "output_type": "stream",
       "stream": "stdout",
       "text": [
        "\n",
        "80% complete"
       ]
      },
      {
       "output_type": "stream",
       "stream": "stdout",
       "text": [
        "\n",
        "90% complete"
       ]
      },
      {
       "output_type": "stream",
       "stream": "stdout",
       "text": [
        "\n",
        "100% complete"
       ]
      },
      {
       "output_type": "stream",
       "stream": "stdout",
       "text": [
        "\n",
        "\n",
        "==Results==\n",
        "block number 0 (injector):\n",
        "\ttotal arrivals: 117086\n",
        "\tinjected: 1246\n",
        "\tparked: 1015\n",
        "\taverage utilization: 92.7272727273%\n",
        "block number 1 (injector):\n",
        "\ttotal arrivals: 117103\n",
        "\tinjected: 1244\n",
        "\tparked: 1009\n",
        "\taverage utilization: 92.7272727273%\n",
        "average wait time: 93.2389558233\n",
        "\n",
        "0% complete\n",
        "10% complete"
       ]
      },
      {
       "output_type": "stream",
       "stream": "stdout",
       "text": [
        "\n",
        "20% complete"
       ]
      },
      {
       "output_type": "stream",
       "stream": "stdout",
       "text": [
        "\n",
        "30% complete"
       ]
      },
      {
       "output_type": "stream",
       "stream": "stdout",
       "text": [
        "\n",
        "40% complete"
       ]
      },
      {
       "output_type": "stream",
       "stream": "stdout",
       "text": [
        "\n",
        "50% complete"
       ]
      },
      {
       "output_type": "stream",
       "stream": "stdout",
       "text": [
        "\n",
        "60% complete"
       ]
      },
      {
       "output_type": "stream",
       "stream": "stdout",
       "text": [
        "\n",
        "70% complete"
       ]
      },
      {
       "output_type": "stream",
       "stream": "stdout",
       "text": [
        "\n",
        "80% complete"
       ]
      },
      {
       "output_type": "stream",
       "stream": "stdout",
       "text": [
        "\n",
        "90% complete"
       ]
      },
      {
       "output_type": "stream",
       "stream": "stdout",
       "text": [
        "\n",
        "100% complete"
       ]
      },
      {
       "output_type": "stream",
       "stream": "stdout",
       "text": [
        "\n",
        "\n",
        "==Results==\n",
        "block number 0 (injector):\n",
        "\ttotal arrivals: 121050\n",
        "\tinjected: 1221\n",
        "\tparked: 962\n",
        "\taverage utilization: 92.7272727273%\n",
        "block number 1 (injector):\n",
        "\ttotal arrivals: 121092\n",
        "\tinjected: 1223\n",
        "\tparked: 998\n",
        "\taverage utilization: 92.7272727273%\n",
        "average wait time: 98.2741407529\n",
        "\n",
        "0% complete\n",
        "10% complete"
       ]
      },
      {
       "output_type": "stream",
       "stream": "stdout",
       "text": [
        "\n",
        "20% complete"
       ]
      },
      {
       "output_type": "stream",
       "stream": "stdout",
       "text": [
        "\n",
        "30% complete"
       ]
      },
      {
       "output_type": "stream",
       "stream": "stdout",
       "text": [
        "\n",
        "40% complete"
       ]
      },
      {
       "output_type": "stream",
       "stream": "stdout",
       "text": [
        "\n",
        "50% complete"
       ]
      },
      {
       "output_type": "stream",
       "stream": "stdout",
       "text": [
        "\n",
        "60% complete"
       ]
      },
      {
       "output_type": "stream",
       "stream": "stdout",
       "text": [
        "\n",
        "70% complete"
       ]
      },
      {
       "output_type": "stream",
       "stream": "stdout",
       "text": [
        "\n",
        "80% complete"
       ]
      },
      {
       "output_type": "stream",
       "stream": "stdout",
       "text": [
        "\n",
        "90% complete"
       ]
      },
      {
       "output_type": "stream",
       "stream": "stdout",
       "text": [
        "\n",
        "100% complete"
       ]
      },
      {
       "output_type": "stream",
       "stream": "stdout",
       "text": [
        "\n",
        "\n",
        "==Results==\n",
        "block number 0 (injector):\n",
        "\ttotal arrivals: 106812\n",
        "\tinjected: 1221\n",
        "\tparked: 1030\n",
        "\taverage utilization: 92.7272727273%\n",
        "block number 1 (injector):\n",
        "\ttotal arrivals: 106777\n",
        "\tinjected: 1203\n",
        "\tparked: 987\n",
        "\taverage utilization: 92.7272727273%\n",
        "average wait time: 87.2821782178\n",
        "\n",
        "0% complete\n",
        "10% complete"
       ]
      },
      {
       "output_type": "stream",
       "stream": "stdout",
       "text": [
        "\n",
        "20% complete"
       ]
      },
      {
       "output_type": "stream",
       "stream": "stdout",
       "text": [
        "\n",
        "30% complete"
       ]
      },
      {
       "output_type": "stream",
       "stream": "stdout",
       "text": [
        "\n",
        "40% complete"
       ]
      },
      {
       "output_type": "stream",
       "stream": "stdout",
       "text": [
        "\n",
        "50% complete"
       ]
      },
      {
       "output_type": "stream",
       "stream": "stdout",
       "text": [
        "\n",
        "60% complete"
       ]
      },
      {
       "output_type": "stream",
       "stream": "stdout",
       "text": [
        "\n",
        "70% complete"
       ]
      },
      {
       "output_type": "stream",
       "stream": "stdout",
       "text": [
        "\n",
        "80% complete"
       ]
      },
      {
       "output_type": "stream",
       "stream": "stdout",
       "text": [
        "\n",
        "90% complete"
       ]
      },
      {
       "output_type": "stream",
       "stream": "stdout",
       "text": [
        "\n",
        "100% complete"
       ]
      },
      {
       "output_type": "stream",
       "stream": "stdout",
       "text": [
        "\n",
        "\n",
        "==Results==\n",
        "block number 0 (injector):\n",
        "\ttotal arrivals: 124419\n",
        "\tinjected: 1209\n",
        "\tparked: 1025\n",
        "\taverage utilization: 92.7272727273%\n",
        "block number 1 (injector):\n",
        "\ttotal arrivals: 124472\n",
        "\tinjected: 1287\n",
        "\tparked: 1035\n",
        "\taverage utilization: 90.9090909091%\n",
        "average wait time: 98.890625\n",
        "\n",
        "0% complete\n",
        "10% complete"
       ]
      },
      {
       "output_type": "stream",
       "stream": "stdout",
       "text": [
        "\n",
        "20% complete"
       ]
      },
      {
       "output_type": "stream",
       "stream": "stdout",
       "text": [
        "\n",
        "30% complete"
       ]
      },
      {
       "output_type": "stream",
       "stream": "stdout",
       "text": [
        "\n",
        "40% complete"
       ]
      },
      {
       "output_type": "stream",
       "stream": "stdout",
       "text": [
        "\n",
        "50% complete"
       ]
      },
      {
       "output_type": "stream",
       "stream": "stdout",
       "text": [
        "\n",
        "60% complete"
       ]
      },
      {
       "output_type": "stream",
       "stream": "stdout",
       "text": [
        "\n",
        "70% complete"
       ]
      },
      {
       "output_type": "stream",
       "stream": "stdout",
       "text": [
        "\n",
        "80% complete"
       ]
      },
      {
       "output_type": "stream",
       "stream": "stdout",
       "text": [
        "\n",
        "90% complete"
       ]
      },
      {
       "output_type": "stream",
       "stream": "stdout",
       "text": [
        "\n",
        "100% complete"
       ]
      },
      {
       "output_type": "stream",
       "stream": "stdout",
       "text": [
        "\n",
        "\n",
        "==Results==\n",
        "block number 0 (injector):\n",
        "\ttotal arrivals: 152786\n",
        "\tinjected: 1294\n",
        "\tparked: 985\n",
        "\taverage utilization: 90.9090909091%\n",
        "block number 1 (injector):\n",
        "\ttotal arrivals: 152723\n",
        "\tinjected: 1268\n",
        "\tparked: 904\n",
        "\taverage utilization: 92.7272727273%\n",
        "average wait time: 118.508977361\n",
        "\n",
        "0% complete\n",
        "10% complete"
       ]
      },
      {
       "output_type": "stream",
       "stream": "stdout",
       "text": [
        "\n",
        "20% complete"
       ]
      },
      {
       "output_type": "stream",
       "stream": "stdout",
       "text": [
        "\n",
        "30% complete"
       ]
      },
      {
       "output_type": "stream",
       "stream": "stdout",
       "text": [
        "\n",
        "40% complete"
       ]
      },
      {
       "output_type": "stream",
       "stream": "stdout",
       "text": [
        "\n",
        "50% complete"
       ]
      },
      {
       "output_type": "stream",
       "stream": "stdout",
       "text": [
        "\n",
        "60% complete"
       ]
      },
      {
       "output_type": "stream",
       "stream": "stdout",
       "text": [
        "\n",
        "70% complete"
       ]
      },
      {
       "output_type": "stream",
       "stream": "stdout",
       "text": [
        "\n",
        "80% complete"
       ]
      },
      {
       "output_type": "stream",
       "stream": "stdout",
       "text": [
        "\n",
        "90% complete"
       ]
      },
      {
       "output_type": "stream",
       "stream": "stdout",
       "text": [
        "\n",
        "100% complete"
       ]
      },
      {
       "output_type": "stream",
       "stream": "stdout",
       "text": [
        "\n",
        "\n",
        "==Results==\n",
        "block number 0 (injector):\n",
        "\ttotal arrivals: 130721\n",
        "\tinjected: 1263\n",
        "\tparked: 1038\n",
        "\taverage utilization: 92.7272727273%\n",
        "block number 1 (injector):\n",
        "\ttotal arrivals: 130712\n",
        "\tinjected: 1234\n",
        "\tparked: 984\n",
        "\taverage utilization: 92.7272727273%\n",
        "average wait time: 103.88906688\n",
        "\n",
        "0% complete\n",
        "10% complete"
       ]
      },
      {
       "output_type": "stream",
       "stream": "stdout",
       "text": [
        "\n",
        "20% complete"
       ]
      },
      {
       "output_type": "stream",
       "stream": "stdout",
       "text": [
        "\n",
        "30% complete"
       ]
      },
      {
       "output_type": "stream",
       "stream": "stdout",
       "text": [
        "\n",
        "40% complete"
       ]
      },
      {
       "output_type": "stream",
       "stream": "stdout",
       "text": [
        "\n",
        "50% complete"
       ]
      },
      {
       "output_type": "stream",
       "stream": "stdout",
       "text": [
        "\n",
        "60% complete"
       ]
      },
      {
       "output_type": "stream",
       "stream": "stdout",
       "text": [
        "\n",
        "70% complete"
       ]
      },
      {
       "output_type": "stream",
       "stream": "stdout",
       "text": [
        "\n",
        "80% complete"
       ]
      },
      {
       "output_type": "stream",
       "stream": "stdout",
       "text": [
        "\n",
        "90% complete"
       ]
      },
      {
       "output_type": "stream",
       "stream": "stdout",
       "text": [
        "\n",
        "100% complete"
       ]
      },
      {
       "output_type": "stream",
       "stream": "stdout",
       "text": [
        "\n",
        "\n",
        "==Results==\n",
        "block number 0 (injector):\n",
        "\ttotal arrivals: 115212\n",
        "\tinjected: 1185\n",
        "\tparked: 1039\n",
        "\taverage utilization: 92.7272727273%\n",
        "block number 1 (injector):\n",
        "\ttotal arrivals: 115222\n",
        "\tinjected: 1289\n",
        "\tparked: 955\n",
        "\taverage utilization: 90.9090909091%\n",
        "average wait time: 92.3362974939\n",
        "\n",
        "0% complete\n",
        "10% complete"
       ]
      },
      {
       "output_type": "stream",
       "stream": "stdout",
       "text": [
        "\n",
        "20% complete"
       ]
      },
      {
       "output_type": "stream",
       "stream": "stdout",
       "text": [
        "\n",
        "30% complete"
       ]
      },
      {
       "output_type": "stream",
       "stream": "stdout",
       "text": [
        "\n",
        "40% complete"
       ]
      },
      {
       "output_type": "stream",
       "stream": "stdout",
       "text": [
        "\n",
        "50% complete"
       ]
      },
      {
       "output_type": "stream",
       "stream": "stdout",
       "text": [
        "\n",
        "60% complete"
       ]
      },
      {
       "output_type": "stream",
       "stream": "stdout",
       "text": [
        "\n",
        "70% complete"
       ]
      },
      {
       "output_type": "stream",
       "stream": "stdout",
       "text": [
        "\n",
        "80% complete"
       ]
      },
      {
       "output_type": "stream",
       "stream": "stdout",
       "text": [
        "\n",
        "90% complete"
       ]
      },
      {
       "output_type": "stream",
       "stream": "stdout",
       "text": [
        "\n",
        "100% complete"
       ]
      },
      {
       "output_type": "stream",
       "stream": "stdout",
       "text": [
        "\n",
        "\n",
        "==Results==\n",
        "block number 0 (injector):\n",
        "\ttotal arrivals: 128429\n",
        "\tinjected: 1241\n",
        "\tparked: 934\n",
        "\taverage utilization: 92.7272727273%\n",
        "block number 1 (injector):\n",
        "\ttotal arrivals: 128430\n",
        "\tinjected: 1225\n",
        "\tparked: 997\n",
        "\taverage utilization: 92.7272727273%\n",
        "average wait time: 103.377128954\n",
        "\n",
        "0% complete\n",
        "10% complete"
       ]
      },
      {
       "output_type": "stream",
       "stream": "stdout",
       "text": [
        "\n",
        "20% complete"
       ]
      },
      {
       "output_type": "stream",
       "stream": "stdout",
       "text": [
        "\n",
        "30% complete"
       ]
      },
      {
       "output_type": "stream",
       "stream": "stdout",
       "text": [
        "\n",
        "40% complete"
       ]
      },
      {
       "output_type": "stream",
       "stream": "stdout",
       "text": [
        "\n",
        "50% complete"
       ]
      },
      {
       "output_type": "stream",
       "stream": "stdout",
       "text": [
        "\n",
        "60% complete"
       ]
      },
      {
       "output_type": "stream",
       "stream": "stdout",
       "text": [
        "\n",
        "70% complete"
       ]
      },
      {
       "output_type": "stream",
       "stream": "stdout",
       "text": [
        "\n",
        "80% complete"
       ]
      },
      {
       "output_type": "stream",
       "stream": "stdout",
       "text": [
        "\n",
        "90% complete"
       ]
      },
      {
       "output_type": "stream",
       "stream": "stdout",
       "text": [
        "\n",
        "100% complete"
       ]
      },
      {
       "output_type": "stream",
       "stream": "stdout",
       "text": [
        "\n",
        "\n",
        "==Results==\n",
        "block number 0 (injector):\n",
        "\ttotal arrivals: 126819\n",
        "\tinjected: 1254\n",
        "\tparked: 1003\n",
        "\taverage utilization: 90.9090909091%\n",
        "block number 1 (injector):\n",
        "\ttotal arrivals: 126809\n",
        "\tinjected: 1249\n",
        "\tparked: 967\n",
        "\taverage utilization: 92.7272727273%\n",
        "average wait time: 100.542548941\n",
        "\n",
        "0% complete\n",
        "10% complete"
       ]
      },
      {
       "output_type": "stream",
       "stream": "stdout",
       "text": [
        "\n",
        "20% complete"
       ]
      },
      {
       "output_type": "stream",
       "stream": "stdout",
       "text": [
        "\n",
        "30% complete"
       ]
      },
      {
       "output_type": "stream",
       "stream": "stdout",
       "text": [
        "\n",
        "40% complete"
       ]
      },
      {
       "output_type": "stream",
       "stream": "stdout",
       "text": [
        "\n",
        "50% complete"
       ]
      },
      {
       "output_type": "stream",
       "stream": "stdout",
       "text": [
        "\n",
        "60% complete"
       ]
      },
      {
       "output_type": "stream",
       "stream": "stdout",
       "text": [
        "\n",
        "70% complete"
       ]
      },
      {
       "output_type": "stream",
       "stream": "stdout",
       "text": [
        "\n",
        "80% complete"
       ]
      },
      {
       "output_type": "stream",
       "stream": "stdout",
       "text": [
        "\n",
        "90% complete"
       ]
      },
      {
       "output_type": "stream",
       "stream": "stdout",
       "text": [
        "\n",
        "100% complete"
       ]
      },
      {
       "output_type": "stream",
       "stream": "stdout",
       "text": [
        "\n",
        "\n",
        "==Results==\n",
        "block number 0 (injector):\n",
        "\ttotal arrivals: 89247\n",
        "\tinjected: 1212\n",
        "\tparked: 1097\n",
        "\taverage utilization: 92.7272727273%\n",
        "block number 1 (injector):\n",
        "\ttotal arrivals: 89211\n",
        "\tinjected: 1246\n",
        "\tparked: 997\n",
        "\taverage utilization: 92.7272727273%\n",
        "average wait time: 71.7510170871\n",
        "\n",
        "0% complete\n",
        "10% complete"
       ]
      },
      {
       "output_type": "stream",
       "stream": "stdout",
       "text": [
        "\n",
        "20% complete"
       ]
      },
      {
       "output_type": "stream",
       "stream": "stdout",
       "text": [
        "\n",
        "30% complete"
       ]
      },
      {
       "output_type": "stream",
       "stream": "stdout",
       "text": [
        "\n",
        "40% complete"
       ]
      },
      {
       "output_type": "stream",
       "stream": "stdout",
       "text": [
        "\n",
        "50% complete"
       ]
      },
      {
       "output_type": "stream",
       "stream": "stdout",
       "text": [
        "\n",
        "60% complete"
       ]
      },
      {
       "output_type": "stream",
       "stream": "stdout",
       "text": [
        "\n",
        "70% complete"
       ]
      },
      {
       "output_type": "stream",
       "stream": "stdout",
       "text": [
        "\n",
        "80% complete"
       ]
      },
      {
       "output_type": "stream",
       "stream": "stdout",
       "text": [
        "\n",
        "90% complete"
       ]
      },
      {
       "output_type": "stream",
       "stream": "stdout",
       "text": [
        "\n",
        "100% complete"
       ]
      },
      {
       "output_type": "stream",
       "stream": "stdout",
       "text": [
        "\n",
        "\n",
        "==Results==\n",
        "block number 0 (injector):\n",
        "\ttotal arrivals: 146299\n",
        "\tinjected: 1216\n",
        "\tparked: 989\n",
        "\taverage utilization: 90.9090909091%\n",
        "block number 1 (injector):\n",
        "\ttotal arrivals: 146359\n",
        "\tinjected: 1337\n",
        "\tparked: 962\n",
        "\taverage utilization: 92.7272727273%\n",
        "average wait time: 113.868781825\n",
        "\n",
        "0% complete\n",
        "10% complete"
       ]
      },
      {
       "output_type": "stream",
       "stream": "stdout",
       "text": [
        "\n",
        "20% complete"
       ]
      },
      {
       "output_type": "stream",
       "stream": "stdout",
       "text": [
        "\n",
        "30% complete"
       ]
      },
      {
       "output_type": "stream",
       "stream": "stdout",
       "text": [
        "\n",
        "40% complete"
       ]
      },
      {
       "output_type": "stream",
       "stream": "stdout",
       "text": [
        "\n",
        "50% complete"
       ]
      },
      {
       "output_type": "stream",
       "stream": "stdout",
       "text": [
        "\n",
        "60% complete"
       ]
      },
      {
       "output_type": "stream",
       "stream": "stdout",
       "text": [
        "\n",
        "70% complete"
       ]
      },
      {
       "output_type": "stream",
       "stream": "stdout",
       "text": [
        "\n",
        "80% complete"
       ]
      },
      {
       "output_type": "stream",
       "stream": "stdout",
       "text": [
        "\n",
        "90% complete"
       ]
      },
      {
       "output_type": "stream",
       "stream": "stdout",
       "text": [
        "\n",
        "100% complete"
       ]
      },
      {
       "output_type": "stream",
       "stream": "stdout",
       "text": [
        "\n",
        "\n",
        "==Results==\n",
        "block number 0 (injector):\n",
        "\ttotal arrivals: 149142\n",
        "\tinjected: 1217\n",
        "\tparked: 1020\n",
        "\taverage utilization: 92.7272727273%\n",
        "block number 1 (injector):\n",
        "\ttotal arrivals: 149163\n",
        "\tinjected: 1294\n",
        "\tparked: 976\n",
        "\taverage utilization: 92.7272727273%\n",
        "average wait time: 118.004380725\n",
        "\n",
        "0% complete\n",
        "10% complete"
       ]
      },
      {
       "output_type": "stream",
       "stream": "stdout",
       "text": [
        "\n",
        "20% complete"
       ]
      },
      {
       "output_type": "stream",
       "stream": "stdout",
       "text": [
        "\n",
        "30% complete"
       ]
      },
      {
       "output_type": "stream",
       "stream": "stdout",
       "text": [
        "\n",
        "40% complete"
       ]
      },
      {
       "output_type": "stream",
       "stream": "stdout",
       "text": [
        "\n",
        "50% complete"
       ]
      },
      {
       "output_type": "stream",
       "stream": "stdout",
       "text": [
        "\n",
        "60% complete"
       ]
      },
      {
       "output_type": "stream",
       "stream": "stdout",
       "text": [
        "\n",
        "70% complete"
       ]
      },
      {
       "output_type": "stream",
       "stream": "stdout",
       "text": [
        "\n",
        "80% complete"
       ]
      },
      {
       "output_type": "stream",
       "stream": "stdout",
       "text": [
        "\n",
        "90% complete"
       ]
      },
      {
       "output_type": "stream",
       "stream": "stdout",
       "text": [
        "\n",
        "100% complete"
       ]
      },
      {
       "output_type": "stream",
       "stream": "stdout",
       "text": [
        "\n",
        "\n",
        "==Results==\n",
        "block number 0 (injector):\n",
        "\ttotal arrivals: 152818\n",
        "\tinjected: 1269\n",
        "\tparked: 1032\n",
        "\taverage utilization: 90.9090909091%\n",
        "block number 1 (injector):\n",
        "\ttotal arrivals: 152844\n",
        "\tinjected: 1304\n",
        "\tparked: 1004\n",
        "\taverage utilization: 92.7272727273%\n",
        "average wait time: 118.004663817\n",
        "\n",
        "0% complete\n",
        "10% complete"
       ]
      },
      {
       "output_type": "stream",
       "stream": "stdout",
       "text": [
        "\n",
        "20% complete"
       ]
      },
      {
       "output_type": "stream",
       "stream": "stdout",
       "text": [
        "\n",
        "30% complete"
       ]
      },
      {
       "output_type": "stream",
       "stream": "stdout",
       "text": [
        "\n",
        "40% complete"
       ]
      },
      {
       "output_type": "stream",
       "stream": "stdout",
       "text": [
        "\n",
        "50% complete"
       ]
      },
      {
       "output_type": "stream",
       "stream": "stdout",
       "text": [
        "\n",
        "60% complete"
       ]
      },
      {
       "output_type": "stream",
       "stream": "stdout",
       "text": [
        "\n",
        "70% complete"
       ]
      },
      {
       "output_type": "stream",
       "stream": "stdout",
       "text": [
        "\n",
        "80% complete"
       ]
      },
      {
       "output_type": "stream",
       "stream": "stdout",
       "text": [
        "\n",
        "90% complete"
       ]
      },
      {
       "output_type": "stream",
       "stream": "stdout",
       "text": [
        "\n",
        "100% complete"
       ]
      },
      {
       "output_type": "stream",
       "stream": "stdout",
       "text": [
        "\n",
        "\n",
        "==Results==\n",
        "block number 0 (injector):\n",
        "\ttotal arrivals: 129378\n",
        "\tinjected: 1319\n",
        "\tparked: 1082\n",
        "\taverage utilization: 92.7272727273%\n",
        "block number 1 (injector):\n",
        "\ttotal arrivals: 129275\n",
        "\tinjected: 1250\n",
        "\tparked: 965\n",
        "\taverage utilization: 92.7272727273%\n",
        "average wait time: 99.8855585831\n",
        "\n",
        "0% complete\n",
        "10% complete"
       ]
      },
      {
       "output_type": "stream",
       "stream": "stdout",
       "text": [
        "\n",
        "20% complete"
       ]
      },
      {
       "output_type": "stream",
       "stream": "stdout",
       "text": [
        "\n",
        "30% complete"
       ]
      },
      {
       "output_type": "stream",
       "stream": "stdout",
       "text": [
        "\n",
        "40% complete"
       ]
      },
      {
       "output_type": "stream",
       "stream": "stdout",
       "text": [
        "\n",
        "50% complete"
       ]
      },
      {
       "output_type": "stream",
       "stream": "stdout",
       "text": [
        "\n",
        "60% complete"
       ]
      },
      {
       "output_type": "stream",
       "stream": "stdout",
       "text": [
        "\n",
        "70% complete"
       ]
      },
      {
       "output_type": "stream",
       "stream": "stdout",
       "text": [
        "\n",
        "80% complete"
       ]
      },
      {
       "output_type": "stream",
       "stream": "stdout",
       "text": [
        "\n",
        "90% complete"
       ]
      },
      {
       "output_type": "stream",
       "stream": "stdout",
       "text": [
        "\n",
        "100% complete"
       ]
      },
      {
       "output_type": "stream",
       "stream": "stdout",
       "text": [
        "\n",
        "\n",
        "==Results==\n",
        "block number 0 (injector):\n",
        "\ttotal arrivals: 109047\n",
        "\tinjected: 1181\n",
        "\tparked: 991\n",
        "\taverage utilization: 90.9090909091%\n",
        "block number 1 (injector):\n",
        "\ttotal arrivals: 109050\n",
        "\tinjected: 1222\n",
        "\tparked: 993\n",
        "\taverage utilization: 92.7272727273%\n",
        "average wait time: 89.9346650021\n",
        "\n",
        "0% complete\n",
        "10% complete"
       ]
      },
      {
       "output_type": "stream",
       "stream": "stdout",
       "text": [
        "\n",
        "20% complete"
       ]
      },
      {
       "output_type": "stream",
       "stream": "stdout",
       "text": [
        "\n",
        "30% complete"
       ]
      },
      {
       "output_type": "stream",
       "stream": "stdout",
       "text": [
        "\n",
        "40% complete"
       ]
      },
      {
       "output_type": "stream",
       "stream": "stdout",
       "text": [
        "\n",
        "50% complete"
       ]
      },
      {
       "output_type": "stream",
       "stream": "stdout",
       "text": [
        "\n",
        "60% complete"
       ]
      },
      {
       "output_type": "stream",
       "stream": "stdout",
       "text": [
        "\n",
        "70% complete"
       ]
      },
      {
       "output_type": "stream",
       "stream": "stdout",
       "text": [
        "\n",
        "80% complete"
       ]
      },
      {
       "output_type": "stream",
       "stream": "stdout",
       "text": [
        "\n",
        "90% complete"
       ]
      },
      {
       "output_type": "stream",
       "stream": "stdout",
       "text": [
        "\n",
        "100% complete"
       ]
      },
      {
       "output_type": "stream",
       "stream": "stdout",
       "text": [
        "\n",
        "\n",
        "==Results==\n",
        "block number 0 (injector):\n",
        "\ttotal arrivals: 159997\n",
        "\tinjected: 1260\n",
        "\tparked: 967\n",
        "\taverage utilization: 92.7272727273%\n",
        "block number 1 (injector):\n",
        "\ttotal arrivals: 160058\n",
        "\tinjected: 1293\n",
        "\tparked: 1000\n",
        "\taverage utilization: 92.7272727273%\n",
        "average wait time: 124.593811203\n",
        "\n",
        "0% complete\n",
        "10% complete"
       ]
      },
      {
       "output_type": "stream",
       "stream": "stdout",
       "text": [
        "\n",
        "20% complete"
       ]
      },
      {
       "output_type": "stream",
       "stream": "stdout",
       "text": [
        "\n",
        "30% complete"
       ]
      },
      {
       "output_type": "stream",
       "stream": "stdout",
       "text": [
        "\n",
        "40% complete"
       ]
      },
      {
       "output_type": "stream",
       "stream": "stdout",
       "text": [
        "\n",
        "50% complete"
       ]
      },
      {
       "output_type": "stream",
       "stream": "stdout",
       "text": [
        "\n",
        "60% complete"
       ]
      },
      {
       "output_type": "stream",
       "stream": "stdout",
       "text": [
        "\n",
        "70% complete"
       ]
      },
      {
       "output_type": "stream",
       "stream": "stdout",
       "text": [
        "\n",
        "80% complete"
       ]
      },
      {
       "output_type": "stream",
       "stream": "stdout",
       "text": [
        "\n",
        "90% complete"
       ]
      },
      {
       "output_type": "stream",
       "stream": "stdout",
       "text": [
        "\n",
        "100% complete"
       ]
      },
      {
       "output_type": "stream",
       "stream": "stdout",
       "text": [
        "\n",
        "\n",
        "==Results==\n",
        "block number 0 (injector):\n",
        "\ttotal arrivals: 138216\n",
        "\tinjected: 1277\n",
        "\tparked: 976\n",
        "\taverage utilization: 92.7272727273%\n",
        "block number 1 (injector):\n",
        "\ttotal arrivals: 138143\n",
        "\tinjected: 1222\n",
        "\tparked: 980\n",
        "\taverage utilization: 89.0909090909%\n",
        "average wait time: 109.805122049\n",
        "\n",
        "0% complete\n",
        "10% complete"
       ]
      },
      {
       "output_type": "stream",
       "stream": "stdout",
       "text": [
        "\n",
        "20% complete"
       ]
      },
      {
       "output_type": "stream",
       "stream": "stdout",
       "text": [
        "\n",
        "30% complete"
       ]
      },
      {
       "output_type": "stream",
       "stream": "stdout",
       "text": [
        "\n",
        "40% complete"
       ]
      },
      {
       "output_type": "stream",
       "stream": "stdout",
       "text": [
        "\n",
        "50% complete"
       ]
      },
      {
       "output_type": "stream",
       "stream": "stdout",
       "text": [
        "\n",
        "60% complete"
       ]
      },
      {
       "output_type": "stream",
       "stream": "stdout",
       "text": [
        "\n",
        "70% complete"
       ]
      },
      {
       "output_type": "stream",
       "stream": "stdout",
       "text": [
        "\n",
        "80% complete"
       ]
      },
      {
       "output_type": "stream",
       "stream": "stdout",
       "text": [
        "\n",
        "90% complete"
       ]
      },
      {
       "output_type": "stream",
       "stream": "stdout",
       "text": [
        "\n",
        "100% complete"
       ]
      },
      {
       "output_type": "stream",
       "stream": "stdout",
       "text": [
        "\n",
        "\n",
        "==Results==\n",
        "block number 0 (injector):\n",
        "\ttotal arrivals: 106383\n",
        "\tinjected: 1213\n",
        "\tparked: 1077\n",
        "\taverage utilization: 92.7272727273%\n",
        "block number 1 (injector):\n",
        "\ttotal arrivals: 106380\n",
        "\tinjected: 1249\n",
        "\tparked: 996\n",
        "\taverage utilization: 92.7272727273%\n",
        "average wait time: 85.5767668562\n",
        "\n",
        "0% complete\n",
        "10% complete"
       ]
      },
      {
       "output_type": "stream",
       "stream": "stdout",
       "text": [
        "\n",
        "20% complete"
       ]
      },
      {
       "output_type": "stream",
       "stream": "stdout",
       "text": [
        "\n",
        "30% complete"
       ]
      },
      {
       "output_type": "stream",
       "stream": "stdout",
       "text": [
        "\n",
        "40% complete"
       ]
      }
     ],
     "prompt_number": "*"
    },
    {
     "cell_type": "code",
     "collapsed": false,
     "input": [
      "averageWaitTime"
     ],
     "language": "python",
     "metadata": {},
     "outputs": [
      {
       "ename": "NameError",
       "evalue": "name 'averageWaitTime' is not defined",
       "output_type": "pyerr",
       "traceback": [
        "\u001b[0;31m---------------------------------------------------------------------------\u001b[0m\n\u001b[0;31mNameError\u001b[0m                                 Traceback (most recent call last)",
        "\u001b[0;32m<ipython-input-3-a449741e5a00>\u001b[0m in \u001b[0;36m<module>\u001b[0;34m()\u001b[0m\n\u001b[0;32m----> 1\u001b[0;31m \u001b[0maverageWaitTime\u001b[0m\u001b[0;34m\u001b[0m\u001b[0m\n\u001b[0m",
        "\u001b[0;31mNameError\u001b[0m: name 'averageWaitTime' is not defined"
       ]
      }
     ],
     "prompt_number": 3
    },
    {
     "cell_type": "code",
     "collapsed": false,
     "input": [
      "import os\n",
      "import numpy as np\n",
      "dataDir = \"/home/chase/projects/net-queue/data/2bus\"\n",
      "files = os.listdir(dataDir)\n",
      "types = [\"averageWait\", \"utilization\"]\n",
      "dataSum = np.zeros((80,2))\n",
      "utilSum = np.zeros((80,3))\n",
      "\n",
      "counter = 0\n",
      "for fileName in files:\n",
      "    if fileName[0] == \"a\":\n",
      "        datanext = np.loadtxt(dataDir + \"/\" + fileName, delimiter=\",\")\n",
      "        dataSum += datanext\n",
      "        counter += 1\n",
      "    if fileName[0] == \"u\":\n",
      "        datanextu = np.loadtxt(dataDir + \"/\" + fileName, delimiter=\",\")\n",
      "        utilSum += datanextu\n",
      "\n",
      "dataSmooth = dataSum/float(counter)\n",
      "utilSmooth = utilSum/float(counter)"
     ],
     "language": "python",
     "metadata": {},
     "outputs": [],
     "prompt_number": 1
    },
    {
     "cell_type": "code",
     "collapsed": false,
     "input": [
      "averageUtil = (utilSmooth[:,1:2] + utilSmooth[:,2:3])/2.0\n",
      "\n",
      "ratedUtilSmooth = 1/utilSmooth[:,0]\n",
      "ratedUtilSmooth"
     ],
     "language": "python",
     "metadata": {},
     "outputs": [
      {
       "metadata": {},
       "output_type": "pyout",
       "prompt_number": 63,
       "text": [
        "array([ 1.29974326,  1.28286348,  1.26641651,  1.25038592,  1.2347561 ,\n",
        "        1.2195122 ,  1.2046401 ,  1.19012636,  1.17595819,  1.16212339,\n",
        "        1.14861032,  1.13540791,  1.12250554,  1.10989312,  1.09756098,\n",
        "        1.08549987,  1.07370095,  1.06215578,  1.05085625,  1.03979461,\n",
        "        1.02896341,  1.01835554,  1.00796416,  0.99778271,  0.98780488,\n",
        "        0.97802463,  0.96843615,  0.95903386,  0.94981238,  0.94076655,\n",
        "        0.93189139,  0.92318213,  0.91463415,  0.90624301,  0.89800443,\n",
        "        0.8899143 ,  0.88196864,  0.87416361,  0.86649551,  0.85896076,\n",
        "        0.85155593,  0.84427767,  0.83712278,  0.83008813,  0.82317073,\n",
        "        0.81636767,  0.80967613,  0.8030934 ,  0.79661684,  0.7902439 ,\n",
        "        0.78397213,  0.77779912,  0.77172256,  0.76574022,  0.75984991,\n",
        "        0.75404953,  0.74833703,  0.74271043,  0.73716782,  0.73170732,\n",
        "        0.72632712,  0.72102546,  0.71580064,  0.71065099,  0.70557491,\n",
        "        0.70057084,  0.69563724,  0.69077264,  0.68597561,  0.68124474,\n",
        "        0.67657868,  0.67197611,  0.66743573,  0.66295629,  0.65853659,\n",
        "        0.65417542,  0.64987163,  0.6456241 ,  0.64143174,  0.63729347])"
       ]
      }
     ],
     "prompt_number": 63
    },
    {
     "cell_type": "code",
     "collapsed": false,
     "input": [
      "import numpy as np\n",
      "import matplotlib.pyplot as plt\n",
      "\n",
      "fig, ax1 = plt.subplots()\n",
      "fig.suptitle(\"Average wait time and blockface utilization as \\n function of network arrival rate\")\n",
      "ax1.plot(1/dataSmooth[:,0], dataSmooth[:,1], 'b-')\n",
      "ax1.set_xlabel('Exogeneous network arrivals per unit time')\n",
      "# Make the y-axis label and tick labels match the line color.\n",
      "ax1.set_ylabel('Average wait time', color='b')\n",
      "for tl in ax1.get_yticklabels():\n",
      "    tl.set_color('b')\n",
      "\n",
      "\n",
      "ax2 = ax1.twinx()\n",
      "ax2.plot(1/utilSmooth[:,0], averageUtil, 'r-')\n",
      "ax2.set_ylabel('Blockface utilization rate', color='r')\n",
      "for tl in ax2.get_yticklabels():\n",
      "    tl.set_color('r')\n",
      "plt.xlim(0.6,1.35)\n",
      "plt.show()"
     ],
     "language": "python",
     "metadata": {},
     "outputs": [],
     "prompt_number": 67
    },
    {
     "cell_type": "code",
     "collapsed": false,
     "input": [
      "averageUtil = (utilSmooth[:,1:2] + utilSmooth[:,2:3])/2.0"
     ],
     "language": "python",
     "metadata": {},
     "outputs": [],
     "prompt_number": 33
    },
    {
     "cell_type": "code",
     "collapsed": false,
     "input": [
      "averageUtil.shape"
     ],
     "language": "python",
     "metadata": {},
     "outputs": [
      {
       "metadata": {},
       "output_type": "pyout",
       "prompt_number": 36,
       "text": [
        "(80, 1)"
       ]
      }
     ],
     "prompt_number": 36
    },
    {
     "cell_type": "code",
     "collapsed": false,
     "input": [
      "averageUtil.shape"
     ],
     "language": "python",
     "metadata": {},
     "outputs": [
      {
       "metadata": {},
       "output_type": "pyout",
       "prompt_number": 19,
       "text": [
        "(80, 1)"
       ]
      }
     ],
     "prompt_number": 19
    },
    {
     "cell_type": "code",
     "collapsed": false,
     "input": [
      "plt.plot(averageUtil, dataSmooth[:,1])\n",
      "plt.show()"
     ],
     "language": "python",
     "metadata": {},
     "outputs": [],
     "prompt_number": 11
    },
    {
     "cell_type": "code",
     "collapsed": false,
     "input": [
      "import scipy as sp\n",
      "from scipy.interpolate import *\n",
      "\n",
      "x1 = list(averageUtil[:,0])\n",
      "y1 = list(dataSmooth[:,1])\n",
      "\n",
      "points = zip(x1, y1)\n",
      "points = sorted(points, key=lambda point: point[0])\n",
      "\n",
      "x1, y1 = zip(*points)\n",
      "\n",
      "window = np.linspace(min(x1),max(x1), 100)\n",
      "f = interp1d(averageUtil[:,0], dataSmooth[:,1], kind=\"linear\")\n",
      "plt.plot(f(window))\n",
      "plt.xlim(30,100)\n",
      "plt.xlabel(\"Average % blockface utilization\")\n",
      "plt.ylabel(\"Average wait w.r.t exogenous arrival rate\")\n",
      "plt.title(\"Average network wait time as function of blockface utilization\")\n",
      "plt.show()"
     ],
     "language": "python",
     "metadata": {},
     "outputs": [],
     "prompt_number": 55
    },
    {
     "cell_type": "code",
     "collapsed": false,
     "input": [],
     "language": "python",
     "metadata": {},
     "outputs": [
      {
       "metadata": {},
       "output_type": "pyout",
       "prompt_number": 37,
       "text": [
        "[0.60594837261503931,\n",
        " 0.60864197530864184,\n",
        " 0.60976430976430951,\n",
        " 0.6169472502805835,\n",
        " 0.61705948372615016,\n",
        " 0.61739618406285057,\n",
        " 0.62008978675645321,\n",
        " 0.62895622895622871,\n",
        " 0.63714927048260384,\n",
        " 0.63759820426487079,\n",
        " 0.63849607182940493,\n",
        " 0.63883277216610534,\n",
        " 0.65196408529741823,\n",
        " 0.65286195286195281,\n",
        " 0.65353535353535341,\n",
        " 0.65622895622895605,\n",
        " 0.66105499438832749,\n",
        " 0.66655443322109997,\n",
        " 0.67946127946127921,\n",
        " 0.68249158249158204,\n",
        " 0.6884399551066217,\n",
        " 0.69730639730639721,\n",
        " 0.69955106621773244,\n",
        " 0.70583613916947197,\n",
        " 0.70729517396184061,\n",
        " 0.70751964085297381,\n",
        " 0.71627384960718277,\n",
        " 0.72413019079685714,\n",
        " 0.72760942760942726,\n",
        " 0.72760942760942737,\n",
        " 0.72839506172839474,\n",
        " 0.73815937149270461,\n",
        " 0.74175084175084149,\n",
        " 0.75151515151515103,\n",
        " 0.76038159371492675,\n",
        " 0.76520763187429863,\n",
        " 0.77351290684623997,\n",
        " 0.77845117845117817,\n",
        " 0.78686868686868672,\n",
        " 0.78754208754208732,\n",
        " 0.79124579124579097,\n",
        " 0.8017957351290681,\n",
        " 0.80875420875420834,\n",
        " 0.81627384960718274,\n",
        " 0.8306397306397304,\n",
        " 0.83097643097643081,\n",
        " 0.83120089786756457,\n",
        " 0.83389450056116687,\n",
        " 0.85039281705948344,\n",
        " 0.85117845117845092,\n",
        " 0.85432098765432085,\n",
        " 0.86543209876543181,\n",
        " 0.86734006734006719,\n",
        " 0.87800224466891141,\n",
        " 0.88922558922558914,\n",
        " 0.89349046015712685,\n",
        " 0.89483726150392773,\n",
        " 0.89943883277216607,\n",
        " 0.90044893378226698,\n",
        " 0.90875420875420843,\n",
        " 0.91436588103254768,\n",
        " 0.92233445566778882,\n",
        " 0.9269360269360265,\n",
        " 0.92895622895622876,\n",
        " 0.92929292929292906,\n",
        " 0.93367003367003354,\n",
        " 0.93512906846240174,\n",
        " 0.93613916947250275,\n",
        " 0.93658810325476971,\n",
        " 0.93692480359147012,\n",
        " 0.93759820426487095,\n",
        " 0.93793490460157125,\n",
        " 0.93827160493827155,\n",
        " 0.93827160493827155,\n",
        " 0.93838383838383832,\n",
        " 0.93849607182940509,\n",
        " 0.93849607182940509,\n",
        " 0.93860830527497185,\n",
        " 0.93860830527497185,\n",
        " 0.93872053872053862]"
       ]
      }
     ],
     "prompt_number": 37
    },
    {
     "cell_type": "code",
     "collapsed": false,
     "input": [],
     "language": "python",
     "metadata": {},
     "outputs": []
    }
   ],
   "metadata": {}
  }
 ]
}