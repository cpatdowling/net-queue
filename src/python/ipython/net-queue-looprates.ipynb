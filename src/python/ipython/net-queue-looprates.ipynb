{
 "metadata": {
  "name": ""
 },
 "nbformat": 3,
 "nbformat_minor": 0,
 "worksheets": [
  {
   "cells": [
    {
     "cell_type": "code",
     "collapsed": false,
     "input": [
      "import sys\n",
      "sys.path.append(\"/home/chase/projects/net-queue/src/python\")\n",
      "from qnetWithDrivers import *"
     ],
     "language": "python",
     "metadata": {},
     "outputs": [],
     "prompt_number": 15
    },
    {
     "cell_type": "code",
     "collapsed": false,
     "input": [
      "MC = 50\n",
      "rates = 80\n",
      "utilizationStats = np.zeros((rates,3*MC))\n",
      "averageWaitTime = np.zeros((rates,2*MC))\n",
      "\n",
      "for jj in range(rates):\n",
      "    for kk in range(MC):\n",
      "        k = kk+1\n",
      "        QNet = blockfaceNet(\"QNetparams.txt\", [\"utilization\"])\n",
      "        QNet.params.lambd = QNet.params.lambd + float(jj)/100\n",
      "        for bf in QNet.bface.keys():\n",
      "            QNet.bface[bf].arrival_rate = QNet.params.lambd\n",
      "\n",
      "        while QNet.timer < QNet.params.simulation_time:\n",
      "            #find block numbers of blocks with <=0.0 time till next arrival\n",
      "            #can use itertools.compress on new arrivals list comprehension\n",
      "            currently_arriving_blocks = [ j for j, x in enumerate(list(QNet.new_arrivals)) if x < QNet.params.time_resolution ]\n",
      "            if len(currently_arriving_blocks) > 0:\n",
      "            #give arriving blocks new arrivals\n",
      "            #prioritize exogenous arrivals\n",
      "                for i in currently_arriving_blocks:\n",
      "                    blockindex = QNet.injection_map[i]\n",
      "                    next_arrival_time = np.random.exponential(QNet.bface[blockindex].arrival_rate)\n",
      "                    QNet.new_arrivals[i] = next_arrival_time \n",
      "                    QNet.bface[blockindex].exogenous += 1\n",
      "                    QNet.carIndex += 1\n",
      "                    QNet.cars[QNet.carIndex] = car(QNet.carIndex)\n",
      "                    #try to park, otherwise, drive somewhere else\n",
      "                    QNet.park(blockindex, QNet.carIndex)\n",
      "    \n",
      "            for origin in QNet.bface.keys():\n",
      "                #Checking for any drivers arriving at other blocks based on travel time in street buffer\n",
      "                #have to loop through every block? Yes, if I care about street direction\n",
      "                for dest in range(len(QNet.streets[origin])):\n",
      "                    #for each possible destination index, get the block index, neighbors is list of block indexs connected to origin\n",
      "                    #but dest is local index of street connected to origin to save space, \n",
      "                    #e.g. block 2 to block 3 is connected by block 2's street 1\n",
      "                    destblock = QNet.bface[origin].neighbors[dest]\n",
      "                    #at least first driver needs to be arriving\n",
      "                    if len(QNet.streets[origin][dest]) > 0 and QNet.streets[origin][dest][0] < QNet.params.time_resolution:\n",
      "                        #first driver in list will always be closest to 0 unless drive times vary\n",
      "                        #>>>>>THIS WON'T WORK IF DRIVE TIMES ARE NOT CONSTANT<<<<<<<<<<<\n",
      "                        for driver in QNet.streets[origin][dest]:\n",
      "                            #could be more than one arriving\n",
      "                            while QNet.streets[origin][dest][0] < QNet.params.time_resolution:\n",
      "                                carIndex = QNet.streetsDrivers[origin][dest][0]\n",
      "                                QNet.park(destblock, carIndex)\n",
      "                                #Get rid of first driver, go back up and check if next driver is also arriving\n",
      "                                QNet.streets[origin][dest].pop(0)\n",
      "                                QNet.streetsDrivers[origin][dest].pop(0)\n",
      "                                if len(QNet.streets[origin][dest]) == 0:\n",
      "                                    break\n",
      "    \n",
      "            #step simulation forward and collect any flagged global stats\n",
      "            QNet.step_time()\n",
      "\n",
      "        print(\"\\n==Results==\")\n",
      "        for i in QNet.bface.keys():\n",
      "            if i in QNet.injection_map.values():\n",
      "                print(\"block number \" + str(i) + \" (injector):\\n\\ttotal arrivals: \" + str(QNet.bface[i].total))\n",
      "                print(\"\\tinjected: \" + str(QNet.bface[i].exogenous))\n",
      "            else:\n",
      "                print(\"block number \" + str(i) + \":\\n\\ttotal arrivals: \" + str(QNet.bface[i].total))\n",
      "            print(\"\\tparked: \" + str(QNet.bface[i].served))\n",
      "            print(\"\\taverage utilization: \" + str(float(sum(QNet.bface[i].utilization))/float(len(QNet.bface[i].utilization)) * 100.0) + \"%\")\n",
      "            utilizationStats[jj,i+1*k] = float(sum(QNet.bface[i].utilization))/float(len(QNet.bface[i].utilization))\n",
      "    \n",
      "        #calculating average wait time\n",
      "        total = 0.0\n",
      "        numCars = float(len(QNet.cars.keys()))\n",
      "        for carInd in QNet.cars.keys():\n",
      "            total += QNet.cars[carInd].totalDriveTime\n",
      "        averageWait = total/numCars\n",
      "        print(\"average wait time: \" + str(averageWait) + \"\\n\")\n",
      "        \n",
      "        averageWaitTime[jj,k] = averageWait\n",
      "        utilizationStats[jj,0] = QNet.params.lambd\n",
      "        averageWaitTime[jj,0] = QNet.params.lambd\n"
     ],
     "language": "python",
     "metadata": {},
     "outputs": [
      {
       "output_type": "stream",
       "stream": "stdout",
       "text": [
        "0% complete\n",
        "10% complete"
       ]
      },
      {
       "output_type": "stream",
       "stream": "stdout",
       "text": [
        "\n",
        "20% complete"
       ]
      },
      {
       "output_type": "stream",
       "stream": "stdout",
       "text": [
        "\n",
        "30% complete"
       ]
      },
      {
       "output_type": "stream",
       "stream": "stdout",
       "text": [
        "\n",
        "40% complete"
       ]
      },
      {
       "output_type": "stream",
       "stream": "stdout",
       "text": [
        "\n",
        "50% complete"
       ]
      },
      {
       "output_type": "stream",
       "stream": "stdout",
       "text": [
        "\n",
        "60% complete"
       ]
      },
      {
       "output_type": "stream",
       "stream": "stdout",
       "text": [
        "\n",
        "70% complete"
       ]
      },
      {
       "output_type": "stream",
       "stream": "stdout",
       "text": [
        "\n",
        "80% complete"
       ]
      },
      {
       "output_type": "stream",
       "stream": "stdout",
       "text": [
        "\n",
        "90% complete"
       ]
      },
      {
       "output_type": "stream",
       "stream": "stdout",
       "text": [
        "\n",
        "100% complete"
       ]
      },
      {
       "output_type": "stream",
       "stream": "stdout",
       "text": [
        "\n",
        "\n",
        "==Results==\n",
        "block number 0 (injector):\n",
        "\ttotal arrivals: 146820\n",
        "\tinjected: 1277\n",
        "\tparked: 1004\n",
        "\taverage utilization: 92.7272727273%\n",
        "block number 1 (injector):\n",
        "\ttotal arrivals: 146793\n",
        "\tinjected: 1235\n",
        "\tparked: 982\n",
        "\taverage utilization: 92.7272727273%\n",
        "average wait time: 116.093550955\n",
        "\n",
        "0% complete\n",
        "10% complete"
       ]
      },
      {
       "output_type": "stream",
       "stream": "stdout",
       "text": [
        "\n",
        "20% complete"
       ]
      },
      {
       "output_type": "stream",
       "stream": "stdout",
       "text": [
        "\n",
        "30% complete"
       ]
      },
      {
       "output_type": "stream",
       "stream": "stdout",
       "text": [
        "\n",
        "40% complete"
       ]
      },
      {
       "output_type": "stream",
       "stream": "stdout",
       "text": [
        "\n",
        "50% complete"
       ]
      },
      {
       "output_type": "stream",
       "stream": "stdout",
       "text": [
        "\n",
        "60% complete"
       ]
      },
      {
       "output_type": "stream",
       "stream": "stdout",
       "text": [
        "\n",
        "70% complete"
       ]
      },
      {
       "output_type": "stream",
       "stream": "stdout",
       "text": [
        "\n",
        "80% complete"
       ]
      },
      {
       "output_type": "stream",
       "stream": "stdout",
       "text": [
        "\n",
        "90% complete"
       ]
      },
      {
       "output_type": "stream",
       "stream": "stdout",
       "text": [
        "\n",
        "100% complete"
       ]
      },
      {
       "output_type": "stream",
       "stream": "stdout",
       "text": [
        "\n",
        "\n",
        "==Results==\n",
        "block number 0 (injector):\n",
        "\ttotal arrivals: 145515\n",
        "\tinjected: 1196\n",
        "\tparked: 946\n",
        "\taverage utilization: 92.7272727273%\n",
        "block number 1 (injector):\n",
        "\ttotal arrivals: 145618\n",
        "\tinjected: 1294\n",
        "\tparked: 1047\n",
        "\taverage utilization: 92.7272727273%\n",
        "average wait time: 116.120481928\n",
        "\n",
        "0% complete\n",
        "10% complete"
       ]
      },
      {
       "output_type": "stream",
       "stream": "stdout",
       "text": [
        "\n",
        "20% complete"
       ]
      },
      {
       "output_type": "stream",
       "stream": "stdout",
       "text": [
        "\n",
        "30% complete"
       ]
      },
      {
       "output_type": "stream",
       "stream": "stdout",
       "text": [
        "\n",
        "40% complete"
       ]
      },
      {
       "output_type": "stream",
       "stream": "stdout",
       "text": [
        "\n",
        "50% complete"
       ]
      },
      {
       "output_type": "stream",
       "stream": "stdout",
       "text": [
        "\n",
        "60% complete"
       ]
      },
      {
       "output_type": "stream",
       "stream": "stdout",
       "text": [
        "\n",
        "70% complete"
       ]
      },
      {
       "output_type": "stream",
       "stream": "stdout",
       "text": [
        "\n",
        "80% complete"
       ]
      },
      {
       "output_type": "stream",
       "stream": "stdout",
       "text": [
        "\n",
        "90% complete"
       ]
      },
      {
       "output_type": "stream",
       "stream": "stdout",
       "text": [
        "\n",
        "100% complete"
       ]
      },
      {
       "output_type": "stream",
       "stream": "stdout",
       "text": [
        "\n",
        "\n",
        "==Results==\n",
        "block number 0 (injector):\n",
        "\ttotal arrivals: 116923\n",
        "\tinjected: 1274\n",
        "\tparked: 1024\n",
        "\taverage utilization: 92.7272727273%\n",
        "block number 1 (injector):\n",
        "\ttotal arrivals: 116896\n",
        "\tinjected: 1241\n",
        "\tparked: 1011\n",
        "\taverage utilization: 92.7272727273%\n",
        "average wait time: 92.1606361829\n",
        "\n",
        "0% complete\n",
        "10% complete"
       ]
      },
      {
       "output_type": "stream",
       "stream": "stdout",
       "text": [
        "\n",
        "20% complete"
       ]
      },
      {
       "output_type": "stream",
       "stream": "stdout",
       "text": [
        "\n",
        "30% complete"
       ]
      },
      {
       "output_type": "stream",
       "stream": "stdout",
       "text": [
        "\n",
        "40% complete"
       ]
      },
      {
       "output_type": "stream",
       "stream": "stdout",
       "text": [
        "\n",
        "50% complete"
       ]
      },
      {
       "output_type": "stream",
       "stream": "stdout",
       "text": [
        "\n",
        "60% complete"
       ]
      },
      {
       "output_type": "stream",
       "stream": "stdout",
       "text": [
        "\n",
        "70% complete"
       ]
      },
      {
       "output_type": "stream",
       "stream": "stdout",
       "text": [
        "\n",
        "80% complete"
       ]
      },
      {
       "output_type": "stream",
       "stream": "stdout",
       "text": [
        "\n",
        "90% complete"
       ]
      },
      {
       "output_type": "stream",
       "stream": "stdout",
       "text": [
        "\n",
        "100% complete"
       ]
      },
      {
       "output_type": "stream",
       "stream": "stdout",
       "text": [
        "\n",
        "\n",
        "==Results==\n",
        "block number 0 (injector):\n",
        "\ttotal arrivals: 143308\n",
        "\tinjected: 1294\n",
        "\tparked: 967\n",
        "\taverage utilization: 92.7272727273%\n",
        "block number 1 (injector):\n",
        "\ttotal arrivals: 143332\n",
        "\tinjected: 1259\n",
        "\tparked: 1011\n",
        "\taverage utilization: 92.7272727273%\n",
        "average wait time: 111.50097924\n",
        "\n",
        "0% complete\n",
        "10% complete"
       ]
      },
      {
       "output_type": "stream",
       "stream": "stdout",
       "text": [
        "\n",
        "20% complete"
       ]
      },
      {
       "output_type": "stream",
       "stream": "stdout",
       "text": [
        "\n",
        "30% complete"
       ]
      },
      {
       "output_type": "stream",
       "stream": "stdout",
       "text": [
        "\n",
        "40% complete"
       ]
      },
      {
       "output_type": "stream",
       "stream": "stdout",
       "text": [
        "\n",
        "50% complete"
       ]
      },
      {
       "output_type": "stream",
       "stream": "stdout",
       "text": [
        "\n",
        "60% complete"
       ]
      },
      {
       "output_type": "stream",
       "stream": "stdout",
       "text": [
        "\n",
        "70% complete"
       ]
      },
      {
       "output_type": "stream",
       "stream": "stdout",
       "text": [
        "\n",
        "80% complete"
       ]
      },
      {
       "output_type": "stream",
       "stream": "stdout",
       "text": [
        "\n",
        "90% complete"
       ]
      },
      {
       "output_type": "stream",
       "stream": "stdout",
       "text": [
        "\n",
        "100% complete"
       ]
      },
      {
       "output_type": "stream",
       "stream": "stdout",
       "text": [
        "\n",
        "\n",
        "==Results==\n",
        "block number 0 (injector):\n",
        "\ttotal arrivals: 140553\n",
        "\tinjected: 1268\n",
        "\tparked: 998\n",
        "\taverage utilization: 92.7272727273%\n",
        "block number 1 (injector):\n",
        "\ttotal arrivals: 140567\n",
        "\tinjected: 1293\n",
        "\tparked: 1003\n",
        "\taverage utilization: 90.9090909091%\n",
        "average wait time: 108.988285826\n",
        "\n",
        "0% complete\n",
        "10% complete"
       ]
      },
      {
       "output_type": "stream",
       "stream": "stdout",
       "text": [
        "\n",
        "20% complete"
       ]
      },
      {
       "output_type": "stream",
       "stream": "stdout",
       "text": [
        "\n",
        "30% complete"
       ]
      },
      {
       "output_type": "stream",
       "stream": "stdout",
       "text": [
        "\n",
        "40% complete"
       ]
      },
      {
       "output_type": "stream",
       "stream": "stdout",
       "text": [
        "\n",
        "50% complete"
       ]
      },
      {
       "output_type": "stream",
       "stream": "stdout",
       "text": [
        "\n",
        "60% complete"
       ]
      },
      {
       "output_type": "stream",
       "stream": "stdout",
       "text": [
        "\n",
        "70% complete"
       ]
      },
      {
       "output_type": "stream",
       "stream": "stdout",
       "text": [
        "\n",
        "80% complete"
       ]
      },
      {
       "output_type": "stream",
       "stream": "stdout",
       "text": [
        "\n",
        "90% complete"
       ]
      },
      {
       "output_type": "stream",
       "stream": "stdout",
       "text": [
        "\n",
        "100% complete"
       ]
      },
      {
       "output_type": "stream",
       "stream": "stdout",
       "text": [
        "\n",
        "\n",
        "==Results==\n",
        "block number 0 (injector):\n",
        "\ttotal arrivals: 128802\n",
        "\tinjected: 1228\n",
        "\tparked: 967\n",
        "\taverage utilization: 92.7272727273%\n",
        "block number 1 (injector):\n",
        "\ttotal arrivals: 128774\n",
        "\tinjected: 1262\n",
        "\tparked: 967\n",
        "\taverage utilization: 92.7272727273%\n",
        "average wait time: 102.66746988\n",
        "\n",
        "0% complete\n",
        "10% complete"
       ]
      },
      {
       "output_type": "stream",
       "stream": "stdout",
       "text": [
        "\n",
        "20% complete"
       ]
      },
      {
       "output_type": "stream",
       "stream": "stdout",
       "text": [
        "\n",
        "30% complete"
       ]
      },
      {
       "output_type": "stream",
       "stream": "stdout",
       "text": [
        "\n",
        "40% complete"
       ]
      },
      {
       "output_type": "stream",
       "stream": "stdout",
       "text": [
        "\n",
        "50% complete"
       ]
      },
      {
       "output_type": "stream",
       "stream": "stdout",
       "text": [
        "\n",
        "60% complete"
       ]
      },
      {
       "output_type": "stream",
       "stream": "stdout",
       "text": [
        "\n",
        "70% complete"
       ]
      },
      {
       "output_type": "stream",
       "stream": "stdout",
       "text": [
        "\n",
        "80% complete"
       ]
      },
      {
       "output_type": "stream",
       "stream": "stdout",
       "text": [
        "\n",
        "90% complete"
       ]
      },
      {
       "output_type": "stream",
       "stream": "stdout",
       "text": [
        "\n",
        "100% complete"
       ]
      },
      {
       "output_type": "stream",
       "stream": "stdout",
       "text": [
        "\n",
        "\n",
        "==Results==\n",
        "block number 0 (injector):\n",
        "\ttotal arrivals: 153136\n",
        "\tinjected: 1243\n",
        "\tparked: 961\n",
        "\taverage utilization: 92.7272727273%\n",
        "block number 1 (injector):\n",
        "\ttotal arrivals: 153236\n",
        "\tinjected: 1284\n",
        "\tparked: 996\n",
        "\taverage utilization: 92.7272727273%\n",
        "average wait time: 120.464978235\n",
        "\n",
        "0% complete\n",
        "10% complete"
       ]
      },
      {
       "output_type": "stream",
       "stream": "stdout",
       "text": [
        "\n",
        "20% complete"
       ]
      },
      {
       "output_type": "stream",
       "stream": "stdout",
       "text": [
        "\n",
        "30% complete"
       ]
      },
      {
       "output_type": "stream",
       "stream": "stdout",
       "text": [
        "\n",
        "40% complete"
       ]
      },
      {
       "output_type": "stream",
       "stream": "stdout",
       "text": [
        "\n",
        "50% complete"
       ]
      },
      {
       "output_type": "stream",
       "stream": "stdout",
       "text": [
        "\n",
        "60% complete"
       ]
      },
      {
       "output_type": "stream",
       "stream": "stdout",
       "text": [
        "\n",
        "70% complete"
       ]
      },
      {
       "output_type": "stream",
       "stream": "stdout",
       "text": [
        "\n",
        "80% complete"
       ]
      },
      {
       "output_type": "stream",
       "stream": "stdout",
       "text": [
        "\n",
        "90% complete"
       ]
      },
      {
       "output_type": "stream",
       "stream": "stdout",
       "text": [
        "\n",
        "100% complete"
       ]
      },
      {
       "output_type": "stream",
       "stream": "stdout",
       "text": [
        "\n",
        "\n",
        "==Results==\n",
        "block number 0 (injector):\n",
        "\ttotal arrivals: 113170\n",
        "\tinjected: 1220\n",
        "\tparked: 957\n",
        "\taverage utilization: 92.7272727273%\n",
        "block number 1 (injector):\n",
        "\ttotal arrivals: 113211\n",
        "\tinjected: 1215\n",
        "\tparked: 991\n",
        "\taverage utilization: 92.7272727273%\n",
        "average wait time: 92.1696098563\n",
        "\n",
        "0% complete\n",
        "10% complete"
       ]
      },
      {
       "output_type": "stream",
       "stream": "stdout",
       "text": [
        "\n",
        "20% complete"
       ]
      },
      {
       "output_type": "stream",
       "stream": "stdout",
       "text": [
        "\n",
        "30% complete"
       ]
      },
      {
       "output_type": "stream",
       "stream": "stdout",
       "text": [
        "\n",
        "40% complete"
       ]
      },
      {
       "output_type": "stream",
       "stream": "stdout",
       "text": [
        "\n",
        "50% complete"
       ]
      },
      {
       "output_type": "stream",
       "stream": "stdout",
       "text": [
        "\n",
        "60% complete"
       ]
      },
      {
       "output_type": "stream",
       "stream": "stdout",
       "text": [
        "\n",
        "70% complete"
       ]
      },
      {
       "output_type": "stream",
       "stream": "stdout",
       "text": [
        "\n",
        "80% complete"
       ]
      },
      {
       "output_type": "stream",
       "stream": "stdout",
       "text": [
        "\n",
        "90% complete"
       ]
      },
      {
       "output_type": "stream",
       "stream": "stdout",
       "text": [
        "\n",
        "100% complete"
       ]
      },
      {
       "output_type": "stream",
       "stream": "stdout",
       "text": [
        "\n",
        "\n",
        "==Results==\n",
        "block number 0 (injector):\n",
        "\ttotal arrivals: 120080\n",
        "\tinjected: 1324\n",
        "\tparked: 1071\n",
        "\taverage utilization: 92.7272727273%\n",
        "block number 1 (injector):\n",
        "\ttotal arrivals: 120009\n",
        "\tinjected: 1249\n",
        "\tparked: 1020\n",
        "\taverage utilization: 92.7272727273%\n",
        "average wait time: 92.4982510688\n",
        "\n",
        "0% complete\n",
        "10% complete"
       ]
      },
      {
       "output_type": "stream",
       "stream": "stdout",
       "text": [
        "\n",
        "20% complete"
       ]
      },
      {
       "output_type": "stream",
       "stream": "stdout",
       "text": [
        "\n",
        "30% complete"
       ]
      },
      {
       "output_type": "stream",
       "stream": "stdout",
       "text": [
        "\n",
        "40% complete"
       ]
      },
      {
       "output_type": "stream",
       "stream": "stdout",
       "text": [
        "\n",
        "50% complete"
       ]
      },
      {
       "output_type": "stream",
       "stream": "stdout",
       "text": [
        "\n",
        "60% complete"
       ]
      },
      {
       "output_type": "stream",
       "stream": "stdout",
       "text": [
        "\n",
        "70% complete"
       ]
      },
      {
       "output_type": "stream",
       "stream": "stdout",
       "text": [
        "\n",
        "80% complete"
       ]
      },
      {
       "output_type": "stream",
       "stream": "stdout",
       "text": [
        "\n",
        "90% complete"
       ]
      },
      {
       "output_type": "stream",
       "stream": "stdout",
       "text": [
        "\n",
        "100% complete"
       ]
      },
      {
       "output_type": "stream",
       "stream": "stdout",
       "text": [
        "\n",
        "\n",
        "==Results==\n",
        "block number 0 (injector):\n",
        "\ttotal arrivals: 131341\n",
        "\tinjected: 1207\n",
        "\tparked: 958\n",
        "\taverage utilization: 90.9090909091%\n",
        "block number 1 (injector):\n",
        "\ttotal arrivals: 131290\n",
        "\tinjected: 1179\n",
        "\tparked: 946\n",
        "\taverage utilization: 92.7272727273%\n",
        "average wait time: 109.273679799\n",
        "\n",
        "0% complete\n",
        "10% complete"
       ]
      },
      {
       "output_type": "stream",
       "stream": "stdout",
       "text": [
        "\n",
        "20% complete"
       ]
      },
      {
       "output_type": "stream",
       "stream": "stdout",
       "text": [
        "\n",
        "30% complete"
       ]
      },
      {
       "output_type": "stream",
       "stream": "stdout",
       "text": [
        "\n",
        "40% complete"
       ]
      },
      {
       "output_type": "stream",
       "stream": "stdout",
       "text": [
        "\n",
        "50% complete"
       ]
      },
      {
       "output_type": "stream",
       "stream": "stdout",
       "text": [
        "\n",
        "60% complete"
       ]
      },
      {
       "output_type": "stream",
       "stream": "stdout",
       "text": [
        "\n",
        "70% complete"
       ]
      },
      {
       "output_type": "stream",
       "stream": "stdout",
       "text": [
        "\n",
        "80% complete"
       ]
      },
      {
       "output_type": "stream",
       "stream": "stdout",
       "text": [
        "\n",
        "90% complete"
       ]
      },
      {
       "output_type": "stream",
       "stream": "stdout",
       "text": [
        "\n",
        "100% complete"
       ]
      },
      {
       "output_type": "stream",
       "stream": "stdout",
       "text": [
        "\n",
        "\n",
        "==Results==\n",
        "block number 0 (injector):\n",
        "\ttotal arrivals: 118448\n",
        "\tinjected: 1290\n",
        "\tparked: 999\n",
        "\taverage utilization: 90.9090909091%\n",
        "block number 1 (injector):\n",
        "\ttotal arrivals: 118395\n",
        "\tinjected: 1208\n",
        "\tparked: 970\n",
        "\taverage utilization: 92.7272727273%\n",
        "average wait time: 94.0248198559\n",
        "\n",
        "0% complete\n",
        "10% complete"
       ]
      },
      {
       "output_type": "stream",
       "stream": "stdout",
       "text": [
        "\n",
        "20% complete"
       ]
      },
      {
       "output_type": "stream",
       "stream": "stdout",
       "text": [
        "\n",
        "30% complete"
       ]
      },
      {
       "output_type": "stream",
       "stream": "stdout",
       "text": [
        "\n",
        "40% complete"
       ]
      },
      {
       "output_type": "stream",
       "stream": "stdout",
       "text": [
        "\n",
        "50% complete"
       ]
      },
      {
       "output_type": "stream",
       "stream": "stdout",
       "text": [
        "\n",
        "60% complete"
       ]
      },
      {
       "output_type": "stream",
       "stream": "stdout",
       "text": [
        "\n",
        "70% complete"
       ]
      },
      {
       "output_type": "stream",
       "stream": "stdout",
       "text": [
        "\n",
        "80% complete"
       ]
      },
      {
       "output_type": "stream",
       "stream": "stdout",
       "text": [
        "\n",
        "90% complete"
       ]
      },
      {
       "output_type": "stream",
       "stream": "stdout",
       "text": [
        "\n",
        "100% complete"
       ]
      },
      {
       "output_type": "stream",
       "stream": "stdout",
       "text": [
        "\n",
        "\n",
        "==Results==\n",
        "block number 0 (injector):\n",
        "\ttotal arrivals: 108265\n",
        "\tinjected: 1212\n",
        "\tparked: 1007\n",
        "\taverage utilization: 90.9090909091%\n",
        "block number 1 (injector):\n",
        "\ttotal arrivals: 108287\n",
        "\tinjected: 1274\n",
        "\tparked: 982\n",
        "\taverage utilization: 92.7272727273%\n",
        "average wait time: 86.3085277554\n",
        "\n",
        "0% complete\n",
        "10% complete"
       ]
      },
      {
       "output_type": "stream",
       "stream": "stdout",
       "text": [
        "\n",
        "20% complete"
       ]
      },
      {
       "output_type": "stream",
       "stream": "stdout",
       "text": [
        "\n",
        "30% complete"
       ]
      },
      {
       "output_type": "stream",
       "stream": "stdout",
       "text": [
        "\n",
        "40% complete"
       ]
      },
      {
       "output_type": "stream",
       "stream": "stdout",
       "text": [
        "\n",
        "50% complete"
       ]
      },
      {
       "output_type": "stream",
       "stream": "stdout",
       "text": [
        "\n",
        "60% complete"
       ]
      },
      {
       "output_type": "stream",
       "stream": "stdout",
       "text": [
        "\n",
        "70% complete"
       ]
      },
      {
       "output_type": "stream",
       "stream": "stdout",
       "text": [
        "\n",
        "80% complete"
       ]
      },
      {
       "output_type": "stream",
       "stream": "stdout",
       "text": [
        "\n",
        "90% complete"
       ]
      },
      {
       "output_type": "stream",
       "stream": "stdout",
       "text": [
        "\n",
        "100% complete"
       ]
      },
      {
       "output_type": "stream",
       "stream": "stdout",
       "text": [
        "\n",
        "\n",
        "==Results==\n",
        "block number 0 (injector):\n",
        "\ttotal arrivals: 146543\n",
        "\tinjected: 1243\n",
        "\tparked: 958\n",
        "\taverage utilization: 92.7272727273%\n",
        "block number 1 (injector):\n",
        "\ttotal arrivals: 146589\n",
        "\tinjected: 1274\n",
        "\tparked: 991\n",
        "\taverage utilization: 92.7272727273%\n",
        "average wait time: 115.686531585\n",
        "\n",
        "0% complete\n",
        "10% complete"
       ]
      },
      {
       "output_type": "stream",
       "stream": "stdout",
       "text": [
        "\n",
        "20% complete"
       ]
      },
      {
       "output_type": "stream",
       "stream": "stdout",
       "text": [
        "\n",
        "30% complete"
       ]
      },
      {
       "output_type": "stream",
       "stream": "stdout",
       "text": [
        "\n",
        "40% complete"
       ]
      },
      {
       "output_type": "stream",
       "stream": "stdout",
       "text": [
        "\n",
        "50% complete"
       ]
      },
      {
       "output_type": "stream",
       "stream": "stdout",
       "text": [
        "\n",
        "60% complete"
       ]
      },
      {
       "output_type": "stream",
       "stream": "stdout",
       "text": [
        "\n",
        "70% complete"
       ]
      },
      {
       "output_type": "stream",
       "stream": "stdout",
       "text": [
        "\n",
        "80% complete"
       ]
      },
      {
       "output_type": "stream",
       "stream": "stdout",
       "text": [
        "\n",
        "90% complete"
       ]
      },
      {
       "output_type": "stream",
       "stream": "stdout",
       "text": [
        "\n",
        "100% complete"
       ]
      },
      {
       "output_type": "stream",
       "stream": "stdout",
       "text": [
        "\n",
        "\n",
        "==Results==\n",
        "block number 0 (injector):\n",
        "\ttotal arrivals: 117086\n",
        "\tinjected: 1246\n",
        "\tparked: 1015\n",
        "\taverage utilization: 92.7272727273%\n",
        "block number 1 (injector):\n",
        "\ttotal arrivals: 117103\n",
        "\tinjected: 1244\n",
        "\tparked: 1009\n",
        "\taverage utilization: 92.7272727273%\n",
        "average wait time: 93.2389558233\n",
        "\n",
        "0% complete\n",
        "10% complete"
       ]
      },
      {
       "output_type": "stream",
       "stream": "stdout",
       "text": [
        "\n",
        "20% complete"
       ]
      },
      {
       "output_type": "stream",
       "stream": "stdout",
       "text": [
        "\n",
        "30% complete"
       ]
      },
      {
       "output_type": "stream",
       "stream": "stdout",
       "text": [
        "\n",
        "40% complete"
       ]
      },
      {
       "output_type": "stream",
       "stream": "stdout",
       "text": [
        "\n",
        "50% complete"
       ]
      },
      {
       "output_type": "stream",
       "stream": "stdout",
       "text": [
        "\n",
        "60% complete"
       ]
      },
      {
       "output_type": "stream",
       "stream": "stdout",
       "text": [
        "\n",
        "70% complete"
       ]
      },
      {
       "output_type": "stream",
       "stream": "stdout",
       "text": [
        "\n",
        "80% complete"
       ]
      },
      {
       "output_type": "stream",
       "stream": "stdout",
       "text": [
        "\n",
        "90% complete"
       ]
      },
      {
       "output_type": "stream",
       "stream": "stdout",
       "text": [
        "\n",
        "100% complete"
       ]
      },
      {
       "output_type": "stream",
       "stream": "stdout",
       "text": [
        "\n",
        "\n",
        "==Results==\n",
        "block number 0 (injector):\n",
        "\ttotal arrivals: 121050\n",
        "\tinjected: 1221\n",
        "\tparked: 962\n",
        "\taverage utilization: 92.7272727273%\n",
        "block number 1 (injector):\n",
        "\ttotal arrivals: 121092\n",
        "\tinjected: 1223\n",
        "\tparked: 998\n",
        "\taverage utilization: 92.7272727273%\n",
        "average wait time: 98.2741407529\n",
        "\n",
        "0% complete\n",
        "10% complete"
       ]
      },
      {
       "output_type": "stream",
       "stream": "stdout",
       "text": [
        "\n",
        "20% complete"
       ]
      },
      {
       "output_type": "stream",
       "stream": "stdout",
       "text": [
        "\n",
        "30% complete"
       ]
      },
      {
       "output_type": "stream",
       "stream": "stdout",
       "text": [
        "\n",
        "40% complete"
       ]
      },
      {
       "output_type": "stream",
       "stream": "stdout",
       "text": [
        "\n",
        "50% complete"
       ]
      },
      {
       "output_type": "stream",
       "stream": "stdout",
       "text": [
        "\n",
        "60% complete"
       ]
      },
      {
       "output_type": "stream",
       "stream": "stdout",
       "text": [
        "\n",
        "70% complete"
       ]
      },
      {
       "output_type": "stream",
       "stream": "stdout",
       "text": [
        "\n",
        "80% complete"
       ]
      },
      {
       "output_type": "stream",
       "stream": "stdout",
       "text": [
        "\n",
        "90% complete"
       ]
      },
      {
       "output_type": "stream",
       "stream": "stdout",
       "text": [
        "\n",
        "100% complete"
       ]
      },
      {
       "output_type": "stream",
       "stream": "stdout",
       "text": [
        "\n",
        "\n",
        "==Results==\n",
        "block number 0 (injector):\n",
        "\ttotal arrivals: 106812\n",
        "\tinjected: 1221\n",
        "\tparked: 1030\n",
        "\taverage utilization: 92.7272727273%\n",
        "block number 1 (injector):\n",
        "\ttotal arrivals: 106777\n",
        "\tinjected: 1203\n",
        "\tparked: 987\n",
        "\taverage utilization: 92.7272727273%\n",
        "average wait time: 87.2821782178\n",
        "\n",
        "0% complete\n",
        "10% complete"
       ]
      },
      {
       "output_type": "stream",
       "stream": "stdout",
       "text": [
        "\n",
        "20% complete"
       ]
      },
      {
       "output_type": "stream",
       "stream": "stdout",
       "text": [
        "\n",
        "30% complete"
       ]
      },
      {
       "output_type": "stream",
       "stream": "stdout",
       "text": [
        "\n",
        "40% complete"
       ]
      },
      {
       "output_type": "stream",
       "stream": "stdout",
       "text": [
        "\n",
        "50% complete"
       ]
      },
      {
       "output_type": "stream",
       "stream": "stdout",
       "text": [
        "\n",
        "60% complete"
       ]
      },
      {
       "output_type": "stream",
       "stream": "stdout",
       "text": [
        "\n",
        "70% complete"
       ]
      },
      {
       "output_type": "stream",
       "stream": "stdout",
       "text": [
        "\n",
        "80% complete"
       ]
      },
      {
       "output_type": "stream",
       "stream": "stdout",
       "text": [
        "\n",
        "90% complete"
       ]
      },
      {
       "output_type": "stream",
       "stream": "stdout",
       "text": [
        "\n",
        "100% complete"
       ]
      },
      {
       "output_type": "stream",
       "stream": "stdout",
       "text": [
        "\n",
        "\n",
        "==Results==\n",
        "block number 0 (injector):\n",
        "\ttotal arrivals: 124419\n",
        "\tinjected: 1209\n",
        "\tparked: 1025\n",
        "\taverage utilization: 92.7272727273%\n",
        "block number 1 (injector):\n",
        "\ttotal arrivals: 124472\n",
        "\tinjected: 1287\n",
        "\tparked: 1035\n",
        "\taverage utilization: 90.9090909091%\n",
        "average wait time: 98.890625\n",
        "\n",
        "0% complete\n",
        "10% complete"
       ]
      },
      {
       "output_type": "stream",
       "stream": "stdout",
       "text": [
        "\n",
        "20% complete"
       ]
      },
      {
       "output_type": "stream",
       "stream": "stdout",
       "text": [
        "\n",
        "30% complete"
       ]
      },
      {
       "output_type": "stream",
       "stream": "stdout",
       "text": [
        "\n",
        "40% complete"
       ]
      },
      {
       "output_type": "stream",
       "stream": "stdout",
       "text": [
        "\n",
        "50% complete"
       ]
      },
      {
       "output_type": "stream",
       "stream": "stdout",
       "text": [
        "\n",
        "60% complete"
       ]
      },
      {
       "output_type": "stream",
       "stream": "stdout",
       "text": [
        "\n",
        "70% complete"
       ]
      },
      {
       "output_type": "stream",
       "stream": "stdout",
       "text": [
        "\n",
        "80% complete"
       ]
      },
      {
       "output_type": "stream",
       "stream": "stdout",
       "text": [
        "\n",
        "90% complete"
       ]
      },
      {
       "output_type": "stream",
       "stream": "stdout",
       "text": [
        "\n",
        "100% complete"
       ]
      },
      {
       "output_type": "stream",
       "stream": "stdout",
       "text": [
        "\n",
        "\n",
        "==Results==\n",
        "block number 0 (injector):\n",
        "\ttotal arrivals: 152786\n",
        "\tinjected: 1294\n",
        "\tparked: 985\n",
        "\taverage utilization: 90.9090909091%\n",
        "block number 1 (injector):\n",
        "\ttotal arrivals: 152723\n",
        "\tinjected: 1268\n",
        "\tparked: 904\n",
        "\taverage utilization: 92.7272727273%\n",
        "average wait time: 118.508977361\n",
        "\n",
        "0% complete\n",
        "10% complete"
       ]
      },
      {
       "output_type": "stream",
       "stream": "stdout",
       "text": [
        "\n",
        "20% complete"
       ]
      },
      {
       "output_type": "stream",
       "stream": "stdout",
       "text": [
        "\n",
        "30% complete"
       ]
      },
      {
       "output_type": "stream",
       "stream": "stdout",
       "text": [
        "\n",
        "40% complete"
       ]
      },
      {
       "output_type": "stream",
       "stream": "stdout",
       "text": [
        "\n",
        "50% complete"
       ]
      },
      {
       "output_type": "stream",
       "stream": "stdout",
       "text": [
        "\n",
        "60% complete"
       ]
      },
      {
       "output_type": "stream",
       "stream": "stdout",
       "text": [
        "\n",
        "70% complete"
       ]
      },
      {
       "output_type": "stream",
       "stream": "stdout",
       "text": [
        "\n",
        "80% complete"
       ]
      },
      {
       "output_type": "stream",
       "stream": "stdout",
       "text": [
        "\n",
        "90% complete"
       ]
      },
      {
       "output_type": "stream",
       "stream": "stdout",
       "text": [
        "\n",
        "100% complete"
       ]
      },
      {
       "output_type": "stream",
       "stream": "stdout",
       "text": [
        "\n",
        "\n",
        "==Results==\n",
        "block number 0 (injector):\n",
        "\ttotal arrivals: 130721\n",
        "\tinjected: 1263\n",
        "\tparked: 1038\n",
        "\taverage utilization: 92.7272727273%\n",
        "block number 1 (injector):\n",
        "\ttotal arrivals: 130712\n",
        "\tinjected: 1234\n",
        "\tparked: 984\n",
        "\taverage utilization: 92.7272727273%\n",
        "average wait time: 103.88906688\n",
        "\n",
        "0% complete\n",
        "10% complete"
       ]
      },
      {
       "output_type": "stream",
       "stream": "stdout",
       "text": [
        "\n",
        "20% complete"
       ]
      },
      {
       "output_type": "stream",
       "stream": "stdout",
       "text": [
        "\n",
        "30% complete"
       ]
      },
      {
       "output_type": "stream",
       "stream": "stdout",
       "text": [
        "\n",
        "40% complete"
       ]
      },
      {
       "output_type": "stream",
       "stream": "stdout",
       "text": [
        "\n",
        "50% complete"
       ]
      },
      {
       "output_type": "stream",
       "stream": "stdout",
       "text": [
        "\n",
        "60% complete"
       ]
      },
      {
       "output_type": "stream",
       "stream": "stdout",
       "text": [
        "\n",
        "70% complete"
       ]
      },
      {
       "output_type": "stream",
       "stream": "stdout",
       "text": [
        "\n",
        "80% complete"
       ]
      },
      {
       "output_type": "stream",
       "stream": "stdout",
       "text": [
        "\n",
        "90% complete"
       ]
      },
      {
       "output_type": "stream",
       "stream": "stdout",
       "text": [
        "\n",
        "100% complete"
       ]
      },
      {
       "output_type": "stream",
       "stream": "stdout",
       "text": [
        "\n",
        "\n",
        "==Results==\n",
        "block number 0 (injector):\n",
        "\ttotal arrivals: 115212\n",
        "\tinjected: 1185\n",
        "\tparked: 1039\n",
        "\taverage utilization: 92.7272727273%\n",
        "block number 1 (injector):\n",
        "\ttotal arrivals: 115222\n",
        "\tinjected: 1289\n",
        "\tparked: 955\n",
        "\taverage utilization: 90.9090909091%\n",
        "average wait time: 92.3362974939\n",
        "\n",
        "0% complete\n",
        "10% complete"
       ]
      },
      {
       "output_type": "stream",
       "stream": "stdout",
       "text": [
        "\n",
        "20% complete"
       ]
      },
      {
       "output_type": "stream",
       "stream": "stdout",
       "text": [
        "\n",
        "30% complete"
       ]
      },
      {
       "output_type": "stream",
       "stream": "stdout",
       "text": [
        "\n",
        "40% complete"
       ]
      },
      {
       "output_type": "stream",
       "stream": "stdout",
       "text": [
        "\n",
        "50% complete"
       ]
      },
      {
       "output_type": "stream",
       "stream": "stdout",
       "text": [
        "\n",
        "60% complete"
       ]
      },
      {
       "output_type": "stream",
       "stream": "stdout",
       "text": [
        "\n",
        "70% complete"
       ]
      },
      {
       "output_type": "stream",
       "stream": "stdout",
       "text": [
        "\n",
        "80% complete"
       ]
      },
      {
       "output_type": "stream",
       "stream": "stdout",
       "text": [
        "\n",
        "90% complete"
       ]
      },
      {
       "output_type": "stream",
       "stream": "stdout",
       "text": [
        "\n",
        "100% complete"
       ]
      },
      {
       "output_type": "stream",
       "stream": "stdout",
       "text": [
        "\n",
        "\n",
        "==Results==\n",
        "block number 0 (injector):\n",
        "\ttotal arrivals: 128429\n",
        "\tinjected: 1241\n",
        "\tparked: 934\n",
        "\taverage utilization: 92.7272727273%\n",
        "block number 1 (injector):\n",
        "\ttotal arrivals: 128430\n",
        "\tinjected: 1225\n",
        "\tparked: 997\n",
        "\taverage utilization: 92.7272727273%\n",
        "average wait time: 103.377128954\n",
        "\n",
        "0% complete\n",
        "10% complete"
       ]
      },
      {
       "output_type": "stream",
       "stream": "stdout",
       "text": [
        "\n",
        "20% complete"
       ]
      },
      {
       "output_type": "stream",
       "stream": "stdout",
       "text": [
        "\n",
        "30% complete"
       ]
      },
      {
       "output_type": "stream",
       "stream": "stdout",
       "text": [
        "\n",
        "40% complete"
       ]
      },
      {
       "output_type": "stream",
       "stream": "stdout",
       "text": [
        "\n",
        "50% complete"
       ]
      },
      {
       "output_type": "stream",
       "stream": "stdout",
       "text": [
        "\n",
        "60% complete"
       ]
      },
      {
       "output_type": "stream",
       "stream": "stdout",
       "text": [
        "\n",
        "70% complete"
       ]
      },
      {
       "output_type": "stream",
       "stream": "stdout",
       "text": [
        "\n",
        "80% complete"
       ]
      },
      {
       "output_type": "stream",
       "stream": "stdout",
       "text": [
        "\n",
        "90% complete"
       ]
      },
      {
       "output_type": "stream",
       "stream": "stdout",
       "text": [
        "\n",
        "100% complete"
       ]
      },
      {
       "output_type": "stream",
       "stream": "stdout",
       "text": [
        "\n",
        "\n",
        "==Results==\n",
        "block number 0 (injector):\n",
        "\ttotal arrivals: 126819\n",
        "\tinjected: 1254\n",
        "\tparked: 1003\n",
        "\taverage utilization: 90.9090909091%\n",
        "block number 1 (injector):\n",
        "\ttotal arrivals: 126809\n",
        "\tinjected: 1249\n",
        "\tparked: 967\n",
        "\taverage utilization: 92.7272727273%\n",
        "average wait time: 100.542548941\n",
        "\n",
        "0% complete\n",
        "10% complete"
       ]
      },
      {
       "output_type": "stream",
       "stream": "stdout",
       "text": [
        "\n",
        "20% complete"
       ]
      },
      {
       "output_type": "stream",
       "stream": "stdout",
       "text": [
        "\n",
        "30% complete"
       ]
      },
      {
       "output_type": "stream",
       "stream": "stdout",
       "text": [
        "\n",
        "40% complete"
       ]
      },
      {
       "output_type": "stream",
       "stream": "stdout",
       "text": [
        "\n",
        "50% complete"
       ]
      },
      {
       "output_type": "stream",
       "stream": "stdout",
       "text": [
        "\n",
        "60% complete"
       ]
      },
      {
       "output_type": "stream",
       "stream": "stdout",
       "text": [
        "\n",
        "70% complete"
       ]
      },
      {
       "output_type": "stream",
       "stream": "stdout",
       "text": [
        "\n",
        "80% complete"
       ]
      },
      {
       "output_type": "stream",
       "stream": "stdout",
       "text": [
        "\n",
        "90% complete"
       ]
      },
      {
       "output_type": "stream",
       "stream": "stdout",
       "text": [
        "\n",
        "100% complete"
       ]
      },
      {
       "output_type": "stream",
       "stream": "stdout",
       "text": [
        "\n",
        "\n",
        "==Results==\n",
        "block number 0 (injector):\n",
        "\ttotal arrivals: 89247\n",
        "\tinjected: 1212\n",
        "\tparked: 1097\n",
        "\taverage utilization: 92.7272727273%\n",
        "block number 1 (injector):\n",
        "\ttotal arrivals: 89211\n",
        "\tinjected: 1246\n",
        "\tparked: 997\n",
        "\taverage utilization: 92.7272727273%\n",
        "average wait time: 71.7510170871\n",
        "\n",
        "0% complete\n",
        "10% complete"
       ]
      },
      {
       "output_type": "stream",
       "stream": "stdout",
       "text": [
        "\n",
        "20% complete"
       ]
      },
      {
       "output_type": "stream",
       "stream": "stdout",
       "text": [
        "\n",
        "30% complete"
       ]
      },
      {
       "output_type": "stream",
       "stream": "stdout",
       "text": [
        "\n",
        "40% complete"
       ]
      },
      {
       "output_type": "stream",
       "stream": "stdout",
       "text": [
        "\n",
        "50% complete"
       ]
      },
      {
       "output_type": "stream",
       "stream": "stdout",
       "text": [
        "\n",
        "60% complete"
       ]
      },
      {
       "output_type": "stream",
       "stream": "stdout",
       "text": [
        "\n",
        "70% complete"
       ]
      },
      {
       "output_type": "stream",
       "stream": "stdout",
       "text": [
        "\n",
        "80% complete"
       ]
      },
      {
       "output_type": "stream",
       "stream": "stdout",
       "text": [
        "\n",
        "90% complete"
       ]
      },
      {
       "output_type": "stream",
       "stream": "stdout",
       "text": [
        "\n",
        "100% complete"
       ]
      },
      {
       "output_type": "stream",
       "stream": "stdout",
       "text": [
        "\n",
        "\n",
        "==Results==\n",
        "block number 0 (injector):\n",
        "\ttotal arrivals: 146299\n",
        "\tinjected: 1216\n",
        "\tparked: 989\n",
        "\taverage utilization: 90.9090909091%\n",
        "block number 1 (injector):\n",
        "\ttotal arrivals: 146359\n",
        "\tinjected: 1337\n",
        "\tparked: 962\n",
        "\taverage utilization: 92.7272727273%\n",
        "average wait time: 113.868781825\n",
        "\n",
        "0% complete\n",
        "10% complete"
       ]
      },
      {
       "output_type": "stream",
       "stream": "stdout",
       "text": [
        "\n",
        "20% complete"
       ]
      },
      {
       "output_type": "stream",
       "stream": "stdout",
       "text": [
        "\n",
        "30% complete"
       ]
      },
      {
       "output_type": "stream",
       "stream": "stdout",
       "text": [
        "\n",
        "40% complete"
       ]
      },
      {
       "output_type": "stream",
       "stream": "stdout",
       "text": [
        "\n",
        "50% complete"
       ]
      },
      {
       "output_type": "stream",
       "stream": "stdout",
       "text": [
        "\n",
        "60% complete"
       ]
      },
      {
       "output_type": "stream",
       "stream": "stdout",
       "text": [
        "\n",
        "70% complete"
       ]
      },
      {
       "output_type": "stream",
       "stream": "stdout",
       "text": [
        "\n",
        "80% complete"
       ]
      },
      {
       "output_type": "stream",
       "stream": "stdout",
       "text": [
        "\n",
        "90% complete"
       ]
      },
      {
       "output_type": "stream",
       "stream": "stdout",
       "text": [
        "\n",
        "100% complete"
       ]
      },
      {
       "output_type": "stream",
       "stream": "stdout",
       "text": [
        "\n",
        "\n",
        "==Results==\n",
        "block number 0 (injector):\n",
        "\ttotal arrivals: 149142\n",
        "\tinjected: 1217\n",
        "\tparked: 1020\n",
        "\taverage utilization: 92.7272727273%\n",
        "block number 1 (injector):\n",
        "\ttotal arrivals: 149163\n",
        "\tinjected: 1294\n",
        "\tparked: 976\n",
        "\taverage utilization: 92.7272727273%\n",
        "average wait time: 118.004380725\n",
        "\n",
        "0% complete\n",
        "10% complete"
       ]
      },
      {
       "output_type": "stream",
       "stream": "stdout",
       "text": [
        "\n",
        "20% complete"
       ]
      },
      {
       "output_type": "stream",
       "stream": "stdout",
       "text": [
        "\n",
        "30% complete"
       ]
      },
      {
       "output_type": "stream",
       "stream": "stdout",
       "text": [
        "\n",
        "40% complete"
       ]
      },
      {
       "output_type": "stream",
       "stream": "stdout",
       "text": [
        "\n",
        "50% complete"
       ]
      },
      {
       "output_type": "stream",
       "stream": "stdout",
       "text": [
        "\n",
        "60% complete"
       ]
      },
      {
       "output_type": "stream",
       "stream": "stdout",
       "text": [
        "\n",
        "70% complete"
       ]
      },
      {
       "output_type": "stream",
       "stream": "stdout",
       "text": [
        "\n",
        "80% complete"
       ]
      },
      {
       "output_type": "stream",
       "stream": "stdout",
       "text": [
        "\n",
        "90% complete"
       ]
      },
      {
       "output_type": "stream",
       "stream": "stdout",
       "text": [
        "\n",
        "100% complete"
       ]
      },
      {
       "output_type": "stream",
       "stream": "stdout",
       "text": [
        "\n",
        "\n",
        "==Results==\n",
        "block number 0 (injector):\n",
        "\ttotal arrivals: 152818\n",
        "\tinjected: 1269\n",
        "\tparked: 1032\n",
        "\taverage utilization: 90.9090909091%\n",
        "block number 1 (injector):\n",
        "\ttotal arrivals: 152844\n",
        "\tinjected: 1304\n",
        "\tparked: 1004\n",
        "\taverage utilization: 92.7272727273%\n",
        "average wait time: 118.004663817\n",
        "\n",
        "0% complete\n",
        "10% complete"
       ]
      },
      {
       "output_type": "stream",
       "stream": "stdout",
       "text": [
        "\n",
        "20% complete"
       ]
      },
      {
       "output_type": "stream",
       "stream": "stdout",
       "text": [
        "\n",
        "30% complete"
       ]
      },
      {
       "output_type": "stream",
       "stream": "stdout",
       "text": [
        "\n",
        "40% complete"
       ]
      },
      {
       "output_type": "stream",
       "stream": "stdout",
       "text": [
        "\n",
        "50% complete"
       ]
      },
      {
       "output_type": "stream",
       "stream": "stdout",
       "text": [
        "\n",
        "60% complete"
       ]
      },
      {
       "output_type": "stream",
       "stream": "stdout",
       "text": [
        "\n",
        "70% complete"
       ]
      },
      {
       "output_type": "stream",
       "stream": "stdout",
       "text": [
        "\n",
        "80% complete"
       ]
      },
      {
       "output_type": "stream",
       "stream": "stdout",
       "text": [
        "\n",
        "90% complete"
       ]
      },
      {
       "output_type": "stream",
       "stream": "stdout",
       "text": [
        "\n",
        "100% complete"
       ]
      },
      {
       "output_type": "stream",
       "stream": "stdout",
       "text": [
        "\n",
        "\n",
        "==Results==\n",
        "block number 0 (injector):\n",
        "\ttotal arrivals: 129378\n",
        "\tinjected: 1319\n",
        "\tparked: 1082\n",
        "\taverage utilization: 92.7272727273%\n",
        "block number 1 (injector):\n",
        "\ttotal arrivals: 129275\n",
        "\tinjected: 1250\n",
        "\tparked: 965\n",
        "\taverage utilization: 92.7272727273%\n",
        "average wait time: 99.8855585831\n",
        "\n",
        "0% complete\n",
        "10% complete"
       ]
      },
      {
       "output_type": "stream",
       "stream": "stdout",
       "text": [
        "\n",
        "20% complete"
       ]
      },
      {
       "output_type": "stream",
       "stream": "stdout",
       "text": [
        "\n",
        "30% complete"
       ]
      },
      {
       "output_type": "stream",
       "stream": "stdout",
       "text": [
        "\n",
        "40% complete"
       ]
      },
      {
       "output_type": "stream",
       "stream": "stdout",
       "text": [
        "\n",
        "50% complete"
       ]
      },
      {
       "output_type": "stream",
       "stream": "stdout",
       "text": [
        "\n",
        "60% complete"
       ]
      },
      {
       "output_type": "stream",
       "stream": "stdout",
       "text": [
        "\n",
        "70% complete"
       ]
      },
      {
       "output_type": "stream",
       "stream": "stdout",
       "text": [
        "\n",
        "80% complete"
       ]
      },
      {
       "output_type": "stream",
       "stream": "stdout",
       "text": [
        "\n",
        "90% complete"
       ]
      },
      {
       "output_type": "stream",
       "stream": "stdout",
       "text": [
        "\n",
        "100% complete"
       ]
      },
      {
       "output_type": "stream",
       "stream": "stdout",
       "text": [
        "\n",
        "\n",
        "==Results==\n",
        "block number 0 (injector):\n",
        "\ttotal arrivals: 109047\n",
        "\tinjected: 1181\n",
        "\tparked: 991\n",
        "\taverage utilization: 90.9090909091%\n",
        "block number 1 (injector):\n",
        "\ttotal arrivals: 109050\n",
        "\tinjected: 1222\n",
        "\tparked: 993\n",
        "\taverage utilization: 92.7272727273%\n",
        "average wait time: 89.9346650021\n",
        "\n",
        "0% complete\n",
        "10% complete"
       ]
      },
      {
       "output_type": "stream",
       "stream": "stdout",
       "text": [
        "\n",
        "20% complete"
       ]
      },
      {
       "output_type": "stream",
       "stream": "stdout",
       "text": [
        "\n",
        "30% complete"
       ]
      },
      {
       "output_type": "stream",
       "stream": "stdout",
       "text": [
        "\n",
        "40% complete"
       ]
      },
      {
       "output_type": "stream",
       "stream": "stdout",
       "text": [
        "\n",
        "50% complete"
       ]
      },
      {
       "output_type": "stream",
       "stream": "stdout",
       "text": [
        "\n",
        "60% complete"
       ]
      },
      {
       "output_type": "stream",
       "stream": "stdout",
       "text": [
        "\n",
        "70% complete"
       ]
      },
      {
       "output_type": "stream",
       "stream": "stdout",
       "text": [
        "\n",
        "80% complete"
       ]
      },
      {
       "output_type": "stream",
       "stream": "stdout",
       "text": [
        "\n",
        "90% complete"
       ]
      },
      {
       "output_type": "stream",
       "stream": "stdout",
       "text": [
        "\n",
        "100% complete"
       ]
      },
      {
       "output_type": "stream",
       "stream": "stdout",
       "text": [
        "\n",
        "\n",
        "==Results==\n",
        "block number 0 (injector):\n",
        "\ttotal arrivals: 159997\n",
        "\tinjected: 1260\n",
        "\tparked: 967\n",
        "\taverage utilization: 92.7272727273%\n",
        "block number 1 (injector):\n",
        "\ttotal arrivals: 160058\n",
        "\tinjected: 1293\n",
        "\tparked: 1000\n",
        "\taverage utilization: 92.7272727273%\n",
        "average wait time: 124.593811203\n",
        "\n",
        "0% complete\n",
        "10% complete"
       ]
      },
      {
       "output_type": "stream",
       "stream": "stdout",
       "text": [
        "\n",
        "20% complete"
       ]
      },
      {
       "output_type": "stream",
       "stream": "stdout",
       "text": [
        "\n",
        "30% complete"
       ]
      },
      {
       "output_type": "stream",
       "stream": "stdout",
       "text": [
        "\n",
        "40% complete"
       ]
      },
      {
       "output_type": "stream",
       "stream": "stdout",
       "text": [
        "\n",
        "50% complete"
       ]
      },
      {
       "output_type": "stream",
       "stream": "stdout",
       "text": [
        "\n",
        "60% complete"
       ]
      },
      {
       "output_type": "stream",
       "stream": "stdout",
       "text": [
        "\n",
        "70% complete"
       ]
      },
      {
       "output_type": "stream",
       "stream": "stdout",
       "text": [
        "\n",
        "80% complete"
       ]
      },
      {
       "output_type": "stream",
       "stream": "stdout",
       "text": [
        "\n",
        "90% complete"
       ]
      },
      {
       "output_type": "stream",
       "stream": "stdout",
       "text": [
        "\n",
        "100% complete"
       ]
      },
      {
       "output_type": "stream",
       "stream": "stdout",
       "text": [
        "\n",
        "\n",
        "==Results==\n",
        "block number 0 (injector):\n",
        "\ttotal arrivals: 138216\n",
        "\tinjected: 1277\n",
        "\tparked: 976\n",
        "\taverage utilization: 92.7272727273%\n",
        "block number 1 (injector):\n",
        "\ttotal arrivals: 138143\n",
        "\tinjected: 1222\n",
        "\tparked: 980\n",
        "\taverage utilization: 89.0909090909%\n",
        "average wait time: 109.805122049\n",
        "\n",
        "0% complete\n",
        "10% complete"
       ]
      },
      {
       "output_type": "stream",
       "stream": "stdout",
       "text": [
        "\n",
        "20% complete"
       ]
      },
      {
       "output_type": "stream",
       "stream": "stdout",
       "text": [
        "\n",
        "30% complete"
       ]
      },
      {
       "output_type": "stream",
       "stream": "stdout",
       "text": [
        "\n",
        "40% complete"
       ]
      },
      {
       "output_type": "stream",
       "stream": "stdout",
       "text": [
        "\n",
        "50% complete"
       ]
      },
      {
       "output_type": "stream",
       "stream": "stdout",
       "text": [
        "\n",
        "60% complete"
       ]
      },
      {
       "output_type": "stream",
       "stream": "stdout",
       "text": [
        "\n",
        "70% complete"
       ]
      },
      {
       "output_type": "stream",
       "stream": "stdout",
       "text": [
        "\n",
        "80% complete"
       ]
      },
      {
       "output_type": "stream",
       "stream": "stdout",
       "text": [
        "\n",
        "90% complete"
       ]
      },
      {
       "output_type": "stream",
       "stream": "stdout",
       "text": [
        "\n",
        "100% complete"
       ]
      },
      {
       "output_type": "stream",
       "stream": "stdout",
       "text": [
        "\n",
        "\n",
        "==Results==\n",
        "block number 0 (injector):\n",
        "\ttotal arrivals: 106383\n",
        "\tinjected: 1213\n",
        "\tparked: 1077\n",
        "\taverage utilization: 92.7272727273%\n",
        "block number 1 (injector):\n",
        "\ttotal arrivals: 106380\n",
        "\tinjected: 1249\n",
        "\tparked: 996\n",
        "\taverage utilization: 92.7272727273%\n",
        "average wait time: 85.5767668562\n",
        "\n",
        "0% complete\n",
        "10% complete"
       ]
      },
      {
       "output_type": "stream",
       "stream": "stdout",
       "text": [
        "\n",
        "20% complete"
       ]
      },
      {
       "output_type": "stream",
       "stream": "stdout",
       "text": [
        "\n",
        "30% complete"
       ]
      },
      {
       "output_type": "stream",
       "stream": "stdout",
       "text": [
        "\n",
        "40% complete"
       ]
      }
     ],
     "prompt_number": "*"
    },
    {
     "cell_type": "code",
     "collapsed": false,
     "input": [
      "np.array([averageWaitTime[:,1], utilizationStats[:,1]]).T"
     ],
     "language": "python",
     "metadata": {},
     "outputs": [
      {
       "metadata": {},
       "output_type": "pyout",
       "prompt_number": 28,
       "text": [
        "array([[ 115.89785374,    0.92727273],\n",
        "       [  96.60721607,    0.92727273],\n",
        "       [ 105.42960442,    0.92727273],\n",
        "       [  85.13483624,    0.92727273],\n",
        "       [  73.22408602,    0.92727273],\n",
        "       [  86.74747882,    0.92727273],\n",
        "       [ 106.89309764,    0.90909091],\n",
        "       [  80.94670162,    0.92727273],\n",
        "       [  67.11214558,    0.92727273],\n",
        "       [  67.50818222,    0.92727273],\n",
        "       [  51.78418231,    0.92727273],\n",
        "       [  54.31842105,    0.92727273],\n",
        "       [  67.01759015,    0.92727273],\n",
        "       [  54.21862163,    0.92727273],\n",
        "       [  47.80642159,    0.92727273],\n",
        "       [  18.61431316,    0.89090909],\n",
        "       [  22.15756705,    0.92727273],\n",
        "       [  23.11674877,    0.87272727],\n",
        "       [  19.12635735,    0.90909091],\n",
        "       [  27.64823119,    0.90909091],\n",
        "       [  39.20816733,    0.89090909],\n",
        "       [  11.13370333,    0.85454545],\n",
        "       [  10.28168291,    0.87272727],\n",
        "       [   6.99313984,    0.87272727],\n",
        "       [   7.4834509 ,    0.89090909],\n",
        "       [  12.84904632,    0.90909091],\n",
        "       [   6.83541018,    0.85454545],\n",
        "       [  10.58496559,    0.85454545],\n",
        "       [   3.33514394,    0.78181818],\n",
        "       [   5.6675705 ,    0.8       ],\n",
        "       [   5.44395117,    0.72727273],\n",
        "       [   6.21784922,    0.8       ],\n",
        "       [   3.08017817,    0.87272727],\n",
        "       [   3.17687464,    0.83636364],\n",
        "       [   4.44115975,    0.81818182],\n",
        "       [   4.74956421,    0.76363636],\n",
        "       [   3.80492091,    0.87272727],\n",
        "       [   5.69134396,    0.78181818],\n",
        "       [   1.85646218,    0.70909091],\n",
        "       [   1.53915663,    0.85454545],\n",
        "       [   2.47029393,    0.85454545],\n",
        "       [   1.78715365,    0.83636364],\n",
        "       [   1.70927318,    0.76363636],\n",
        "       [   1.38840399,    0.72727273],\n",
        "       [   2.31851852,    0.72727273],\n",
        "       [   1.54804712,    0.72727273],\n",
        "       [   1.34361233,    0.76363636],\n",
        "       [   1.99814356,    0.8       ],\n",
        "       [   2.71226994,    0.76363636],\n",
        "       [   1.43124597,    0.78181818],\n",
        "       [   1.13397436,    0.70909091],\n",
        "       [   1.8286429 ,    0.81818182],\n",
        "       [   1.59147541,    0.83636364],\n",
        "       [   0.7893617 ,    0.69090909],\n",
        "       [   0.6270119 ,    0.67272727],\n",
        "       [   0.96227664,    0.65454545],\n",
        "       [   0.85164451,    0.6       ],\n",
        "       [   1.0537415 ,    0.65454545],\n",
        "       [   0.83997104,    0.69090909],\n",
        "       [   1.40699301,    0.61818182],\n",
        "       [   0.72125436,    0.72727273],\n",
        "       [   1.08520791,    0.81818182],\n",
        "       [   0.87834037,    0.70909091],\n",
        "       [   0.71163455,    0.54545455],\n",
        "       [   0.7724982 ,    0.78181818],\n",
        "       [   0.82530554,    0.70909091],\n",
        "       [   0.71176471,    0.67272727],\n",
        "       [   0.46791637,    0.72727273],\n",
        "       [   0.69779803,    0.65454545],\n",
        "       [   0.48676471,    0.58181818],\n",
        "       [   0.72574763,    0.56363636],\n",
        "       [   0.43490909,    0.63636364],\n",
        "       [   0.62605364,    0.78181818],\n",
        "       [   0.47328244,    0.67272727],\n",
        "       [   0.37390613,    0.47272727],\n",
        "       [   0.57788162,    0.56363636],\n",
        "       [   0.49060856,    0.52727273],\n",
        "       [   0.36421219,    0.65454545],\n",
        "       [   0.42576591,    0.70909091],\n",
        "       [   0.35731415,    0.67272727],\n",
        "       [   0.46987033,    0.45454545],\n",
        "       [   0.40110323,    0.54545455],\n",
        "       [   0.45700637,    0.41818182],\n",
        "       [   0.49285714,    0.67272727],\n",
        "       [   0.34868944,    0.56363636],\n",
        "       [   0.41973244,    0.67272727],\n",
        "       [   0.44269103,    0.69090909],\n",
        "       [   0.31192661,    0.70909091],\n",
        "       [   0.23096664,    0.45454545],\n",
        "       [   0.29016393,    0.61818182],\n",
        "       [   0.33694746,    0.52727273],\n",
        "       [   0.30176027,    0.50909091],\n",
        "       [   0.44262295,    0.65454545],\n",
        "       [   0.24873096,    0.54545455],\n",
        "       [   0.20558376,    0.54545455],\n",
        "       [   0.14483955,    0.58181818],\n",
        "       [   0.19034853,    0.47272727],\n",
        "       [   0.23817427,    0.56363636],\n",
        "       [   0.16920322,    0.56363636],\n",
        "       [   0.20772059,    0.56363636]])"
       ]
      }
     ],
     "prompt_number": 28
    },
    {
     "cell_type": "code",
     "collapsed": false,
     "input": [],
     "language": "python",
     "metadata": {},
     "outputs": [
      {
       "metadata": {},
       "output_type": "pyout",
       "prompt_number": 45,
       "text": [
        "[-1.0, -1.0, -1.0, -1.0, -1.0]"
       ]
      }
     ],
     "prompt_number": 45
    },
    {
     "cell_type": "code",
     "collapsed": false,
     "input": [
      "import numpy as np\n",
      "import matplotlib.pyplot as plt\n",
      "\n",
      "plt.plot(averageWaitTime[:,0], averageWaitTime[:,1])\n",
      "plt.title(\"2-bus average wait times as a function of arrival rate\")\n",
      "plt.xlabel(\"arrival rate\")\n",
      "plt.ylabel(\"average wait time\")\n",
      "plt.show()\n"
     ],
     "language": "python",
     "metadata": {},
     "outputs": [],
     "prompt_number": 31
    },
    {
     "cell_type": "code",
     "collapsed": false,
     "input": [
      "rates = np.zeros((100,1))\n",
      "for i in range(100):\n",
      "    rates[i] = (QNet.params.lambd)-(utilizationStats[-i-1,0])/100.0\n",
      "rates"
     ],
     "language": "python",
     "metadata": {},
     "outputs": [
      {
       "metadata": {},
       "output_type": "pyout",
       "prompt_number": 56,
       "text": [
        "array([[ 0.5 ],\n",
        "       [ 0.51],\n",
        "       [ 0.52],\n",
        "       [ 0.53],\n",
        "       [ 0.54],\n",
        "       [ 0.55],\n",
        "       [ 0.56],\n",
        "       [ 0.57],\n",
        "       [ 0.58],\n",
        "       [ 0.59],\n",
        "       [ 0.6 ],\n",
        "       [ 0.61],\n",
        "       [ 0.62],\n",
        "       [ 0.63],\n",
        "       [ 0.64],\n",
        "       [ 0.65],\n",
        "       [ 0.66],\n",
        "       [ 0.67],\n",
        "       [ 0.68],\n",
        "       [ 0.69],\n",
        "       [ 0.7 ],\n",
        "       [ 0.71],\n",
        "       [ 0.72],\n",
        "       [ 0.73],\n",
        "       [ 0.74],\n",
        "       [ 0.75],\n",
        "       [ 0.76],\n",
        "       [ 0.77],\n",
        "       [ 0.78],\n",
        "       [ 0.79],\n",
        "       [ 0.8 ],\n",
        "       [ 0.81],\n",
        "       [ 0.82],\n",
        "       [ 0.83],\n",
        "       [ 0.84],\n",
        "       [ 0.85],\n",
        "       [ 0.86],\n",
        "       [ 0.87],\n",
        "       [ 0.88],\n",
        "       [ 0.89],\n",
        "       [ 0.9 ],\n",
        "       [ 0.91],\n",
        "       [ 0.92],\n",
        "       [ 0.93],\n",
        "       [ 0.94],\n",
        "       [ 0.95],\n",
        "       [ 0.96],\n",
        "       [ 0.97],\n",
        "       [ 0.98],\n",
        "       [ 0.99],\n",
        "       [ 1.  ],\n",
        "       [ 1.01],\n",
        "       [ 1.02],\n",
        "       [ 1.03],\n",
        "       [ 1.04],\n",
        "       [ 1.05],\n",
        "       [ 1.06],\n",
        "       [ 1.07],\n",
        "       [ 1.08],\n",
        "       [ 1.09],\n",
        "       [ 1.1 ],\n",
        "       [ 1.11],\n",
        "       [ 1.12],\n",
        "       [ 1.13],\n",
        "       [ 1.14],\n",
        "       [ 1.15],\n",
        "       [ 1.16],\n",
        "       [ 1.17],\n",
        "       [ 1.18],\n",
        "       [ 1.19],\n",
        "       [ 1.2 ],\n",
        "       [ 1.21],\n",
        "       [ 1.22],\n",
        "       [ 1.23],\n",
        "       [ 1.24],\n",
        "       [ 1.25],\n",
        "       [ 1.26],\n",
        "       [ 1.27],\n",
        "       [ 1.28],\n",
        "       [ 1.29],\n",
        "       [ 1.3 ],\n",
        "       [ 1.31],\n",
        "       [ 1.32],\n",
        "       [ 1.33],\n",
        "       [ 1.34],\n",
        "       [ 1.35],\n",
        "       [ 1.36],\n",
        "       [ 1.37],\n",
        "       [ 1.38],\n",
        "       [ 1.39],\n",
        "       [ 1.4 ],\n",
        "       [ 1.41],\n",
        "       [ 1.42],\n",
        "       [ 1.43],\n",
        "       [ 1.44],\n",
        "       [ 1.45],\n",
        "       [ 1.46],\n",
        "       [ 1.47],\n",
        "       [ 1.48],\n",
        "       [ 1.49]])"
       ]
      }
     ],
     "prompt_number": 56
    },
    {
     "cell_type": "code",
     "collapsed": false,
     "input": [
      "rates"
     ],
     "language": "python",
     "metadata": {},
     "outputs": [
      {
       "metadata": {},
       "output_type": "pyout",
       "prompt_number": 49,
       "text": [
        "array([1, 1])"
       ]
      }
     ],
     "prompt_number": 49
    },
    {
     "cell_type": "code",
     "collapsed": false,
     "input": [],
     "language": "python",
     "metadata": {},
     "outputs": [],
     "prompt_number": 62
    },
    {
     "cell_type": "code",
     "collapsed": false,
     "input": [],
     "language": "python",
     "metadata": {},
     "outputs": [],
     "prompt_number": 62
    },
    {
     "cell_type": "code",
     "collapsed": false,
     "input": [],
     "language": "python",
     "metadata": {},
     "outputs": [],
     "prompt_number": 62
    },
    {
     "cell_type": "code",
     "collapsed": false,
     "input": [],
     "language": "python",
     "metadata": {},
     "outputs": [],
     "prompt_number": 62
    },
    {
     "cell_type": "code",
     "collapsed": false,
     "input": [],
     "language": "python",
     "metadata": {},
     "outputs": []
    }
   ],
   "metadata": {}
  }
 ]
}