{
 "metadata": {
  "name": ""
 },
 "nbformat": 3,
 "nbformat_minor": 0,
 "worksheets": [
  {
   "cells": [
    {
     "cell_type": "code",
     "collapsed": false,
     "input": [
      "import sys\n",
      "sys.path.append(\"/home/chase/projects/net-queue/src/python\")\n",
      "from qnet_refactor import *"
     ],
     "language": "python",
     "metadata": {},
     "outputs": [],
     "prompt_number": 1
    },
    {
     "cell_type": "code",
     "collapsed": false,
     "input": [
      "params = parameters(\"/home/chase/projects/net-queue/src/python/test/busparams.txt\")\n",
      "QNet = blockfaceNet(params, stats=[\"utilization\"])"
     ],
     "language": "python",
     "metadata": {},
     "outputs": [],
     "prompt_number": 2
    },
    {
     "cell_type": "code",
     "collapsed": false,
     "input": [
      "probObs = 0.2\n",
      "rejects = 0\n",
      "\n",
      "while QNet.timer < QNet.params.SIMULATION_TIME:\n",
      "    currently_arriving_blocks = [ j for j, x in enumerate(list(QNet.new_arrival_timer)) if x < QNet.params.TIME_RESOLUTION ]\n",
      "    if len(currently_arriving_blocks) > 0:\n",
      "        for i in currently_arriving_blocks:\n",
      "            actionProb = np.random.uniform(0,1)\n",
      "            blockindex = QNet.injection_map[i]\n",
      "            if actionProb < probObs:\n",
      "                QNet.bface[blockindex].exogenous += 1\n",
      "                QNet.carIndex += 1\n",
      "                QNet.cars[QNet.carIndex] = car(QNet.carIndex)\n",
      "                QNet.park(blockindex, QNet.carIndex)\n",
      "            if actionProb >= probObs:\n",
      "                #observe and then join or quit\n",
      "                available_spots = [ j for j, x in enumerate(QNet.all_spots[blockindex]) if x <= QNet.bface[blockindex].renege_rate + QNet.params.TIME_RESOLUTION ]\n",
      "                if len(available_spots) > 0:\n",
      "                    QNet.bface[blockindex].exogenous += 1\n",
      "                    QNet.carIndex += 1\n",
      "                    QNet.cars[QNet.carIndex] = car(QNet.carIndex)\n",
      "                    QNet.park(blockindex, QNet.carIndex)\n",
      "                else:\n",
      "                    rejects += 1\n",
      "            next_arrival_time = np.random.exponential(QNet.bface[blockindex].arrival_rate)\n",
      "            QNet.new_arrival_timer[i] = next_arrival_time \n",
      "            \n",
      "        for origin in QNet.bface.keys():\n",
      "            for dest in range(len(QNet.bface[origin].neighbors)):\n",
      "\t            destblock = QNet.bface[origin].neighbors[dest][1]\n",
      "\t            if len(QNet.streets[origin][dest]) > 0 and QNet.streets[origin][dest][0][1] < QNet.params.TIME_RESOLUTION:       \n",
      "\t                for driver in QNet.streets[origin][dest]:\n",
      "\t\t                while QNet.streets[origin][dest][0][1] < QNet.params.TIME_RESOLUTION:\n",
      "\t\t                    carIndex = QNet.streets[origin][dest][0][0]\n",
      "\t\t                    QNet.park(destblock, carIndex)\n",
      "\t\t                    QNet.streets[origin][dest].pop(0)\n",
      "\t\t                    if len(QNet.streets[origin][dest]) == 0:\n",
      "\t\t\t                    break\n",
      "    \n",
      "    QNet.step_time()"
     ],
     "language": "python",
     "metadata": {},
     "outputs": [
      {
       "output_type": "stream",
       "stream": "stdout",
       "text": [
        "0% complete\n",
        "10% complete"
       ]
      },
      {
       "output_type": "stream",
       "stream": "stdout",
       "text": [
        "\n",
        "20% complete"
       ]
      },
      {
       "output_type": "stream",
       "stream": "stdout",
       "text": [
        "\n",
        "30% complete"
       ]
      },
      {
       "output_type": "stream",
       "stream": "stdout",
       "text": [
        "\n",
        "40% complete"
       ]
      },
      {
       "output_type": "stream",
       "stream": "stdout",
       "text": [
        "\n",
        "50% complete"
       ]
      },
      {
       "output_type": "stream",
       "stream": "stdout",
       "text": [
        "\n",
        "60% complete"
       ]
      },
      {
       "output_type": "stream",
       "stream": "stdout",
       "text": [
        "\n",
        "70% complete"
       ]
      },
      {
       "output_type": "stream",
       "stream": "stdout",
       "text": [
        "\n",
        "80% complete"
       ]
      },
      {
       "output_type": "stream",
       "stream": "stdout",
       "text": [
        "\n",
        "90% complete"
       ]
      },
      {
       "output_type": "stream",
       "stream": "stdout",
       "text": [
        "\n",
        "100% complete"
       ]
      },
      {
       "output_type": "stream",
       "stream": "stdout",
       "text": [
        "\n"
       ]
      }
     ],
     "prompt_number": 3
    },
    {
     "cell_type": "code",
     "collapsed": false,
     "input": [
      "QNet.params.NUM_SPOTS"
     ],
     "language": "python",
     "metadata": {},
     "outputs": [
      {
       "metadata": {},
       "output_type": "pyout",
       "prompt_number": 7,
       "text": [
        "array([[ 5.,  0.,  0.],\n",
        "       [ 0.,  5.,  0.],\n",
        "       [ 0.,  0.,  5.]])"
       ]
      }
     ],
     "prompt_number": 7
    },
    {
     "cell_type": "code",
     "collapsed": false,
     "input": [
      "while QNet.timer < QNet.params.SIMULATION_TIME:\n",
      "    QNet.step_time()"
     ],
     "language": "python",
     "metadata": {},
     "outputs": [
      {
       "output_type": "stream",
       "stream": "stdout",
       "text": [
        "0% complete\n",
        "10% complete"
       ]
      },
      {
       "output_type": "stream",
       "stream": "stdout",
       "text": [
        "\n",
        "20% complete"
       ]
      },
      {
       "output_type": "stream",
       "stream": "stdout",
       "text": [
        "\n",
        "30% complete"
       ]
      },
      {
       "output_type": "stream",
       "stream": "stdout",
       "text": [
        "\n",
        "40% complete"
       ]
      },
      {
       "output_type": "stream",
       "stream": "stdout",
       "text": [
        "\n",
        "50% complete"
       ]
      },
      {
       "output_type": "stream",
       "stream": "stdout",
       "text": [
        "\n",
        "60% complete"
       ]
      },
      {
       "output_type": "stream",
       "stream": "stdout",
       "text": [
        "\n",
        "70% complete"
       ]
      },
      {
       "output_type": "stream",
       "stream": "stdout",
       "text": [
        "\n",
        "80% complete"
       ]
      },
      {
       "output_type": "stream",
       "stream": "stdout",
       "text": [
        "\n",
        "90% complete"
       ]
      },
      {
       "output_type": "stream",
       "stream": "stdout",
       "text": [
        "\n",
        "100% complete"
       ]
      },
      {
       "output_type": "stream",
       "stream": "stdout",
       "text": [
        "\n"
       ]
      }
     ],
     "prompt_number": 5
    },
    {
     "cell_type": "code",
     "collapsed": false,
     "input": [
      "QNet.streets"
     ],
     "language": "python",
     "metadata": {},
     "outputs": [
      {
       "metadata": {},
       "output_type": "pyout",
       "prompt_number": 6,
       "text": [
        "{0: [[]], 1: [[]], 2: [[], []]}"
       ]
      }
     ],
     "prompt_number": 6
    },
    {
     "cell_type": "code",
     "collapsed": false,
     "input": [
      "QNet.bface[2].neighbor_streets"
     ],
     "language": "python",
     "metadata": {},
     "outputs": [
      {
       "metadata": {},
       "output_type": "pyout",
       "prompt_number": 7,
       "text": [
        "{0: <qnet_refactor.street instance at 0x7f2ff98b7050>,\n",
        " 1: <qnet_refactor.street instance at 0x7f2ff98b7098>}"
       ]
      }
     ],
     "prompt_number": 7
    },
    {
     "cell_type": "code",
     "collapsed": false,
     "input": [
      "blocks = [j for j, x in enumerate(QNet.params.ROAD_NETWORK[1]) if x == 1]\n",
      "ids = [i for i in range(len(blocks))]\n",
      "neighbors = zip(ids, blocks)\n",
      "neighbors"
     ],
     "language": "python",
     "metadata": {},
     "outputs": [
      {
       "metadata": {},
       "output_type": "pyout",
       "prompt_number": 8,
       "text": [
        "[(0, 2)]"
       ]
      }
     ],
     "prompt_number": 8
    },
    {
     "cell_type": "code",
     "collapsed": false,
     "input": [
      "QNet.cars[0] = car(0)\n",
      "QNet.cars[1] = car(1)\n",
      "QNet.cars[2] = car(2)\n",
      "QNet.cars[3] = car(3)\n",
      "QNet.cars[4] = car(4)\n",
      "QNet.cars[5] = car(5)\n",
      "QNet.cars[6] = car(6)\n",
      "\n",
      "QNet.park(0, 0)"
     ],
     "language": "python",
     "metadata": {},
     "outputs": [],
     "prompt_number": 9
    },
    {
     "cell_type": "code",
     "collapsed": false,
     "input": [
      "QNet.park(0,1)\n",
      "QNet.all_spots[0]"
     ],
     "language": "python",
     "metadata": {},
     "outputs": [
      {
       "metadata": {},
       "output_type": "pyout",
       "prompt_number": 10,
       "text": [
        "array([ 0.49253446,  0.32149396])"
       ]
      }
     ],
     "prompt_number": 10
    },
    {
     "cell_type": "code",
     "collapsed": false,
     "input": [
      "QNet.park(0,2)"
     ],
     "language": "python",
     "metadata": {},
     "outputs": [],
     "prompt_number": 10
    },
    {
     "cell_type": "code",
     "collapsed": false,
     "input": [
      "QNet.park(0, 3)\n",
      "QNet.step_time()\n",
      "QNet.streets"
     ],
     "language": "python",
     "metadata": {},
     "outputs": [
      {
       "metadata": {},
       "output_type": "pyout",
       "prompt_number": 12,
       "text": [
        "{0: [[(3, 0.999)]], 1: [[]], 2: [[], []]}"
       ]
      }
     ],
     "prompt_number": 12
    },
    {
     "cell_type": "code",
     "collapsed": false,
     "input": [
      "QNet.park(2, 4)"
     ],
     "language": "python",
     "metadata": {},
     "outputs": [],
     "prompt_number": 13
    },
    {
     "cell_type": "code",
     "collapsed": false,
     "input": [
      "QNet.park(2, 5)\n",
      "QNet.park(2, 6)"
     ],
     "language": "python",
     "metadata": {},
     "outputs": [],
     "prompt_number": 14
    },
    {
     "cell_type": "code",
     "collapsed": false,
     "input": [
      "QNet.streets"
     ],
     "language": "python",
     "metadata": {},
     "outputs": [
      {
       "metadata": {},
       "output_type": "pyout",
       "prompt_number": 15,
       "text": [
        "{0: [[(3, 0.999)]], 1: [[]], 2: [[], [(6, 1.0)]]}"
       ]
      }
     ],
     "prompt_number": 15
    },
    {
     "cell_type": "code",
     "collapsed": false,
     "input": [
      "QNet.all_spots"
     ],
     "language": "python",
     "metadata": {},
     "outputs": [
      {
       "metadata": {},
       "output_type": "pyout",
       "prompt_number": 16,
       "text": [
        "[array([ 0.49153446,  0.32049396]),\n",
        " array([-100.001, -100.001]),\n",
        " array([ 0.04119385,  0.12124772])]"
       ]
      }
     ],
     "prompt_number": 16
    },
    {
     "cell_type": "code",
     "collapsed": false,
     "input": [
      "QNet.step_time()"
     ],
     "language": "python",
     "metadata": {},
     "outputs": [],
     "prompt_number": 17
    },
    {
     "cell_type": "code",
     "collapsed": false,
     "input": [
      "QNet.all_spots"
     ],
     "language": "python",
     "metadata": {},
     "outputs": [
      {
       "metadata": {},
       "output_type": "pyout",
       "prompt_number": 18,
       "text": [
        "[array([ 0.49053446,  0.31949396]),\n",
        " array([-100.002, -100.002]),\n",
        " array([ 0.04019385,  0.12024772])]"
       ]
      }
     ],
     "prompt_number": 18
    },
    {
     "cell_type": "code",
     "collapsed": false,
     "input": [
      "import numpy as np\n",
      "\n",
      "np.random.uniform(0,1)"
     ],
     "language": "python",
     "metadata": {},
     "outputs": [
      {
       "metadata": {},
       "output_type": "pyout",
       "prompt_number": 2,
       "text": [
        "0.47684823371692153"
       ]
      }
     ],
     "prompt_number": 2
    },
    {
     "cell_type": "code",
     "collapsed": false,
     "input": [
      "np.random.randint(0,3)"
     ],
     "language": "python",
     "metadata": {},
     "outputs": [
      {
       "metadata": {},
       "output_type": "pyout",
       "prompt_number": 20,
       "text": [
        "2"
       ]
      }
     ],
     "prompt_number": 20
    },
    {
     "cell_type": "code",
     "collapsed": false,
     "input": [
      "np.zeros((10,1))[1,1]"
     ],
     "language": "python",
     "metadata": {},
     "outputs": [
      {
       "ename": "IndexError",
       "evalue": "index 1 is out of bounds for axis 1 with size 1",
       "output_type": "pyerr",
       "traceback": [
        "\u001b[0;31m---------------------------------------------------------------------------\u001b[0m\n\u001b[0;31mIndexError\u001b[0m                                Traceback (most recent call last)",
        "\u001b[0;32m<ipython-input-13-9fd924a1cbbc>\u001b[0m in \u001b[0;36m<module>\u001b[0;34m()\u001b[0m\n\u001b[0;32m----> 1\u001b[0;31m \u001b[0mnp\u001b[0m\u001b[0;34m.\u001b[0m\u001b[0mzeros\u001b[0m\u001b[0;34m(\u001b[0m\u001b[0;34m(\u001b[0m\u001b[0;36m10\u001b[0m\u001b[0;34m,\u001b[0m\u001b[0;36m1\u001b[0m\u001b[0;34m)\u001b[0m\u001b[0;34m)\u001b[0m\u001b[0;34m[\u001b[0m\u001b[0;36m1\u001b[0m\u001b[0;34m,\u001b[0m\u001b[0;36m1\u001b[0m\u001b[0;34m]\u001b[0m\u001b[0;34m\u001b[0m\u001b[0m\n\u001b[0m",
        "\u001b[0;31mIndexError\u001b[0m: index 1 is out of bounds for axis 1 with size 1"
       ]
      }
     ],
     "prompt_number": 13
    },
    {
     "cell_type": "code",
     "collapsed": false,
     "input": [],
     "language": "python",
     "metadata": {},
     "outputs": []
    }
   ],
   "metadata": {}
  }
 ]
}