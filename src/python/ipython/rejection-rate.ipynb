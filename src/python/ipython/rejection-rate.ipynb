{
 "metadata": {
  "name": ""
 },
 "nbformat": 3,
 "nbformat_minor": 0,
 "worksheets": [
  {
   "cells": [
    {
     "cell_type": "code",
     "collapsed": false,
     "input": [
      "import sys\n",
      "sys.path.append(\"/home/chase/projects/net-queue/src/python\")\n",
      "from qnet_refactor import *\n",
      "\n",
      "params = parameters(\"/home/chase/projects/net-queue/src/python/ipython/2busparams.txt\")\n"
     ],
     "language": "python",
     "metadata": {},
     "outputs": [],
     "prompt_number": 1
    },
    {
     "cell_type": "code",
     "collapsed": false,
     "input": [
      "QNet = blockfaceNet(params, stats=[\"utilization\", \"queue-length\"])\n",
      "\n",
      "while QNet.timer < QNet.params.SIMULATION_TIME:\n",
      "    currently_arriving_blocks = [ j for j, x in enumerate(list(QNet.new_arrival_timer)) if x < QNet.params.TIME_RESOLUTION ]\n",
      "    if len(currently_arriving_blocks) > 0:\n",
      "        for i in currently_arriving_blocks:\n",
      "\t        blockindex = QNet.injection_map[i]\n",
      "\t        next_arrival_time = np.random.exponential(QNet.bface[blockindex].arrival_rate)\n",
      "\t        QNet.new_arrival_timer[i] = next_arrival_time \n",
      "\t        QNet.bface[blockindex].exogenous += 1\n",
      "\t        QNet.carIndex += 1\n",
      "\t        QNet.cars[QNet.carIndex] = car(QNet.carIndex)\n",
      "\t        QNet.park(blockindex, QNet.carIndex)\n",
      "    \n",
      "    for origin in QNet.bface.keys():\n",
      "        for dest in range(len(QNet.bface[origin].neighbors)):\n",
      "\t        destblock = QNet.bface[origin].neighbors[dest][1]\n",
      "\t        if len(QNet.streets[origin][dest]) > 0 and QNet.streets[origin][dest][0][1] < QNet.params.TIME_RESOLUTION:       \n",
      "\t            for driver in QNet.streets[origin][dest]:\n",
      "\t\t            while QNet.streets[origin][dest][0][1] < QNet.params.TIME_RESOLUTION:\n",
      "\t\t                carIndex = QNet.streets[origin][dest][0][0]\n",
      "\t\t                QNet.park(destblock, carIndex)\n",
      "\t\t                QNet.streets[origin][dest].pop(0)\n",
      "\t\t                if len(QNet.streets[origin][dest]) == 0:\n",
      "\t\t\t                break\n",
      "    \n",
      "    QNet.step_time()"
     ],
     "language": "python",
     "metadata": {},
     "outputs": [
      {
       "output_type": "stream",
       "stream": "stdout",
       "text": [
        "0% complete\n",
        "10% complete"
       ]
      },
      {
       "output_type": "stream",
       "stream": "stdout",
       "text": [
        "\n",
        "20% complete"
       ]
      },
      {
       "output_type": "stream",
       "stream": "stdout",
       "text": [
        "\n",
        "30% complete"
       ]
      },
      {
       "output_type": "stream",
       "stream": "stdout",
       "text": [
        "\n",
        "40% complete"
       ]
      },
      {
       "output_type": "stream",
       "stream": "stdout",
       "text": [
        "\n",
        "50% complete"
       ]
      },
      {
       "output_type": "stream",
       "stream": "stdout",
       "text": [
        "\n",
        "60% complete"
       ]
      },
      {
       "output_type": "stream",
       "stream": "stdout",
       "text": [
        "\n",
        "70% complete"
       ]
      },
      {
       "output_type": "stream",
       "stream": "stdout",
       "text": [
        "\n",
        "80% complete"
       ]
      },
      {
       "output_type": "stream",
       "stream": "stdout",
       "text": [
        "\n",
        "90% complete"
       ]
      },
      {
       "output_type": "stream",
       "stream": "stdout",
       "text": [
        "\n",
        "100% complete"
       ]
      },
      {
       "output_type": "stream",
       "stream": "stdout",
       "text": [
        "\n"
       ]
      }
     ],
     "prompt_number": 2
    },
    {
     "cell_type": "code",
     "collapsed": false,
     "input": [
      "QNet.all_spots"
     ],
     "language": "python",
     "metadata": {},
     "outputs": [
      {
       "metadata": {},
       "output_type": "pyout",
       "prompt_number": 3,
       "text": [
        "[array([ 1.13390312]), array([ 0.10088509])]"
       ]
      }
     ],
     "prompt_number": 3
    },
    {
     "cell_type": "code",
     "collapsed": false,
     "input": [
      "QNet.total_flow"
     ],
     "language": "python",
     "metadata": {},
     "outputs": [
      {
       "metadata": {},
       "output_type": "pyout",
       "prompt_number": 4,
       "text": [
        "array([[     0.,  12361.],\n",
        "       [ 12295.,      0.]])"
       ]
      }
     ],
     "prompt_number": 4
    },
    {
     "cell_type": "code",
     "collapsed": false,
     "input": [
      "len(QNet.cars.keys())"
     ],
     "language": "python",
     "metadata": {},
     "outputs": [
      {
       "metadata": {},
       "output_type": "pyout",
       "prompt_number": 5,
       "text": [
        "1702"
       ]
      }
     ],
     "prompt_number": 5
    },
    {
     "cell_type": "code",
     "collapsed": false,
     "input": [],
     "language": "python",
     "metadata": {},
     "outputs": [],
     "prompt_number": 75
    },
    {
     "cell_type": "code",
     "collapsed": false,
     "input": [
      "QNet.bface[0].served"
     ],
     "language": "python",
     "metadata": {},
     "outputs": [
      {
       "metadata": {},
       "output_type": "pyout",
       "prompt_number": 7,
       "text": [
        "816"
       ]
      }
     ],
     "prompt_number": 7
    },
    {
     "cell_type": "code",
     "collapsed": false,
     "input": [
      "QNet.params.DRIVE_TIME"
     ],
     "language": "python",
     "metadata": {},
     "outputs": [
      {
       "metadata": {},
       "output_type": "pyout",
       "prompt_number": 8,
       "text": [
        "1.0"
       ]
      }
     ],
     "prompt_number": 8
    },
    {
     "cell_type": "code",
     "collapsed": false,
     "input": [
      "QNet.cars[66].total_drive_time"
     ],
     "language": "python",
     "metadata": {},
     "outputs": [
      {
       "metadata": {},
       "output_type": "pyout",
       "prompt_number": 9,
       "text": [
        "0.0"
       ]
      }
     ],
     "prompt_number": 9
    },
    {
     "cell_type": "code",
     "collapsed": false,
     "input": [
      "np.mean(np.array(QNet.bface[0].queue_length) + np.array(QNet.bface[1].queue_length))"
     ],
     "language": "python",
     "metadata": {},
     "outputs": [
      {
       "metadata": {},
       "output_type": "pyout",
       "prompt_number": 14,
       "text": [
        "24.544554455445546"
       ]
      }
     ],
     "prompt_number": 14
    },
    {
     "cell_type": "code",
     "collapsed": false,
     "input": [],
     "language": "python",
     "metadata": {},
     "outputs": [],
     "prompt_number": 75
    },
    {
     "cell_type": "code",
     "collapsed": false,
     "input": [],
     "language": "python",
     "metadata": {},
     "outputs": [],
     "prompt_number": 75
    },
    {
     "cell_type": "code",
     "collapsed": false,
     "input": [],
     "language": "python",
     "metadata": {},
     "outputs": [],
     "prompt_number": 75
    },
    {
     "cell_type": "code",
     "collapsed": false,
     "input": [
      "\n"
     ],
     "language": "python",
     "metadata": {},
     "outputs": [],
     "prompt_number": 75
    },
    {
     "cell_type": "markdown",
     "metadata": {},
     "source": [
      "Below is an M/M/1/1 queue with complete rejection. Curious about the rate of rejection when the queue is full, and what sort of function of the arrival rate this is"
     ]
    },
    {
     "cell_type": "code",
     "collapsed": false,
     "input": [
      "import numpy as np\n",
      "\n",
      "lambd = 20.0\n",
      "mu = 8.0\n",
      "sim_time = 50000.0\n",
      "sim_res = 0.0001\n",
      "\n",
      "queue = []\n",
      "server = 0.0\n",
      "arrival_timer = 0.0\n",
      "counter = 0.0\n",
      "\n",
      "num_in_system = []\n",
      "queue_len = []\n",
      "\n",
      "time_since_last_reject = []\n",
      "queue_arrival_timer = 0.0\n",
      "time_since_last_arrival = []\n",
      "queue_rejection_timer = 0.0\n",
      "time_since_last_service = []\n",
      "last_service_timer = 0.0\n",
      "\n",
      "while counter <= sim_time:\n",
      "    if arrival_timer < sim_res:\n",
      "        service_time = np.random.exponential(mu)\n",
      "        arrival_timer = np.random.exponential(lambd)\n",
      "        \n",
      "        time_since_last_arrival.append(queue_arrival_timer)\n",
      "        queue_arrival_timer = 0.0\n",
      "        \n",
      "        if server < sim_res:\n",
      "            server = service_time\n",
      "            time_since_last_service.append(last_service_timer)\n",
      "            last_service_timer = 0.0\n",
      "        else:\n",
      "            time_since_last_reject.append(queue_rejection_timer)\n",
      "            queue_rejection_timer = 0.0\n",
      "    \n",
      "    \n",
      "    \n",
      "    \"\"\"\n",
      "    if counter % (sim_time / 1000) <= sim_res:\n",
      "        queue_len.append(len(queue))\n",
      "        if server > sim_res:\n",
      "            num_in_system.append(1 + len(queue))\n",
      "        else:\n",
      "            num_in_system.append(len(queue))\n",
      "    \"\"\"\n",
      "    last_service_timer += sim_res\n",
      "    queue_arrival_timer += sim_res\n",
      "    queue_rejection_timer += sim_res        \n",
      "    arrival_timer -= sim_res\n",
      "    server -= sim_res\n",
      "    counter += sim_res"
     ],
     "language": "python",
     "metadata": {},
     "outputs": [],
     "prompt_number": 7
    },
    {
     "cell_type": "code",
     "collapsed": false,
     "input": [
      "np.mean(time_since_last_reject)"
     ],
     "language": "python",
     "metadata": {},
     "outputs": [
      {
       "metadata": {},
       "output_type": "pyout",
       "prompt_number": 8,
       "text": [
        "73.646610915176922"
       ]
      }
     ],
     "prompt_number": 8
    },
    {
     "cell_type": "code",
     "collapsed": false,
     "input": [
      "np.mean(time_since_last_service)"
     ],
     "language": "python",
     "metadata": {},
     "outputs": [
      {
       "metadata": {},
       "output_type": "pyout",
       "prompt_number": 9,
       "text": [
        "28.17090648271806"
       ]
      }
     ],
     "prompt_number": 9
    },
    {
     "cell_type": "markdown",
     "metadata": {},
     "source": [
      "Below I'm binning and normalizing interarrival times and fit an exopnential distribution according to the mean of the \"time_since_last_reject\" interarrivals, they appear to fit, but it's unclear if this is a convenient estimation for a simple queue or if it is indeed Markovian."
     ]
    },
    {
     "cell_type": "code",
     "collapsed": false,
     "input": [
      "numbins = 200\n",
      "histo = np.histogram(np.array(time_since_last_service), bins = numbins)\n",
      "deltax = histo[1][1] - histo[1][0]\n",
      "xaxis = np.zeros(numbins)\n",
      "for i in range(numbins):\n",
      "    xaxis[i] = i*deltax\n",
      "histonorm = histo[0]/float(sum(histo[0]))\n",
      "    \n",
      "linearized = np.log(histo[0])\n",
      "np.isinf(linearized)\n",
      "linearized[np.isinf(linearized)] = 0.0\n",
      "linearized\n",
      "\n",
      "A = np.vstack([xaxis, np.ones(len(xaxis))]).T\n",
      "m, c = np.linalg.lstsq(A, linearized)[0]\n",
      "\n",
      "meanparam = np.mean(time_since_last_service)\n",
      "fitvals = np.zeros(numbins)\n",
      "meanparamfitvals = np.zeros(numbins)\n",
      "sumvals = np.zeros(numbins)\n",
      "for i in range(numbins):\n",
      "    fitvals[i] = np.exp(c) * np.exp((m) * xaxis[i]) \n",
      "    meanparamfitvals[i] = (1.0/meanparam) * np.exp((-1.0 * (1.0/meanparam)) * xaxis[i])\n",
      "    sumvals[i] = (1.0/lambd)*(1.0/mu) *( (np.exp((-1.0 * (1.0/lambd)) * xaxis[i]) / (1.0/mu - 1.0/lambd)) + (np.exp((-1.0 * (1.0/mu)) * xaxis[i]) / (1.0/lambd - 1.0/mu)))"
     ],
     "language": "python",
     "metadata": {},
     "outputs": [],
     "prompt_number": 12
    },
    {
     "cell_type": "code",
     "collapsed": false,
     "input": [
      "import matplotlib\n",
      "import matplotlib.pyplot as plt\n",
      "\n",
      "plt.plot(xaxis, histonorm)\n",
      "#plt.plot(xaxis, fitvals)\n",
      "plt.plot(xaxis, meanparamfitvals)\n",
      "plt.plot(xaxis, sumvals)\n",
      "plt.show()"
     ],
     "language": "python",
     "metadata": {},
     "outputs": [],
     "prompt_number": 13
    },
    {
     "cell_type": "markdown",
     "metadata": {},
     "source": [
      "Sanity check with queue arrival rate"
     ]
    },
    {
     "cell_type": "code",
     "collapsed": false,
     "input": [
      "numbins = 200\n",
      "histo = np.histogram(np.array(time_since_last_arrival), bins = numbins)\n",
      "deltax = histo[1][1] - histo[1][0]\n",
      "xaxis = np.zeros(numbins)\n",
      "for i in range(numbins):\n",
      "    xaxis[i] = i*deltax\n",
      "histonorm = histo[0]/float(sum(histo[0]))\n",
      "    \n",
      "meanparam = np.mean(time_since_last_arrival)\n",
      "fitvals = np.zeros(numbins)    \n",
      "for i in range(numbins):\n",
      "    fitvals[i] = (1.0/meanparam) * np.exp((-1.0 * (1.0/meanparam)) * xaxis[i])    \n",
      "\"\"\"   \n",
      "from scipy.stats import expon\n",
      "a = expon.fit(histonorm)\n",
      "\"\"\""
     ],
     "language": "python",
     "metadata": {},
     "outputs": [
      {
       "metadata": {},
       "output_type": "pyout",
       "prompt_number": 70,
       "text": [
        "'   \\nfrom scipy.stats import expon\\na = expon.fit(histonorm)\\n'"
       ]
      }
     ],
     "prompt_number": 70
    },
    {
     "cell_type": "code",
     "collapsed": false,
     "input": [
      "plt.plot(xaxis, histonorm)\n",
      "plt.plot(xaxis, fitvals)\n",
      "#plt.plot(xaxis, meanparamfitvals)\n",
      "plt.show()"
     ],
     "language": "python",
     "metadata": {},
     "outputs": [],
     "prompt_number": 72
    },
    {
     "cell_type": "markdown",
     "metadata": {},
     "source": [
      "Looping through arrival rates to get rejection rates. I'm hoping there's a linear relationship at least when only given 1 server"
     ]
    },
    {
     "cell_type": "code",
     "collapsed": false,
     "input": [
      "timers_rejects = {}\n",
      "\n",
      "lambd = 8.0\n",
      "\n",
      "for jj in range(100):\n",
      "    mu = 8.0\n",
      "    sim_time = 100000.0\n",
      "    sim_res = 0.001\n",
      "\n",
      "    queue = []\n",
      "    server1 = 0.0\n",
      "    server2 = 0.0\n",
      "    arrival_timer = 0.0\n",
      "    counter = 0.0\n",
      "\n",
      "    num_in_system = []\n",
      "    queue_len = []\n",
      "\n",
      "    time_since_last_reject = []\n",
      "    queue_arrival_timer = 0.0\n",
      "    time_since_last_arrival = []\n",
      "    queue_rejection_timer = 0.0\n",
      "    time_since_last_service = []\n",
      "    last_service_timer = 0.0\n",
      "\n",
      "    while counter <= sim_time:\n",
      "        if arrival_timer < sim_res:\n",
      "            service_time = np.random.exponential(mu)\n",
      "            arrival_timer = np.random.exponential(lambd + (0.01 * jj))\n",
      "        \n",
      "            time_since_last_arrival.append(queue_arrival_timer)\n",
      "            queue_arrival_timer = 0.0\n",
      "        \n",
      "            if server1 < sim_res:\n",
      "                server1 = service_time\n",
      "            elif server2 < sim_res:\n",
      "                server2 = service_time\n",
      "            else:\n",
      "                time_since_last_reject.append(queue_rejection_timer)\n",
      "                queue_rejection_timer = 0.0\n",
      "\n",
      "        queue_arrival_timer += sim_res\n",
      "        queue_rejection_timer += sim_res        \n",
      "        arrival_timer -= sim_res\n",
      "        server1 -= sim_res\n",
      "        server2 -= sim_res\n",
      "        counter += sim_res\n",
      "    \n",
      "    timers_rejects[jj] = time_since_last_reject"
     ],
     "language": "python",
     "metadata": {},
     "outputs": [],
     "prompt_number": 91
    },
    {
     "cell_type": "code",
     "collapsed": false,
     "input": [
      "timers_rejects_avgs = {}\n",
      "avgs = []\n",
      "for key in sorted(timers_rejects.keys()):\n",
      "    avgs.append(np.mean(timers_rejects[key]))\n",
      "    timers_rejects_avgs[key] = np.mean(timers_rejects[key])\n",
      "\n",
      "plt.plot(sorted(timers_rejects_avgs.keys()), avgs)\n",
      "plt.show()\n"
     ],
     "language": "python",
     "metadata": {},
     "outputs": [],
     "prompt_number": 92
    },
    {
     "cell_type": "code",
     "collapsed": false,
     "input": [
      "import pickle\n",
      "\n",
      "outFile = open(\"timer_rejects_2srv.pck\", 'w')\n",
      "pickle.dump(timers_rejects, outFile)"
     ],
     "language": "python",
     "metadata": {},
     "outputs": [],
     "prompt_number": 95
    },
    {
     "cell_type": "code",
     "collapsed": false,
     "input": [
      "xaxis = np.zeros(len(timers_rejects_avgs.keys()))\n",
      "for i in range(len(xaxis)):\n",
      "    xaxis[i] = lambd + i*0.01\n",
      "\n",
      "A = np.vstack([xaxis, np.ones(len(xaxis))]).T\n",
      "m, c = np.linalg.lstsq(A, avgs)[0]\n",
      "\n",
      "fit = np.zeros(len(timers_rejects_avgs.keys()))\n",
      "for i in range(len(xaxis)):\n",
      "    fit[i] = m*xaxis[i] + c\n",
      "\n",
      "plt.plot(xaxis, avgs)\n",
      "plt.plot(xaxis, fit)\n",
      "plt.show()\n"
     ],
     "language": "python",
     "metadata": {},
     "outputs": [],
     "prompt_number": 93
    },
    {
     "cell_type": "code",
     "collapsed": false,
     "input": [
      "import pickle\n",
      "import numpy as np\n",
      "import matplotlib.pyplot as plt\n",
      "\n",
      "inFile1 = open(\"timer_rejects_1srv.pck\", 'r')\n",
      "data1 = pickle.load(inFile1)\n",
      "\n",
      "xaxis1 = np.zeros(len(data1.keys()))\n",
      "for i in range(len(xaxis1)):\n",
      "    xaxis1[i] = 8.0 + i*0.01\n",
      "    \n",
      "avgs1 = []\n",
      "for key in sorted(data1.keys()):\n",
      "    avgs1.append(np.mean(data1[key]))\n",
      "    \n",
      "A = np.vstack([xaxis1, np.ones(len(xaxis1))]).T\n",
      "m, c = np.linalg.lstsq(A, avgs1)[0]\n",
      "\n",
      "fit = np.zeros(len(data1.keys()))\n",
      "for i in range(len(xaxis1)):\n",
      "    fit[i] = m*xaxis1[i] + c\n",
      "\n",
      "plt.plot(xaxis1, avgs1)\n",
      "plt.plot(xaxis1, fit)\n",
      "plt.xlabel(\"lambda^-1\")\n",
      "plt.ylabel(\"lambda_star^-1\")\n",
      "plt.show()"
     ],
     "language": "python",
     "metadata": {},
     "outputs": [],
     "prompt_number": "*"
    },
    {
     "cell_type": "code",
     "collapsed": false,
     "input": [
      "numbins = 200\n",
      "histo = np.histogram(np.array(data1[20]), bins = numbins)\n",
      "deltax = histo[1][1] - histo[1][0]\n",
      "xaxis = np.zeros(numbins)\n",
      "for i in range(numbins):\n",
      "    xaxis[i] = i*deltax\n",
      "histonorm = histo[0]/float(sum(histo[0]))\n",
      "    \n",
      "linearized = np.log(histo[0])\n",
      "np.isinf(linearized)\n",
      "linearized[np.isinf(linearized)] = 0.0\n",
      "linearized\n",
      "\n",
      "A = np.vstack([xaxis, np.ones(len(xaxis))]).T\n",
      "m, c = np.linalg.lstsq(A, linearized)[0]\n",
      "\n",
      "meanparam = np.mean(data1[20])\n",
      "fitvals = np.zeros(numbins)\n",
      "meanparamfitvals = np.zeros(numbins)\n",
      "for i in range(numbins):\n",
      "    fitvals[i] = np.exp(c) * np.exp((m) * xaxis[i]) \n",
      "    meanparamfitvals[i] = (1.0/meanparam) * np.exp((-1.0 * (1.0/meanparam)) * xaxis[i])\n",
      "\n",
      "plt.plot(xaxis, histonorm)\n",
      "plt.plot(xaxis, meanparamfitvals)\n",
      "#plt.plot(xaxis, meanparamfitvals)\n",
      "plt.show()"
     ],
     "language": "python",
     "metadata": {},
     "outputs": [],
     "prompt_number": "*"
    },
    {
     "cell_type": "code",
     "collapsed": false,
     "input": [],
     "language": "python",
     "metadata": {},
     "outputs": []
    }
   ],
   "metadata": {}
  }
 ]
}