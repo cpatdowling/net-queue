{
 "metadata": {
  "name": ""
 },
 "nbformat": 3,
 "nbformat_minor": 0,
 "worksheets": [
  {
   "cells": [
    {
     "cell_type": "code",
     "collapsed": false,
     "input": [
      "import sys\n",
      "sys.path.append(\"/home/chase/projects/net-queue/src/python\")\n",
      "from qnet_refactor import *\n",
      "\n",
      "params = parameters(\"/home/chase/projects/net-queue/src/python/ipython/2busparams.txt\")\n"
     ],
     "language": "python",
     "metadata": {},
     "outputs": [],
     "prompt_number": 1
    },
    {
     "cell_type": "code",
     "collapsed": false,
     "input": [
      "QNet = blockfaceNet(params, stats=[\"utilization\", \"queue-length\"])\n",
      "\n",
      "while QNet.timer < QNet.params.SIMULATION_TIME:\n",
      "    currently_arriving_blocks = [ j for j, x in enumerate(list(QNet.new_arrival_timer)) if x < QNet.params.TIME_RESOLUTION ]\n",
      "    if len(currently_arriving_blocks) > 0:\n",
      "        for i in currently_arriving_blocks:\n",
      "\t        blockindex = QNet.injection_map[i]\n",
      "\t        next_arrival_time = np.random.exponential(QNet.bface[blockindex].arrival_rate)\n",
      "\t        QNet.new_arrival_timer[i] = next_arrival_time \n",
      "\t        QNet.bface[blockindex].exogenous += 1\n",
      "\t        QNet.carIndex += 1\n",
      "\t        QNet.cars[QNet.carIndex] = car(QNet.carIndex)\n",
      "\t        QNet.park(blockindex, QNet.carIndex)\n",
      "    \n",
      "    for origin in QNet.bface.keys():\n",
      "        for dest in range(len(QNet.bface[origin].neighbors)):\n",
      "\t        destblock = QNet.bface[origin].neighbors[dest][1]\n",
      "\t        if len(QNet.streets[origin][dest]) > 0 and QNet.streets[origin][dest][0][1] < QNet.params.TIME_RESOLUTION:       \n",
      "\t            for driver in QNet.streets[origin][dest]:\n",
      "\t\t            while QNet.streets[origin][dest][0][1] < QNet.params.TIME_RESOLUTION:\n",
      "\t\t                carIndex = QNet.streets[origin][dest][0][0]\n",
      "\t\t                QNet.park(destblock, carIndex)\n",
      "\t\t                QNet.streets[origin][dest].pop(0)\n",
      "\t\t                if len(QNet.streets[origin][dest]) == 0:\n",
      "\t\t\t                break\n",
      "    \n",
      "    QNet.step_time()"
     ],
     "language": "python",
     "metadata": {},
     "outputs": [
      {
       "output_type": "stream",
       "stream": "stdout",
       "text": [
        "0% complete\n",
        "10% complete"
       ]
      },
      {
       "output_type": "stream",
       "stream": "stdout",
       "text": [
        "\n",
        "20% complete"
       ]
      },
      {
       "output_type": "stream",
       "stream": "stdout",
       "text": [
        "\n",
        "30% complete"
       ]
      },
      {
       "output_type": "stream",
       "stream": "stdout",
       "text": [
        "\n",
        "40% complete"
       ]
      },
      {
       "output_type": "stream",
       "stream": "stdout",
       "text": [
        "\n",
        "50% complete"
       ]
      },
      {
       "output_type": "stream",
       "stream": "stdout",
       "text": [
        "\n",
        "60% complete"
       ]
      },
      {
       "output_type": "stream",
       "stream": "stdout",
       "text": [
        "\n",
        "70% complete"
       ]
      },
      {
       "output_type": "stream",
       "stream": "stdout",
       "text": [
        "\n",
        "80% complete"
       ]
      },
      {
       "output_type": "stream",
       "stream": "stdout",
       "text": [
        "\n",
        "90% complete"
       ]
      },
      {
       "output_type": "stream",
       "stream": "stdout",
       "text": [
        "\n",
        "100% complete"
       ]
      },
      {
       "output_type": "stream",
       "stream": "stdout",
       "text": [
        "\n"
       ]
      }
     ],
     "prompt_number": 2
    },
    {
     "cell_type": "code",
     "collapsed": false,
     "input": [
      "QNet.all_spots"
     ],
     "language": "python",
     "metadata": {},
     "outputs": [
      {
       "metadata": {},
       "output_type": "pyout",
       "prompt_number": 3,
       "text": [
        "[array([ 1.13390312]), array([ 0.10088509])]"
       ]
      }
     ],
     "prompt_number": 3
    },
    {
     "cell_type": "code",
     "collapsed": false,
     "input": [
      "QNet.total_flow"
     ],
     "language": "python",
     "metadata": {},
     "outputs": [
      {
       "metadata": {},
       "output_type": "pyout",
       "prompt_number": 4,
       "text": [
        "array([[     0.,  12361.],\n",
        "       [ 12295.,      0.]])"
       ]
      }
     ],
     "prompt_number": 4
    },
    {
     "cell_type": "code",
     "collapsed": false,
     "input": [
      "len(QNet.cars.keys())"
     ],
     "language": "python",
     "metadata": {},
     "outputs": [
      {
       "metadata": {},
       "output_type": "pyout",
       "prompt_number": 5,
       "text": [
        "1702"
       ]
      }
     ],
     "prompt_number": 5
    },
    {
     "cell_type": "code",
     "collapsed": false,
     "input": [],
     "language": "python",
     "metadata": {},
     "outputs": [],
     "prompt_number": 75
    },
    {
     "cell_type": "code",
     "collapsed": false,
     "input": [
      "QNet.bface[0].served"
     ],
     "language": "python",
     "metadata": {},
     "outputs": [
      {
       "metadata": {},
       "output_type": "pyout",
       "prompt_number": 7,
       "text": [
        "816"
       ]
      }
     ],
     "prompt_number": 7
    },
    {
     "cell_type": "code",
     "collapsed": false,
     "input": [
      "QNet.params.DRIVE_TIME"
     ],
     "language": "python",
     "metadata": {},
     "outputs": [
      {
       "metadata": {},
       "output_type": "pyout",
       "prompt_number": 8,
       "text": [
        "1.0"
       ]
      }
     ],
     "prompt_number": 8
    },
    {
     "cell_type": "code",
     "collapsed": false,
     "input": [
      "QNet.cars[66].total_drive_time"
     ],
     "language": "python",
     "metadata": {},
     "outputs": [
      {
       "metadata": {},
       "output_type": "pyout",
       "prompt_number": 9,
       "text": [
        "0.0"
       ]
      }
     ],
     "prompt_number": 9
    },
    {
     "cell_type": "code",
     "collapsed": false,
     "input": [
      "np.mean(np.array(QNet.bface[0].queue_length) + np.array(QNet.bface[1].queue_length))"
     ],
     "language": "python",
     "metadata": {},
     "outputs": [
      {
       "metadata": {},
       "output_type": "pyout",
       "prompt_number": 14,
       "text": [
        "24.544554455445546"
       ]
      }
     ],
     "prompt_number": 14
    },
    {
     "cell_type": "code",
     "collapsed": false,
     "input": [],
     "language": "python",
     "metadata": {},
     "outputs": [],
     "prompt_number": 75
    },
    {
     "cell_type": "code",
     "collapsed": false,
     "input": [],
     "language": "python",
     "metadata": {},
     "outputs": [],
     "prompt_number": 75
    },
    {
     "cell_type": "code",
     "collapsed": false,
     "input": [],
     "language": "python",
     "metadata": {},
     "outputs": [],
     "prompt_number": 75
    },
    {
     "cell_type": "code",
     "collapsed": false,
     "input": [
      "\n"
     ],
     "language": "python",
     "metadata": {},
     "outputs": [],
     "prompt_number": 75
    },
    {
     "cell_type": "markdown",
     "metadata": {},
     "source": [
      "Below is an M/M/1/1 queue with complete rejection. Curious about the rate of rejection when the queue is full, and what sort of function of the arrival rate this is"
     ]
    },
    {
     "cell_type": "code",
     "collapsed": false,
     "input": [
      "import numpy as np\n",
      "\n",
      "lambd = 20.0\n",
      "mu = 8.0\n",
      "sim_time = 50000.0\n",
      "sim_res = 0.0001\n",
      "\n",
      "queue = []\n",
      "server = 0.0\n",
      "arrival_timer = 0.0\n",
      "counter = 0.0\n",
      "\n",
      "num_in_system = []\n",
      "queue_len = []\n",
      "\n",
      "time_since_last_reject = []\n",
      "queue_arrival_timer = 0.0\n",
      "time_since_last_arrival = []\n",
      "queue_rejection_timer = 0.0\n",
      "time_since_last_service = []\n",
      "last_service_timer = 0.0\n",
      "\n",
      "while counter <= sim_time:\n",
      "    if arrival_timer < sim_res:\n",
      "        service_time = np.random.exponential(mu)\n",
      "        arrival_timer = np.random.exponential(lambd)\n",
      "        \n",
      "        time_since_last_arrival.append(queue_arrival_timer)\n",
      "        queue_arrival_timer = 0.0\n",
      "        \n",
      "        if server < sim_res:\n",
      "            server = service_time\n",
      "            time_since_last_service.append(last_service_timer)\n",
      "            last_service_timer = 0.0\n",
      "        else:\n",
      "            time_since_last_reject.append(queue_rejection_timer)\n",
      "            queue_rejection_timer = 0.0\n",
      "    \n",
      "    \n",
      "    \n",
      "    \"\"\"\n",
      "    if counter % (sim_time / 1000) <= sim_res:\n",
      "        queue_len.append(len(queue))\n",
      "        if server > sim_res:\n",
      "            num_in_system.append(1 + len(queue))\n",
      "        else:\n",
      "            num_in_system.append(len(queue))\n",
      "    \"\"\"\n",
      "    last_service_timer += sim_res\n",
      "    queue_arrival_timer += sim_res\n",
      "    queue_rejection_timer += sim_res        \n",
      "    arrival_timer -= sim_res\n",
      "    server -= sim_res\n",
      "    counter += sim_res"
     ],
     "language": "python",
     "metadata": {},
     "outputs": [],
     "prompt_number": 1
    },
    {
     "cell_type": "code",
     "collapsed": false,
     "input": [
      "np.mean(time_since_last_reject)"
     ],
     "language": "python",
     "metadata": {},
     "outputs": [
      {
       "metadata": {},
       "output_type": "pyout",
       "prompt_number": 2,
       "text": [
        "72.945276059092379"
       ]
      }
     ],
     "prompt_number": 2
    },
    {
     "cell_type": "code",
     "collapsed": false,
     "input": [
      "np.mean(time_since_last_service)"
     ],
     "language": "python",
     "metadata": {},
     "outputs": [
      {
       "metadata": {},
       "output_type": "pyout",
       "prompt_number": 3,
       "text": [
        "27.978220929105628"
       ]
      }
     ],
     "prompt_number": 3
    },
    {
     "cell_type": "code",
     "collapsed": false,
     "input": [
      "(1.0/lambd)*np.exp(-1.0*(1.0/lambd) * (1.0/mu))"
     ],
     "language": "python",
     "metadata": {},
     "outputs": [
      {
       "metadata": {},
       "output_type": "pyout",
       "prompt_number": 4,
       "text": [
        "0.049688474531169737"
       ]
      }
     ],
     "prompt_number": 4
    },
    {
     "cell_type": "code",
     "collapsed": false,
     "input": [
      "0.05 * 28"
     ],
     "language": "python",
     "metadata": {},
     "outputs": [
      {
       "metadata": {},
       "output_type": "pyout",
       "prompt_number": 5,
       "text": [
        "1.4000000000000001"
       ]
      }
     ],
     "prompt_number": 5
    },
    {
     "cell_type": "markdown",
     "metadata": {},
     "source": [
      "Below I'm binning and normalizing interarrival times and fit an exopnential distribution according to the mean of the \"time_since_last_reject\" interarrivals, they appear to fit, but it's unclear if this is a convenient estimation for a simple queue or if it is indeed Markovian."
     ]
    },
    {
     "cell_type": "code",
     "collapsed": false,
     "input": [
      "numbins = 200\n",
      "histo = np.histogram(np.array(time_since_last_service), bins = numbins)\n",
      "deltax = histo[1][1] - histo[1][0]\n",
      "xaxis = np.zeros(numbins)\n",
      "for i in range(numbins):\n",
      "    xaxis[i] = i*deltax\n",
      "histonorm = histo[0]/float(sum(histo[0]))\n",
      "    \n",
      "linearized = np.log(histo[0])\n",
      "np.isinf(linearized)\n",
      "linearized[np.isinf(linearized)] = 0.0\n",
      "linearized\n",
      "\n",
      "A = np.vstack([xaxis, np.ones(len(xaxis))]).T\n",
      "m, c = np.linalg.lstsq(A, linearized)[0]\n",
      "\n",
      "meanparam = np.mean(time_since_last_service)\n",
      "fitvals = np.zeros(numbins)\n",
      "meanparamfitvals = np.zeros(numbins)\n",
      "sumvals = np.zeros(numbins)\n",
      "burkevals = np.zeros(numbins)\n",
      "for i in range(numbins):\n",
      "    fitvals[i] = np.exp(c) * np.exp((m) * xaxis[i]) \n",
      "    meanparamfitvals[i] = (1.0/meanparam) * np.exp((-1.0 * (1.0/meanparam)) * xaxis[i])\n",
      "    #burkevals[i] = np.power((1.0/lambd), np.floor(xaxis[i])) * np.exp(-1.0 / lambd) / np.math.factorial(np.floor(xaxis[i]))"
     ],
     "language": "python",
     "metadata": {},
     "outputs": [],
     "prompt_number": 39
    },
    {
     "cell_type": "code",
     "collapsed": false,
     "input": [
      "import matplotlib\n",
      "import matplotlib.pyplot as plt\n",
      "\n",
      "plt.plot(xaxis, histonorm)\n",
      "#plt.plot(xaxis, fitvals)\n",
      "plt.plot(xaxis, meanparamfitvals)\n",
      "plt.plot(xaxis, sumvals)\n",
      "#plt.plot(xaxis, burkevals, 'o')\n",
      "plt.show()"
     ],
     "language": "python",
     "metadata": {},
     "outputs": [],
     "prompt_number": 40
    },
    {
     "cell_type": "code",
     "collapsed": false,
     "input": [
      "burkevals / np.sum(burkevals)"
     ],
     "language": "python",
     "metadata": {},
     "outputs": [
      {
       "metadata": {},
       "output_type": "pyout",
       "prompt_number": 36,
       "text": [
        "array([  0.00000000e+00,   1.45312854e-12,   1.76332346e-11,\n",
        "         1.97793367e-10,   1.20080513e-09,   4.92353998e-09,\n",
        "         1.52863955e-08,   1.30673367e-07,   3.87632524e-07,\n",
        "         8.64491740e-07,   1.62301599e-06,   2.67875560e-06,\n",
        "         1.44340672e-05,   2.89775682e-05,   4.51712759e-05,\n",
        "         6.15632380e-05,   7.67731614e-05,   2.46130631e-04,\n",
        "         3.91187512e-04,   5.06556114e-04,   5.92195531e-04,\n",
        "         6.51793443e-04,   1.31539650e-03,   1.75004360e-03,\n",
        "         2.01891315e-03,   2.17648018e-03,   2.26420302e-03,\n",
        "         3.24096784e-03,   3.75887038e-03,   4.02099191e-03,\n",
        "         4.14788915e-03,   4.20676244e-03,   4.86229702e-03,\n",
        "         5.15426346e-03,   5.27929999e-03,   5.33086445e-03,\n",
        "         5.35136992e-03,   5.57969158e-03,   5.66735662e-03,\n",
        "         5.69989400e-03,   5.71158087e-03,   5.71564741e-03,\n",
        "         5.76092704e-03,   5.77620503e-03,   5.78120842e-03,\n",
        "         5.78280017e-03,   5.78329249e-03,   5.78344065e-03,\n",
        "         5.78509033e-03,   5.78557372e-03,   5.78571173e-03,\n",
        "         5.78575015e-03,   5.78576058e-03,   5.78587675e-03,\n",
        "         5.78590755e-03,   5.78591552e-03,   5.78591754e-03,\n",
        "         5.78591804e-03,   5.78592360e-03,   5.78592495e-03,\n",
        "         5.78592527e-03,   5.78592534e-03,   5.78592536e-03,\n",
        "         5.78592554e-03,   5.78592559e-03,   5.78592560e-03,\n",
        "         5.78592560e-03,   5.78592560e-03,   5.78592560e-03,\n",
        "         5.78592560e-03,   5.78592560e-03,   5.78592560e-03,\n",
        "         5.78592560e-03,   5.78592560e-03,   5.78592560e-03,\n",
        "         5.78592560e-03,   5.78592560e-03,   5.78592560e-03,\n",
        "         5.78592560e-03,   5.78592560e-03,   5.78592560e-03,\n",
        "         5.78592560e-03,   5.78592560e-03,   5.78592560e-03,\n",
        "         5.78592560e-03,   5.78592560e-03,   5.78592560e-03,\n",
        "         5.78592560e-03,   5.78592560e-03,   5.78592560e-03,\n",
        "         5.78592560e-03,   5.78592560e-03,   5.78592560e-03,\n",
        "         5.78592560e-03,   5.78592560e-03,   5.78592560e-03,\n",
        "         5.78592560e-03,   5.78592560e-03,   5.78592560e-03,\n",
        "         5.78592560e-03,   5.78592560e-03,   5.78592560e-03,\n",
        "         5.78592560e-03,   5.78592560e-03,   5.78592560e-03,\n",
        "         5.78592560e-03,   5.78592560e-03,   5.78592560e-03,\n",
        "         5.78592560e-03,   5.78592560e-03,   5.78592560e-03,\n",
        "         5.78592560e-03,   5.78592560e-03,   5.78592560e-03,\n",
        "         5.78592560e-03,   5.78592560e-03,   5.78592560e-03,\n",
        "         5.78592560e-03,   5.78592560e-03,   5.78592560e-03,\n",
        "         5.78592560e-03,   5.78592560e-03,   5.78592560e-03,\n",
        "         5.78592560e-03,   5.78592560e-03,   5.78592560e-03,\n",
        "         5.78592560e-03,   5.78592560e-03,   5.78592560e-03,\n",
        "         5.78592560e-03,   5.78592560e-03,   5.78592560e-03,\n",
        "         5.78592560e-03,   5.78592560e-03,   5.78592560e-03,\n",
        "         5.78592560e-03,   5.78592560e-03,   5.78592560e-03,\n",
        "         5.78592560e-03,   5.78592560e-03,   5.78592560e-03,\n",
        "         5.78592560e-03,   5.78592560e-03,   5.78592560e-03,\n",
        "         5.78592560e-03,   5.78592560e-03,   5.78592560e-03,\n",
        "         5.78592560e-03,   5.78592560e-03,   5.78592560e-03,\n",
        "         5.78592560e-03,   5.78592560e-03,   5.78592560e-03,\n",
        "         5.78592560e-03,   5.78592560e-03,   5.78592560e-03,\n",
        "         5.78592560e-03,   5.78592560e-03,   5.78592560e-03,\n",
        "         5.78592560e-03,   5.78592560e-03,   5.78592560e-03,\n",
        "         5.78592560e-03,   5.78592560e-03,   5.78592560e-03,\n",
        "         5.78592560e-03,   5.78592560e-03,   5.78592560e-03,\n",
        "         5.78592560e-03,   5.78592560e-03,   5.78592560e-03,\n",
        "         5.78592560e-03,   5.78592560e-03,   5.78592560e-03,\n",
        "         5.78592560e-03,   5.78592560e-03,   5.78592560e-03,\n",
        "         5.78592560e-03,   5.78592560e-03,   5.78592560e-03,\n",
        "         5.78592560e-03,   5.78592560e-03,   5.78592560e-03,\n",
        "         5.78592560e-03,   5.78592560e-03,   5.78592560e-03,\n",
        "         5.78592560e-03,   5.78592560e-03,   5.78592560e-03,\n",
        "         5.78592560e-03,   5.78592560e-03,   5.78592560e-03,\n",
        "         5.78592560e-03,   5.78592560e-03,   5.78592560e-03,\n",
        "         5.78592560e-03,   5.78592560e-03,   5.78592560e-03,\n",
        "         5.78592560e-03,   5.78592560e-03])"
       ]
      }
     ],
     "prompt_number": 36
    },
    {
     "cell_type": "markdown",
     "metadata": {},
     "source": [
      "Sanity check with queue arrival rate"
     ]
    },
    {
     "cell_type": "code",
     "collapsed": false,
     "input": [
      "numbins = 200\n",
      "histo = np.histogram(np.array(time_since_last_arrival), bins = numbins)\n",
      "deltax = histo[1][1] - histo[1][0]\n",
      "xaxis = np.zeros(numbins)\n",
      "for i in range(numbins):\n",
      "    xaxis[i] = i*deltax\n",
      "histonorm = histo[0]/float(sum(histo[0]))\n",
      "    \n",
      "meanparam = np.mean(time_since_last_arrival)\n",
      "fitvals = np.zeros(numbins)    \n",
      "for i in range(numbins):\n",
      "    fitvals[i] = (1.0/meanparam) * np.exp((-1.0 * (1.0/meanparam)) * xaxis[i])    \n",
      "\"\"\"   \n",
      "from scipy.stats import expon\n",
      "a = expon.fit(histonorm)\n",
      "\"\"\""
     ],
     "language": "python",
     "metadata": {},
     "outputs": [
      {
       "metadata": {},
       "output_type": "pyout",
       "prompt_number": 70,
       "text": [
        "'   \\nfrom scipy.stats import expon\\na = expon.fit(histonorm)\\n'"
       ]
      }
     ],
     "prompt_number": 70
    },
    {
     "cell_type": "code",
     "collapsed": false,
     "input": [
      "plt.plot(xaxis, histonorm)\n",
      "plt.plot(xaxis, fitvals)\n",
      "#plt.plot(xaxis, meanparamfitvals)\n",
      "plt.show()"
     ],
     "language": "python",
     "metadata": {},
     "outputs": [],
     "prompt_number": 72
    },
    {
     "cell_type": "markdown",
     "metadata": {},
     "source": [
      "Looping through arrival rates to get rejection rates. I'm hoping there's a linear relationship at least when only given 1 server"
     ]
    },
    {
     "cell_type": "code",
     "collapsed": false,
     "input": [
      "import numpy as np\n",
      "\n",
      "timers_rejects = {}\n",
      "\n",
      "lambd = 6.0\n",
      "\n",
      "for jj in range(50):\n",
      "    mu = 8.0\n",
      "    sim_time = 50000.0\n",
      "    sim_res = 0.001\n",
      "\n",
      "    queue = []\n",
      "    server1 = 0.0\n",
      "    #server2 = 0.0\n",
      "    arrival_timer = 0.0\n",
      "    counter = 0.0\n",
      "\n",
      "    num_in_system = []\n",
      "    queue_len = []\n",
      "\n",
      "    time_since_last_reject = []\n",
      "    queue_arrival_timer = 0.0\n",
      "    time_since_last_arrival = []\n",
      "    queue_rejection_timer = 0.0\n",
      "    time_since_last_service = []\n",
      "    last_service_timer = 0.0\n",
      "\n",
      "    while counter <= sim_time:\n",
      "        if arrival_timer < sim_res:\n",
      "            service_time = np.random.exponential(mu)\n",
      "            arrival_timer = np.random.exponential(lambd + (0.1 * jj))\n",
      "        \n",
      "            time_since_last_arrival.append(queue_arrival_timer)\n",
      "            queue_arrival_timer = 0.0\n",
      "        \n",
      "            if server1 < sim_res:\n",
      "                server1 = service_time\n",
      "            #elif server2 < sim_res:\n",
      "                #server2 = service_time\n",
      "            else:\n",
      "                time_since_last_reject.append(queue_rejection_timer)\n",
      "                queue_rejection_timer = 0.0\n",
      "\n",
      "        queue_arrival_timer += sim_res\n",
      "        queue_rejection_timer += sim_res        \n",
      "        arrival_timer -= sim_res\n",
      "        server1 -= sim_res\n",
      "        #server2 -= sim_res\n",
      "        counter += sim_res\n",
      "    \n",
      "    timers_rejects[jj] = time_since_last_reject"
     ],
     "language": "python",
     "metadata": {},
     "outputs": [],
     "prompt_number": 2
    },
    {
     "cell_type": "code",
     "collapsed": false,
     "input": [
      "from matplotlib import pyplot as plt\n",
      "\n",
      "timers_rejects_avgs = {}\n",
      "avgs = []\n",
      "for key in sorted(timers_rejects.keys()):\n",
      "    avgs.append(np.mean(timers_rejects[key]))\n",
      "    timers_rejects_avgs[key] = np.mean(timers_rejects[key])\n",
      "    \n",
      "lambd = 6.0\n",
      "mu = 8.0\n",
      "expectedVals = np.zeros((50,1))\n",
      "for jj in range(50):\n",
      "    new = lambd + (0.1 * jj)\n",
      "    expectedVals[jj] = ((1.0/mu) + (1.0/new)) / np.power((1.0/new), 2)\n",
      "\n",
      "plt.plot(sorted(timers_rejects_avgs.keys()), avgs)\n",
      "plt.plot(sorted(timers_rejects_avgs.keys()), expectedVals)\n",
      "plt.show()\n"
     ],
     "language": "python",
     "metadata": {},
     "outputs": [],
     "prompt_number": 9
    },
    {
     "cell_type": "code",
     "collapsed": false,
     "input": [
      "avgs"
     ],
     "language": "python",
     "metadata": {},
     "outputs": [
      {
       "metadata": {},
       "output_type": "pyout",
       "prompt_number": 8,
       "text": [
        "[10.543024251370733,\n",
        " 10.521283308777337,\n",
        " 11.115179635393439,\n",
        " 11.146313183136417,\n",
        " 11.488662298850425,\n",
        " 12.096179046697525,\n",
        " 12.102380537400114,\n",
        " 12.499094047023501,\n",
        " 12.8425357142859,\n",
        " 13.116162119622231,\n",
        " 13.174632938076405,\n",
        " 13.197688143649469,\n",
        " 13.711770707625083,\n",
        " 13.955609715243293,\n",
        " 14.391845533141497,\n",
        " 14.845111638955263,\n",
        " 14.398097926267882,\n",
        " 14.53839430066915,\n",
        " 15.72252815350798,\n",
        " 15.565528971963081,\n",
        " 15.781713202780585,\n",
        " 16.693038397329062,\n",
        " 16.500760158574273,\n",
        " 17.057501877774801,\n",
        " 17.902827895304032,\n",
        " 17.925595477388008,\n",
        " 17.08085753331142,\n",
        " 18.086490231549845,\n",
        " 17.7661115849344,\n",
        " 19.049969119330868,\n",
        " 19.698777296021039,\n",
        " 19.54413643471662,\n",
        " 20.370896860988783,\n",
        " 19.834061532356934,\n",
        " 20.338838079742949,\n",
        " 20.811813255526765,\n",
        " 21.745035232714191,\n",
        " 20.994619067623166,\n",
        " 22.420351569511698,\n",
        " 22.296918786262008,\n",
        " 22.535258340852046,\n",
        " 22.551491204335676,\n",
        " 22.814166134190849,\n",
        " 24.412018066412724,\n",
        " 23.852109837637702,\n",
        " 24.166381044494205,\n",
        " 24.209204457370774,\n",
        " 25.166091137974622,\n",
        " 25.107498242097858,\n",
        " 25.758392783512733]"
       ]
      }
     ],
     "prompt_number": 8
    },
    {
     "cell_type": "code",
     "collapsed": false,
     "input": [
      "import pickle\n",
      "\n",
      "outFile = open(\"timer_rejects_2srv.pck\", 'w')\n",
      "pickle.dump(timers_rejects, outFile)"
     ],
     "language": "python",
     "metadata": {},
     "outputs": [],
     "prompt_number": 95
    },
    {
     "cell_type": "code",
     "collapsed": false,
     "input": [
      "xaxis = np.zeros(len(timers_rejects_avgs.keys()))\n",
      "for i in range(len(xaxis)):\n",
      "    xaxis[i] = lambd + i*0.01\n",
      "\n",
      "A = np.vstack([xaxis, np.ones(len(xaxis))]).T\n",
      "m, c = np.linalg.lstsq(A, avgs)[0]\n",
      "\n",
      "fit = np.zeros(len(timers_rejects_avgs.keys()))\n",
      "for i in range(len(xaxis)):\n",
      "    fit[i] = m*xaxis[i] + c\n",
      "\n",
      "plt.plot(xaxis, avgs)\n",
      "plt.plot(xaxis, fit)\n",
      "plt.show()\n"
     ],
     "language": "python",
     "metadata": {},
     "outputs": [],
     "prompt_number": 93
    },
    {
     "cell_type": "code",
     "collapsed": false,
     "input": [
      "import pickle\n",
      "import numpy as np\n",
      "import matplotlib.pyplot as plt\n",
      "\n",
      "inFile1 = open(\"timer_rejects_1srv.pck\", 'r')\n",
      "data1 = pickle.load(inFile1)\n",
      "\n",
      "xaxis1 = np.zeros(len(data1.keys()))\n",
      "for i in range(len(xaxis1)):\n",
      "    xaxis1[i] = 8.0 + i*0.01\n",
      "    \n",
      "avgs1 = []\n",
      "for key in sorted(data1.keys()):\n",
      "    avgs1.append(np.mean(data1[key]))\n",
      "    \n",
      "A = np.vstack([xaxis1, np.ones(len(xaxis1))]).T\n",
      "m, c = np.linalg.lstsq(A, avgs1)[0]\n",
      "\n",
      "fit = np.zeros(len(data1.keys()))\n",
      "for i in range(len(xaxis1)):\n",
      "    fit[i] = m*xaxis1[i] + c\n",
      "\n",
      "plt.plot(xaxis1, avgs1)\n",
      "plt.plot(xaxis1, fit)\n",
      "plt.xlabel(\"lambda^-1\")\n",
      "plt.ylabel(\"lambda_star^-1\")\n",
      "plt.show()"
     ],
     "language": "python",
     "metadata": {},
     "outputs": [],
     "prompt_number": "*"
    },
    {
     "cell_type": "code",
     "collapsed": false,
     "input": [
      "numbins = 200\n",
      "histo = np.histogram(np.array(data1[20]), bins = numbins)\n",
      "deltax = histo[1][1] - histo[1][0]\n",
      "xaxis = np.zeros(numbins)\n",
      "for i in range(numbins):\n",
      "    xaxis[i] = i*deltax\n",
      "histonorm = histo[0]/float(sum(histo[0]))\n",
      "    \n",
      "linearized = np.log(histo[0])\n",
      "np.isinf(linearized)\n",
      "linearized[np.isinf(linearized)] = 0.0\n",
      "linearized\n",
      "\n",
      "A = np.vstack([xaxis, np.ones(len(xaxis))]).T\n",
      "m, c = np.linalg.lstsq(A, linearized)[0]\n",
      "\n",
      "meanparam = np.mean(data1[20])\n",
      "fitvals = np.zeros(numbins)\n",
      "meanparamfitvals = np.zeros(numbins)\n",
      "for i in range(numbins):\n",
      "    fitvals[i] = np.exp(c) * np.exp((m) * xaxis[i]) \n",
      "    meanparamfitvals[i] = (1.0/meanparam) * np.exp((-1.0 * (1.0/meanparam)) * xaxis[i])\n",
      "\n",
      "plt.plot(xaxis, histonorm)\n",
      "plt.plot(xaxis, meanparamfitvals)\n",
      "#plt.plot(xaxis, meanparamfitvals)\n",
      "plt.show()"
     ],
     "language": "python",
     "metadata": {},
     "outputs": [],
     "prompt_number": "*"
    },
    {
     "cell_type": "code",
     "collapsed": false,
     "input": [],
     "language": "python",
     "metadata": {},
     "outputs": []
    }
   ],
   "metadata": {}
  }
 ]
}