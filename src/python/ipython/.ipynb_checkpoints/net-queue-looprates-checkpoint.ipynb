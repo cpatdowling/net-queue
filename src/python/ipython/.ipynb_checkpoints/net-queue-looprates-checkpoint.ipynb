{
 "metadata": {
  "name": ""
 },
 "nbformat": 3,
 "nbformat_minor": 0,
 "worksheets": [
  {
   "cells": [
    {
     "cell_type": "code",
     "collapsed": false,
     "input": [
      "import sys\n",
      "import os\n",
      "import numpy as np\n",
      "\n",
      "class blockfaceNet:\n",
      "    def __init__(self, paramFilePath):\n",
      "        self.params = parameters(paramFilePath)\n",
      "        self.network = self.params.adjacency\n",
      "        self.injections = self.params.injections\n",
      "        self.bface = {}\n",
      "        if any([type(a) == np.ndarray for a in self.params.blockface_params]):\n",
      "            #one of the blockface params is a diagonal array       \n",
      "            for i in range(self.network.shape[1]):\n",
      "                print(\"haven't implemented individual block parameters yet\")\n",
      "                break\n",
      "        else:\n",
      "            #otherwise, blockfaces look the same\n",
      "            for i in range(self.network.shape[1]):\n",
      "                self.bface[i] = blockface(index=i, lambd=self.params.lambd, mu=self.params.mu, \n",
      "                                          renege_rate=self.params.renege_rate, num_spots=self.params.num_spots)\n",
      "        #list of parking arrays to keep service times synchronized\n",
      "        self.allSpots = [self.bface[i].spots for i in range(self.network.shape[0])]\n",
      "        \n",
      "        #for calculating network stats\n",
      "        #not symmetric, flow assumed to be from row index to column index\n",
      "        self.totalFlow = np.zeros(self.network.shape)\n",
      "        \n",
      "        #creating timer and indexing injection blocks\n",
      "        injection_blocks = np.diag(self.injections)\n",
      "        injection_block_indices = [ i for i, x in enumerate(injection_blocks) if x == 1 ]\n",
      "        self.injection_map = {}\n",
      "        for b in range(len(injection_block_indices)):\n",
      "            self.injection_map[b] = injection_block_indices[b]\n",
      "        self.new_arrivals = np.zeros((1,len(injection_block_indices)))\n",
      "        \n",
      "class parameters:\n",
      "    def __init__(self, inFilePath):\n",
      "        self.lambd = 1.0\n",
      "        self.mu = 5.0\n",
      "        self.renege_rate= 0.5\n",
      "        self.num_spots = 5\n",
      "        self.simulation_time = 1000\n",
      "        self.time_resolution = 0.001\n",
      "        self.injections = \"\"\n",
      "        self.adjacency = \"\"\n",
      "        self.paramMap = {\"SIMULATION_TIME\": \"simulation_time\", \"DELTA_T\": \"time_resolution\",\n",
      "                         \"ARRIVAL_RATE\": \"lambd\", \"SERVICE_RATE\": \"mu\", \"RENEGE_TIME\": \"renege_rate\",\n",
      "                         \"NUM_SERVERS\": \"num_spots\", \"ROAD_NETWORK\": \"adjacency\", \"EXOGENOUS_ARRIVALS\": \"injections\"}\n",
      "        try:\n",
      "            inFile = open(inFilePath, 'r')\n",
      "            lines = inFile.readlines()\n",
      "            inFile.close()\n",
      "            for line in lines:\n",
      "                tokens = line.strip().split(\"=\")\n",
      "                if line[0] == \"#\" or line.strip() == \"\":\n",
      "                    pass\n",
      "                elif tokens[0].strip() in self.paramMap.keys():\n",
      "                    if tokens[0].strip() == \"ROAD_NETWORK\" or tokens[0].strip() == \"INJECTIONS\":\n",
      "                        arr = np.loadtxt(tokens[1].strip(), dtype=np.dtype(int), delimiter=\",\")\n",
      "                        setattr(self, self.paramMap[tokens[0].strip()], arr)\n",
      "                    elif tokens[1].strip()[0] == \"/\":\n",
      "                        #parameter is a filepath\n",
      "                        arr = np.loadtxt(tokens[1].strip(), dtype=np.dtype(float), delimiter=\",\")\n",
      "                        setattr(self, self.paramMap[tokens[0].strip()], arr)\n",
      "                    else:\n",
      "                        setattr(self, self.paramMap[tokens[0].strip()], float(tokens[1].strip()))\n",
      "        except Exception as err:\n",
      "            print(\"Could not read parameter file:\")\n",
      "            print(err)\n",
      "        self.blockface_params = [self.lambd, self.mu, self.renege_rate, self.num_spots]\n",
      "        \n",
      "class blockface:\n",
      "    def __init__(self, index=False, lambd=1.0, mu=2.0, renege_rate=.5, num_spots=5):\n",
      "        self.i = index\n",
      "        self.arrival_rate = lambd\n",
      "        self.service_rate = mu\n",
      "        self.renege_rate = renege_rate\n",
      "        self.queue = {}\n",
      "        self.num_parking_spots = num_spots\n",
      "        #this attribute is dormant, all updates are made to blockfaceNet.allSpots, but\n",
      "        #self.spots is used to construct allSpots for different sized blockfaces\n",
      "        self.spots = np.array([0.0 for j in range(int(num_spots))])\n",
      "            \n",
      "        #for calculating block face stats\n",
      "        self.total = 0\n",
      "        self.exogenous = 0\n",
      "        self.served = 0\n",
      "        self.avg_park_time = 0.0\n",
      "        self.utilization = 0.0\n",
      "        \n",
      "class car:\n",
      "    def __init__(self, service_time, renege_time):\n",
      "        #use this to keep track of individual parkers\n",
      "        #probably gonna slow stuff down pretty quick\n",
      "        self.service_time = service_time\n",
      "        self.renege_time = renege_time\n",
      "        self.bfacesAttempted = []\n"
     ],
     "language": "python",
     "metadata": {},
     "outputs": [],
     "prompt_number": 2
    },
    {
     "cell_type": "code",
     "collapsed": false,
     "input": [
      "np.zeros((1,5))"
     ],
     "language": "python",
     "metadata": {},
     "outputs": [
      {
       "metadata": {},
       "output_type": "pyout",
       "prompt_number": 3,
       "text": [
        "array([[ 0.,  0.,  0.,  0.,  0.]])"
       ]
      }
     ],
     "prompt_number": 3
    },
    {
     "cell_type": "code",
     "collapsed": false,
     "input": [
      "\n",
      "\n",
      "#keeping track of people moving from one blockface to next\n",
      "#key is destination blockface index, value is number of quitters moving to new block face\n",
      "\n",
      "utilizationStats = np.zeros((50,3))\n",
      "\n",
      "for jj in range(50):\n",
      "    QNet = blockfaceNet(\"QNetparams.txt\")\n",
      "    QNet.params.lambd = QNet.params.lambd + float(jj)/100\n",
      "    for bf in QNet.bface.keys():\n",
      "        QNet.bface[bf].arrival_rate = QNet.params.lambd\n",
      "        \n",
      "    quitters = {}\n",
      "    for bface in QNet.bface.keys():\n",
      "        quitters[bface] = 0\n",
      "    nextStepQuitters = quitters\n",
      "\n",
      "    t = 0.0\n",
      "    deltaT = QNet.params.time_resolution\n",
      "    while t < QNet.params.simulation_time:\n",
      "    #find block numbers of blocks with <=0.0 time till next arrival\n",
      "    #can use itertools.compress on new arrivals list comprehension\n",
      "        currently_arriving_blocks = [ i for i, x in enumerate(QNet.new_arrivals) if x <= 0.0 ]\n",
      "        if len(currently_arriving_blocks) > 0:\n",
      "        #give arriving blocks new arrivals\n",
      "        #prioritize exogenous arrivals\n",
      "            for i in currently_arriving_blocks:\n",
      "                blockindex = QNet.injection_map[i]\n",
      "                next_arrival_time = np.random.exponential(QNet.bface[blockindex].arrival_rate)\n",
      "                QNet.new_arrivals[i] = next_arrival_time \n",
      "            \n",
      "                QNet.bface[blockindex].total += 1\n",
      "                QNet.bface[blockindex].exogenous += 1\n",
      "\n",
      "                car_park_time = np.random.exponential(QNet.bface[blockindex].service_rate)\n",
      "                car_renege_time = QNet.bface[blockindex].renege_rate            \n",
      "                currently_available_spots = [ j for j, x in enumerate(QNet.allSpots[blockindex]) if x <= car_renege_time ]\n",
      "                if len(currently_available_spots) > 0:\n",
      "                #parking available, choose the first available spot\n",
      "                    QNet.allSpots[blockindex][currently_available_spots[0]] = car_park_time\n",
      "                    QNet.bface[blockindex].served += 1\n",
      "                else:\n",
      "                    #car moves to different blockface--uniformly sample from neighbors\n",
      "                    neighbors = [ j for j, x in enumerate(QNet.network[blockindex]) if x == 1 ]\n",
      "                    newBface = np.random.choice(neighbors)\n",
      "                    QNet.totalFlow[blockindex,newBface] += 1\n",
      "                    quitters[newBface] += 1\n",
      "                \n",
      "        if any(quitters.values()):\n",
      "            #handle the people coming from other block faces\n",
      "            #keys are blockface indecies\n",
      "            #what I need is for the quitters to reappear after fixed time, they're instantaneously traveling\n",
      "            #to next block\n",
      "            for dest_bf in quitters.keys():\n",
      "                for k in range(quitters[dest_bf]):\n",
      "                    #for each kth car arriving at this node from previous time step\n",
      "                    car_park_time = np.random.exponential(QNet.bface[dest_bf].service_rate)\n",
      "                    car_renege_time = QNet.bface[dest_bf].renege_rate  \n",
      "                    currently_available_spots = [ j for j, x in enumerate(QNet.allSpots[dest_bf]) if x <= car_renege_time ]\n",
      "                    if len(currently_available_spots) > 0:\n",
      "                    #parking available, choose the first available spot\n",
      "                        QNet.allSpots[dest_bf][currently_available_spots[0]] = car_park_time\n",
      "                        QNet.bface[dest_bf].served += 1\n",
      "                        quitters[dest_bf] -= 1\n",
      "                    else:\n",
      "                        #car moves on to different blockface--uniformly sample from neighbors\n",
      "                        neighbors = [ j for j, x in enumerate(QNet.network[dest_bf]) if x == 1 ]\n",
      "                        newBface = np.random.choice(neighbors)\n",
      "                        QNet.totalFlow[dest_bf,newBface] += 1\n",
      "                        quitters[dest_bf] -= 1\n",
      "                        nextStepQuitters[newBface] += 1\n",
      "                    QNet.bface[dest_bf].total += 1\n",
      "            for bface in quitters:\n",
      "                quitters[bface] += nextStepQuitters[bface]\n",
      "                \n",
      "            #if traffic overflows, break loop\n",
      "            if any([ j for j, x in enumerate(quitters.values()) if x > (QNet.bface[1].num_parking_spots * QNet.params.simulation_time ) ]):\n",
      "                break\n",
      "        if any([ j for j, x in enumerate(quitters.values()) if x > (QNet.bface[1].num_parking_spots * QNet.params.simulation_time ) ]):\n",
      "            print(\"\\n==Exception==\")\n",
      "            print(\"Traffic overflow at simulation time: \" + str(t))\n",
      "            print(\"Total flow: \")\n",
      "            print(QNet.totalFlow)\n",
      "            break\n",
      "                \n",
      "            \n",
      "         \n",
      "    #update utilization stats\n",
      "    #lower time resolution to save time\n",
      "        if t % (QNet.params.simulation_time / 100) <= QNet.params.time_resolution:\n",
      "            for block in QNet.bface.keys():\n",
      "                spots = float(QNet.bface[block].num_parking_spots)\n",
      "                parked = float(len([ i for i, x in enumerate(QNet.allSpots[block]) if x > 0.0 ]))\n",
      "                QNet.bface[block].utilization = (QNet.bface[block].utilization + (parked/spots))/2\n",
      "    \n",
      "        #countdown on next arrival\n",
      "        QNet.new_arrivals = QNet.new_arrivals - deltaT\n",
      "        #countdown on serve times\n",
      "        QNet.allSpots = [ (spots - deltaT) for spots in QNet.allSpots ]\n",
      "    \n",
      "        #increment simulation time\n",
      "        t += deltaT\n",
      "        #print progress\n",
      "        if t % (QNet.params.simulation_time / 10) <= QNet.params.time_resolution and t >= 10.0:\n",
      "            print(str(int(t / (QNet.params.simulation_time/100))) + \"% complete\")\n",
      "        \n",
      "\n",
      "    print(\"\\n==Results==\")\n",
      "    for i in QNet.bface.keys():\n",
      "        print(\"block number \" + str(i) + \": \" + str(QNet.bface[i].total) + \" total arrivals\")\n",
      "        print(\"\\taverage utilization: \" + str(QNet.bface[i].utilization * 100.0) + \"%\")\n",
      "    print(QNet.totalFlow)\n",
      "    \n",
      "    utilizationStats[jj,0] = jj\n",
      "    utilizationStats[jj,1] = QNet.bface[0].utilization\n",
      "    utilizationStats[jj,2] = QNet.bface[1].utilization"
     ],
     "language": "python",
     "metadata": {},
     "outputs": [
      {
       "output_type": "stream",
       "stream": "stdout",
       "text": [
        "10% complete\n",
        "20% complete"
       ]
      },
      {
       "output_type": "stream",
       "stream": "stdout",
       "text": [
        "\n",
        "30% complete"
       ]
      },
      {
       "output_type": "stream",
       "stream": "stdout",
       "text": [
        "\n",
        "40% complete"
       ]
      },
      {
       "output_type": "stream",
       "stream": "stdout",
       "text": [
        "\n",
        "50% complete"
       ]
      },
      {
       "ename": "KeyboardInterrupt",
       "evalue": "",
       "output_type": "pyerr",
       "traceback": [
        "\u001b[0;31m---------------------------------------------------------------------------\u001b[0m\n\u001b[0;31mKeyboardInterrupt\u001b[0m                         Traceback (most recent call last)",
        "\u001b[0;32m<ipython-input-4-ea801c435162>\u001b[0m in \u001b[0;36m<module>\u001b[0;34m()\u001b[0m\n\u001b[1;32m     66\u001b[0m                     \u001b[0;32melse\u001b[0m\u001b[0;34m:\u001b[0m\u001b[0;34m\u001b[0m\u001b[0m\n\u001b[1;32m     67\u001b[0m                         \u001b[0;31m#car moves on to different blockface--uniformly sample from neighbors\u001b[0m\u001b[0;34m\u001b[0m\u001b[0;34m\u001b[0m\u001b[0m\n\u001b[0;32m---> 68\u001b[0;31m                         \u001b[0mneighbors\u001b[0m \u001b[0;34m=\u001b[0m \u001b[0;34m[\u001b[0m \u001b[0mj\u001b[0m \u001b[0;32mfor\u001b[0m \u001b[0mj\u001b[0m\u001b[0;34m,\u001b[0m \u001b[0mx\u001b[0m \u001b[0;32min\u001b[0m \u001b[0menumerate\u001b[0m\u001b[0;34m(\u001b[0m\u001b[0mQNet\u001b[0m\u001b[0;34m.\u001b[0m\u001b[0mnetwork\u001b[0m\u001b[0;34m[\u001b[0m\u001b[0mdest_bf\u001b[0m\u001b[0;34m]\u001b[0m\u001b[0;34m)\u001b[0m \u001b[0;32mif\u001b[0m \u001b[0mx\u001b[0m \u001b[0;34m==\u001b[0m \u001b[0;36m1\u001b[0m \u001b[0;34m]\u001b[0m\u001b[0;34m\u001b[0m\u001b[0m\n\u001b[0m\u001b[1;32m     69\u001b[0m                         \u001b[0mnewBface\u001b[0m \u001b[0;34m=\u001b[0m \u001b[0mnp\u001b[0m\u001b[0;34m.\u001b[0m\u001b[0mrandom\u001b[0m\u001b[0;34m.\u001b[0m\u001b[0mchoice\u001b[0m\u001b[0;34m(\u001b[0m\u001b[0mneighbors\u001b[0m\u001b[0;34m)\u001b[0m\u001b[0;34m\u001b[0m\u001b[0m\n\u001b[1;32m     70\u001b[0m                         \u001b[0mQNet\u001b[0m\u001b[0;34m.\u001b[0m\u001b[0mtotalFlow\u001b[0m\u001b[0;34m[\u001b[0m\u001b[0mdest_bf\u001b[0m\u001b[0;34m,\u001b[0m\u001b[0mnewBface\u001b[0m\u001b[0;34m]\u001b[0m \u001b[0;34m+=\u001b[0m \u001b[0;36m1\u001b[0m\u001b[0;34m\u001b[0m\u001b[0m\n",
        "\u001b[0;31mKeyboardInterrupt\u001b[0m: "
       ]
      },
      {
       "output_type": "stream",
       "stream": "stdout",
       "text": [
        "\n"
       ]
      }
     ],
     "prompt_number": 4
    },
    {
     "cell_type": "code",
     "collapsed": false,
     "input": [
      "any([ j for j, x in enumerate(quitters.values()) if x > (QNet.bface[1].num_parking_spots * QNet.params.simulation_time ) ])"
     ],
     "language": "python",
     "metadata": {},
     "outputs": [
      {
       "metadata": {},
       "output_type": "pyout",
       "prompt_number": 6,
       "text": [
        "True"
       ]
      }
     ],
     "prompt_number": 6
    },
    {
     "cell_type": "code",
     "collapsed": false,
     "input": [
      "for i in range(10):\n",
      "    new_arrivals = new_arrivals - deltaT\n",
      "    print(new_arrivals)"
     ],
     "language": "python",
     "metadata": {},
     "outputs": [
      {
       "output_type": "stream",
       "stream": "stdout",
       "text": [
        "[[ 0.00098235]]\n",
        "[[-0.00901765]]\n",
        "[[-0.01901765]]\n",
        "[[-0.02901765]]\n",
        "[[-0.03901765]]\n",
        "[[-0.04901765]]\n",
        "[[-0.05901765]]\n",
        "[[-0.06901765]]\n",
        "[[-0.07901765]]\n",
        "[[-0.08901765]]\n"
       ]
      }
     ],
     "prompt_number": 134
    },
    {
     "cell_type": "code",
     "collapsed": false,
     "input": [
      "import math\n",
      "import random\n",
      "\n",
      "def nextTime(rateParameter):\n",
      "    return -math.log(1.0 - random.random()) / rateParameter\n",
      "\n",
      "nextTime(1)"
     ],
     "language": "python",
     "metadata": {},
     "outputs": [
      {
       "metadata": {},
       "output_type": "pyout",
       "prompt_number": 62,
       "text": [
        "0.07884483050494008"
       ]
      }
     ],
     "prompt_number": 62
    },
    {
     "cell_type": "code",
     "collapsed": false,
     "input": [],
     "language": "python",
     "metadata": {},
     "outputs": [],
     "prompt_number": 62
    },
    {
     "cell_type": "code",
     "collapsed": false,
     "input": [],
     "language": "python",
     "metadata": {},
     "outputs": [],
     "prompt_number": 62
    },
    {
     "cell_type": "code",
     "collapsed": false,
     "input": [],
     "language": "python",
     "metadata": {},
     "outputs": [],
     "prompt_number": 62
    },
    {
     "cell_type": "code",
     "collapsed": false,
     "input": [],
     "language": "python",
     "metadata": {},
     "outputs": [],
     "prompt_number": 62
    },
    {
     "cell_type": "code",
     "collapsed": false,
     "input": [],
     "language": "python",
     "metadata": {},
     "outputs": [],
     "prompt_number": 62
    },
    {
     "cell_type": "code",
     "collapsed": false,
     "input": [],
     "language": "python",
     "metadata": {},
     "outputs": []
    }
   ],
   "metadata": {}
  }
 ]
}