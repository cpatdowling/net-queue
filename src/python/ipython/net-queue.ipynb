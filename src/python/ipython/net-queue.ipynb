{
 "metadata": {
  "name": ""
 },
 "nbformat": 3,
 "nbformat_minor": 0,
 "worksheets": [
  {
   "cells": [
    {
     "cell_type": "code",
     "collapsed": false,
     "input": [
      "import numpy as np\n",
      "import scipy as sp\n",
      "\n",
      "class blockfaceNet:\n",
      "    def __init__(self, adjacency):\n",
      "        self.network = adjacency\n",
      "        self.bface = {}\n",
      "        self.carNumber = 0\n",
      "        for i in range(adjacency.shape[1]):\n",
      "            self.bface[i] = blockface()\n",
      "        #list of parking arrays to keep service times synchronized\n",
      "        self.allSpots = [self.bface[i].spots for i in range(adjacency.shape[i])]\n",
      "        #can do the same for injections but requires additional input\n",
      "        \n",
      "        #for calculating network stats\n",
      "        #not symmetric, flow assumed to be from row index to column index\n",
      "        self.totalFlow = np.zeros(self.network.shape)\n",
      "        \n",
      "class blockface:\n",
      "    def __init__(self, index=False, lambd=1.0, mu=20.0, renege_rate=.5, num_spots=5):\n",
      "        self.i = index\n",
      "        self.arrival_rate = lambd\n",
      "        self.service_rate = mu\n",
      "        self.renege_rate = renege_rate\n",
      "        self.queue = {}\n",
      "        self.num_parking_spots = num_spots\n",
      "        self.spots = np.array([0.0 for j in range(num_spots)])\n",
      "        #spot needs to be assigned serve time\n",
      "            \n",
      "        #for calculating block face stats\n",
      "        self.total = 0\n",
      "        self.served = 0\n",
      "        self.avg_park_time = 0.0\n",
      "        self.utilization = 0.0\n",
      "        \n",
      "class car:\n",
      "    def __init__(self, service_time, renege_time):\n",
      "        #use this to keep track of individual parkers\n",
      "        self.service_time = service_time\n",
      "        self.renege_time = renege_time\n",
      "        self.bfacesAttempted = []\n",
      "\n",
      "\n"
     ],
     "language": "python",
     "metadata": {},
     "outputs": [],
     "prompt_number": 35
    },
    {
     "cell_type": "code",
     "collapsed": false,
     "input": [
      "#simulation variables\n",
      "SIMULATION_TIME = 1000.0\n",
      "deltaT = 0.001\n",
      "\n",
      "#Adjacency of roads\n",
      "ROAD_NETWORK = np.array([[0,1],\n",
      "                        [1,0]])\n",
      "#Nodes which have their own exogenous arrival rate\n",
      "INJECTIONS = np.array([[1,0],\n",
      "                       [0,1]])\n",
      "ARRIVAL_RATE = 1.0\n",
      "SERVICE_RATE = 2.0\n",
      "RENEGE_TIME = 0.5\n",
      "NUM_SERVERS = 5 #currently not used--block faces fixed at 5\n",
      "    \n",
      "QNet = blockfaceNet(ROAD_NETWORK)\n",
      "\n",
      "#keep track of exogenous arrivals, needs to be as long as non-zero injections array\n",
      "#probably want to make this a diagonal matrix at some point, so at time t it's\n",
      "#a weighting of the injections matrix\n",
      "new_arrivals = np.array([0.0,0.0])\n",
      "\n",
      "#keeping track of people moving from one blockface to next\n",
      "#key is destination blockface index, value is null for now, could be fixed patience, could be ind. quitter stats\n",
      "quitters = {}\n",
      "for bface in QNet.bface.keys():\n",
      "    quitters[bface] = 0\n",
      "nextStepQuitters = quitters\n",
      "\n",
      "t = 0.0\n",
      "while t < SIMULATION_TIME:\n",
      "    #find block numbers of blocks with <=0.0 time till next arrival\n",
      "    #can use itertools.compress on new arrivals list comprehension\n",
      "    currently_arriving_blocks = [ i for i, x in enumerate(new_arrivals) if x <= 0.0 ]\n",
      "    if len(currently_arriving_blocks) > 0:\n",
      "        #give arriving blocks new arrivals\n",
      "        #prioritize exogenous arrivals\n",
      "        for i in currently_arriving_blocks:\n",
      "            next_arrival_time = np.random.exponential(QNet.bface[i].arrival_rate)\n",
      "            new_arrivals[i] = next_arrival_time \n",
      "            #print(\"new arrival at block \" + str(i))\n",
      "            QNet.bface[i].total += 1\n",
      "\n",
      "            car_park_time = np.random.exponential(QNet.bface[i].service_rate)\n",
      "            car_renege_time = QNet.bface[i].renege_rate            \n",
      "            currently_available_spots = [ j for j, x in enumerate(QNet.allSpots[i]) if x <= car_renege_time ]\n",
      "            if len(currently_available_spots) > 0:\n",
      "                #choose the first available spot\n",
      "                QNet.allSpots[i][currently_available_spots[0]] = car_park_time\n",
      "                QNet.bface[i].served += 1\n",
      "            else:\n",
      "                #car moves to different blockface--uniformly sample from neighbors\n",
      "                #this is where I'd be tracking flow\n",
      "                neighbors = [ j for j, x in enumerate(QNet.network[i]) if x == 1 ]\n",
      "                newBface = np.random.choice(neighbors)\n",
      "                QNet.totalFlow[i,newBface] += 1\n",
      "                quitters[newBface] += 1\n",
      "                \n",
      "    if any(quitters.values()):\n",
      "        #handle the people coming from other block faces\n",
      "        #keys are blockface indecies\n",
      "        #what I need is for the quitters to reappear after fixed time, they're instantaneously traveling\n",
      "        #to next block\n",
      "        for bf in quitters.keys():\n",
      "            for k in range(quitters[bf]):\n",
      "                car_park_time = np.random.exponential(QNet.bface[bf].service_rate)\n",
      "                car_renege_time = QNet.bface[bf].renege_rate  \n",
      "                currently_available_spots = [ j for j, x in enumerate(QNet.allSpots[bf]) if x <= car_renege_time ]\n",
      "                if len(currently_available_spots) > 0:\n",
      "                    #choose the first available spot\n",
      "                    QNet.allSpots[bface][currently_available_spots[0]] = car_park_time\n",
      "                    quitters[bf]-=1\n",
      "                else:\n",
      "                    #car moves to different blockface--uniformly sample from neighbors\n",
      "                    #this is where I'd be tracking flow\n",
      "                    neighbors = [ j for j, x in enumerate(QNet.network[bf]) if x == 1 ]\n",
      "                    newBface = np.random.choice(neighbors)\n",
      "                    QNet.totalFlow[bf,newBface] += 1\n",
      "                    nextStepQuitters[newBface] += 1\n",
      "                    quitters[bf]-=1\n",
      "        quitters = nextStepQuitters\n",
      "                    \n",
      "    #update block statistics here:\n",
      "    \n",
      "    #countdown on next arrival\n",
      "    new_arrivals = new_arrivals - deltaT\n",
      "    #countdown on serve times\n",
      "    QNet.allSpots = [ (spots - deltaT) for spots in QNet.allSpots ]\n",
      "    \n",
      "    #increment simulation time\n",
      "    t += deltaT\n",
      "    \n",
      "for i in QNet.bface.keys():\n",
      "    print(\"block number \" + str(i) + \": \" + str(QNet.bface[i].total) + \" total arrivals\")\n",
      "print(QNet.totalFlow)"
     ],
     "language": "python",
     "metadata": {},
     "outputs": [
      {
       "output_type": "stream",
       "stream": "stdout",
       "text": [
        "block number 0: 1004 total arrivals\n",
        "block number 1: 1035 total arrivals\n",
        "[[       0.  5972299.]\n",
        " [ 5973082.        0.]]\n"
       ]
      }
     ],
     "prompt_number": 42
    },
    {
     "cell_type": "code",
     "collapsed": false,
     "input": [
      "any([0])"
     ],
     "language": "python",
     "metadata": {},
     "outputs": [
      {
       "metadata": {},
       "output_type": "pyout",
       "prompt_number": 41,
       "text": [
        "False"
       ]
      }
     ],
     "prompt_number": 41
    },
    {
     "cell_type": "code",
     "collapsed": false,
     "input": [
      "import numpy as np\n",
      "\n",
      "arrivals = np.random.exponential(1,size=(1,2))\n",
      "print(arrivals)"
     ],
     "language": "python",
     "metadata": {},
     "outputs": [
      {
       "output_type": "stream",
       "stream": "stdout",
       "text": [
        "[[ 0.4502911   0.86964469]]\n"
       ]
      }
     ],
     "prompt_number": 44
    },
    {
     "cell_type": "code",
     "collapsed": false,
     "input": [
      "import math\n",
      "import random\n",
      "\n",
      "def nextTime(rateParameter):\n",
      "    return -math.log(1.0 - random.random()) / rateParameter\n",
      "\n",
      "nextTime(1)"
     ],
     "language": "python",
     "metadata": {},
     "outputs": [
      {
       "metadata": {},
       "output_type": "pyout",
       "prompt_number": 14,
       "text": [
        "0.017325371747258143"
       ]
      }
     ],
     "prompt_number": 14
    },
    {
     "cell_type": "code",
     "collapsed": false,
     "input": [
      "new_arrivals = np.array([1,0])\n",
      "any([i for i, x in enumerate(new_arrivals) if x == 0.0])"
     ],
     "language": "python",
     "metadata": {},
     "outputs": [
      {
       "metadata": {},
       "output_type": "pyout",
       "prompt_number": 14,
       "text": [
        "True"
       ]
      }
     ],
     "prompt_number": 14
    },
    {
     "cell_type": "code",
     "collapsed": false,
     "input": [
      "check_arrival = new_arrivals -1"
     ],
     "language": "python",
     "metadata": {},
     "outputs": [],
     "prompt_number": 17
    },
    {
     "cell_type": "code",
     "collapsed": false,
     "input": [
      "any([i for i, x in enumerate(check_arrival) if x <= 0])"
     ],
     "language": "python",
     "metadata": {},
     "outputs": [
      {
       "metadata": {},
       "output_type": "pyout",
       "prompt_number": 18,
       "text": [
        "True"
       ]
      }
     ],
     "prompt_number": 18
    },
    {
     "cell_type": "code",
     "collapsed": false,
     "input": [
      "arr = np.zeros((2,2))\n",
      "arr[0,1]"
     ],
     "language": "python",
     "metadata": {},
     "outputs": [
      {
       "metadata": {},
       "output_type": "pyout",
       "prompt_number": 67,
       "text": [
        "0.0"
       ]
      }
     ],
     "prompt_number": 67
    },
    {
     "cell_type": "code",
     "collapsed": false,
     "input": [
      "\n",
      "    \n",
      "\"\"\"    \n",
      "class queue:\n",
      "    def __init__(self)\n",
      "        queue.line = {}\n",
      "        \n",
      "    def arrival(self)\n",
      "\n",
      "\n",
      "\n",
      "def queue(lambd, mu, renege_time, simulation_time)\n",
      "    #initialize clock\n",
      "    t=0.0\n",
      "    \n",
      "    #initialize driver_queue\n",
      "    drivers = {}\n",
      "    \n",
      "    while t<simulation_time:\n",
      "        #get arrival and service time for new driver\n",
      "        if len(drivers)==0:\n",
      "            arrival_time = np.random.exponential(lambd)\n",
      "            service_start = arrival_time\n",
      "        else:\n",
      "            arrival_time+=np.random.exponential(lambd)\n",
      "            service_start = max(arrival_time,drivers[-1].service_end)\n",
      "\"\"\""
     ],
     "language": "python",
     "metadata": {},
     "outputs": [
      {
       "metadata": {},
       "output_type": "pyout",
       "prompt_number": 25,
       "text": [
        "'    \\nclass queue:\\n    def __init__(self)\\n        queue.line = {}\\n        \\n    def arrival(self)\\n\\n\\n\\ndef queue(lambd, mu, renege_time, simulation_time)\\n    #initialize clock\\n    t=0.0\\n    \\n    #initialize driver_queue\\n    drivers = {}\\n    \\n    while t<simulation_time:\\n        #get arrival and service time for new driver\\n        if len(drivers)==0:\\n            arrival_time = np.random.exponential(lambd)\\n            service_start = arrival_time\\n        else:\\n            arrival_time+=np.random.exponential(lambd)\\n            service_start = max(arrival_time,drivers[-1].service_end)\\n'"
       ]
      }
     ],
     "prompt_number": 25
    },
    {
     "cell_type": "code",
     "collapsed": false,
     "input": [],
     "language": "python",
     "metadata": {},
     "outputs": []
    }
   ],
   "metadata": {}
  }
 ]
}