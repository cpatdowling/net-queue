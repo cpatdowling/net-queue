{
 "cells": [
  {
   "cell_type": "raw",
   "metadata": {},
   "source": [
    "Helper functions"
   ]
  },
  {
   "cell_type": "code",
   "execution_count": 9,
   "metadata": {
    "collapsed": false
   },
   "outputs": [],
   "source": [
    "import sys\n",
    "import os\n",
    "import numpy as np\n",
    "\n",
    "def tf(string): #for boolean parameter values\n",
    "    if string == \"False\":\n",
    "        return(False)\n",
    "    elif string == \"True\":\n",
    "        return(True)\n",
    "    else:\n",
    "        print(\"Bad boolean at: \" + string)\n",
    "        print(\"Defaulting to False\")\n",
    "        return(False)\n",
    "    \n",
    "def sample_dist(distname, distparams):\n",
    "    #distribution types are encoded in class objects, this function\n",
    "    #samples accordingly\n",
    "    if distname == \"fixed\":\n",
    "        val = distparams\n",
    "    elif distname == \"exponential\":\n",
    "        val = np.random.exponential(distparams)\n",
    "    elif distname == \"uniform\":\n",
    "        val = np.random.uniform(distparams[0], distparams[1])\n",
    "    else:\n",
    "        print(\"sample_dist (helper) error, distribution type not known.\")\n",
    "        print(distname)\n",
    "        val = False\n",
    "    return(val)"
   ]
  },
  {
   "cell_type": "raw",
   "metadata": {},
   "source": [
    "Helper function tests"
   ]
  },
  {
   "cell_type": "code",
   "execution_count": 10,
   "metadata": {
    "collapsed": false
   },
   "outputs": [
    {
     "name": "stdout",
     "output_type": "stream",
     "text": [
      "0.106304039839\n",
      "6.84279499806\n",
      "sample_dist (helper) error, distribution type not known.\n",
      "poisson\n",
      "False\n"
     ]
    }
   ],
   "source": [
    "tf(\"True\")\n",
    "tf(\"False\")\n",
    "print(sample_dist(\"uniform\", (0,1)))\n",
    "print(sample_dist(\"exponential\", 5))\n",
    "print(sample_dist(\"poisson\", 2))"
   ]
  },
  {
   "cell_type": "raw",
   "metadata": {},
   "source": [
    "Parameter class, read/write methods"
   ]
  },
  {
   "cell_type": "code",
   "execution_count": 50,
   "metadata": {
    "collapsed": true
   },
   "outputs": [],
   "source": [
    "import sys\n",
    "import os\n",
    "import numpy as np\n",
    "\n",
    "\n",
    "class parameters:\n",
    "    def __init__(self):\n",
    "        #all parameter values\n",
    "        self.ALL = [\"SIMULATION_TIME\", \"TIME_RESOLUTION\", \"DRIVE_TIME_DIST\", \"DRIVE_TIME_DIST\",\n",
    "                    \"EXOGENOUS_INTERARRIVAL\", \"SERVICE_TIME_DIST\", \"SERVICE_TIME\", \"RENEGE_TIME\", \"NUM_SPOTS\", \n",
    "                    \"ROAD_NETWORK\", \"ARRIVAL_DIST\", \"VERBOSE\"]\n",
    "        #If param file passes single float, float is diagonalized across a network matrix\n",
    "        self.diagonalize = [\"EXOGENOUS_INTERARRIVAL\", \"SERVICE_TIME\", \"RENEGE_TIME\", \"NUM_SPOTS\"]\n",
    "\n",
    "        #Simulator parameters\n",
    "        self.SIMULATION_TIME = 1000.0\n",
    "        self.TIME_RESOLUTION = 0.01\n",
    "        self.VERBOSE = True\n",
    "        \n",
    "        #Simulator statistics to collect, list of keywords\n",
    "        self.STATS = [] \n",
    "        self.STATS_OPTIONS = [\"occupancy\", \"stationary\", \"interrejection\", \"traffic\"]\n",
    "            #\"occupancy\": measures proportion of servers in use at given time intervals\n",
    "            #\"stationary\": collects data to estimate stationary distribution of queues\n",
    "            #\"interrejection\": collects data to determine interreject time distribution for queue\n",
    "            #\"traffic\": collects data on the number of cars on each street\n",
    "        self.STATS_OPTIONS_TIMER = [\"occupancy\", \"stationary\", \"traffic\"] #stats measured at intervals\n",
    "        \n",
    "        #Network parameters\n",
    "        self.EXOGENOUS_INTERARRIVAL = 1.5 \n",
    "        self.ARRIVAL_DIST = \"exponential\"\n",
    "        self.SERVICE_TIME = 5.0\n",
    "        self.SERVICE_TIME_DIST = \"exponential\" #distribution for service times, eg exponential or fixed\n",
    "        self.RENEGE_TIME = 0.0           #amount of time driver will spend before quitting: not implemented\n",
    "        self.NUM_SPOTS = 5\n",
    "        self.DRIVE_TIME = 1.0\n",
    "        self.DRIVE_TIME_DIST = \"fixed\" #distribution for drive times, eg exponential or fixed\n",
    "\n",
    "        #Directed network topologies\n",
    "        #Default network is 2-cycle\n",
    "        self.ROAD_NETWORK = np.array([[0,1],\n",
    "                                      [1,0]])\n",
    "        self.networks = [\"ROAD_NETWORK\", \"GARAGE_NETWORK\"] #list is hold over for multiple overlaid networks (parking garages)\n",
    "        \n",
    "    def read(self, inFilePath):\n",
    "        #read parameter file\n",
    "        inFile = open(inFilePath, 'r')\n",
    "        lines = inFile.readlines()\n",
    "        for line in lines:\n",
    "            tokens = line.strip().split(\"=\")\n",
    "            if line[0] == \"#\" or line.strip() == \"\":\n",
    "                pass\n",
    "            elif tokens[1].strip()[0] == \"/\":\n",
    "                try:\n",
    "                    arr = np.loadtxt(tokens[1].strip(), dtype=np.dtype(float), delimiter = \",\")\n",
    "                    setattr(self, tokens[0].strip(), arr)\n",
    "                except Exception as err:\n",
    "                    print(\"Error reading parameter file path at line: \")\n",
    "                    print(line)\n",
    "                    print(err)\n",
    "            elif tokens[1].strip()[0] == \"T\" or tokens[1].strip()[0] == \"F\":\n",
    "                setattr(self, tokens[0].strip(), tf(tokens[1].strip()))\n",
    "            else:\n",
    "                try:\n",
    "                    #float parameters\n",
    "                    setattr(self, tokens[0].strip(), float(tokens[1].strip()))\n",
    "                except:\n",
    "                    #string parameters\n",
    "                    setattr(self, tokens[0].strip(), tokens[1].strip())\n",
    "\n",
    "        for att in self.diagonalize:\n",
    "            if type(getattr(self, att)) != np.ndarray:\n",
    "                setattr(self, att, getattr(self, att) * np.eye(self.ROAD_NETWORK.shape[1]))\n",
    "            \n",
    "    def write(self, outFilePath, ident):\n",
    "        with open(outFilePath + \"/\" + ident + \"_PARAMS.txt\", 'w') as f:\n",
    "            for att in self.ALL:\n",
    "                if att in self.diagonalize:\n",
    "                    f.write(att + \" = \" + outFilePath + \"/\" + ident + \"_\" + att + \".txt \\n\")\n",
    "                    try:\n",
    "                        np.savetxt(outFilePath + \"/\" + ident + \"_\" + att + \".txt\", getattr(self, att), delimiter=\",\")\n",
    "                    except:\n",
    "                        out = getattr(self, att) * np.eye(self.ROAD_NETWORK.shape[1])\n",
    "                        np.savetxt(outFilePath + \"/\" + ident + \"_\" + att + \".txt\", out, delimiter=\",\")\n",
    "                elif att in self.networks:\n",
    "                    f.write(att + \" = \" + outFilePath + \"/\" + ident + \"_\" + att + \".txt \\n\")\n",
    "                    np.savetxt(outFilePath + \"/\" + ident + \"_\" + att + \".txt\", getattr(self, att), delimiter=\",\")\n",
    "                else:\n",
    "                    f.write(att + \" = \" + str(getattr(self, att)) + \"\\n\")\n"
   ]
  },
  {
   "cell_type": "raw",
   "metadata": {},
   "source": [
    "Parameter class tests\n",
    "    -initialize\n",
    "    -read\n",
    "    -write"
   ]
  },
  {
   "cell_type": "code",
   "execution_count": 51,
   "metadata": {
    "collapsed": false
   },
   "outputs": [],
   "source": [
    "params = parameters()"
   ]
  },
  {
   "cell_type": "code",
   "execution_count": 52,
   "metadata": {
    "collapsed": false
   },
   "outputs": [],
   "source": [
    "params.read('../../../test/five_block_test/test_params.txt')"
   ]
  },
  {
   "cell_type": "code",
   "execution_count": 53,
   "metadata": {
    "collapsed": false
   },
   "outputs": [],
   "source": [
    "newArrivalArray = 2.0 * np.eye(params.ROAD_NETWORK.shape[0])\n",
    "setattr(params, 'EXOGENOUS_INTERARRIVAL', newArrivalArray)\n",
    "newSimTime = 500.0\n",
    "setattr(params, 'SIMULATION_TIME', newSimTime)\n",
    "setattr(params, 'SERVICE_TIME_DIST', 'exponential')\n",
    "params.write('../../../test/five_block_test/', 'write_test') #output dir, identifier"
   ]
  },
  {
   "cell_type": "raw",
   "metadata": {},
   "source": [
    "Specific object classes: queues, blockfaces, streets, and vehicles"
   ]
  },
  {
   "cell_type": "code",
   "execution_count": 54,
   "metadata": {
    "collapsed": false
   },
   "outputs": [],
   "source": [
    "class nqueue: #this queue class serves as the queue type for both streets and blockfaces\n",
    "    def __init__(self, category, index, paramsInst):\n",
    "        self.INDEX = index\n",
    "        self.CATEGORY = category\n",
    "        self.TIME_RESOLUTION = paramsInst.TIME_RESOLUTION\n",
    "        self.ERR_LOG = {} #key is car index, val is error message\n",
    "        if category == \"blockface\":\n",
    "            self.EXOGENOUS_INTERARRIVAL = paramsInst.EXOGENOUS_INTERARRIVAL[index,index]\n",
    "            self.NEW_ARRIVAL_TIMER = 0.0\n",
    "            self.NEW_ARRIVAL_DIST = paramsInst.ARRIVAL_DIST\n",
    "            self.SERVICE_TIME = paramsInst.SERVICE_TIME[index, index]\n",
    "            self.SERVICE_TIME_DIST = paramsInst.SERVICE_TIME_DIST\n",
    "            self.NUM_SPOTS = paramsInst.NUM_SPOTS[index, index]\n",
    "            self.ACTIVE_SERVERS = np.zeros((int(self.NUM_SPOTS),2))\n",
    "            self.NEIGHBORING_BLOCKS = []\n",
    "            self.LOST = [] #list of car instances that were lost to the network\n",
    "            \n",
    "            #statistics\n",
    "            self.TOTAL = 0\n",
    "            self.SERVED = 0\n",
    "            self.EXOGENOUS_ARRIVALS = 0\n",
    "            self.LAST_REJECT_TIME = 0.0\n",
    "        \n",
    "            #stats requiring multiple measurements\n",
    "            self.OCCUPANCY = []\n",
    "            self.STATIONARY = []\n",
    "            self.INTERREJECTION_TIMES = []\n",
    "            \n",
    "        elif category == \"street\":\n",
    "            self.ORIGIN = index[0]\n",
    "            self.DESTINATION = index[1]\n",
    "            self.SERVICE_TIME = paramsInst.DRIVE_TIME\n",
    "            self.SERVICE_TIME_DIST = paramsInst.DRIVE_TIME_DIST\n",
    "            self.NUM_SPOTS = np.inf #infinite server queue\n",
    "            self.ACTIVE_SERVERS = np.array([[paramsInst.SIMULATION_TIME * 2, 0]]) #list will dynamically expand\n",
    "                                                                                  #\"0th\" car never finishes, holds list in place\n",
    "            \n",
    "            #statistics\n",
    "            self.TOTAL = 0\n",
    "            \n",
    "            #stats with multiple measurements\n",
    "            self.TRAFFIC = []   #number of vehicles currently on road per measurement\n",
    "        \n",
    "        else:\n",
    "            category == \"garage\" #empty category for now\n",
    "            print(\"Unprototyped nqueue category: garage\")\n",
    "            pass\n",
    "        \n",
    "    def get_service_time(self):\n",
    "        service_time = sample_dist(self.SERVICE_TIME_DIST, self.SERVICE_TIME)\n",
    "        return(service_time)\n",
    "    \n",
    "    def set_arrival_time(self):\n",
    "        self.NEW_ARRIVAL_TIMER = sample_dist(self.NEW_ARRIVAL_DIST, self.EXOGENOUS_INTERARRIVAL)\n",
    "    \n",
    "    def get_num_in_service(self):\n",
    "        num = self.ACTIVE_SERVERS[self.ACTIVE_SERVERS[:,0] > self.TIME_RESOLUTION].shape[0]\n",
    "        return(num)\n",
    "    \n",
    "    def get_available_servers(self):\n",
    "        #for determining availability in finite capacity queues\n",
    "        available = [ j for j, x in enumerate(self.ACTIVE_SERVERS[:,0]) if x <= self.TIME_RESOLUTION ]\n",
    "        if self.CATEGORY == \"street\" and len(available) == 0:\n",
    "            new_server_array = np.concatenate( (self.ACTIVE_SERVERS, np.zeros((1,2))), axis=0)\n",
    "            self.ACTIVE_SERVERS = new_server_array\n",
    "            available = [self.ACTIVE_SERVERS.shape[0] - 1]\n",
    "        return(available)\n",
    "    \n",
    "    def get_neighbor_block(self, carInst):\n",
    "        #asks car instance for search strategy\n",
    "        newDest = carInst.choose_next_block(self.NEIGHBORING_BLOCKS)\n",
    "        if newDest == None:\n",
    "            print(\"Isolated rejection occured at block-face, no adjacent blockfaces found by car strategy: \" + str(self.INDEX))\n",
    "        return(newDest)\n",
    "    \n",
    "    def new_car(self, carInst, current_time):\n",
    "        #update global stats\n",
    "        self.TOTAL += 1\n",
    "        \n",
    "        #update servers\n",
    "        stime = self.get_service_time()\n",
    "        available_servers = self.get_available_servers()\n",
    "        self.ACTIVE_SERVERS[available_servers[0], 0] = stime\n",
    "        self.ACTIVE_SERVERS[available_servers[0], 1] = carInst.INDEX\n",
    "        \n",
    "        if self.CATEGORY == \"street\":\n",
    "            #update car stats\n",
    "            carInst.BLOCK_TIMES.append(current_time)\n",
    "            carInst.BLOCKS_ATTEMPTED.append(self.ORIGIN)\n",
    "            carInst.TOTAL_DRIVE_TIME += stime\n",
    "            \n",
    "            #update street stats\n",
    "        \n",
    "        elif self.CATEGORY == \"blockface\":\n",
    "            #update car stats\n",
    "            carInst.BLOCKS_ATTEMPTED.append(self.INDEX)\n",
    "            carInst.SERVICE_TIME = stime\n",
    "            carInst.EXIT_TIME = stime + current_time\n",
    "            \n",
    "            #update blockface stats\n",
    "            self.SERVED += 1\n",
    "        \n",
    "        elif self.CATEGORY == \"garage\":\n",
    "            pass"
   ]
  },
  {
   "cell_type": "code",
   "execution_count": 16,
   "metadata": {
    "collapsed": false
   },
   "outputs": [
    {
     "name": "stdout",
     "output_type": "stream",
     "text": [
      "[[ 1000.     0.]\n",
      " [    0.     0.]]\n",
      "[[ 1.  0.]\n",
      " [ 0.  0.]]\n",
      "[1]\n"
     ]
    }
   ],
   "source": [
    "a = nqueue(\"street\", (0,1), params)\n",
    "arr = a.get_available_servers()\n",
    "print(a.ACTIVE_SERVERS)\n",
    "for i in range(len(arr)):\n",
    "    a.ACTIVE_SERVERS[i,0] = 1\n",
    "print(a.ACTIVE_SERVERS)\n",
    "print(a.get_available_servers())"
   ]
  },
  {
   "cell_type": "code",
   "execution_count": 55,
   "metadata": {
    "collapsed": true
   },
   "outputs": [],
   "source": [
    "class car:\n",
    "    def __init__(self, index, tracker=False):\n",
    "        self.INDEX = index\n",
    "        self.TRACK_STATUS = tracker\n",
    "        self.ARRIVAL_TIME = 0.0 #simulation time when a car arrived to the network\n",
    "        self.EXIT_TIME = 0.0    #simulation time when a car exited the network\n",
    "        self.SERVICE_TIME = 0.0 #how long the car parked for\n",
    "        self.RENEGE_TIME = 0.0  #how long before a car eventually quit\n",
    "        self.BLOCK_TIMES = [] #simulation times at which a car was blocked\n",
    "        self.BLOCKS_ATTEMPTED = [] #indecies of blocks the car attempted to park at, including the successful block\n",
    "        self.TOTAL_DRIVE_TIME = 0.0 #how long the car spent driving\n",
    "        self.SEARCH_STRATEGY = \"uniform\" #develop search strategy here, so next block can be chosen from queue class\n",
    "                                         #according to this search strategy\n",
    "            \n",
    "    def choose_next_block(self, neighbors):\n",
    "        #choose from list of integers, neighbors, next block\n",
    "        if len(neighbors) == 0:\n",
    "            print(\"Isolated rejection at network boundary (no out-degree neighbors found at blockface)\")\n",
    "            next_block = None\n",
    "        else:\n",
    "            if self.SEARCH_STRATEGY == \"uniform\":\n",
    "                next_block = np.random.choice(neighbors)\n",
    "        return(next_block)"
   ]
  },
  {
   "cell_type": "raw",
   "metadata": {
    "collapsed": false
   },
   "source": [
    "Network objects and helper functions tests"
   ]
  },
  {
   "cell_type": "code",
   "execution_count": 18,
   "metadata": {
    "collapsed": false
   },
   "outputs": [
    {
     "name": "stdout",
     "output_type": "stream",
     "text": [
      "2.22484310354\n",
      "5\n"
     ]
    }
   ],
   "source": [
    "a = nqueue(\"blockface\", 1, params)\n",
    "print(a.get_service_time())\n",
    "print(len(a.ACTIVE_SERVERS))"
   ]
  },
  {
   "cell_type": "code",
   "execution_count": 19,
   "metadata": {
    "collapsed": false
   },
   "outputs": [
    {
     "name": "stdout",
     "output_type": "stream",
     "text": [
      "0\n",
      "[0, 1, 2, 3, 4]\n",
      "<bound method nqueue.get_neighbor_block of <__main__.nqueue instance at 0x7fb26c0bbb00>>\n",
      "1\n",
      "[0, 1, 2, 4]\n",
      "<bound method nqueue.get_neighbor_block of <__main__.nqueue instance at 0x7fb26c0bbb00>>\n"
     ]
    }
   ],
   "source": [
    "print(a.get_num_in_service())\n",
    "print(a.get_available_servers())\n",
    "print(a.get_neighbor_block)\n",
    "\n",
    "a.ACTIVE_SERVERS[3,0] = 20.0 #add a car in service\n",
    "a.ACTIVE_SERVERS[3,1] = 5 #add a car in service\n",
    "\n",
    "print(a.get_num_in_service())\n",
    "print(a.get_available_servers())\n",
    "print(a.get_neighbor_block)"
   ]
  },
  {
   "cell_type": "code",
   "execution_count": 20,
   "metadata": {
    "collapsed": false
   },
   "outputs": [
    {
     "data": {
      "text/plain": [
       "array([[  3.17471313,   2.        ],\n",
       "       [  0.        ,   0.        ],\n",
       "       [  0.        ,   0.        ],\n",
       "       [ 20.        ,   5.        ],\n",
       "       [  0.        ,   0.        ]])"
      ]
     },
     "execution_count": 20,
     "metadata": {},
     "output_type": "execute_result"
    }
   ],
   "source": [
    "c = car(2, tracker=False)\n",
    "a.new_car(c, 0.0)\n",
    "a.ACTIVE_SERVERS"
   ]
  },
  {
   "cell_type": "code",
   "execution_count": 21,
   "metadata": {
    "collapsed": false
   },
   "outputs": [
    {
     "name": "stdout",
     "output_type": "stream",
     "text": [
      "0.1\n",
      "1\n"
     ]
    },
    {
     "data": {
      "text/plain": [
       "array([[  1.00000000e+03,   0.00000000e+00],\n",
       "       [  1.00000000e-01,   2.00000000e+00]])"
      ]
     },
     "execution_count": 21,
     "metadata": {},
     "output_type": "execute_result"
    }
   ],
   "source": [
    "a = nqueue(\"street\", (1,2), params)\n",
    "print(a.get_service_time())\n",
    "print(len(a.ACTIVE_SERVERS))\n",
    "\n",
    "c = car(2, tracker=False)\n",
    "a.new_car(c, 0.0)\n",
    "a.ACTIVE_SERVERS"
   ]
  },
  {
   "cell_type": "raw",
   "metadata": {},
   "source": [
    "Network class"
   ]
  },
  {
   "cell_type": "code",
   "execution_count": 56,
   "metadata": {
    "collapsed": false
   },
   "outputs": [],
   "source": [
    "class blockfaceNet:\n",
    "    def __init__(self, paramInstance):\n",
    "        self.PARAMS = paramInstance\n",
    "        self.TIMER = 0.0\n",
    "        self.STOPWATCH = []\n",
    "        self.NUM_MEASUREMENTS = 1000.0 #number of measurements for in situ sensors\n",
    "        \n",
    "        num_blocks = self.PARAMS.ROAD_NETWORK.shape[1]\n",
    "        self.BLOCKFACES = {}\n",
    "        for ii in range(num_blocks):\n",
    "            self.BLOCKFACES[ii] = nqueue(\"blockface\", ii, self.PARAMS)\n",
    "            neighboring_blocks = [ j for j, x in enumerate(self.PARAMS.ROAD_NETWORK[ii,:]) if x == 1 ]\n",
    "            self.BLOCKFACES[ii].NEIGHBORING_BLOCKS = neighboring_blocks\n",
    "        \n",
    "        #new arrival timer        \n",
    "        arrival_times = np.diag(self.PARAMS.EXOGENOUS_INTERARRIVAL)\n",
    "        self.INJECTION_BLOCKS = [ i for i, x in enumerate(arrival_times) if float(x) != 0.0 ]\n",
    "        for bi in range(len(self.INJECTION_BLOCKS)):\n",
    "            curr = self.INJECTION_BLOCKS[bi]\n",
    "            inittime = self.BLOCKFACES[curr].get_service_time()\n",
    "            self.BLOCKFACES[curr].NEW_ARRIVAL_TIMER = inittime   \n",
    "        \n",
    "        self.STREETS = {} #key is origin blockface, value is dict of streets with \n",
    "                          #destinations by key\n",
    "        for origin in range(num_blocks):\n",
    "            self.STREETS[origin] = {}\n",
    "            for dest_n in self.BLOCKFACES[origin].NEIGHBORING_BLOCKS:\n",
    "                self.STREETS[origin][dest_n] = nqueue(\"street\", (origin,dest_n), self.PARAMS)\n",
    "        \n",
    "        self.CAR_COUNT = 1\n",
    "        self.CARS = {} #index keys to car object values, keeps track of all arrivals to system\n",
    "        self.BLOCKFACE_LIST = sorted(self.BLOCKFACES.values(), key=lambda x: x.INDEX)\n",
    "        self.STREET_LIST = []\n",
    "        for origin in range(num_blocks):\n",
    "            for dest in self.STREETS[origin].keys():\n",
    "                self.STREET_LIST.append(self.STREETS[origin][dest])\n",
    "        self.STREET_LIST.sort(key=lambda x: (x.ORIGIN, x.DESTINATION))\n",
    "        \n",
    "    def step_time(self):\n",
    "        self.TIMER += self.PARAMS.TIME_RESOLUTION\n",
    "        #countdowns\n",
    "        for block in self.BLOCKFACES.keys():\n",
    "            self.BLOCKFACES[block].ACTIVE_SERVERS[:,0] -= self.PARAMS.TIME_RESOLUTION\n",
    "            if block in self.INJECTION_BLOCKS:\n",
    "                self.BLOCKFACES[block].NEW_ARRIVAL_TIMER -= self.PARAMS.TIME_RESOLUTION\n",
    "            for st in self.STREETS[block]: #streets originating from the current block\n",
    "                self.STREETS[block][st].ACTIVE_SERVERS[:,0] -= self.PARAMS.TIME_RESOLUTION\n",
    "                \n",
    "        if self.TIMER % (self.PARAMS.SIMULATION_TIME / 10) <= self.PARAMS.TIME_RESOLUTION:\n",
    "            if self.PARAMS.VERBOSE == True:\n",
    "                print(str(int(self.TIMER / (self.PARAMS.SIMULATION_TIME/100))) + \"% complete\")\n",
    "        \n",
    "        #sensor measurements\n",
    "        if self.TIMER % (self.PARAMS.SIMULATION_TIME / self.NUM_MEASUREMENTS) <= self.PARAMS.TIME_RESOLUTION:\n",
    "            self.STOPWATCH.append(self.TIMER)\n",
    "            self.collect_timer_stats()\n",
    "        \n",
    "    def get_car_arrivals(self, nqueue_inst):\n",
    "        if nqueue_inst.CATEGORY == \"street\":\n",
    "            curr_arr = [ j for j, x in enumerate(list(nqueue_inst.ACTIVE_SERVERS[:,0])) if x < self.PARAMS.TIME_RESOLUTION ]\n",
    "            ret_arr = list(nqueue_inst.ACTIVE_SERVERS[curr_arr,1])\n",
    "            nqueue_inst.ACTIVE_SERVERS = np.delete(nqueue_inst.ACTIVE_SERVERS, curr_arr, axis=0)\n",
    "        elif nqueue_inst.CATEGORY == \"blockface\": #check arrival timer, assign new car index and add it to car dict\n",
    "            ret_arr = []\n",
    "            if nqueue_inst.INDEX in self.INJECTION_BLOCKS:\n",
    "                if nqueue_inst.NEW_ARRIVAL_TIMER < self.PARAMS.TIME_RESOLUTION:\n",
    "                    self.CARS[self.CAR_COUNT] = car(self.CAR_COUNT)\n",
    "                    ret_arr.append(self.CAR_COUNT)\n",
    "                    self.CARS[self.CAR_COUNT].ARRIVAL_TIME = self.TIMER\n",
    "                    self.CAR_COUNT += 1\n",
    "                    nqueue_inst.set_arrival_time()\n",
    "            else:\n",
    "                pass\n",
    "        else:\n",
    "            pass\n",
    "        return(ret_arr)\n",
    "        \n",
    "    def check_arrivals(self, category):\n",
    "        #returns a list of car instance indices\n",
    "        if category==\"blockface\":\n",
    "            all_arr = [ self.get_car_arrivals(block_inst) for block_inst in self.BLOCKFACE_LIST ]\n",
    "        elif category==\"street\":\n",
    "            all_arr = [ self.get_car_arrivals(street_inst) for street_inst in self.STREET_LIST ]\n",
    "        elif category==\"garage\":\n",
    "            all_arr = []\n",
    "        arrival = any([ any(i) for i in all_arr ])\n",
    "        if not arrival:\n",
    "            all_arr = False\n",
    "        return(all_arr) \n",
    "    \n",
    "    def get_all_arrivals(self, category):\n",
    "        #retrieve arrival blockface belonging to car, list of tuples\n",
    "        #(arriving blockface, carInst)\n",
    "        arr = self.check_arrivals(category)\n",
    "        parking_cars = []\n",
    "        if arr == False:\n",
    "            pass\n",
    "        elif category==\"blockface\":\n",
    "            for i in range(len(arr)):\n",
    "                blocki = self.BLOCKFACE_LIST[i].INDEX\n",
    "                for cari in arr[i]:\n",
    "                    parking_cars.append( (blocki, int(cari)) )\n",
    "        elif category==\"street\":\n",
    "            for i in range(len(arr)):\n",
    "                dest = self.STREET_LIST[i].DESTINATION\n",
    "                for cari in arr[i]:\n",
    "                    parking_cars.append( (dest, int(cari)) )\n",
    "        elif category==\"garage\":\n",
    "            print(\"no garage arrivals\")\n",
    "            pass\n",
    "        return(parking_cars)\n",
    "    \n",
    "    def collect_timer_stats(self):\n",
    "        for stat in self.PARAMS.STATS_OPTIONS_TIMER:\n",
    "            if stat in self.PARAMS.STATS and stat != \"interrejection\":\n",
    "                getattr(self, \"update_\" + stat)()\n",
    "            \n",
    "    #simulation statistics for blockfaces\n",
    "    #STOPWATCH determined statistics\n",
    "    def update_occupancy(self):\n",
    "        for block in self.BLOCKFACES.keys():\n",
    "            spots = float(self.BLOCKFACES[block].NUM_SPOTS)\n",
    "            parked = float(self.BLOCKFACES[block].get_num_in_service())\n",
    "            self.BLOCKFACES[block].OCCUPANCY.append(parked/spots)\n",
    "            \n",
    "    def update_stationary(self):\n",
    "        for block in self.BLOCKFACES.keys():\n",
    "            parked = float(self.BLOCKFACES[block].get_num_in_service())\n",
    "            self.BLOCKFACES[block].STATIONARY.append(parked)\n",
    "            \n",
    "    def update_traffic(self):\n",
    "        for src in self.STREETS.keys():\n",
    "            for dest in self.STREETS[src].keys():\n",
    "                traff = float(self.STREETS[src][dest].get_num_in_service())\n",
    "                self.STREETS[src][dest].TRAFFIC.append(traff)\n",
    "    \n",
    "    #event determined statistics (measured when it happens)\n",
    "    def update_interrejection(self, block):\n",
    "        #updating rejection time sensor and appending rejection times\n",
    "        last_reject = self.BLOCKFACES[block].LAST_REJECT_TIME\n",
    "        inter_reject = self.TIMER - last_reject\n",
    "        self.BLOCKFACES[block].INTERREJECTION_TIMES.append(inter_reject)\n",
    "        self.BLOCKFACES[block].LAST_REJECT_TIME = self.TIMER\n",
    "    \n",
    "    def park(self, block, carIndex):\n",
    "        available_spots = self.BLOCKFACES[block].get_available_servers()        \n",
    "        if len(available_spots) > 0:\n",
    "            self.BLOCKFACES[block].new_car(self.CARS[carIndex], self.TIMER) #update queue with new car\n",
    "        else:\n",
    "            if \"interrejection\" in self.PARAMS.STATS:\n",
    "                self.update_interrejection(block)\n",
    "            try:\n",
    "                next_blockface = self.BLOCKFACES[block].get_neighbor_block(self.CARS[carIndex]) #takes car as argument for search strategy\n",
    "                if next_blockface == None:\n",
    "                    self.BLOCKFACES[block].LOST.append(self.CARS[carIndex])\n",
    "                else:\n",
    "                    self.STREETS[block][next_blockface].new_car(self.CARS[carIndex], self.TIMER) #update queue with new car\n",
    "            except Exception as err:\n",
    "                print(\"Isolated reject error at blockface \" + str(block))\n",
    "                print(err)\n",
    "                self.BLOCKFACES[block].ERR_LOG[carIndex] = err\n",
    "                \n",
    "    def simulate(self):\n",
    "        while self.TIMER < self.PARAMS.SIMULATION_TIME:\n",
    "            b_arrivals = self.get_all_arrivals(\"blockface\")\n",
    "            if b_arrivals:\n",
    "                for tup in b_arrivals:\n",
    "                    self.park(tup[0], tup[1])\n",
    "            s_arrivals = self.get_all_arrivals(\"street\")\n",
    "            if s_arrivals:\n",
    "                for tup in s_arrivals:\n",
    "                    self.park(tup[0], tup[1])\n",
    "            self.step_time()"
   ]
  },
  {
   "cell_type": "code",
   "execution_count": 57,
   "metadata": {
    "collapsed": false
   },
   "outputs": [],
   "source": [
    "import os\n",
    "\n",
    "class report:\n",
    "    def __init__(self, queuenet_inst, outputdir=os.getcwd()):\n",
    "        self.SIM_ID = str(np.random.randint(1,100000))\n",
    "        self.QNET = queuenet_inst\n",
    "        if outputdir[-1] != \"/\":\n",
    "            outputdir += \"/\"\n",
    "        self.OUTPUT_DIRECTORY = outputdir\n",
    "        self.BLOCKS = sorted(queuenet_inst.BLOCKFACES.keys())\n",
    "        pass\n",
    "    \n",
    "    def file_name(self, label):\n",
    "        out = self.OUTPUT_DIRECTORY + \"/\" + label + \"_\" + self.SIM_ID + \".txt\"\n",
    "        return(out)\n",
    "    \n",
    "    def traffic_array(self):\n",
    "        traffarray = np.zeros(self.QNET.PARAMS.ROAD_NETWORK.shape)\n",
    "        for origin in sorted(self.QNET.STREETS.keys()):\n",
    "            for dest in sorted(self.QNET.STREETS[origin].keys()):\n",
    "                traff = np.mean(np.asarray(self.QNET.STREETS[origin][dest].TRAFFIC)-1)\n",
    "                traffarray[origin,dest] = traff\n",
    "        return(traffarray)\n",
    "        \n",
    "    def occupancy_array(self):\n",
    "        occup = []\n",
    "        for block in self.BLOCKS:\n",
    "            occup.append(np.mean(np.asarray(self.QNET.BLOCKFACES[block].OCCUPANCY)))\n",
    "        return(np.asarray(occup))\n",
    "        \n",
    "    def stationary_array(self):\n",
    "        maxSpaces = int(np.max(self.QNET.PARAMS.NUM_SPOTS))\n",
    "        statDists = np.zeros((len(self.QNET.BLOCKFACES.keys()), maxSpaces + 1))\n",
    "        statBins = range(maxSpaces+2)\n",
    "        for block in self.BLOCKS:\n",
    "            statDist = np.histogram(self.QNET.BLOCKFACES[block].STATIONARY, \n",
    "                                    bins=statBins, density=True)[0]\n",
    "            statDists[block] = statDist\n",
    "        return(statDist)\n",
    "    \n",
    "    def interrejection_array(self):\n",
    "        inter = []\n",
    "        for block in self.BLOCKS:\n",
    "            inter.append(np.mean(np.asarray(self.QNET.BLOCKFACES[block].INTERREJECTION_TIMES)))\n",
    "        return(np.asarray(inter))\n",
    "    \n",
    "    def write_to_file(self):\n",
    "        #write data to files in specifed output directory based on stats collected\n",
    "        stats = self.QNET.PARAMS.STATS_OPTIONS\n",
    "        for stat in stats:\n",
    "            if stat in self.QNET.PARAMS.STATS:\n",
    "                data = getattr(self, stat + \"_array\")()\n",
    "                np.savetxt(self.file_name(stat), data, delimiter=\",\")\n",
    "        \n",
    "    def screen_print(self):\n",
    "        import pprint\n",
    "        stats = self.QNET.PARAMS.STATS_OPTIONS\n",
    "        for stat in stats:\n",
    "            if stat in self.QNET.PARAMS.STATS:\n",
    "                data = getattr(self, stat + \"_array\")()\n",
    "            print(\"======\" + stat.upper() + \"======\")\n",
    "            pprint.pprint(data)\n",
    "            print(\"\\n\\n\")\n",
    "        pass"
   ]
  },
  {
   "cell_type": "code",
   "execution_count": 24,
   "metadata": {
    "collapsed": false
   },
   "outputs": [
    {
     "name": "stdout",
     "output_type": "stream",
     "text": [
      "[[ 0.56832637  0.32155822  0.42917069  0.20974764]\n",
      " [ 0.10644465  0.35063474  0.65094963  0.59939478]\n",
      " [ 0.72472413  0.18781265  0.06475722  0.28284169]\n",
      " [ 0.73938181  0.00131213  0.42039     0.87496185]]\n",
      "[[ 0.10644465  0.35063474  0.65094963  0.59939478]\n",
      " [ 0.73938181  0.00131213  0.42039     0.87496185]]\n",
      "[[ 0.56832637  0.32155822  0.42917069  0.20974764]\n",
      " [ 0.          0.          0.          0.        ]\n",
      " [ 0.72472413  0.18781265  0.06475722  0.28284169]\n",
      " [ 0.          0.          0.          0.        ]]\n"
     ]
    }
   ],
   "source": [
    "a = np.random.rand(4,4)\n",
    "print(a)\n",
    "print(a[[1,3],:])\n",
    "a[[1,3],:] = 0\n",
    "print(a)\n"
   ]
  },
  {
   "cell_type": "raw",
   "metadata": {},
   "source": [
    "Queue network tests"
   ]
  },
  {
   "cell_type": "code",
   "execution_count": 58,
   "metadata": {
    "collapsed": false
   },
   "outputs": [
    {
     "name": "stdout",
     "output_type": "stream",
     "text": [
      "SIMULATION_TIME\n",
      "500.0\n",
      "TIME_RESOLUTION\n",
      "0.01\n",
      "DRIVE_TIME_DIST\n",
      "fixed\n",
      "DRIVE_TIME_DIST\n",
      "fixed\n",
      "EXOGENOUS_INTERARRIVAL\n",
      "[[ 1.53  0.    0.    0.    0.    0.    0.    0.    0.    0.  ]\n",
      " [ 0.    1.53  0.    0.    0.    0.    0.    0.    0.    0.  ]\n",
      " [ 0.    0.    1.53  0.    0.    0.    0.    0.    0.    0.  ]\n",
      " [ 0.    0.    0.    1.53  0.    0.    0.    0.    0.    0.  ]\n",
      " [ 0.    0.    0.    0.    1.53  0.    0.    0.    0.    0.  ]\n",
      " [ 0.    0.    0.    0.    0.    1.53  0.    0.    0.    0.  ]\n",
      " [ 0.    0.    0.    0.    0.    0.    1.53  0.    0.    0.  ]\n",
      " [ 0.    0.    0.    0.    0.    0.    0.    1.53  0.    0.  ]\n",
      " [ 0.    0.    0.    0.    0.    0.    0.    0.    1.53  0.  ]\n",
      " [ 0.    0.    0.    0.    0.    0.    0.    0.    0.    1.53]]\n",
      "SERVICE_TIME_DIST\n",
      "exponential\n",
      "SERVICE_TIME\n",
      "[[ 5.  0.  0.  0.  0.  0.  0.  0.  0.  0.]\n",
      " [ 0.  5.  0.  0.  0.  0.  0.  0.  0.  0.]\n",
      " [ 0.  0.  5.  0.  0.  0.  0.  0.  0.  0.]\n",
      " [ 0.  0.  0.  5.  0.  0.  0.  0.  0.  0.]\n",
      " [ 0.  0.  0.  0.  5.  0.  0.  0.  0.  0.]\n",
      " [ 0.  0.  0.  0.  0.  5.  0.  0.  0.  0.]\n",
      " [ 0.  0.  0.  0.  0.  0.  5.  0.  0.  0.]\n",
      " [ 0.  0.  0.  0.  0.  0.  0.  5.  0.  0.]\n",
      " [ 0.  0.  0.  0.  0.  0.  0.  0.  5.  0.]\n",
      " [ 0.  0.  0.  0.  0.  0.  0.  0.  0.  5.]]\n",
      "RENEGE_TIME\n",
      "[[ 0.  0.  0.  0.  0.  0.  0.  0.  0.  0.]\n",
      " [ 0.  0.  0.  0.  0.  0.  0.  0.  0.  0.]\n",
      " [ 0.  0.  0.  0.  0.  0.  0.  0.  0.  0.]\n",
      " [ 0.  0.  0.  0.  0.  0.  0.  0.  0.  0.]\n",
      " [ 0.  0.  0.  0.  0.  0.  0.  0.  0.  0.]\n",
      " [ 0.  0.  0.  0.  0.  0.  0.  0.  0.  0.]\n",
      " [ 0.  0.  0.  0.  0.  0.  0.  0.  0.  0.]\n",
      " [ 0.  0.  0.  0.  0.  0.  0.  0.  0.  0.]\n",
      " [ 0.  0.  0.  0.  0.  0.  0.  0.  0.  0.]\n",
      " [ 0.  0.  0.  0.  0.  0.  0.  0.  0.  0.]]\n",
      "NUM_SPOTS\n",
      "[[ 5.  0.  0.  0.  0.  0.  0.  0.  0.  0.]\n",
      " [ 0.  5.  0.  0.  0.  0.  0.  0.  0.  0.]\n",
      " [ 0.  0.  5.  0.  0.  0.  0.  0.  0.  0.]\n",
      " [ 0.  0.  0.  5.  0.  0.  0.  0.  0.  0.]\n",
      " [ 0.  0.  0.  0.  5.  0.  0.  0.  0.  0.]\n",
      " [ 0.  0.  0.  0.  0.  5.  0.  0.  0.  0.]\n",
      " [ 0.  0.  0.  0.  0.  0.  5.  0.  0.  0.]\n",
      " [ 0.  0.  0.  0.  0.  0.  0.  5.  0.  0.]\n",
      " [ 0.  0.  0.  0.  0.  0.  0.  0.  5.  0.]\n",
      " [ 0.  0.  0.  0.  0.  0.  0.  0.  0.  5.]]\n",
      "ROAD_NETWORK\n",
      "[[ 0.  1.  1.  0.  0.  0.  0.  0.  1.  1.]\n",
      " [ 1.  0.  1.  1.  0.  0.  0.  0.  0.  1.]\n",
      " [ 1.  1.  0.  1.  1.  0.  0.  0.  0.  0.]\n",
      " [ 0.  1.  1.  0.  1.  1.  0.  0.  0.  0.]\n",
      " [ 0.  0.  1.  1.  0.  1.  1.  0.  0.  0.]\n",
      " [ 0.  0.  0.  1.  1.  0.  1.  1.  0.  0.]\n",
      " [ 0.  0.  0.  0.  1.  1.  0.  1.  1.  0.]\n",
      " [ 0.  0.  0.  0.  0.  1.  1.  0.  1.  1.]\n",
      " [ 1.  0.  0.  0.  0.  0.  1.  1.  0.  1.]\n",
      " [ 1.  1.  0.  0.  0.  0.  0.  1.  1.  0.]]\n",
      "ARRIVAL_DIST\n",
      "exponential\n",
      "VERBOSE\n",
      "True\n"
     ]
    }
   ],
   "source": [
    "params.read('../../../test/five_block_test/test_params.txt')\n",
    "\n",
    "params.SIMULATION_TIME = 500.0\n",
    "params.TIME_RESOLUTION = 0.01\n",
    "params.EXOGENOUS_INTERARRIVAL = 1.5*params.EXOGENOUS_INTERARRIVAL\n",
    "params.SERVICE_TIME_DIST = \"exponential\"\n",
    "\n",
    "for att in params.ALL:\n",
    "    print(att)\n",
    "    print(getattr(params, att))"
   ]
  },
  {
   "cell_type": "code",
   "execution_count": 59,
   "metadata": {
    "collapsed": false
   },
   "outputs": [
    {
     "name": "stdout",
     "output_type": "stream",
     "text": [
      "0% complete\n",
      "10% complete\n",
      "20% complete\n",
      "30% complete\n",
      "40% complete\n",
      "50% complete\n",
      "60% complete\n",
      "70% complete\n",
      "80% complete\n",
      "90% complete\n",
      "100% complete\n"
     ]
    }
   ],
   "source": [
    "params.STATS = [\"occupancy\", \"stationary\", \"traffic\", \"interrejection\"]\n",
    "QNet = blockfaceNet(params)\n",
    "QNet.PARAMS.VERBOSE = True\n",
    "QNet.simulate()"
   ]
  },
  {
   "cell_type": "code",
   "execution_count": 60,
   "metadata": {
    "collapsed": false
   },
   "outputs": [
    {
     "name": "stdout",
     "output_type": "stream",
     "text": [
      "======OCCUPANCY======\n",
      "array([ 0.67332667,  0.72627373,  0.66373626,  0.65374625,  0.68891109,\n",
      "        0.64535465,  0.66913087,  0.64075924,  0.67492507,  0.68831169])\n",
      "\n",
      "\n",
      "\n",
      "======STATIONARY======\n",
      "array([ 0.01298701,  0.05794206,  0.16183816,  0.26373626,  0.24875125,\n",
      "        0.25474525])\n",
      "\n",
      "\n",
      "\n",
      "======INTERREJECTION======\n",
      "array([ 2.31807512,  2.44852217,  2.479801  ,  2.26106977,  2.24972973,\n",
      "        2.51552083,  2.68168539,  2.54287179,  2.59223958,  2.51151515])\n",
      "\n",
      "\n",
      "\n",
      "======TRAFFIC======\n",
      "array([[ 0.        ,  0.00899101,  0.004995  ,  0.        ,  0.        ,\n",
      "         0.        ,  0.        ,  0.        ,  0.00799201,  0.01498501],\n",
      "       [ 0.00799201,  0.        ,  0.00799201,  0.004995  ,  0.        ,\n",
      "         0.        ,  0.        ,  0.        ,  0.        ,  0.01298701],\n",
      "       [ 0.01098901,  0.00999001,  0.        ,  0.00799201,  0.00699301,\n",
      "         0.        ,  0.        ,  0.        ,  0.        ,  0.        ],\n",
      "       [ 0.        ,  0.00699301,  0.00999001,  0.        ,  0.01098901,\n",
      "         0.00599401,  0.        ,  0.        ,  0.        ,  0.        ],\n",
      "       [ 0.        ,  0.        ,  0.00599401,  0.01498501,  0.        ,\n",
      "         0.01398601,  0.01798202,  0.        ,  0.        ,  0.        ],\n",
      "       [ 0.        ,  0.        ,  0.        ,  0.00899101,  0.00599401,\n",
      "         0.        ,  0.004995  ,  0.00799201,  0.        ,  0.        ],\n",
      "       [ 0.        ,  0.        ,  0.        ,  0.        ,  0.00899101,\n",
      "         0.00799201,  0.        ,  0.004995  ,  0.00599401,  0.        ],\n",
      "       [ 0.        ,  0.        ,  0.        ,  0.        ,  0.        ,\n",
      "         0.00899101,  0.00799201,  0.        ,  0.01398601,  0.01098901],\n",
      "       [ 0.00799201,  0.        ,  0.        ,  0.        ,  0.        ,\n",
      "         0.        ,  0.00899101,  0.01198801,  0.        ,  0.00899101],\n",
      "       [ 0.00699301,  0.00999001,  0.        ,  0.        ,  0.        ,\n",
      "         0.        ,  0.        ,  0.00799201,  0.00999001,  0.        ]])\n",
      "\n",
      "\n",
      "\n"
     ]
    }
   ],
   "source": [
    "rep = report(QNet, outputdir = \"../../../test/five_block_test/sim_output\")\n",
    "rep.screen_print()\n",
    "rep.write_to_file()"
   ]
  },
  {
   "cell_type": "code",
   "execution_count": 51,
   "metadata": {
    "collapsed": false,
    "scrolled": true
   },
   "outputs": [
    {
     "name": "stdout",
     "output_type": "stream",
     "text": [
      "0.46953046953\n",
      "0.35984015984\n",
      "0.462937062937\n",
      "0.465734265734\n",
      "0.446953046953\n",
      "0.425774225774\n",
      "0.408191808192\n",
      "0.508491508492\n",
      "0.463936063936\n",
      "0.522077922078\n",
      "(0, 1)\n",
      "0.000999000999001\n",
      "(0, 2)\n",
      "0.001998001998\n",
      "(0, 8)\n",
      "0.001998001998\n",
      "(0, 9)\n",
      "0.002997002997\n",
      "(1, 0)\n",
      "0.0\n",
      "(1, 2)\n",
      "0.0\n",
      "(1, 3)\n",
      "0.0\n",
      "(1, 9)\n",
      "0.0\n",
      "(2, 0)\n",
      "0.0\n",
      "(2, 1)\n",
      "0.0\n",
      "(2, 3)\n",
      "0.0\n",
      "(2, 4)\n",
      "0.0\n",
      "(3, 1)\n",
      "0.0\n",
      "(3, 2)\n",
      "0.0\n",
      "(3, 4)\n",
      "0.0\n",
      "(3, 5)\n",
      "0.001998001998\n",
      "(4, 2)\n",
      "0.0\n",
      "(4, 3)\n",
      "0.0\n",
      "(4, 5)\n",
      "0.000999000999001\n",
      "(4, 6)\n",
      "0.0\n",
      "(5, 3)\n",
      "0.0\n",
      "(5, 4)\n",
      "0.0\n",
      "(5, 6)\n",
      "0.000999000999001\n",
      "(5, 7)\n",
      "0.001998001998\n",
      "(6, 4)\n",
      "0.0\n",
      "(6, 5)\n",
      "0.0\n",
      "(6, 7)\n",
      "0.0\n",
      "(6, 8)\n",
      "0.0\n",
      "(7, 5)\n",
      "0.000999000999001\n",
      "(7, 6)\n",
      "0.001998001998\n",
      "(7, 8)\n",
      "0.0\n",
      "(7, 9)\n",
      "0.001998001998\n",
      "(8, 0)\n",
      "0.0\n",
      "(8, 6)\n",
      "0.000999000999001\n",
      "(8, 7)\n",
      "0.001998001998\n",
      "(8, 9)\n",
      "0.000999000999001\n",
      "(9, 0)\n",
      "0.000999000999001\n",
      "(9, 1)\n",
      "0.001998001998\n",
      "(9, 7)\n",
      "0.000999000999001\n",
      "(9, 8)\n",
      "0.002997002997\n"
     ]
    }
   ],
   "source": [
    "for block in sorted(QNet.BLOCKFACES.keys()):\n",
    "    print(np.mean(np.asarray(QNet.BLOCKFACES[block].OCCUPANCY)))\n",
    "    #print(QNet.BLOCKFACES[block].STATIONARY)\n",
    "    \n",
    "for origin in sorted(QNet.STREETS.keys()):\n",
    "    for dest in sorted(QNet.STREETS[origin].keys()):\n",
    "        print(origin,dest)\n",
    "        print(np.mean(np.asarray(QNet.STREETS[origin][dest].TRAFFIC)-1))\n",
    "        #print(QNet.STREETS[origin][dest].ACTIVE_SERVERS)"
   ]
  },
  {
   "cell_type": "code",
   "execution_count": null,
   "metadata": {
    "collapsed": false
   },
   "outputs": [],
   "source": []
  },
  {
   "cell_type": "code",
   "execution_count": 35,
   "metadata": {
    "collapsed": false
   },
   "outputs": [
    {
     "name": "stdout",
     "output_type": "stream",
     "text": [
      "<__main__.car instance at 0x7fafc32fe680>\n",
      "5.0\n",
      "5.0\n",
      "0.0\n"
     ]
    }
   ],
   "source": [
    "a = car(2, 0.0)\n",
    "b = car(3, 1.0)\n",
    "cars = [a, b]\n",
    "times = [a.ARRIVAL_TIME, b.ARRIVAL_TIME]\n",
    "cars[0].ARRIVAL_TIME = 5.0\n",
    "print(a)\n",
    "print(a.ARRIVAL_TIME)\n",
    "print(cars[0].ARRIVAL_TIME)\n",
    "print(times[0])"
   ]
  },
  {
   "cell_type": "code",
   "execution_count": 5,
   "metadata": {
    "collapsed": false
   },
   "outputs": [],
   "source": [
    "import sys\n",
    "sys.path.append(\"/home/chase/projects/net-queue/src/python/qnet\")\n",
    "from qnet import *\n",
    "\n",
    "params = parameters()\n",
    "params.read('/home/chase/projects/net-queue/data/simulation/block_closure/sims/closure_1/closure_1_PARAMS.txt')"
   ]
  },
  {
   "cell_type": "code",
   "execution_count": 6,
   "metadata": {
    "collapsed": false
   },
   "outputs": [
    {
     "ename": "KeyError",
     "evalue": "2",
     "output_type": "error",
     "traceback": [
      "\u001b[0;31m---------------------------------------------------------------------------\u001b[0m",
      "\u001b[0;31mKeyError\u001b[0m                                  Traceback (most recent call last)",
      "\u001b[0;32m<ipython-input-6-f4960951adcb>\u001b[0m in \u001b[0;36m<module>\u001b[0;34m()\u001b[0m\n\u001b[1;32m      1\u001b[0m \u001b[0mparams\u001b[0m\u001b[0;34m.\u001b[0m\u001b[0mSTATS\u001b[0m \u001b[0;34m=\u001b[0m \u001b[0;34m[\u001b[0m\u001b[0;34m\"occupancy\"\u001b[0m\u001b[0;34m,\u001b[0m \u001b[0;34m\"stationary\"\u001b[0m\u001b[0;34m,\u001b[0m \u001b[0;34m\"traffic\"\u001b[0m\u001b[0;34m,\u001b[0m \u001b[0;34m\"interrejection\"\u001b[0m\u001b[0;34m]\u001b[0m\u001b[0;34m\u001b[0m\u001b[0m\n\u001b[0;32m----> 2\u001b[0;31m \u001b[0mQNet\u001b[0m \u001b[0;34m=\u001b[0m \u001b[0mblockfaceNet\u001b[0m\u001b[0;34m(\u001b[0m\u001b[0mparams\u001b[0m\u001b[0;34m)\u001b[0m\u001b[0;34m\u001b[0m\u001b[0m\n\u001b[0m\u001b[1;32m      3\u001b[0m \u001b[0mQNet\u001b[0m\u001b[0;34m.\u001b[0m\u001b[0mPARAMS\u001b[0m\u001b[0;34m.\u001b[0m\u001b[0mVERBOSE\u001b[0m \u001b[0;34m=\u001b[0m \u001b[0mTrue\u001b[0m\u001b[0;34m\u001b[0m\u001b[0m\n\u001b[1;32m      4\u001b[0m \u001b[0mQNet\u001b[0m\u001b[0;34m.\u001b[0m\u001b[0msimulate\u001b[0m\u001b[0;34m(\u001b[0m\u001b[0;34m)\u001b[0m\u001b[0;34m\u001b[0m\u001b[0m\n",
      "\u001b[0;32m/home/chase/projects/net-queue/src/python/qnet/qnet.pyc\u001b[0m in \u001b[0;36m__init__\u001b[0;34m(self, paramInstance)\u001b[0m\n\u001b[1;32m    264\u001b[0m         \u001b[0;32mfor\u001b[0m \u001b[0mbi\u001b[0m \u001b[0;32min\u001b[0m \u001b[0mrange\u001b[0m\u001b[0;34m(\u001b[0m\u001b[0mlen\u001b[0m\u001b[0;34m(\u001b[0m\u001b[0mself\u001b[0m\u001b[0;34m.\u001b[0m\u001b[0mINJECTION_BLOCKS\u001b[0m\u001b[0;34m)\u001b[0m\u001b[0;34m)\u001b[0m\u001b[0;34m:\u001b[0m\u001b[0;34m\u001b[0m\u001b[0m\n\u001b[1;32m    265\u001b[0m             \u001b[0mcurr\u001b[0m \u001b[0;34m=\u001b[0m \u001b[0mself\u001b[0m\u001b[0;34m.\u001b[0m\u001b[0mINJECTION_BLOCKS\u001b[0m\u001b[0;34m[\u001b[0m\u001b[0mbi\u001b[0m\u001b[0;34m]\u001b[0m\u001b[0;34m\u001b[0m\u001b[0m\n\u001b[0;32m--> 266\u001b[0;31m             \u001b[0minittime\u001b[0m \u001b[0;34m=\u001b[0m \u001b[0mself\u001b[0m\u001b[0;34m.\u001b[0m\u001b[0mBLOCKFACES\u001b[0m\u001b[0;34m[\u001b[0m\u001b[0mcurr\u001b[0m\u001b[0;34m]\u001b[0m\u001b[0;34m.\u001b[0m\u001b[0mget_service_time\u001b[0m\u001b[0;34m(\u001b[0m\u001b[0;34m)\u001b[0m\u001b[0;34m\u001b[0m\u001b[0m\n\u001b[0m\u001b[1;32m    267\u001b[0m             \u001b[0mself\u001b[0m\u001b[0;34m.\u001b[0m\u001b[0mBLOCKFACES\u001b[0m\u001b[0;34m[\u001b[0m\u001b[0mcurr\u001b[0m\u001b[0;34m]\u001b[0m\u001b[0;34m.\u001b[0m\u001b[0mNEW_ARRIVAL_TIMER\u001b[0m \u001b[0;34m=\u001b[0m \u001b[0minittime\u001b[0m\u001b[0;34m\u001b[0m\u001b[0m\n\u001b[1;32m    268\u001b[0m \u001b[0;34m\u001b[0m\u001b[0m\n",
      "\u001b[0;31mKeyError\u001b[0m: 2"
     ]
    }
   ],
   "source": [
    "params.STATS = [\"occupancy\", \"stationary\", \"traffic\", \"interrejection\"]\n",
    "QNet = blockfaceNet(params)\n",
    "QNet.PARAMS.VERBOSE = True\n",
    "QNet.simulate()"
   ]
  },
  {
   "cell_type": "code",
   "execution_count": 7,
   "metadata": {
    "collapsed": false
   },
   "outputs": [
    {
     "data": {
      "text/plain": [
       "array([[ 0.,  1.],\n",
       "       [ 1.,  0.]])"
      ]
     },
     "execution_count": 7,
     "metadata": {},
     "output_type": "execute_result"
    }
   ],
   "source": [
    "params.ROAD_NETWORK"
   ]
  },
  {
   "cell_type": "code",
   "execution_count": null,
   "metadata": {
    "collapsed": false
   },
   "outputs": [],
   "source": []
  },
  {
   "cell_type": "code",
   "execution_count": null,
   "metadata": {
    "collapsed": false
   },
   "outputs": [],
   "source": []
  },
  {
   "cell_type": "code",
   "execution_count": null,
   "metadata": {
    "collapsed": false
   },
   "outputs": [],
   "source": []
  },
  {
   "cell_type": "code",
   "execution_count": null,
   "metadata": {
    "collapsed": false
   },
   "outputs": [],
   "source": []
  },
  {
   "cell_type": "code",
   "execution_count": null,
   "metadata": {
    "collapsed": true
   },
   "outputs": [],
   "source": []
  }
 ],
 "metadata": {
  "kernelspec": {
   "display_name": "Python 2",
   "language": "python",
   "name": "python2"
  },
  "language_info": {
   "codemirror_mode": {
    "name": "ipython",
    "version": 2
   },
   "file_extension": ".py",
   "mimetype": "text/x-python",
   "name": "python",
   "nbconvert_exporter": "python",
   "pygments_lexer": "ipython2",
   "version": "2.7.12"
  }
 },
 "nbformat": 4,
 "nbformat_minor": 1
}
