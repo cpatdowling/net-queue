{
 "cells": [
  {
   "cell_type": "raw",
   "metadata": {},
   "source": [
    "Helper functions"
   ]
  },
  {
   "cell_type": "code",
   "execution_count": 2,
   "metadata": {
    "collapsed": false
   },
   "outputs": [],
   "source": [
    "import sys\n",
    "import os\n",
    "import numpy as np\n",
    "\n",
    "def tf(string): #for boolean parameter values\n",
    "    if string == \"False\":\n",
    "        return(False)\n",
    "    elif string == \"True\":\n",
    "        return(True)\n",
    "    else:\n",
    "        print(\"Bad boolean at: \" + string)\n",
    "        print(\"Defaulting to False\")\n",
    "        return(False)\n",
    "    \n",
    "def sample_dist(distname, distparams):\n",
    "    #distribution types are encoded in class objects, this function\n",
    "    #samples accordingly\n",
    "    if distname == \"fixed\":\n",
    "        val = distparams\n",
    "    elif distname == \"exponential\":\n",
    "        val = np.random.exponential(distparams)\n",
    "    elif distname == \"uniform\":\n",
    "        val = np.random.uniform(distparams[0], distparams[1])\n",
    "    else:\n",
    "        print(\"sample_dist (helper) error, distribution type not known.\")\n",
    "        print(distname)\n",
    "        val = False\n",
    "    return(val)"
   ]
  },
  {
   "cell_type": "raw",
   "metadata": {},
   "source": [
    "Helper function tests"
   ]
  },
  {
   "cell_type": "code",
   "execution_count": 3,
   "metadata": {
    "collapsed": false
   },
   "outputs": [
    {
     "name": "stdout",
     "output_type": "stream",
     "text": [
      "0.451579233886\n",
      "6.75632076605\n",
      "sample_dist (helper) error, distribution type not known.\n",
      "poisson\n",
      "False\n"
     ]
    }
   ],
   "source": [
    "tf(\"True\")\n",
    "tf(\"False\")\n",
    "print(sample_dist(\"uniform\", (0,1)))\n",
    "print(sample_dist(\"exponential\", 5))\n",
    "print(sample_dist(\"poisson\", 2))"
   ]
  },
  {
   "cell_type": "raw",
   "metadata": {},
   "source": [
    "Parameter class, read/write methods"
   ]
  },
  {
   "cell_type": "code",
   "execution_count": 4,
   "metadata": {
    "collapsed": true
   },
   "outputs": [],
   "source": [
    "import sys\n",
    "import os\n",
    "import numpy as np\n",
    "\n",
    "\n",
    "class parameters:\n",
    "    def __init__(self):\n",
    "        #all parameter values\n",
    "        self.ALL = [\"SIMULATION_TIME\", \"TIME_RESOLUTION\", \"DRIVE_TIME_DIST\", \"DRIVE_TIME_DIST\",\n",
    "                    \"EXOGENOUS_INTERARRIVAL\", \"SERVICE_TIME_DIST\", \"RENEGE_TIME\", \"NUM_SPOTS\", \n",
    "                    \"ROAD_NETWORK\", \"VERBOSE\"]\n",
    "        #If param file passes single float, float is diagonalized across a network matrix\n",
    "        self.diagonalize = [\"EXOGENOUS_INTERARRIVAL\", \"SERVICE_TIME\", \"RENEGE_TIME\", \"NUM_SPOTS\"]\n",
    "\n",
    "        #Simulator parameters\n",
    "        self.SIMULATION_TIME = 1000.0\n",
    "        self.TIME_RESOLUTION = 0.001\n",
    "        self.VERBOSE = True\n",
    "        \n",
    "        #Simulator statistics to collect, list of keywords\n",
    "        self.STATS = [] \n",
    "            #\"occupancy\": measures proportion of servers in use at given time intervals\n",
    "            #\"stationary\": collects data to estimate stationary distribution of queues\n",
    "            #\"interrejection\": collects data to determine interreject time distribution for queue\n",
    "            #\"traffic\": collects data on the number of cars on each street\n",
    "\n",
    "        #Network parameters\n",
    "        self.EXOGENOUS_INTERARRIVAL = 1.5 \n",
    "        self.SERVICE_TIME = 5.0\n",
    "        self.SERVICE_TIME_DIST = \"fixed\" #distribution for service times, eg exponential or fixed\n",
    "        self.RENEGE_TIME = 0.0           #amount of time driver will spend before quitting: not implemented\n",
    "        self.NUM_SPOTS = 5\n",
    "        self.DRIVE_TIME = 1.0\n",
    "        self.DRIVE_TIME_DIST = \"exponential\" #distribution for drive times, eg exponential or fixed\n",
    "\n",
    "        #Directed network topologies\n",
    "        #Default network is 2-cycle\n",
    "        self.ROAD_NETWORK = np.array([[0,1],\n",
    "                                      [1,0]])\n",
    "        self.networks = [\"ROAD_NETWORK\"] #list is hold over for multiple overlaid networks (parking garages)\n",
    "        \n",
    "    def read(self, inFilePath):\n",
    "        #read parameter file\n",
    "        inFile = open(inFilePath, 'r')\n",
    "        lines = inFile.readlines()\n",
    "        for line in lines:\n",
    "            tokens = line.strip().split(\"=\")\n",
    "            if line[0] == \"#\" or line.strip() == \"\":\n",
    "                pass\n",
    "            elif tokens[1].strip()[0] == \"/\":\n",
    "                try:\n",
    "                    arr = np.loadtxt(tokens[1].strip(), dtype=np.dtype(float), delimiter = \",\")\n",
    "                    setattr(self, tokens[0].strip(), arr)\n",
    "                except Exception as err:\n",
    "                    print(\"Error reading parameter file path at line: \")\n",
    "                    print(line)\n",
    "                    print(err)\n",
    "            elif tokens[1].strip()[0] == \"T\" or tokens[1].strip()[0] == \"F\":\n",
    "                setattr(self, tokens[0].strip(), tf(tokens[1].strip()))\n",
    "            else:\n",
    "                try:\n",
    "                    #float parameters\n",
    "                    setattr(self, tokens[0].strip(), float(tokens[1].strip()))\n",
    "                except:\n",
    "                    #string parameters\n",
    "                    setattr(self, tokens[0].strip(), tokens[1].strip())\n",
    "\n",
    "        for att in self.diagonalize:\n",
    "            if type(getattr(self, att)) != np.ndarray:\n",
    "                setattr(self, att, getattr(self, att) * np.eye(self.ROAD_NETWORK.shape[1]))\n",
    "            \n",
    "    def write(self, outFilePath, ident):\n",
    "        with open(outFilePath + \"/\" + ident + \"_PARAMS.txt\", 'w') as f:\n",
    "            for att in self.ALL:\n",
    "                if att in self.diagonalize:\n",
    "                    f.write(att + \" = \" + outFilePath + \"/\" + ident + \"_\" + att + \".txt \\n\")\n",
    "                    try:\n",
    "                        np.savetxt(outFilePath + \"/\" + ident + \"_\" + att + \".txt\", getattr(self, att), delimiter=\",\")\n",
    "                    except:\n",
    "                        out = getattr(self, att) * np.eye(self.ROAD_NETWORK.shape[1])\n",
    "                        np.savetxt(outFilePath + \"/\" + ident + \"_\" + att + \".txt\", out, delimiter=\",\")\n",
    "                elif att in self.networks:\n",
    "                    f.write(att + \" = \" + outFilePath + \"/\" + ident + \"_\" + att + \".txt \\n\")\n",
    "                    np.savetxt(outFilePath + \"/\" + ident + \"_\" + att + \".txt\", getattr(self, att), delimiter=\",\")\n",
    "                else:\n",
    "                    f.write(att + \" = \" + str(getattr(self, att)) + \"\\n\")\n"
   ]
  },
  {
   "cell_type": "raw",
   "metadata": {},
   "source": [
    "Parameter class tests\n",
    "    -initialize\n",
    "    -read\n",
    "    -write"
   ]
  },
  {
   "cell_type": "code",
   "execution_count": 5,
   "metadata": {
    "collapsed": true
   },
   "outputs": [],
   "source": [
    "params = parameters()"
   ]
  },
  {
   "cell_type": "code",
   "execution_count": 6,
   "metadata": {
    "collapsed": false
   },
   "outputs": [],
   "source": [
    "params.read('../../../test/five_block_test/test_params.txt')"
   ]
  },
  {
   "cell_type": "code",
   "execution_count": 7,
   "metadata": {
    "collapsed": false
   },
   "outputs": [],
   "source": [
    "newArrivalArray = 2.0 * np.eye(params.ROAD_NETWORK.shape[0])\n",
    "setattr(params, 'EXOGENOUS_INTEARRIVAL', newArrivalArray)\n",
    "newSimTime = 2000.0\n",
    "setattr(params, 'SIMULATION_TIME', newSimTime)\n",
    "setattr(params, 'SERVICE_TIME_DIST', 'exponential')\n",
    "params.write('../../../test/five_block_test/', 'write_test') #output dir, identifier"
   ]
  },
  {
   "cell_type": "raw",
   "metadata": {},
   "source": [
    "Specific object classes: queues, blockfaces, streets, and vehicles"
   ]
  },
  {
   "cell_type": "code",
   "execution_count": 8,
   "metadata": {
    "collapsed": true
   },
   "outputs": [],
   "source": [
    "class nqueue: #this queue class serves as the queue type for both streets and blockfaces\n",
    "    def __init__(self, category, index, paramsInst):\n",
    "        self.INDEX = index\n",
    "        self.CATEGORY = category\n",
    "        self.TIME_RESOLUTION = paramsInst.TIME_RESOLUTION\n",
    "        self.ERR_LOG = {} #key is car index, val is error message\n",
    "        if category == \"blockface\":\n",
    "            self.EXOGENOUS_INTERARRIVAL = paramsInst.EXOGENOUS_INTERARRIVAL\n",
    "            self.SERVICE_TIME = paramsInst.SERVICE_TIME[index, index]\n",
    "            self.SERVICE_TIME_DIST = paramsInst.SERVICE_TIME_DIST\n",
    "            self.NUM_SPOTS = paramsInst.NUM_SPOTS[index, index]\n",
    "            self.ACTIVE_SERVERS = np.zeros((int(self.NUM_SPOTS),))\n",
    "            self.NEIGHBORING_BLOCKS = []\n",
    "            \n",
    "            #statistics\n",
    "            self.TOTAL = 0\n",
    "            self.SERVED = 0\n",
    "            self.EXOGENOUS_ARRIVALS = 0\n",
    "            self.LAST_REJECT_TIME = 0.0\n",
    "        \n",
    "            #stats requiring multiple measurements\n",
    "            self.OCCUPANCY = []\n",
    "            self.STATIONARY = []\n",
    "            self.INTERREJECTION_TIMES = []\n",
    "            \n",
    "        elif category == \"street\":\n",
    "            self.ORIGIN = index[0]\n",
    "            self.DESTINATION = index[1]\n",
    "            self.SERVICE_TIME = paramsInst.DRIVE_TIME\n",
    "            self.SERVICE_TIME_DIST = paramsInst.DRIVE_TIME_DIST\n",
    "            self.NUM_SPOTS = np.inf #infinite server queue\n",
    "            self.ACTIVE_SERVERS = np.zeros((20,)) #assuming a likely maximum capacity, \n",
    "                                     #will dynamically expand if needed\n",
    "            \n",
    "            #statistics\n",
    "            self.TOTAL = 0\n",
    "            \n",
    "            #stats with multiple measurements\n",
    "            self.TRAFFIC = []   #number of vehicles currently on road per measurement\n",
    "        \n",
    "        else:\n",
    "            category == \"garage\" #empty category for now\n",
    "            print(\"Unprototyped nqueue category: garage\")\n",
    "            pass\n",
    "        \n",
    "    def get_service_time(self):\n",
    "        service_time = sample_dist(self.SERVICE_TIME_DIST, self.SERVICE_TIME)\n",
    "        return(service_time)\n",
    "    \n",
    "    def get_num_in_service(self):\n",
    "        num = self.ACTIVE_SERVERS[self.ACTIVE_SERVERS > self.TIME_RESOLUTION].shape[0]\n",
    "        return(num)\n",
    "    \n",
    "    def get_available_servers(self):\n",
    "        #for determining availability in finite capacity queues\n",
    "        available = [ j for j, x in enumerate(self.ACTIVE_SERVERS[block]) if x <= self.TIME_RESOLUTION ]\n",
    "        if self.CATEGORY == \"street\" and len(available) == 0:\n",
    "            new_server_array = np.concatenate( (self.ACTIVE_SERVERS, np.zeros((1,))), axis=0)\n",
    "            self.ACTIVE_SERVERS = new_server_array\n",
    "            available = [self.ACTIVE_SERVERS.shape[0] - 1]\n",
    "        return(available)\n",
    "    \n",
    "    def get_neighbor_block(self, carInst)\n",
    "        newDest = carInst.choose_next_block(self.NEIGHBORING_BLOCKS)\n",
    "        return(newDest)\n",
    "    \n",
    "    def new_car(self, carInst, current_time):\n",
    "        #update global stats\n",
    "        self.TOTAL += 1\n",
    "        \n",
    "        #update servers\n",
    "        stime = self.get_service_time()\n",
    "        available_servers = self.get_available_servers()\n",
    "        self.ACTIVE_SERVERS[available_servers[0]] = stime\n",
    "        \n",
    "        if self.CATEGORY == \"street\"\n",
    "            #update car stats\n",
    "            carInst.BLOCK_TIMES.append(current_time)\n",
    "            carInst.BLOCKS_ATTEMPTED.append(self.ORIGIN)\n",
    "            carInst.TOTAL_DRIVE_TIME += stime\n",
    "            \n",
    "            #update street stats\n",
    "        \n",
    "        elif self.CATEGORY == \"blockface\"\n",
    "            #update car stats\n",
    "            carInst.BLOCKS_ATTEMPTED.append(self.INDEX)\n",
    "            carInst.SERVICE_TIME = stime\n",
    "            carInst.EXIT_TIME = stime + current_time\n",
    "            \n",
    "            #update blockface stats\n",
    "            self.SERVED += 1\n",
    "        \n",
    "        elif self.CATEGORY == \"garage\"\n",
    "            pass"
   ]
  },
  {
   "cell_type": "code",
   "execution_count": 26,
   "metadata": {
    "collapsed": false
   },
   "outputs": [
    {
     "data": {
      "text/plain": [
       "[5]"
      ]
     },
     "execution_count": 26,
     "metadata": {},
     "output_type": "execute_result"
    }
   ],
   "source": [
    "[np.concatenate((np.zeros((5,)), np.zeros((1,))), axis=0).shape[0]-1]"
   ]
  },
  {
   "cell_type": "code",
   "execution_count": 9,
   "metadata": {
    "collapsed": false
   },
   "outputs": [
    {
     "name": "stdout",
     "output_type": "stream",
     "text": [
      "1.92985029347\n",
      "5\n"
     ]
    }
   ],
   "source": [
    "a = nqueue(\"blockface\", 1, params)\n",
    "print(a.get_service_time())\n",
    "print(len(a.ACTIVE_SERVERS))"
   ]
  },
  {
   "cell_type": "code",
   "execution_count": 13,
   "metadata": {
    "collapsed": true
   },
   "outputs": [],
   "source": [
    "class car:\n",
    "    def __init__(self, index, tracker=False):\n",
    "        self.INDEX = index\n",
    "        self.TRACK_STATUS = tracker\n",
    "        self.ARRIVAL_TIME = 0.0 #simulation time when a car arrived to the network\n",
    "        self.EXIT_TIME = 0.0    #simulation time when a car exited the network\n",
    "        self.SERVICE_TIME = 0.0 #how long the car parked for\n",
    "        self.RENEGE_TIME = 0.0  #how long before a car eventually quit\n",
    "        self.BLOCK_TIMES = [] #simulation times at which a car was blocked\n",
    "        self.BLOCKS_ATTEMPTED = [] #indecies of blocks the car attempted to park at, including the successful block\n",
    "        self.TOTAL_DRIVE_TIME = 0.0 #how long the car spent driving\n",
    "        self.SEARCH_STRATEGY = \"uniform\" #develop search strategy here, so next block can be chosen from queue class\n",
    "                                         #according to this search strategy\n",
    "            \n",
    "    def choose_next_block(neighbors):\n",
    "        #choose from list of integers, neighbors, next block\n",
    "        if self.SEARCH_STRATEGY == \"uniform\":\n",
    "            next_block = np.random.choice(neighbors)\n",
    "        return(next_block)\n",
    "            "
   ]
  },
  {
   "cell_type": "raw",
   "metadata": {},
   "source": [
    "Queue network class, maps all blockfaces and streets, contains timer methods and queue exchange (park, rejection) methods"
   ]
  },
  {
   "cell_type": "code",
   "execution_count": 14,
   "metadata": {
    "collapsed": false
   },
   "outputs": [
    {
     "data": {
      "text/plain": [
       "4"
      ]
     },
     "execution_count": 14,
     "metadata": {},
     "output_type": "execute_result"
    }
   ],
   "source": []
  },
  {
   "cell_type": "code",
   "execution_count": 29,
   "metadata": {
    "collapsed": false
   },
   "outputs": [],
   "source": [
    "class blockfaceNet:\n",
    "    def __init__(self, paramInstance, stats=[]):\n",
    "        self.PARAMS = paramInstance\n",
    "        self.PARAMS.STATS = stats\n",
    "        self.TIMER = 0.0\n",
    "        self.STOPWATCH = []\n",
    "        self.NUM_MEASUREMENTS = 1000.0 #number of measurements for in situ sensors\n",
    "        \n",
    "        num_blocks = self.PARAMS.ROAD_NETWORK.shape[1]\n",
    "        self.BLOCKFACES = {}\n",
    "        for ii in range(num_blocks):\n",
    "            self.BLOCKFACES[ii] = nqueue(\"blockface\", ii, self.PARAMS)\n",
    "            neighboring_blocks = [ j for j, x in enumerate(self.PARAMS.ROAD_NETWORK[ii,:]) if x == 1 ]\n",
    "            self.BLOCKFACES[ii].NEIGHBORING_BLOCKS = neighboring_blocks\n",
    "        \n",
    "        #new arrival timer        \n",
    "        arrival_times = np.diag(self.PARAMS.EXOGENOUS_INTERARRIVAL)\n",
    "        self.INJECTION_BLOCKS = [ i for i, x in enumerate(arrival_times) if float(x) != 0.0 ]\n",
    "        self.NEW_ARRIVAL_TIMER = np.zeros((len(self.INJECTION_BLOCKS),))\n",
    "        for bi in range(len(self.INJECTION_BLOCKS)):\n",
    "            curr = self.INJECTION_BLOCKS[bi]\n",
    "            inittime = self.BLOCKFACES[curr].get_service_time()\n",
    "            self.NEW_ARRIVAL_TIMER[bi] = inittime   \n",
    "        \n",
    "        self.STREETS = {} #key is origin blockface, value is dict of streets with \n",
    "                          #destinations by key\n",
    "        for origin in range(num_blocks):\n",
    "            self.STREETS[origin] = {}\n",
    "            for dest_n in self.BLOCKFACES[origin].NEIGHBORING_BLOCKS:\n",
    "                self.STREETS[origin][dest_n] = nqueue(\"street\", (origin,dest_n), self.PARAMS)\n",
    "                \n",
    "        self.CARS = {} #index keys to car object values, keeps track of all arrivals to system\n",
    "    \n",
    "    def step_time(self):\n",
    "        self.TIMER += self.PARAMS.TIME_RESOLUTION\n",
    "        #countdowns\n",
    "        for block in self.BLOCKFACES.keys():\n",
    "            self.BLOCKFACES[block].ACTIVE_SERVERS -= self.PARAMS.TIME_RESOLUTION\n",
    "            for st in self.STREETS[block]: #streets originating from the current block\n",
    "                self.STREETS[block][st].ACTIVE_SERVERS -= self.PARAMS.TIME_RESOLUTION\n",
    "                \n",
    "        if self.TIMER % (self.PARAMS.SIMULATION_TIME / 10) <= self.PARAMS.TIME_RESOLUTION:\n",
    "            if self.PARAMS.VERBOSE == True:\n",
    "                print(str(int(self.TIMER / (self.PARAMS.SIMULATION_TIME/100))) + \"% complete\")\n",
    "        \n",
    "        #sensor measurements\n",
    "        if self.TIMER % (self.PARAMS.SIMULATION_TIME / self.NUM_MEASUREMENTS) <= self.PARAMS.TIME_RESOLUTION:\n",
    "            self.STOPWATCH.append(self.TIMER)\n",
    "            \n",
    "            \n",
    "    def collect_timer_stats(self):\n",
    "        #stats collected at times recorded by self.STOPWATCH, to few to bother with options function\n",
    "        if \"occupancy\" in self.PARAMS.STATS:\n",
    "            self.update_occupancy()\n",
    "                \n",
    "        if \"stationary\" in self.PARAMS.STATS:\n",
    "            self.update_stationary()\n",
    "            \n",
    "        if \"traffic\" in self.PARAMS.STATS:\n",
    "            self.update_traffic()\n",
    "            \n",
    "    #simulation statistics for blockfaces\n",
    "    #STOPWATCH determined statistics\n",
    "    def update_occupancy(self):\n",
    "        for block in self.BLOCKFACES.keys():\n",
    "            spots = float(self.BLOCKFACES[block].NUM_SPOTS)\n",
    "            parked = float(self.BLOCKFACES[block].get_num_in_service())\n",
    "            self.BLOCKFACES[block].OCCUPANCY.append(parked/spots)\n",
    "            \n",
    "    def update_stationary(self):\n",
    "        for block in self.BLOCKFACES.keys():\n",
    "            parked = float(self.BLOCKFACES[block].get_num_in_service())\n",
    "            self.BLOCKFACES[block].STATIONARY.append(parked)\n",
    "            \n",
    "    def update_traffic(self):\n",
    "        for src in self.STREETS.keys():\n",
    "            for dest in self.STREETS[src].keys():\n",
    "                traff = float(self.STREETS[src][dest].get_num_in_service())\n",
    "                self.STREETS[src][dest].TRAFFIC.append(traff)\n",
    "    \n",
    "    #event determined statistics (measured when it happens)\n",
    "    def update_interrejection(self, block):\n",
    "        #updating rejection time sensor and appending rejection times\n",
    "        last_reject = self.BLOCKFACE[block].LAST_REJECT_TIME\n",
    "        inter_reject = self.TIMER - last_reject\n",
    "        self.BLOCKFACE[block].INTERREJECTION_TIMES.append(inter_reject)\n",
    "        self.BLOCKFACE[block].LAST_REJECT_TIME = self.TIMER\n",
    "    \n",
    "    def park(self, block, carIndex):\n",
    "        available_spots = self.BLOCKFACES[block].get_available_servers()        \n",
    "        if len(available_spots) > 0:\n",
    "            self.BLOCKFACES[block].new_car(self.CARS[carIndex], self.TIMER) #update queue with new car\n",
    "        else:\n",
    "            if \"interrejection\" in self.PARAMS.STATS:\n",
    "                self.update_interrejection(block)\n",
    "            try:\n",
    "                next_blockface = self.BLOCKFACES[block].get_neighbor_block(self.CARS[carIndex]) #takes car as argument for search strategy\n",
    "                self.STREETS[block][next_blockface].new_car(self.CARS[carIndex], self.TIMER) #update queue with new car\n",
    "            except Exception as err:\n",
    "                print(\"Isolated reject error at blockface \" + str(block))\n",
    "                print(err)\n",
    "                self.BLOCKFACES[block].ERR_LOG[carIndex] = err"
   ]
  },
  {
   "cell_type": "code",
   "execution_count": 28,
   "metadata": {
    "collapsed": false
   },
   "outputs": [
    {
     "data": {
      "text/plain": [
       "3"
      ]
     },
     "execution_count": 28,
     "metadata": {},
     "output_type": "execute_result"
    }
   ],
   "source": []
  },
  {
   "cell_type": "raw",
   "metadata": {},
   "source": [
    "Queue network tests"
   ]
  },
  {
   "cell_type": "code",
   "execution_count": 11,
   "metadata": {
    "collapsed": false
   },
   "outputs": [
    {
     "name": "stdout",
     "output_type": "stream",
     "text": [
      "[  3.0803571   24.3440716   28.08468503   2.1247125    0.44425523\n",
      "   6.81311625   5.73693733   7.38035761   7.22490079   6.8921641 ]\n"
     ]
    }
   ],
   "source": [
    "QNet = blockfaceNet(params)\n",
    "print(QNet.NEW_ARRIVAL_TIMER)\n"
   ]
  },
  {
   "cell_type": "code",
   "execution_count": 12,
   "metadata": {
    "collapsed": false
   },
   "outputs": [
    {
     "name": "stdout",
     "output_type": "stream",
     "text": [
      "0% complete\n",
      "10% complete\n",
      "20% complete\n",
      "30% complete\n",
      "40% complete\n",
      "50% complete\n",
      "60% complete\n",
      "70% complete\n",
      "80% complete\n",
      "90% complete\n",
      "100% complete\n",
      "[-2000.00099996 -2000.00099996 -2000.00099996 -2000.00099996 -2000.00099996]\n",
      "[-2000.00099996 -2000.00099996 -2000.00099996 -2000.00099996 -2000.00099996\n",
      " -2000.00099996 -2000.00099996 -2000.00099996 -2000.00099996 -2000.00099996\n",
      " -2000.00099996 -2000.00099996 -2000.00099996 -2000.00099996 -2000.00099996\n",
      " -2000.00099996 -2000.00099996 -2000.00099996 -2000.00099996 -2000.00099996]\n"
     ]
    }
   ],
   "source": [
    "while QNet.TIMER < QNet.PARAMS.SIMULATION_TIME:\n",
    "    QNet.step_time()\n",
    "    \n",
    "print(QNet.BLOCKFACES[1].ACTIVE_SERVERS)\n",
    "print(QNet.STREETS[1][3].ACTIVE_SERVERS)"
   ]
  },
  {
   "cell_type": "code",
   "execution_count": 134,
   "metadata": {
    "collapsed": false
   },
   "outputs": [
    {
     "name": "stdout",
     "output_type": "stream",
     "text": [
      "[0.0, 0.0, 0.0, 0.0, 0.0, 0.0, 0.0, 0.0, 0.0, 0.0, 0.0, 0.0, 0.0, 0.0, 0.0, 0.0, 0.0, 0.0, 0.0, 0.0, 0.0, 0.0, 0.0, 0.0, 0.0, 0.0, 0.0, 0.0, 0.0, 0.0, 0.0, 0.0, 0.0, 0.0, 0.0, 0.0, 0.0, 0.0, 0.0, 0.0, 0.0, 0.0, 0.0, 0.0, 0.0, 0.0, 0.0, 0.0, 0.0, 0.0, 0.0, 0.0, 0.0, 0.0, 0.0, 0.0, 0.0, 0.0, 0.0, 0.0, 0.0, 0.0, 0.0, 0.0, 0.0, 0.0, 0.0, 0.0, 0.0, 0.0, 0.0, 0.0, 0.0, 0.0, 0.0, 0.0, 0.0, 0.0, 0.0, 0.0, 0.0, 0.0, 0.0, 0.0, 0.0, 0.0, 0.0, 0.0, 0.0, 0.0, 0.0, 0.0, 0.0, 0.0, 0.0, 0.0, 0.0, 0.0, 0.0, 0.0, 0.0, 0.0, 0.0, 0.0, 0.0, 0.0, 0.0, 0.0, 0.0, 0.0, 0.0, 0.0, 0.0, 0.0, 0.0, 0.0, 0.0, 0.0, 0.0, 0.0, 0.0, 0.0, 0.0, 0.0, 0.0, 0.0, 0.0, 0.0, 0.0, 0.0, 0.0, 0.0, 0.0, 0.0, 0.0, 0.0, 0.0, 0.0, 0.0, 0.0, 0.0, 0.0, 0.0, 0.0, 0.0, 0.0, 0.0, 0.0, 0.0, 0.0, 0.0, 0.0, 0.0, 0.0, 0.0, 0.0, 0.0, 0.0, 0.0, 0.0, 0.0, 0.0, 0.0, 0.0, 0.0, 0.0, 0.0, 0.0, 0.0, 0.0, 0.0, 0.0, 0.0, 0.0, 0.0, 0.0, 0.0, 0.0, 0.0, 0.0, 0.0, 0.0, 0.0, 0.0, 0.0, 0.0, 0.0, 0.0, 0.0, 0.0, 0.0, 0.0, 0.0, 0.0, 0.0, 0.0, 0.0, 0.0, 0.0, 0.0, 0.0, 0.0, 0.0, 0.0, 0.0, 0.0, 0.0, 0.0, 0.0, 0.0, 0.0, 0.0, 0.0, 0.0, 0.0, 0.0, 0.0, 0.0, 0.0, 0.0, 0.0, 0.0, 0.0, 0.0, 0.0, 0.0, 0.0, 0.0, 0.0, 0.0, 0.0, 0.0, 0.0, 0.0, 0.0, 0.0, 0.0, 0.0, 0.0, 0.0, 0.0, 0.0, 0.0, 0.0, 0.0, 0.0, 0.0, 0.0, 0.0, 0.0, 0.0, 0.0, 0.0, 0.0, 0.0, 0.0, 0.0, 0.0, 0.0, 0.0, 0.0, 0.0, 0.0, 0.0, 0.0, 0.0, 0.0, 0.0, 0.0, 0.0, 0.0, 0.0, 0.0, 0.0, 0.0, 0.0, 0.0, 0.0, 0.0, 0.0, 0.0, 0.0, 0.0, 0.0, 0.0, 0.0, 0.0, 0.0, 0.0, 0.0, 0.0, 0.0, 0.0, 0.0, 0.0, 0.0, 0.0, 0.0, 0.0, 0.0, 0.0, 0.0, 0.0, 0.0, 0.0, 0.0, 0.0, 0.0, 0.0, 0.0, 0.0, 0.0, 0.0, 0.0, 0.0, 0.0, 0.0, 0.0, 0.0, 0.0, 0.0, 0.0, 0.0, 0.0, 0.0, 0.0, 0.0, 0.0, 0.0, 0.0, 0.0, 0.0, 0.0, 0.0, 0.0, 0.0, 0.0, 0.0, 0.0, 0.0, 0.0, 0.0, 0.0, 0.0, 0.0, 0.0, 0.0, 0.0, 0.0, 0.0, 0.0, 0.0, 0.0, 0.0, 0.0, 0.0, 0.0, 0.0, 0.0, 0.0, 0.0, 0.0, 0.0, 0.0, 0.0, 0.0, 0.0, 0.0, 0.0, 0.0, 0.0, 0.0, 0.0, 0.0, 0.0, 0.0, 0.0, 0.0, 0.0, 0.0, 0.0, 0.0, 0.0, 0.0, 0.0, 0.0, 0.0, 0.0, 0.0, 0.0, 0.0, 0.0, 0.0, 0.0, 0.0, 0.0, 0.0, 0.0, 0.0, 0.0, 0.0, 0.0, 0.0, 0.0, 0.0, 0.0, 0.0, 0.0, 0.0, 0.0, 0.0, 0.0, 0.0, 0.0, 0.0, 0.0, 0.0, 0.0, 0.0, 0.0, 0.0, 0.0, 0.0, 0.0, 0.0, 0.0, 0.0, 0.0, 0.0, 0.0, 0.0, 0.0, 0.0, 0.0, 0.0, 0.0, 0.0, 0.0, 0.0, 0.0, 0.0, 0.0, 0.0, 0.0, 0.0, 0.0, 0.0, 0.0, 0.0, 0.0, 0.0, 0.0, 0.0, 0.0, 0.0, 0.0, 0.0, 0.0, 0.0, 0.0, 0.0, 0.0, 0.0, 0.0, 0.0, 0.0, 0.0, 0.0, 0.0, 0.0, 0.0, 0.0, 0.0, 0.0, 0.0, 0.0, 0.0, 0.0, 0.0, 0.0, 0.0, 0.0, 0.0, 0.0, 0.0, 0.0, 0.0, 0.0, 0.0, 0.0, 0.0, 0.0, 0.0, 0.0, 0.0, 0.0, 0.0, 0.0, 0.0, 0.0, 0.0, 0.0, 0.0, 0.0, 0.0, 0.0, 0.0, 0.0, 0.0, 0.0, 0.0, 0.0, 0.0, 0.0, 0.0, 0.0, 0.0, 0.0, 0.0, 0.0, 0.0, 0.0, 0.0, 0.0, 0.0, 0.0, 0.0, 0.0, 0.0, 0.0, 0.0, 0.0, 0.0, 0.0, 0.0, 0.0, 0.0, 0.0, 0.0, 0.0, 0.0, 0.0, 0.0, 0.0, 0.0, 0.0, 0.0, 0.0, 0.0, 0.0, 0.0, 0.0, 0.0, 0.0, 0.0, 0.0, 0.0, 0.0, 0.0, 0.0, 0.0, 0.0, 0.0, 0.0, 0.0, 0.0, 0.0, 0.0, 0.0, 0.0, 0.0, 0.0, 0.0, 0.0, 0.0, 0.0, 0.0, 0.0, 0.0, 0.0, 0.0, 0.0, 0.0, 0.0, 0.0, 0.0, 0.0, 0.0, 0.0, 0.0, 0.0, 0.0, 0.0, 0.0, 0.0, 0.0, 0.0, 0.0, 0.0, 0.0, 0.0, 0.0, 0.0, 0.0, 0.0, 0.0, 0.0, 0.0, 0.0, 0.0, 0.0, 0.0, 0.0, 0.0, 0.0, 0.0, 0.0, 0.0, 0.0, 0.0, 0.0, 0.0, 0.0, 0.0, 0.0, 0.0, 0.0, 0.0, 0.0, 0.0, 0.0, 0.0, 0.0, 0.0, 0.0, 0.0, 0.0, 0.0, 0.0, 0.0, 0.0, 0.0, 0.0, 0.0, 0.0, 0.0, 0.0, 0.0, 0.0, 0.0, 0.0, 0.0, 0.0, 0.0, 0.0, 0.0, 0.0, 0.0, 0.0, 0.0, 0.0, 0.0, 0.0, 0.0, 0.0, 0.0, 0.0, 0.0, 0.0, 0.0, 0.0, 0.0, 0.0, 0.0, 0.0, 0.0, 0.0, 0.0, 0.0, 0.0, 0.0, 0.0, 0.0, 0.0, 0.0, 0.0, 0.0, 0.0, 0.0, 0.0, 0.0, 0.0, 0.0, 0.0, 0.0, 0.0, 0.0, 0.0, 0.0, 0.0, 0.0, 0.0, 0.0, 0.0, 0.0, 0.0, 0.0, 0.0, 0.0, 0.0, 0.0, 0.0, 0.0, 0.0, 0.0, 0.0, 0.0, 0.0, 0.0, 0.0, 0.0, 0.0, 0.0, 0.0, 0.0, 0.0, 0.0, 0.0, 0.0, 0.0, 0.0, 0.0, 0.0, 0.0, 0.0, 0.0, 0.0, 0.0, 0.0, 0.0, 0.0, 0.0, 0.0, 0.0, 0.0, 0.0, 0.0, 0.0, 0.0, 0.0, 0.0, 0.0, 0.0, 0.0, 0.0, 0.0, 0.0, 0.0, 0.0, 0.0, 0.0, 0.0, 0.0, 0.0, 0.0, 0.0, 0.0, 0.0, 0.0, 0.0, 0.0, 0.0, 0.0, 0.0, 0.0, 0.0, 0.0, 0.0, 0.0, 0.0, 0.0, 0.0, 0.0, 0.0, 0.0, 0.0, 0.0, 0.0, 0.0, 0.0, 0.0, 0.0, 0.0, 0.0, 0.0, 0.0, 0.0, 0.0, 0.0, 0.0, 0.0, 0.0, 0.0, 0.0, 0.0, 0.0, 0.0, 0.0, 0.0, 0.0, 0.0, 0.0, 0.0, 0.0, 0.0, 0.0, 0.0, 0.0, 0.0, 0.0, 0.0, 0.0, 0.0, 0.0, 0.0, 0.0, 0.0, 0.0, 0.0, 0.0, 0.0, 0.0, 0.0, 0.0, 0.0, 0.0, 0.0, 0.0, 0.0, 0.0, 0.0, 0.0, 0.0, 0.0, 0.0, 0.0, 0.0, 0.0, 0.0, 0.0, 0.0, 0.0, 0.0, 0.0, 0.0, 0.0, 0.0, 0.0, 0.0, 0.0, 0.0, 0.0, 0.0, 0.0, 0.0, 0.0, 0.0, 0.0, 0.0, 0.0, 0.0, 0.0, 0.0, 0.0, 0.0, 0.0, 0.0, 0.0, 0.0, 0.0, 0.0, 0.0, 0.0, 0.0, 0.0, 0.0, 0.0, 0.0, 0.0, 0.0, 0.0, 0.0, 0.0, 0.0, 0.0, 0.0, 0.0, 0.0, 0.0, 0.0, 0.0, 0.0, 0.0, 0.0, 0.0, 0.0, 0.0, 0.0, 0.0, 0.0, 0.0, 0.0, 0.0, 0.0, 0.0, 0.0, 0.0, 0.0, 0.0, 0.0, 0.0, 0.0, 0.0, 0.0, 0.0, 0.0, 0.0, 0.0, 0.0, 0.0, 0.0, 0.0, 0.0, 0.0, 0.0, 0.0, 0.0, 0.0, 0.0, 0.0, 0.0, 0.0, 0.0, 0.0, 0.0, 0.0, 0.0, 0.0, 0.0, 0.0, 0.0, 0.0, 0.0, 0.0, 0.0, 0.0, 0.0, 0.0, 0.0, 0.0, 0.0, 0.0, 0.0, 0.0, 0.0, 0.0, 0.0, 0.0, 0.0, 0.0, 0.0, 0.0, 0.0, 0.0, 0.0, 0.0, 0.0, 0.0, 0.0, 0.0, 0.0, 0.0, 0.0, 0.0, 0.0, 0.0, 0.0, 0.0, 0.0, 0.0, 0.0, 0.0, 0.0, 0.0, 0.0, 0.0, 0.0, 0.0, 0.0, 0.0, 0.0]\n"
     ]
    }
   ],
   "source": [
    "print(QNet.BLOCKFACES[1].OCCUPANCY)"
   ]
  },
  {
   "cell_type": "markdown",
   "metadata": {},
   "source": [
    "Specific object classes: queues, blockfaces, streets, and vehicles"
   ]
  },
  {
   "cell_type": "code",
   "execution_count": 123,
   "metadata": {
    "collapsed": true
   },
   "outputs": [],
   "source": []
  },
  {
   "cell_type": "raw",
   "metadata": {},
   "source": [
    "Unit tests"
   ]
  },
  {
   "cell_type": "code",
   "execution_count": 73,
   "metadata": {
    "collapsed": false,
    "scrolled": true
   },
   "outputs": [
    {
     "name": "stdout",
     "output_type": "stream",
     "text": [
      "5.0\n"
     ]
    },
    {
     "name": "stderr",
     "output_type": "stream",
     "text": [
      "/usr/local/lib/python2.7/dist-packages/ipykernel/__main__.py:11: VisibleDeprecationWarning: using a non-integer number instead of an integer will result in an error in the future\n"
     ]
    },
    {
     "ename": "AttributeError",
     "evalue": "nqueue instance has no attribute 'BLOCKFACE'",
     "output_type": "error",
     "traceback": [
      "\u001b[0;31m---------------------------------------------------------------------------\u001b[0m",
      "\u001b[0;31mAttributeError\u001b[0m                            Traceback (most recent call last)",
      "\u001b[0;32m<ipython-input-73-22c7c3ff78cb>\u001b[0m in \u001b[0;36m<module>\u001b[0;34m()\u001b[0m\n\u001b[1;32m      1\u001b[0m \u001b[0ma\u001b[0m \u001b[0;34m=\u001b[0m \u001b[0mnqueue\u001b[0m\u001b[0;34m(\u001b[0m\u001b[0;34m\"blockface\"\u001b[0m\u001b[0;34m,\u001b[0m \u001b[0;36m1\u001b[0m\u001b[0;34m,\u001b[0m \u001b[0mparams\u001b[0m\u001b[0;34m)\u001b[0m\u001b[0;34m\u001b[0m\u001b[0m\n\u001b[0;32m----> 2\u001b[0;31m \u001b[0ma\u001b[0m\u001b[0;34m.\u001b[0m\u001b[0mBLOCKFACE\u001b[0m\u001b[0;34m.\u001b[0m\u001b[0mget_service_time\u001b[0m\u001b[0;34m(\u001b[0m\u001b[0;34m)\u001b[0m\u001b[0;34m\u001b[0m\u001b[0m\n\u001b[0m",
      "\u001b[0;31mAttributeError\u001b[0m: nqueue instance has no attribute 'BLOCKFACE'"
     ]
    }
   ],
   "source": [
    "a = nqueue(\"blockface\", 1, params)\n",
    "a.BLOCKFACE.get_service_time()"
   ]
  },
  {
   "cell_type": "code",
   "execution_count": 54,
   "metadata": {
    "collapsed": false,
    "scrolled": true
   },
   "outputs": [
    {
     "name": "stdout",
     "output_type": "stream",
     "text": [
      "0.1\n",
      "0\n"
     ]
    }
   ],
   "source": [
    "a = nqueue(\"street\", 1, params)\n",
    "print(a.get_service_time())\n",
    "print(len(a.ACTIVE_SERVERS))"
   ]
  },
  {
   "cell_type": "code",
   "execution_count": 122,
   "metadata": {
    "collapsed": false,
    "scrolled": true
   },
   "outputs": [
    {
     "data": {
      "text/plain": [
       "array([ 0.,  0.])"
      ]
     },
     "execution_count": 122,
     "metadata": {},
     "output_type": "execute_result"
    }
   ],
   "source": [
    "np.concatenate( (np.zeros((1,)),np.zeros((1,))) )"
   ]
  },
  {
   "cell_type": "code",
   "execution_count": null,
   "metadata": {
    "collapsed": true
   },
   "outputs": [],
   "source": []
  }
 ],
 "metadata": {
  "kernelspec": {
   "display_name": "Python 2",
   "language": "python",
   "name": "python2"
  },
  "language_info": {
   "codemirror_mode": {
    "name": "ipython",
    "version": 2
   },
   "file_extension": ".py",
   "mimetype": "text/x-python",
   "name": "python",
   "nbconvert_exporter": "python",
   "pygments_lexer": "ipython2",
   "version": "2.7.12"
  }
 },
 "nbformat": 4,
 "nbformat_minor": 1
}
