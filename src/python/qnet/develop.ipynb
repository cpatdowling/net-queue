{
 "cells": [
  {
   "cell_type": "raw",
   "metadata": {},
   "source": [
    "Helper functions"
   ]
  },
  {
   "cell_type": "code",
   "execution_count": 1,
   "metadata": {
    "collapsed": false
   },
   "outputs": [],
   "source": [
    "import sys\n",
    "import os\n",
    "import numpy as np\n",
    "\n",
    "def tf(string): #for boolean parameter values\n",
    "    if string == \"False\":\n",
    "        return(False)\n",
    "    elif string == \"True\":\n",
    "        return(True)\n",
    "    else:\n",
    "        print(\"Bad boolean at: \" + string)\n",
    "        print(\"Defaulting to False\")\n",
    "        return(False)\n",
    "    \n",
    "def sample_dist(distname, distparams):\n",
    "    #distribution types are encoded in class objects, this function\n",
    "    #samples accordingly\n",
    "    if distname == \"fixed\":\n",
    "        val = distparams\n",
    "    elif distname == \"exponential\":\n",
    "        val = np.random.exponential(distparams)\n",
    "    elif distname == \"uniform\":\n",
    "        val = np.random.uniform(distparams[0], distparams[1])\n",
    "    else:\n",
    "        print(\"sample_dist (helper) error, distribution type not known.\")\n",
    "        print(distname)\n",
    "        val = False\n",
    "    return(val)"
   ]
  },
  {
   "cell_type": "raw",
   "metadata": {},
   "source": [
    "Helper function tests"
   ]
  },
  {
   "cell_type": "code",
   "execution_count": 3,
   "metadata": {
    "collapsed": false
   },
   "outputs": [
    {
     "name": "stdout",
     "output_type": "stream",
     "text": [
      "0.752674522554\n",
      "9.04835370349\n",
      "sample_dist (helper) error, distribution type not known.\n",
      "poisson\n",
      "False\n"
     ]
    }
   ],
   "source": [
    "tf(\"True\")\n",
    "tf(\"False\")\n",
    "print(sample_dist(\"uniform\", (0,1)))\n",
    "print(sample_dist(\"exponential\", 5))\n",
    "print(sample_dist(\"poisson\", 2))"
   ]
  },
  {
   "cell_type": "raw",
   "metadata": {},
   "source": [
    "Parameter class, read/write methods"
   ]
  },
  {
   "cell_type": "code",
   "execution_count": 4,
   "metadata": {
    "collapsed": true
   },
   "outputs": [],
   "source": [
    "import sys\n",
    "import os\n",
    "import numpy as np\n",
    "\n",
    "\n",
    "class parameters:\n",
    "    def __init__(self):\n",
    "        #all parameter values\n",
    "        self.ALL = [\"SIMULATION_TIME\", \"TIME_RESOLUTION\", \"DRIVE_TIME_DIST\", \"DRIVE_TIME_DIST\",\n",
    "                    \"EXOGENOUS_INTERARRIVAL\", \"SERVICE_TIME_DIST\", \"RENEGE_TIME\", \"NUM_SPOTS\", \n",
    "                    \"ROAD_NETWORK\", \"VERBOSE\"]\n",
    "        #If param file passes single float, float is diagonalized across a network matrix\n",
    "        self.diagonalize = [\"EXOGENOUS_INTERARRIVAL\", \"SERVICE_TIME\", \"RENEGE_TIME\", \"NUM_SPOTS\"]\n",
    "\n",
    "        #Simulator parameters\n",
    "        self.SIMULATION_TIME = 1000.0\n",
    "        self.TIME_RESOLUTION = 0.001\n",
    "        self.VERBOSE = True\n",
    "        \n",
    "        #Simulator statistics to collect, list of keywords\n",
    "        self.STATS = [\"occupancy\"]\n",
    "\n",
    "        #Network parameters\n",
    "        self.EXOGENOUS_INTERARRIVAL = 1.5 \n",
    "        self.SERVICE_TIME = 5.0\n",
    "        self.SERVICE_TIME_DIST = \"fixed\" #distribution for service times, eg exponential or fixed\n",
    "        self.RENEGE_TIME = 0.0\n",
    "        self.NUM_SPOTS = 5\n",
    "        self.DRIVE_TIME = 1.0\n",
    "        self.DRIVE_TIME_DIST = \"exponential\" #distribution for drive times, eg exponential or fixed\n",
    "\n",
    "        #Directed network topologies\n",
    "        #Default network is 2-cycle\n",
    "        self.ROAD_NETWORK = np.array([[0,1],\n",
    "                                      [1,0]])\n",
    "        self.networks = [\"ROAD_NETWORK\"] #list is hold over for multiple overlaid networks (parking garages)\n",
    "        \n",
    "    def read(self, inFilePath):\n",
    "        #read parameter file\n",
    "        inFile = open(inFilePath, 'r')\n",
    "        lines = inFile.readlines()\n",
    "        for line in lines:\n",
    "            tokens = line.strip().split(\"=\")\n",
    "            if line[0] == \"#\" or line.strip() == \"\":\n",
    "                pass\n",
    "            elif tokens[1].strip()[0] == \"/\":\n",
    "                try:\n",
    "                    arr = np.loadtxt(tokens[1].strip(), dtype=np.dtype(float), delimiter = \",\")\n",
    "                    setattr(self, tokens[0].strip(), arr)\n",
    "                except Exception as err:\n",
    "                    print(\"Error reading parameter file path at line: \")\n",
    "                    print(line)\n",
    "                    print(err)\n",
    "            elif tokens[1].strip()[0] == \"T\" or tokens[1].strip()[0] == \"F\":\n",
    "                setattr(self, tokens[0].strip(), tf(tokens[1].strip()))\n",
    "            else:\n",
    "                try:\n",
    "                    #float parameters\n",
    "                    setattr(self, tokens[0].strip(), float(tokens[1].strip()))\n",
    "                except:\n",
    "                    #string parameters\n",
    "                    setattr(self, tokens[0].strip(), tokens[1].strip())\n",
    "\n",
    "        for att in self.diagonalize:\n",
    "            if type(getattr(self, att)) != np.ndarray:\n",
    "                setattr(self, att, getattr(self, att) * np.eye(self.ROAD_NETWORK.shape[1]))\n",
    "            \n",
    "    def write(self, outFilePath, ident):\n",
    "        with open(outFilePath + \"/\" + ident + \"_PARAMS.txt\", 'w') as f:\n",
    "            for att in self.ALL:\n",
    "                if att in self.diagonalize:\n",
    "                    f.write(att + \" = \" + outFilePath + \"/\" + ident + \"_\" + att + \".txt \\n\")\n",
    "                    try:\n",
    "                        np.savetxt(outFilePath + \"/\" + ident + \"_\" + att + \".txt\", getattr(self, att), delimiter=\",\")\n",
    "                    except:\n",
    "                        out = getattr(self, att) * np.eye(self.ROAD_NETWORK.shape[1])\n",
    "                        np.savetxt(outFilePath + \"/\" + ident + \"_\" + att + \".txt\", out, delimiter=\",\")\n",
    "                elif att in self.networks:\n",
    "                    f.write(att + \" = \" + outFilePath + \"/\" + ident + \"_\" + att + \".txt \\n\")\n",
    "                    np.savetxt(outFilePath + \"/\" + ident + \"_\" + att + \".txt\", getattr(self, att), delimiter=\",\")\n",
    "                else:\n",
    "                    f.write(att + \" = \" + str(getattr(self, att)) + \"\\n\")\n"
   ]
  },
  {
   "cell_type": "raw",
   "metadata": {},
   "source": [
    "Parameter class tests\n",
    "    -initialize\n",
    "    -read\n",
    "    -write"
   ]
  },
  {
   "cell_type": "code",
   "execution_count": 5,
   "metadata": {
    "collapsed": true
   },
   "outputs": [],
   "source": [
    "params = parameters()"
   ]
  },
  {
   "cell_type": "code",
   "execution_count": 6,
   "metadata": {
    "collapsed": false
   },
   "outputs": [],
   "source": [
    "params.read('../../../test/five_block_test/test_params.txt')"
   ]
  },
  {
   "cell_type": "code",
   "execution_count": 7,
   "metadata": {
    "collapsed": false
   },
   "outputs": [],
   "source": [
    "newArrivalArray = 2.0 * np.eye(params.ROAD_NETWORK.shape[0])\n",
    "setattr(params, 'EXOGENOUS_INTEARRIVAL', newArrivalArray)\n",
    "newSimTime = 2000.0\n",
    "setattr(params, 'SIMULATION_TIME', newSimTime)\n",
    "setattr(params, 'SERVICE_TIME_DIST', 'exponential')\n",
    "params.write('../../../test/five_block_test/', 'write_test') #output dir, identifier"
   ]
  },
  {
   "cell_type": "raw",
   "metadata": {},
   "source": [
    "Specific object classes: queues, blockfaces, streets, and vehicles"
   ]
  },
  {
   "cell_type": "code",
   "execution_count": 10,
   "metadata": {
    "collapsed": true
   },
   "outputs": [],
   "source": [
    "class nqueue: #this queue class serves as the queue type for both streets and blockfaces\n",
    "    def __init__(self, category, index, paramsInst):\n",
    "        self.INDEX = index\n",
    "        self.CATEGORY = category\n",
    "        if category == \"blockface\":\n",
    "            self.EXOGENOUS_INTERARRIVAL = paramsInst.EXOGENOUS_INTERARRIVAL\n",
    "            self.SERVICE_TIME = paramsInst.SERVICE_TIME[index, index]\n",
    "            self.SERVICE_TIME_DIST = paramsInst.SERVICE_TIME_DIST\n",
    "            self.NUM_SPOTS = paramsInst.NUM_SPOTS[index, index]\n",
    "            self.ACTIVE_SERVERS = np.zeros((int(self.NUM_SPOTS),))\n",
    "            self.NEIGHBORING_BLOCKS = []\n",
    "            \n",
    "            #statistics\n",
    "            self.TOTAL = 0\n",
    "            self.EXOGENOUS_ARRIVALS = 0\n",
    "        \n",
    "            #stats requiring multiple measurements\n",
    "            self.OCCUPANCY = []\n",
    "            self.STATIONARY = []\n",
    "            \n",
    "        elif category == \"street\":\n",
    "            self.ORIGIN = index[0]\n",
    "            self.DESTINATION = index[1]\n",
    "            self.SERVICE_TIME = paramsInst.DRIVE_TIME\n",
    "            self.SERVICE_TIME_DIST = paramsInst.DRIVE_TIME_DIST\n",
    "            self.NUM_SPOTS = np.inf #infinite server queue\n",
    "            self.ACTIVE_SERVERS = np.zeros((20,)) #assuming a likely maximum capacity, \n",
    "                                     #will dynamically expand if needed\n",
    "            \n",
    "            #statistics\n",
    "            self.TOTAL = 0\n",
    "        else:\n",
    "            category == \"garage\" #empty category for now\n",
    "            print(\"Unprototyped nqueue category: garage\")\n",
    "            pass\n",
    "        \n",
    "    def get_service_time(self):\n",
    "        service_time = sample_dist(self.SERVICE_TIME_DIST, self.SERVICE_TIME)\n",
    "        return(service_time)    \n",
    "    \n",
    "\n",
    "        \n",
    "        "
   ]
  },
  {
   "cell_type": "code",
   "execution_count": 11,
   "metadata": {
    "collapsed": false
   },
   "outputs": [
    {
     "name": "stdout",
     "output_type": "stream",
     "text": [
      "3.92674092896\n",
      "5\n"
     ]
    }
   ],
   "source": [
    "a = nqueue(\"blockface\", 1, params)\n",
    "print(a.get_service_time())\n",
    "print(len(a.ACTIVE_SERVERS))"
   ]
  },
  {
   "cell_type": "raw",
   "metadata": {},
   "source": [
    "Queue network class, maps all blockfaces and streets, contains timer methods and queue exchange (park, rejection) methods"
   ]
  },
  {
   "cell_type": "code",
   "execution_count": 8,
   "metadata": {
    "collapsed": false
   },
   "outputs": [],
   "source": [
    "class blockfaceNet:\n",
    "    def __init__(self, paramInstance, stats=[]):\n",
    "        self.PARAMS = paramInstance\n",
    "        self.TIMER = 0.0\n",
    "        self.STOPWATCH = []\n",
    "        self.NUM_MEASUREMENTS = 1000.0 #number of measurements for in situ sensors\n",
    "        \n",
    "        num_blocks = self.PARAMS.ROAD_NETWORK.shape[1]\n",
    "        \n",
    "        self.BLOCKFACES = {}\n",
    "        for ii in range(num_blocks):\n",
    "            self.BLOCKFACES[ii] = nqueue(\"blockface\", ii, self.PARAMS)\n",
    "            neighboring_blocks = [ j for j, x in enumerate(self.PARAMS.ROAD_NETWORK[ii,:]) if x == 1 ]\n",
    "            self.BLOCKFACES[ii].NEIGHBORING_BLOCKS = neighboring_blocks\n",
    "        \n",
    "        #new arrival timer        \n",
    "        arrival_times = np.diag(self.PARAMS.EXOGENOUS_INTERARRIVAL)\n",
    "        self.INJECTION_BLOCKS = [ i for i, x in enumerate(arrival_times) if float(x) != 0.0 ]\n",
    "        self.NEW_ARRIVAL_TIMER = np.zeros((len(self.INJECTION_BLOCKS),))\n",
    "        for bi in range(len(self.INJECTION_BLOCKS)):\n",
    "            curr = self.INJECTION_BLOCKS[bi]\n",
    "            inittime = self.BLOCKFACES[curr].get_service_time()\n",
    "            self.NEW_ARRIVAL_TIMER[bi] = inittime   \n",
    "        \n",
    "        self.STREETS = {} #key is origin blockface, value is dict of streets with \n",
    "                          #destinations by key\n",
    "        for origin in range(num_blocks):\n",
    "            self.STREETS[origin] = {}\n",
    "            for dest_n in self.BLOCKFACES[origin].NEIGHBORING_BLOCKS:\n",
    "                self.STREETS[origin][dest_n] = nqueue(\"street\", (origin,dest_n), self.PARAMS)\n",
    "    \n",
    "    def step_time(self):\n",
    "        self.TIMER += self.PARAMS.TIME_RESOLUTION\n",
    "        \n",
    "        #countdowns\n",
    "        for block in self.BLOCKFACES.keys():\n",
    "            self.BLOCKFACES[block].ACTIVE_SERVERS -= self.PARAMS.TIME_RESOLUTION\n",
    "            for st in self.STREETS[block]: #streets originating from the current block\n",
    "                self.STREETS[block][st].ACTIVE_SERVERS -= self.PARAMS.TIME_RESOLUTION\n",
    "                \n",
    "        if self.TIMER % (self.PARAMS.SIMULATION_TIME / 10) <= self.PARAMS.TIME_RESOLUTION:\n",
    "            if self.PARAMS.VERBOSE == True:\n",
    "                print(str(int(self.TIMER / (self.PARAMS.SIMULATION_TIME/100))) + \"% complete\")\n",
    "        \n",
    "        #sensor measurements\n",
    "        if self.TIMER % (self.PARAMS.SIMULATION_TIME / self.NUM_MEASUREMENTS) <= self.PARAMS.TIME_RESOLUTION:\n",
    "            self.STOPWATCH.append(self.TIMER)\n",
    "            \n",
    "            if \"occupancy\" in self.PARAMS.STATS:\n",
    "                self.update_occupancy()\n",
    "        \n",
    "        \n",
    "    #simulation statistics for blockfaces\n",
    "    def update_occupancy(self):\n",
    "        for block in self.BLOCKFACES.keys():\n",
    "            spots = float(self.BLOCKFACES[block].NUM_SPOTS)\n",
    "            parked = float(len([ i for i, x in enumerate(self.BLOCKFACES[block].ACTIVE_SERVERS) \n",
    "                                if x > self.PARAMS.TIME_RESOLUTION ]))\n",
    "            self.BLOCKFACES[block].OCCUPANCY.append(parked/spots)\n",
    "            \n",
    "    #def update_stationary(self):"
   ]
  },
  {
   "cell_type": "raw",
   "metadata": {},
   "source": [
    "Queue network tests"
   ]
  },
  {
   "cell_type": "code",
   "execution_count": 12,
   "metadata": {
    "collapsed": false
   },
   "outputs": [
    {
     "name": "stdout",
     "output_type": "stream",
     "text": [
      "[ 11.35710103   0.23330745  23.81838918   6.53773517   1.80650517\n",
      "   6.10592176   3.33418519   3.27030928   1.83345631   1.56644498]\n",
      "0% complete\n",
      "10% complete\n",
      "20% complete\n",
      "30% complete\n",
      "40% complete\n",
      "50% complete\n",
      "60% complete\n",
      "70% complete\n",
      "80% complete\n",
      "90% complete\n",
      "100% complete\n",
      "[-2000.00099996 -2000.00099996 -2000.00099996 -2000.00099996 -2000.00099996]\n",
      "[-2000.00099996 -2000.00099996 -2000.00099996 -2000.00099996 -2000.00099996\n",
      " -2000.00099996 -2000.00099996 -2000.00099996 -2000.00099996 -2000.00099996\n",
      " -2000.00099996 -2000.00099996 -2000.00099996 -2000.00099996 -2000.00099996\n",
      " -2000.00099996 -2000.00099996 -2000.00099996 -2000.00099996 -2000.00099996]\n"
     ]
    }
   ],
   "source": [
    "QNet = blockfaceNet(params)\n",
    "print(QNet.NEW_ARRIVAL_TIMER)\n"
   ]
  },
  {
   "cell_type": "code",
   "execution_count": null,
   "metadata": {
    "collapsed": true
   },
   "outputs": [],
   "source": [
    "while QNet.TIMER < QNet.PARAMS.SIMULATION_TIME:\n",
    "    QNet.step_time()\n",
    "    \n",
    "print(QNet.BLOCKFACES[1].ACTIVE_SERVERS)\n",
    "print(QNet.STREETS[1][3].ACTIVE_SERVERS)"
   ]
  },
  {
   "cell_type": "code",
   "execution_count": 134,
   "metadata": {
    "collapsed": false
   },
   "outputs": [
    {
     "name": "stdout",
     "output_type": "stream",
     "text": [
      "[0.0, 0.0, 0.0, 0.0, 0.0, 0.0, 0.0, 0.0, 0.0, 0.0, 0.0, 0.0, 0.0, 0.0, 0.0, 0.0, 0.0, 0.0, 0.0, 0.0, 0.0, 0.0, 0.0, 0.0, 0.0, 0.0, 0.0, 0.0, 0.0, 0.0, 0.0, 0.0, 0.0, 0.0, 0.0, 0.0, 0.0, 0.0, 0.0, 0.0, 0.0, 0.0, 0.0, 0.0, 0.0, 0.0, 0.0, 0.0, 0.0, 0.0, 0.0, 0.0, 0.0, 0.0, 0.0, 0.0, 0.0, 0.0, 0.0, 0.0, 0.0, 0.0, 0.0, 0.0, 0.0, 0.0, 0.0, 0.0, 0.0, 0.0, 0.0, 0.0, 0.0, 0.0, 0.0, 0.0, 0.0, 0.0, 0.0, 0.0, 0.0, 0.0, 0.0, 0.0, 0.0, 0.0, 0.0, 0.0, 0.0, 0.0, 0.0, 0.0, 0.0, 0.0, 0.0, 0.0, 0.0, 0.0, 0.0, 0.0, 0.0, 0.0, 0.0, 0.0, 0.0, 0.0, 0.0, 0.0, 0.0, 0.0, 0.0, 0.0, 0.0, 0.0, 0.0, 0.0, 0.0, 0.0, 0.0, 0.0, 0.0, 0.0, 0.0, 0.0, 0.0, 0.0, 0.0, 0.0, 0.0, 0.0, 0.0, 0.0, 0.0, 0.0, 0.0, 0.0, 0.0, 0.0, 0.0, 0.0, 0.0, 0.0, 0.0, 0.0, 0.0, 0.0, 0.0, 0.0, 0.0, 0.0, 0.0, 0.0, 0.0, 0.0, 0.0, 0.0, 0.0, 0.0, 0.0, 0.0, 0.0, 0.0, 0.0, 0.0, 0.0, 0.0, 0.0, 0.0, 0.0, 0.0, 0.0, 0.0, 0.0, 0.0, 0.0, 0.0, 0.0, 0.0, 0.0, 0.0, 0.0, 0.0, 0.0, 0.0, 0.0, 0.0, 0.0, 0.0, 0.0, 0.0, 0.0, 0.0, 0.0, 0.0, 0.0, 0.0, 0.0, 0.0, 0.0, 0.0, 0.0, 0.0, 0.0, 0.0, 0.0, 0.0, 0.0, 0.0, 0.0, 0.0, 0.0, 0.0, 0.0, 0.0, 0.0, 0.0, 0.0, 0.0, 0.0, 0.0, 0.0, 0.0, 0.0, 0.0, 0.0, 0.0, 0.0, 0.0, 0.0, 0.0, 0.0, 0.0, 0.0, 0.0, 0.0, 0.0, 0.0, 0.0, 0.0, 0.0, 0.0, 0.0, 0.0, 0.0, 0.0, 0.0, 0.0, 0.0, 0.0, 0.0, 0.0, 0.0, 0.0, 0.0, 0.0, 0.0, 0.0, 0.0, 0.0, 0.0, 0.0, 0.0, 0.0, 0.0, 0.0, 0.0, 0.0, 0.0, 0.0, 0.0, 0.0, 0.0, 0.0, 0.0, 0.0, 0.0, 0.0, 0.0, 0.0, 0.0, 0.0, 0.0, 0.0, 0.0, 0.0, 0.0, 0.0, 0.0, 0.0, 0.0, 0.0, 0.0, 0.0, 0.0, 0.0, 0.0, 0.0, 0.0, 0.0, 0.0, 0.0, 0.0, 0.0, 0.0, 0.0, 0.0, 0.0, 0.0, 0.0, 0.0, 0.0, 0.0, 0.0, 0.0, 0.0, 0.0, 0.0, 0.0, 0.0, 0.0, 0.0, 0.0, 0.0, 0.0, 0.0, 0.0, 0.0, 0.0, 0.0, 0.0, 0.0, 0.0, 0.0, 0.0, 0.0, 0.0, 0.0, 0.0, 0.0, 0.0, 0.0, 0.0, 0.0, 0.0, 0.0, 0.0, 0.0, 0.0, 0.0, 0.0, 0.0, 0.0, 0.0, 0.0, 0.0, 0.0, 0.0, 0.0, 0.0, 0.0, 0.0, 0.0, 0.0, 0.0, 0.0, 0.0, 0.0, 0.0, 0.0, 0.0, 0.0, 0.0, 0.0, 0.0, 0.0, 0.0, 0.0, 0.0, 0.0, 0.0, 0.0, 0.0, 0.0, 0.0, 0.0, 0.0, 0.0, 0.0, 0.0, 0.0, 0.0, 0.0, 0.0, 0.0, 0.0, 0.0, 0.0, 0.0, 0.0, 0.0, 0.0, 0.0, 0.0, 0.0, 0.0, 0.0, 0.0, 0.0, 0.0, 0.0, 0.0, 0.0, 0.0, 0.0, 0.0, 0.0, 0.0, 0.0, 0.0, 0.0, 0.0, 0.0, 0.0, 0.0, 0.0, 0.0, 0.0, 0.0, 0.0, 0.0, 0.0, 0.0, 0.0, 0.0, 0.0, 0.0, 0.0, 0.0, 0.0, 0.0, 0.0, 0.0, 0.0, 0.0, 0.0, 0.0, 0.0, 0.0, 0.0, 0.0, 0.0, 0.0, 0.0, 0.0, 0.0, 0.0, 0.0, 0.0, 0.0, 0.0, 0.0, 0.0, 0.0, 0.0, 0.0, 0.0, 0.0, 0.0, 0.0, 0.0, 0.0, 0.0, 0.0, 0.0, 0.0, 0.0, 0.0, 0.0, 0.0, 0.0, 0.0, 0.0, 0.0, 0.0, 0.0, 0.0, 0.0, 0.0, 0.0, 0.0, 0.0, 0.0, 0.0, 0.0, 0.0, 0.0, 0.0, 0.0, 0.0, 0.0, 0.0, 0.0, 0.0, 0.0, 0.0, 0.0, 0.0, 0.0, 0.0, 0.0, 0.0, 0.0, 0.0, 0.0, 0.0, 0.0, 0.0, 0.0, 0.0, 0.0, 0.0, 0.0, 0.0, 0.0, 0.0, 0.0, 0.0, 0.0, 0.0, 0.0, 0.0, 0.0, 0.0, 0.0, 0.0, 0.0, 0.0, 0.0, 0.0, 0.0, 0.0, 0.0, 0.0, 0.0, 0.0, 0.0, 0.0, 0.0, 0.0, 0.0, 0.0, 0.0, 0.0, 0.0, 0.0, 0.0, 0.0, 0.0, 0.0, 0.0, 0.0, 0.0, 0.0, 0.0, 0.0, 0.0, 0.0, 0.0, 0.0, 0.0, 0.0, 0.0, 0.0, 0.0, 0.0, 0.0, 0.0, 0.0, 0.0, 0.0, 0.0, 0.0, 0.0, 0.0, 0.0, 0.0, 0.0, 0.0, 0.0, 0.0, 0.0, 0.0, 0.0, 0.0, 0.0, 0.0, 0.0, 0.0, 0.0, 0.0, 0.0, 0.0, 0.0, 0.0, 0.0, 0.0, 0.0, 0.0, 0.0, 0.0, 0.0, 0.0, 0.0, 0.0, 0.0, 0.0, 0.0, 0.0, 0.0, 0.0, 0.0, 0.0, 0.0, 0.0, 0.0, 0.0, 0.0, 0.0, 0.0, 0.0, 0.0, 0.0, 0.0, 0.0, 0.0, 0.0, 0.0, 0.0, 0.0, 0.0, 0.0, 0.0, 0.0, 0.0, 0.0, 0.0, 0.0, 0.0, 0.0, 0.0, 0.0, 0.0, 0.0, 0.0, 0.0, 0.0, 0.0, 0.0, 0.0, 0.0, 0.0, 0.0, 0.0, 0.0, 0.0, 0.0, 0.0, 0.0, 0.0, 0.0, 0.0, 0.0, 0.0, 0.0, 0.0, 0.0, 0.0, 0.0, 0.0, 0.0, 0.0, 0.0, 0.0, 0.0, 0.0, 0.0, 0.0, 0.0, 0.0, 0.0, 0.0, 0.0, 0.0, 0.0, 0.0, 0.0, 0.0, 0.0, 0.0, 0.0, 0.0, 0.0, 0.0, 0.0, 0.0, 0.0, 0.0, 0.0, 0.0, 0.0, 0.0, 0.0, 0.0, 0.0, 0.0, 0.0, 0.0, 0.0, 0.0, 0.0, 0.0, 0.0, 0.0, 0.0, 0.0, 0.0, 0.0, 0.0, 0.0, 0.0, 0.0, 0.0, 0.0, 0.0, 0.0, 0.0, 0.0, 0.0, 0.0, 0.0, 0.0, 0.0, 0.0, 0.0, 0.0, 0.0, 0.0, 0.0, 0.0, 0.0, 0.0, 0.0, 0.0, 0.0, 0.0, 0.0, 0.0, 0.0, 0.0, 0.0, 0.0, 0.0, 0.0, 0.0, 0.0, 0.0, 0.0, 0.0, 0.0, 0.0, 0.0, 0.0, 0.0, 0.0, 0.0, 0.0, 0.0, 0.0, 0.0, 0.0, 0.0, 0.0, 0.0, 0.0, 0.0, 0.0, 0.0, 0.0, 0.0, 0.0, 0.0, 0.0, 0.0, 0.0, 0.0, 0.0, 0.0, 0.0, 0.0, 0.0, 0.0, 0.0, 0.0, 0.0, 0.0, 0.0, 0.0, 0.0, 0.0, 0.0, 0.0, 0.0, 0.0, 0.0, 0.0, 0.0, 0.0, 0.0, 0.0, 0.0, 0.0, 0.0, 0.0, 0.0, 0.0, 0.0, 0.0, 0.0, 0.0, 0.0, 0.0, 0.0, 0.0, 0.0, 0.0, 0.0, 0.0, 0.0, 0.0, 0.0, 0.0, 0.0, 0.0, 0.0, 0.0, 0.0, 0.0, 0.0, 0.0, 0.0, 0.0, 0.0, 0.0, 0.0, 0.0, 0.0, 0.0, 0.0, 0.0, 0.0, 0.0, 0.0, 0.0, 0.0, 0.0, 0.0, 0.0, 0.0, 0.0, 0.0, 0.0, 0.0, 0.0, 0.0, 0.0, 0.0, 0.0, 0.0, 0.0, 0.0, 0.0, 0.0, 0.0, 0.0, 0.0, 0.0, 0.0, 0.0, 0.0, 0.0, 0.0, 0.0, 0.0, 0.0, 0.0, 0.0, 0.0, 0.0, 0.0, 0.0, 0.0, 0.0, 0.0, 0.0, 0.0, 0.0, 0.0, 0.0, 0.0, 0.0, 0.0, 0.0, 0.0, 0.0, 0.0, 0.0, 0.0, 0.0, 0.0, 0.0, 0.0, 0.0, 0.0, 0.0, 0.0, 0.0, 0.0, 0.0, 0.0, 0.0, 0.0, 0.0, 0.0, 0.0, 0.0, 0.0, 0.0, 0.0, 0.0, 0.0, 0.0, 0.0, 0.0, 0.0, 0.0, 0.0, 0.0, 0.0, 0.0, 0.0, 0.0, 0.0, 0.0, 0.0, 0.0, 0.0, 0.0, 0.0, 0.0, 0.0, 0.0, 0.0, 0.0, 0.0, 0.0, 0.0, 0.0, 0.0, 0.0, 0.0, 0.0, 0.0, 0.0, 0.0, 0.0, 0.0, 0.0, 0.0, 0.0, 0.0, 0.0, 0.0, 0.0, 0.0, 0.0, 0.0, 0.0, 0.0, 0.0, 0.0, 0.0, 0.0, 0.0, 0.0, 0.0, 0.0, 0.0, 0.0, 0.0, 0.0, 0.0]\n"
     ]
    }
   ],
   "source": [
    "print(QNet.BLOCKFACES[1].OCCUPANCY)"
   ]
  },
  {
   "cell_type": "markdown",
   "metadata": {},
   "source": [
    "Specific object classes: queues, blockfaces, streets, and vehicles"
   ]
  },
  {
   "cell_type": "code",
   "execution_count": 123,
   "metadata": {
    "collapsed": true
   },
   "outputs": [],
   "source": []
  },
  {
   "cell_type": "raw",
   "metadata": {},
   "source": [
    "Unit tests"
   ]
  },
  {
   "cell_type": "code",
   "execution_count": 73,
   "metadata": {
    "collapsed": false,
    "scrolled": true
   },
   "outputs": [
    {
     "name": "stdout",
     "output_type": "stream",
     "text": [
      "5.0\n"
     ]
    },
    {
     "name": "stderr",
     "output_type": "stream",
     "text": [
      "/usr/local/lib/python2.7/dist-packages/ipykernel/__main__.py:11: VisibleDeprecationWarning: using a non-integer number instead of an integer will result in an error in the future\n"
     ]
    },
    {
     "ename": "AttributeError",
     "evalue": "nqueue instance has no attribute 'BLOCKFACE'",
     "output_type": "error",
     "traceback": [
      "\u001b[0;31m---------------------------------------------------------------------------\u001b[0m",
      "\u001b[0;31mAttributeError\u001b[0m                            Traceback (most recent call last)",
      "\u001b[0;32m<ipython-input-73-22c7c3ff78cb>\u001b[0m in \u001b[0;36m<module>\u001b[0;34m()\u001b[0m\n\u001b[1;32m      1\u001b[0m \u001b[0ma\u001b[0m \u001b[0;34m=\u001b[0m \u001b[0mnqueue\u001b[0m\u001b[0;34m(\u001b[0m\u001b[0;34m\"blockface\"\u001b[0m\u001b[0;34m,\u001b[0m \u001b[0;36m1\u001b[0m\u001b[0;34m,\u001b[0m \u001b[0mparams\u001b[0m\u001b[0;34m)\u001b[0m\u001b[0;34m\u001b[0m\u001b[0m\n\u001b[0;32m----> 2\u001b[0;31m \u001b[0ma\u001b[0m\u001b[0;34m.\u001b[0m\u001b[0mBLOCKFACE\u001b[0m\u001b[0;34m.\u001b[0m\u001b[0mget_service_time\u001b[0m\u001b[0;34m(\u001b[0m\u001b[0;34m)\u001b[0m\u001b[0;34m\u001b[0m\u001b[0m\n\u001b[0m",
      "\u001b[0;31mAttributeError\u001b[0m: nqueue instance has no attribute 'BLOCKFACE'"
     ]
    }
   ],
   "source": [
    "a = nqueue(\"blockface\", 1, params)\n",
    "a.BLOCKFACE.get_service_time()"
   ]
  },
  {
   "cell_type": "code",
   "execution_count": 54,
   "metadata": {
    "collapsed": false,
    "scrolled": true
   },
   "outputs": [
    {
     "name": "stdout",
     "output_type": "stream",
     "text": [
      "0.1\n",
      "0\n"
     ]
    }
   ],
   "source": [
    "a = nqueue(\"street\", 1, params)\n",
    "print(a.get_service_time())\n",
    "print(len(a.ACTIVE_SERVERS))"
   ]
  },
  {
   "cell_type": "code",
   "execution_count": 122,
   "metadata": {
    "collapsed": false,
    "scrolled": true
   },
   "outputs": [
    {
     "data": {
      "text/plain": [
       "array([ 0.,  0.])"
      ]
     },
     "execution_count": 122,
     "metadata": {},
     "output_type": "execute_result"
    }
   ],
   "source": [
    "np.concatenate( (np.zeros((1,)),np.zeros((1,))) )"
   ]
  },
  {
   "cell_type": "code",
   "execution_count": null,
   "metadata": {
    "collapsed": true
   },
   "outputs": [],
   "source": []
  }
 ],
 "metadata": {
  "kernelspec": {
   "display_name": "Python 2",
   "language": "python",
   "name": "python2"
  },
  "language_info": {
   "codemirror_mode": {
    "name": "ipython",
    "version": 2
   },
   "file_extension": ".py",
   "mimetype": "text/x-python",
   "name": "python",
   "nbconvert_exporter": "python",
   "pygments_lexer": "ipython2",
   "version": "2.7.12"
  }
 },
 "nbformat": 4,
 "nbformat_minor": 1
}
