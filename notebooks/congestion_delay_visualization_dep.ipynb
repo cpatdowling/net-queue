{
 "cells": [
  {
   "cell_type": "code",
   "execution_count": 207,
   "metadata": {
    "collapsed": false
   },
   "outputs": [
    {
     "name": "stdout",
     "output_type": "stream",
     "text": [
      ",optimistic_time,best_guess_time,pessimistic_time\n",
      "\n",
      ",optimistic_time,best_guess_time,pessimistic_time\n",
      "\n",
      ",optimistic_time,best_guess_time,pessimistic_time\n",
      "\n"
     ]
    }
   ],
   "source": [
    "from datetime import *\n",
    "\n",
    "intersections = {\"\\'apeg267\\'\": \"2nd (SB only) and Blanchard\", \"\\'apeg263\\'\": \"1st and Lenora\"}\n",
    "week = [\"Monday\",\"Tuesday\", \"Wednesday\", \"Thursday\", \"Friday\", \"Saturday\"]\n",
    "\n",
    "import matplotlib.pyplot as plt\n",
    "\n",
    "valnames = {\"\\'apeg267\\'\": \"2nd and Blanchard\", \"\\'apeg263\\'\": \"1st and Lenora\"}\n",
    "\n",
    "week = [\"Monday\",\"Tuesday\", \"Wednesday\", \"Thursday\", \"Friday\", \"Saturday\"]\n",
    "\n",
    "traffic_files = [\"2nd_broad_to_stewart.csv\", \"1st_broad_to_stewart.csv\", \"stewart_to_broad.csv\"]\n",
    "\n",
    "tfile_map = {\"2nd_broad_to_stewart.csv\": \"\\'apeg267\\'\", \"1st_broad_to_stewart.csv\": \"\\'apeg263\\'\", \"stewart_to_broad.csv\": \"\\'apeg263\\'\"}\n",
    "delays = {}\n",
    "\n",
    "for f in traffic_files:\n",
    "    if f == \"1st_broad_to_stewart.csv\":\n",
    "        cardinal = 4\n",
    "    if f == \"stewart_to_broad.csv\":\n",
    "        cardinal = 8\n",
    "    if f == \"2nd_broad_to_stewart.csv\":\n",
    "        cardinal = 4\n",
    "    inter = tfile_map[f]\n",
    "    if inter not in delays.keys():\n",
    "        delays[inter] = {}\n",
    "    delays[inter][cardinal] = {}\n",
    "    infile = open(\"../data/congestion/\" + f, \"r\")\n",
    "    print(infile.readline())\n",
    "    lines = infile.readlines()\n",
    "    delays[inter][cardinal][\"dates\"] = []\n",
    "    delays[inter][cardinal][\"best\"] = []\n",
    "    delays[inter][cardinal][\"avg\"] = []\n",
    "    delays[inter][cardinal][\"worst\"] = []\n",
    "    for l in lines:\n",
    "        line = l.strip().split(\",\")\n",
    "        dt = datetime.strptime(line[0], \"%Y-%m-%d %H:%M:%S\")\n",
    "        ndt = datetime(year=2016, month=dt.month, day=dt.day, hour=dt.hour, minute=dt.minute, second=dt.second)\n",
    "        delays[inter][cardinal][\"dates\"].append(ndt)\n",
    "        delays[inter][cardinal][\"best\"].append(float(line[1]))\n",
    "        delays[inter][cardinal][\"avg\"].append(float(line[2]))\n",
    "        delays[inter][cardinal][\"worst\"].append(float(line[3]))\n",
    "    \n",
    "    \n",
    "    infile.close()\n",
    "\n",
    "dates = sorted(delays[inter][cardinal][\"dates\"])"
   ]
  },
  {
   "cell_type": "code",
   "execution_count": 208,
   "metadata": {
    "collapsed": false
   },
   "outputs": [
    {
     "data": {
      "text/plain": [
       "[8, 4]"
      ]
     },
     "execution_count": 208,
     "metadata": {},
     "output_type": "execute_result"
    }
   ],
   "source": [
    "delays[\"'apeg263'\"].keys()"
   ]
  },
  {
   "cell_type": "code",
   "execution_count": 209,
   "metadata": {
    "collapsed": true
   },
   "outputs": [],
   "source": [
    "#read traffic volume, match day of week and hour and 15 minute block to 15 minute total volume\n",
    "import numpy as np\n",
    "\n",
    "volumes = {}\n",
    "for i in [\"1\",\"2\",\"3\",\"4\",\"5\"]:\n",
    "    with open(\"../data/congestion/Traffic.BARHAM_BELLTOWN-\" + i + \".csv\", \"r\") as f:\n",
    "        lines = f.readlines()\n",
    "        road = \"\"\n",
    "        for line in lines:\n",
    "            if line[0:7] == \"Results\":\n",
    "                tok_1 = line.split(\",\")\n",
    "                tok_2 = tok_1[0].split(\" \")\n",
    "                road = tok_2[-1]\n",
    "                direction = tok_2[4]\n",
    "                if road not in volumes.keys():\n",
    "                    volumes[road] = {}\n",
    "                if direction not in volumes[road].keys():\n",
    "                    volumes[road][direction] = {}\n",
    "                    volumes[road][direction][\"dates\"] = []\n",
    "                    volumes[road][direction][\"vol\"] = []\n",
    "            if line[0:1] == \"0\":\n",
    "                tokens = line.strip().split(\",\")\n",
    "                dt = datetime.strptime(tokens[0].rstrip(\" PDT\"), \"%m/%d/%Y %H:%M:%S\")\n",
    "                try:\n",
    "                    vol = float(tokens[2])\n",
    "                except:\n",
    "                    vol = np.nan\n",
    "                volumes[road][direction][\"dates\"].append(dt)\n",
    "                volumes[road][direction][\"vol\"].append(vol)\n",
    "\n",
    "intersections = volumes.keys()\n",
    "directions = {}\n",
    "for road in intersections:\n",
    "    directions[road] = volumes[road].keys()\n",
    "\n",
    "for road in intersections:\n",
    "    for direction in directions[road]:\n",
    "        cardinal = direction.split(\"_\")[0].lstrip(\"\\'\")\n",
    "        if cardinal not in volumes[road].keys():\n",
    "            volumes[road][\"cardinals\"] = set()\n",
    "            volumes[road][cardinal] = {}\n",
    "            volumes[road][cardinal][\"dates\"] = []\n",
    "            volumes[road][cardinal][\"vol\"] = []\n",
    "            volumes[road][cardinal][\"lanes\"] = set()\n",
    "        volumes[road][cardinal][\"lanes\"].add(direction)\n",
    "        volumes[road][\"cardinals\"].add(cardinal)\n",
    "        \n",
    "for road in intersections:\n",
    "    for cardinal in volumes[road][\"cardinals\"]:\n",
    "        vols = []\n",
    "        for lane in volumes[road][cardinal][\"lanes\"]:\n",
    "            vols.append(volumes[road][lane][\"vol\"])\n",
    "        vols = np.sum(np.asarray(vols), axis = 0)\n",
    "        volumes[road][cardinal][\"vol\"] = vols\n",
    "        volumes[road][cardinal][\"dates\"] = volumes[road][lane][\"dates\"]\n",
    "            "
   ]
  },
  {
   "cell_type": "code",
   "execution_count": 210,
   "metadata": {
    "collapsed": true
   },
   "outputs": [],
   "source": [
    "def hourly_delay_by_status(inter, card, status=\"worst\", traffic_windows=[[0,12], [12,19], [19,23]]):\n",
    "    #traffic windows should be a list of intervals between 0 and 23\n",
    "    outputs = {}\n",
    "    for i in range(len(traffic_windows)):\n",
    "        outputs[i] = {}\n",
    "        outputs[i][\"vol\"] = []\n",
    "        outputs[i][\"delay\"] = []\n",
    "    outputs[\"all\"] = {}\n",
    "    outputs[\"all\"][\"delay\"] = []\n",
    "    outputs[\"all\"][\"vol\"] = []\n",
    "    \n",
    "    avgvols = {}\n",
    "    for i in range(len(dates)):\n",
    "        if dates[i].weekday() < 5: #currently excluding saturday\n",
    "            h = dates[i].hour\n",
    "            m = dates[i].minute\n",
    "            if h not in avgvols.keys():\n",
    "                avgvols[h] = {}\n",
    "            if m not in avgvols[h].keys():\n",
    "                avgvols[h][m] = {}\n",
    "                avgvols[h][m][\"delay\"] = []\n",
    "                avgvols[h][m][\"vol\"] = []\n",
    "            dateindex = delays[inter][card][\"dates\"].index(dates[i])\n",
    "            avgvols[h][m][\"delay\"].append(delays[inter][card][status][dateindex])\n",
    "            avgvols[h][m][\"vol\"].append(vols[i,])\n",
    "\n",
    "    hrs = sorted(avgvols.keys())\n",
    "    mins = sorted(avgvols[h].keys())\n",
    "    for h in hrs:\n",
    "        for m in mins:\n",
    "            outputs[\"all\"][\"delay\"].append(np.nanmean(avgvols[h][m][\"delay\"]))\n",
    "            outputs[\"all\"][\"vol\"].append(np.nanmean(avgvols[h][m][\"vol\"]))\n",
    "            for i in range(len(traffic_windows)):\n",
    "                if h >= traffic_windows[i][0] and h < traffic_windows[i][1]:\n",
    "                    outputs[i][\"vol\"].append(np.nanmean(avgvols[h][m][\"vol\"]))\n",
    "                    outputs[i][\"delay\"].append(np.nanmean(avgvols[h][m][\"delay\"]))\n",
    "    return(outputs)"
   ]
  },
  {
   "cell_type": "code",
   "execution_count": 284,
   "metadata": {
    "collapsed": true
   },
   "outputs": [],
   "source": [
    "#specify intersection\n",
    "#specify direction\n",
    "inter = \"\\'apeg263\\'\"\n",
    "cardinal = 4\n",
    "status = \"worst\"\n",
    "\n",
    "#for reference\n",
    "valnames = {\"\\'apeg267\\'\": \"2nd and Blanchard\", \"\\'apeg263\\'\": \"1st and Lenora\"}\n",
    "\n",
    "week = [\"Monday\",\"Tuesday\", \"Wednesday\", \"Thursday\", \"Friday\", \"Saturday\"]\n",
    "\n",
    "traffic_files = [\"denny_to_battery.csv\", \"broad_to_stewart.csv\", \"stewart_to_broad.csv\"]\n",
    "\n",
    "tfile_map = {\"denny_to_battery.csv\": \"\\'apeg267\\'\", \n",
    "             \"broad_to_stewart.csv\": \"\\'apeg263\\'\", \n",
    "             \"stewart_to_broad.csv\": \"\\'apeg263\\'\"}\n",
    "#broad_to_stewart = 4 cardinal\n",
    "#stewart_to_broad = 8 cardinal"
   ]
  },
  {
   "cell_type": "code",
   "execution_count": 285,
   "metadata": {
    "collapsed": false
   },
   "outputs": [],
   "source": [
    "#delay functions\n",
    "\n",
    "#traffic_windows=[[0,12], [12, 16], [16,18], [18,23]]\n",
    "traffic_windows = [ [4*j, 4*j + 4] for j in range(6)]\n",
    "tod_delays = hourly_delay_by_status(inter, cardinal, status, traffic_windows)\n",
    "\n",
    "def linear_fit(volarray, delayarray):\n",
    "    x = np.array(volarray)\n",
    "    y = np.array(delayarray)\n",
    "\n",
    "    A = np.vstack([x, np.ones(len(x))]).T\n",
    "    res = np.linalg.lstsq(A, y)\n",
    "    return(res)\n",
    "\n",
    "def linear_model(fit, volvalue):\n",
    "    m, c = fit[0]\n",
    "    print(m, c)\n",
    "    delay = m*volvalue + c\n",
    "    return(delay)\n",
    "\n",
    "delay_linear_fits = {}\n",
    "for i in range(len(traffic_windows)):\n",
    "    lin_fit = linear_fit(tod_delays[i][\"vol\"], tod_delays[i][\"delay\"])\n",
    "    delay_linear_fits[i] = lin_fit\n",
    "    delay_linear_fits[\"all\"] = linear_fit(tod_delays[\"all\"][\"vol\"], tod_delays[\"all\"][\"delay\"])\n",
    "    \n",
    "def get_delay_by_hour(hour, volume, traffic_windows, total=False):\n",
    "    interval = 0\n",
    "    for i in range(len(traffic_windows)):\n",
    "        if hour >= traffic_windows[i][0] and hour < traffic_windows[i][1]:\n",
    "            interval = i\n",
    "    if total == True:\n",
    "        fit = delay_linear_fits[\"all\"]\n",
    "    else:\n",
    "        fit = delay_linear_fits[interval]\n",
    "    delay = linear_model(fit, volume)\n",
    "    return(delay)"
   ]
  },
  {
   "cell_type": "code",
   "execution_count": 286,
   "metadata": {
    "collapsed": false
   },
   "outputs": [
    {
     "data": {
      "text/plain": [
       "{0: (array([  10.29918893,  196.07900432]),\n",
       "  array([ 10480.77877325]),\n",
       "  2,\n",
       "  array([ 27.13411721,   1.57139529])),\n",
       " 1: (array([   0.7597197 ,  191.19778063]),\n",
       "  array([ 474.48173352]),\n",
       "  2,\n",
       "  array([ 113.24503188,    2.30572206])),\n",
       " 2: (array([  -0.47329405,  324.48225882]),\n",
       "  array([ 13624.47285522]),\n",
       "  2,\n",
       "  array([  2.06476153e+02,   2.03527957e-01])),\n",
       " 3: (array([  1.98566174e-01,   3.54599109e+02]),\n",
       "  array([ 730.87299025]),\n",
       "  2,\n",
       "  array([  2.43396559e+02,   2.15575561e-01])),\n",
       " 4: (array([  3.25696412e-01,   3.55280818e+02]),\n",
       "  array([ 4888.55918781]),\n",
       "  2,\n",
       "  array([ 219.51263021,    0.42565213])),\n",
       " 5: (array([   1.35647468,  285.462862  ]),\n",
       "  array([ 628.91191066]),\n",
       "  2,\n",
       "  array([ 142.15407413,    0.96166974])),\n",
       " 'all': (array([   2.14706737,  224.2095978 ]),\n",
       "  array([ 182415.37960057]),\n",
       "  2,\n",
       "  array([ 428.73727697,    4.67830474]))}"
      ]
     },
     "execution_count": 286,
     "metadata": {},
     "output_type": "execute_result"
    }
   ],
   "source": [
    "delay_linear_fits"
   ]
  },
  {
   "cell_type": "code",
   "execution_count": 287,
   "metadata": {
    "collapsed": false
   },
   "outputs": [
    {
     "data": {
      "text/plain": [
       "False"
      ]
     },
     "execution_count": 287,
     "metadata": {},
     "output_type": "execute_result"
    }
   ],
   "source": [
    "13 >= traffic_windows[1][0] and 13 < traffic_windows[1][1]"
   ]
  },
  {
   "cell_type": "code",
   "execution_count": 288,
   "metadata": {
    "collapsed": false
   },
   "outputs": [
    {
     "name": "stdout",
     "output_type": "stream",
     "text": [
      "(2.1470673742223778, 224.20959780332734)\n"
     ]
    },
    {
     "data": {
      "text/plain": [
       "438.91633522556515"
      ]
     },
     "execution_count": 288,
     "metadata": {},
     "output_type": "execute_result"
    }
   ],
   "source": [
    "get_delay_by_hour(2, 100, traffic_windows, total=True)\n"
   ]
  },
  {
   "cell_type": "code",
   "execution_count": 289,
   "metadata": {
    "collapsed": false
   },
   "outputs": [],
   "source": [
    "#now I need expected rejections by hour on all block-faces adjacent to 1st and 2nd avenues\n",
    "import numpy as np\n",
    "import pickle\n",
    "\n",
    "with open(\"/home/chase/Dropbox/parking/2017cikm-tex/figs/ipython/ElementKeytoLatLong.pck\", 'r') as pick:\n",
    "    elementkeytolatlong = pickle.load(pick)\n",
    "    \n",
    "blockids = sorted(elementkeytolatlong)\n",
    "\n",
    "first = [1017, 1018, 1021, 1022, 1025, 1026, 1029, 1030, 1033]\n",
    "second = [2789, 2790, 2785, 2786, 2781, 2782, 70750, 70746, 25705, 25706]\n",
    "\n",
    "#first value is the block-face, all values following it are blocks that are accessible from the first\n",
    "#so I need to go through every row and check if any of first or second list above are accessible from the first element \n",
    "#in row\n",
    "first_feed = []\n",
    "second_feed = []\n",
    "\n",
    "first_out = []\n",
    "second_out = []\n",
    "\n",
    "with open(\"/home/chase/Dropbox/parking/2017cikm-tex/figs/ipython/belltown-blockface-accessibility.csv\") as f:\n",
    "    header = f.readline()\n",
    "    data = f.readlines()\n",
    "    for line in data:\n",
    "        tokens = line.split(\"#\")\n",
    "        ekeys = tokens[0].strip().split(\",\")\n",
    "        origin = ekeys.pop(0).strip()\n",
    "        if len(origin) > 0:\n",
    "            origin = int(origin)\n",
    "            ekeys = [ int(ek.strip()) for ek in ekeys if len(ek) > 1 ]\n",
    "            if origin in first:\n",
    "                first_out += ekeys\n",
    "            elif origin in second:\n",
    "                second_out += ekeys\n",
    "            for ek in ekeys:\n",
    "                if ek in first:\n",
    "                    first_feed.append(origin)\n",
    "                if ek in second:\n",
    "                    second_feed.append(origin)\n",
    "                    \n",
    "            \n",
    "    \n",
    "\"\"\"\n",
    "adj = np.loadtxt('/home/chase/Dropbox/parking/2017cikm-tex/figs/ipython/belltown-dir-array.txt', delimiter=' ')\n",
    "for i in range(len(blockids)):\n",
    "    bid = blockids[i]\n",
    "    for j in range(len(blockids)):\n",
    "        if adj[i,j] > 0:\n",
    "            to_block = blockids[j]\n",
    "            from_block = blockids[i]\n",
    "            if to_block in first:\n",
    "                first_feed.append(to_block)\n",
    "            if from_block in first:\n",
    "                first_out.append(from_block)\n",
    "            if to_block in second:\n",
    "                second_feed.append(to_block)\n",
    "            if from_block in second:\n",
    "                second_out.append(from_block)\n",
    "\"\"\"\n",
    "\n",
    "first = list(set(first + first_feed + first_out))\n",
    "first_i = [ blockids.index(bid) for bid in first ]\n",
    "second = list(set(second + second_feed + second_out))\n",
    "second_i = [ blockids.index(bid) for bid in second ]\n",
    "\n",
    "#key is \"apegintersection\" value and values are dicts of average volume of vehicles per hour\n",
    "with open(\"/home/chase/Dropbox/parking/2017cikm-tex/figs/ipython/traffic_data/fixed_service_perblockface/avg_daily_volume_per_hour.pck\", 'r') as pick:\n",
    "    volumeperhour = pickle.load(pick)\n",
    "\n",
    "\n"
   ]
  },
  {
   "cell_type": "code",
   "execution_count": 290,
   "metadata": {
    "collapsed": false
   },
   "outputs": [
    {
     "data": {
      "text/plain": [
       "[57,\n",
       " 58,\n",
       " 41,\n",
       " 42,\n",
       " 202,\n",
       " 122,\n",
       " 67,\n",
       " 229,\n",
       " 160,\n",
       " 10,\n",
       " 197,\n",
       " 11,\n",
       " 62,\n",
       " 63,\n",
       " 199,\n",
       " 47,\n",
       " 235,\n",
       " 175,\n",
       " 198,\n",
       " 201,\n",
       " 12,\n",
       " 13,\n",
       " 14,\n",
       " 15,\n",
       " 82,\n",
       " 83,\n",
       " 84,\n",
       " 85,\n",
       " 88,\n",
       " 89,\n",
       " 119,\n",
       " 174,\n",
       " 239,\n",
       " 120,\n",
       " 200]"
      ]
     },
     "execution_count": 290,
     "metadata": {},
     "output_type": "execute_result"
    }
   ],
   "source": [
    "second_i"
   ]
  },
  {
   "cell_type": "code",
   "execution_count": 291,
   "metadata": {
    "collapsed": false
   },
   "outputs": [],
   "source": [
    "def get_daily_blocks_rejections(blocklist_i, day):\n",
    "    rejection_data = 60.0/np.loadtxt(\"/home/chase/Dropbox/parking/2017cikm-tex/figs/ipython/belltowndata/2016_local_uniformity_fixservice/\" + day + \"_blockface_Rejections_By_Block.csv\", delimiter=\",\")\n",
    "    hourly_total = np.zeros((rejection_data.shape[1],))\n",
    "    for i in blocklist_i:\n",
    "        hourly_total += rejection_data[i,:]\n",
    "    return(list(hourly_total))\n",
    "\n",
    "def get_avg_blocks_traffic_volume_by_direction(intersection, card, day):\n",
    "    output = hourly_delay_by_status(intersection, card, status, traffic_windows)  \n",
    "    vs = list(output[\"all\"][\"vol\"])\n",
    "    vs_avg = []\n",
    "    hs = sorted(output.keys())\n",
    "    for i in range(24):\n",
    "        hr_avg = []\n",
    "        for j in range(4):\n",
    "            hr_avg.append(vs[4*i  + j])\n",
    "        vs_avg.append(np.mean(np.array(hr_avg)))\n",
    "    return(vs_avg)\n",
    "\n",
    "def get_daily_blocks_traffic_volume(intersection, day):\n",
    "    d = week.index(day)\n",
    "    traff_vol_dict = volumeperhour[intersection][d]\n",
    "    hs = sorted(traff_vol_dict.keys())\n",
    "    vs = []\n",
    "    for h in hs:\n",
    "        vs.append(traff_vol_dict[h])\n",
    "    return(vs)\n",
    "\n",
    "#test\n",
    "test = get_daily_blocks_traffic_volume(inter, \"Friday\")\n",
    "test_traff = get_daily_blocks_rejections(first_i, \"Friday\")\n",
    "test_traff = [0 for i in range(9)] + test_traff + [0 for i in range(5)]"
   ]
  },
  {
   "cell_type": "code",
   "execution_count": null,
   "metadata": {
    "collapsed": true
   },
   "outputs": [],
   "source": []
  },
  {
   "cell_type": "code",
   "execution_count": 292,
   "metadata": {
    "collapsed": false
   },
   "outputs": [
    {
     "data": {
      "image/png": "[encoded data removed]",
      "text/plain": [
       "<matplotlib.figure.Figure at 0x7f134b4fd190>"
      ]
     },
     "metadata": {},
     "output_type": "display_data"
    }
   ],
   "source": [
    "import matplotlib.pyplot as plt\n",
    "plt.plot(test)\n",
    "plt.plot(test_traff)\n",
    "plt.show()"
   ]
  },
  {
   "cell_type": "code",
   "execution_count": null,
   "metadata": {
    "collapsed": false
   },
   "outputs": [],
   "source": []
  },
  {
   "cell_type": "code",
   "execution_count": 293,
   "metadata": {
    "collapsed": false
   },
   "outputs": [
    {
     "name": "stdout",
     "output_type": "stream",
     "text": [
      "[[0, 4], [4, 8], [8, 12], [12, 16], [16, 20], [20, 24]]\n",
      "(2.1470673742223778, 224.20959780332734)\n",
      "(2.1470673742223778, 224.20959780332734)\n",
      "(2.1470673742223778, 224.20959780332734)\n",
      "(2.1470673742223778, 224.20959780332734)\n",
      "(2.1470673742223778, 224.20959780332734)\n",
      "(2.1470673742223778, 224.20959780332734)\n",
      "(2.1470673742223778, 224.20959780332734)\n",
      "(2.1470673742223778, 224.20959780332734)\n",
      "(2.1470673742223778, 224.20959780332734)\n",
      "(2.1470673742223778, 224.20959780332734)\n",
      "(2.1470673742223778, 224.20959780332734)\n",
      "(2.1470673742223778, 224.20959780332734)\n",
      "(2.1470673742223778, 224.20959780332734)\n",
      "(2.1470673742223778, 224.20959780332734)\n",
      "(2.1470673742223778, 224.20959780332734)\n",
      "(2.1470673742223778, 224.20959780332734)\n",
      "(2.1470673742223778, 224.20959780332734)\n",
      "(2.1470673742223778, 224.20959780332734)\n",
      "(2.1470673742223778, 224.20959780332734)\n",
      "(2.1470673742223778, 224.20959780332734)\n",
      "(2.1470673742223778, 224.20959780332734)\n",
      "(2.1470673742223778, 224.20959780332734)\n",
      "(2.1470673742223778, 224.20959780332734)\n",
      "(2.1470673742223778, 224.20959780332734)\n",
      "(2.1470673742223778, 224.20959780332734)\n",
      "(2.1470673742223778, 224.20959780332734)\n",
      "(2.1470673742223778, 224.20959780332734)\n",
      "(2.1470673742223778, 224.20959780332734)\n",
      "(2.1470673742223778, 224.20959780332734)\n",
      "(2.1470673742223778, 224.20959780332734)\n",
      "(2.1470673742223778, 224.20959780332734)\n",
      "(2.1470673742223778, 224.20959780332734)\n",
      "(2.1470673742223778, 224.20959780332734)\n",
      "(2.1470673742223778, 224.20959780332734)\n",
      "(2.1470673742223778, 224.20959780332734)\n",
      "(2.1470673742223778, 224.20959780332734)\n",
      "(2.1470673742223778, 224.20959780332734)\n",
      "(2.1470673742223778, 224.20959780332734)\n",
      "(2.1470673742223778, 224.20959780332734)\n",
      "(2.1470673742223778, 224.20959780332734)\n",
      "(2.1470673742223778, 224.20959780332734)\n",
      "(2.1470673742223778, 224.20959780332734)\n",
      "(2.1470673742223778, 224.20959780332734)\n",
      "(2.1470673742223778, 224.20959780332734)\n",
      "(2.1470673742223778, 224.20959780332734)\n",
      "(2.1470673742223778, 224.20959780332734)\n",
      "(2.1470673742223778, 224.20959780332734)\n",
      "(2.1470673742223778, 224.20959780332734)\n"
     ]
    }
   ],
   "source": [
    "#traffic_windows=[[0,12], [12,19], [19,23]]\n",
    "\n",
    "print(traffic_windows)\n",
    "\n",
    "reg_delay = [ get_delay_by_hour(i, test[i], traffic_windows, total=True) for i in range(len(test))]\n",
    "\n",
    "diff = list(np.array(test) - np.array(test_traff))\n",
    "\n",
    "traff_delay =  [ get_delay_by_hour(i, diff[i], traffic_windows, total=True) for i in range(len(test))]\n"
   ]
  },
  {
   "cell_type": "code",
   "execution_count": 294,
   "metadata": {
    "collapsed": false
   },
   "outputs": [
    {
     "data": {
      "image/png": "[encoded data removed]",
      "text/plain": [
       "<matplotlib.figure.Figure at 0x7f134dadbb50>"
      ]
     },
     "metadata": {},
     "output_type": "display_data"
    }
   ],
   "source": [
    "plt.plot(reg_delay)\n",
    "plt.plot(traff_delay)\n",
    "plt.show()"
   ]
  },
  {
   "cell_type": "code",
   "execution_count": 295,
   "metadata": {
    "collapsed": false
   },
   "outputs": [
    {
     "data": {
      "image/png": "[encoded data removed]",
      "text/plain": [
       "<matplotlib.figure.Figure at 0x7f134b5a7ed0>"
      ]
     },
     "metadata": {},
     "output_type": "display_data"
    }
   ],
   "source": [
    "gap = list(np.array(reg_delay) - np.array(traff_delay))\n",
    "percent_gain = [ gap[i]/reg_delay[i] for i in range(len(gap)) ]\n",
    "\n",
    "plt.plot(percent_gain)\n",
    "plt.show()"
   ]
  },
  {
   "cell_type": "code",
   "execution_count": 222,
   "metadata": {
    "collapsed": false
   },
   "outputs": [],
   "source": [
    "marg = []"
   ]
  },
  {
   "cell_type": "code",
   "execution_count": null,
   "metadata": {
    "collapsed": true
   },
   "outputs": [],
   "source": []
  },
  {
   "cell_type": "code",
   "execution_count": null,
   "metadata": {
    "collapsed": true
   },
   "outputs": [],
   "source": []
  },
  {
   "cell_type": "code",
   "execution_count": null,
   "metadata": {
    "collapsed": true
   },
   "outputs": [],
   "source": []
  }
 ],
 "metadata": {
  "kernelspec": {
   "display_name": "Python 2",
   "language": "python",
   "name": "python2"
  },
  "language_info": {
   "codemirror_mode": {
    "name": "ipython",
    "version": 2
   },
   "file_extension": ".py",
   "mimetype": "text/x-python",
   "name": "python",
   "nbconvert_exporter": "python",
   "pygments_lexer": "ipython2",
   "version": "2.7.12"
  }
 },
 "nbformat": 4,
 "nbformat_minor": 1
}
