{
 "cells": [
  {
   "cell_type": "code",
   "execution_count": 34,
   "metadata": {
    "collapsed": true
   },
   "outputs": [],
   "source": [
    "import numpy as np\n",
    "\n",
    "day = \"Thursday\"\n",
    "\n",
    "#occupancies = np.loadtxt(\"/home/chase/projects/net-queue/data/simulation/belltownsims/belltowndata\", delimiter=\",\")"
   ]
  },
  {
   "cell_type": "code",
   "execution_count": 35,
   "metadata": {},
   "outputs": [
    {
     "data": {
      "text/plain": [
       "1.122949e-13"
      ]
     },
     "execution_count": 35,
     "metadata": {},
     "output_type": "execute_result"
    }
   ],
   "source": [
    "def read_matlab_float(strin):\n",
    "    strin = strin.strip()\n",
    "    tokens = strin.split(\"e\")\n",
    "    sign_ = tokens[1][0]\n",
    "    if sign_ == \"-\":\n",
    "        sign = -1.0\n",
    "    else:\n",
    "        sign = 1.0\n",
    "    p = float(tokens[1][1:].strip())\n",
    "    mant = float(tokens[0])\n",
    "    return( mant * np.power(10.0, (sign*p)) )\n",
    "\n",
    "def read_matlab_txt_array(filepath, delimiter=\",\"):\n",
    "    with open(filepath) as f:\n",
    "        rows_ = f.readlines()\n",
    "        rows = [ row.strip().split(delimiter) for row in rows_ ]\n",
    "        output = np.zeros( (len(rows), len(rows[0])) )\n",
    "        for i in range(len(rows)):\n",
    "            for j in range(len(rows[i])):\n",
    "                output[i,j] = read_matlab_float(rows[i][j])\n",
    "    return(output)\n",
    "        \n",
    "    \n",
    "test = \"1.122949e-13\"\n",
    "read_matlab_float(test)"
   ]
  },
  {
   "cell_type": "code",
   "execution_count": 36,
   "metadata": {},
   "outputs": [],
   "source": [
    "import numpy as np\n",
    "\n",
    "loads = read_matlab_txt_array(\"/home/chase/projects/net-queue/data/simulation/belltownsims/belltowndata/\" + day + \"_blockface_Average_Loads_Matlab.csv\")\n",
    "rates = np.loadtxt(\"/home/chase/projects/net-queue/data/simulation/belltownsims/belltowndata/2016_local_uniformity_fixservice/\" + day + \"_blockface_True_Arrivals_By_Block.csv\", delimiter=\",\")\n"
   ]
  },
  {
   "cell_type": "code",
   "execution_count": 37,
   "metadata": {},
   "outputs": [
    {
     "data": {
      "text/plain": [
       "(256, 12)"
      ]
     },
     "execution_count": 37,
     "metadata": {},
     "output_type": "execute_result"
    }
   ],
   "source": [
    "loads.shape"
   ]
  },
  {
   "cell_type": "code",
   "execution_count": null,
   "metadata": {
    "collapsed": true
   },
   "outputs": [],
   "source": []
  },
  {
   "cell_type": "code",
   "execution_count": 38,
   "metadata": {
    "collapsed": true
   },
   "outputs": [],
   "source": [
    "import sys\n",
    "import os\n",
    "sys.path.append(\"/home/chase/projects/net-queue/src/python/qnet\")\n",
    "from qnet import parameters\n",
    "\n",
    "global_params = parameters()\n",
    "global_params.read(\"/home/chase/projects/net-queue/data/simulation/belltownsims/sims/Monday/12/ARRIVAL_RATE_hour_12_params.txt\")\n",
    "global_params.VERBOSE = False"
   ]
  },
  {
   "cell_type": "code",
   "execution_count": 39,
   "metadata": {
    "collapsed": true
   },
   "outputs": [],
   "source": [
    "import copy\n",
    "import os\n",
    "\n",
    "exppath = \"/home/chase/projects/net-queue/data/simulation/block_closure/sims/\" + day + \"/\"\n",
    "if not os.path.exists(exppath):\n",
    "    os.mkdir(exppath)\n",
    "\n",
    "mcfile = open(exppath + \"/runMC.sh\", 'w')\n",
    "\n",
    "for j in range(rates.shape[1]):\n",
    "    if not os.path.exists(exppath + \"/hour_\" + str(j)):\n",
    "        os.mkdir(exppath + \"/hour_\" + str(j))\n",
    "    for i in range(20):\n",
    "        top = np.argpartition(loads[:,j] , -i)\n",
    "        top = top[-i:]\n",
    "        new_params = parameters()\n",
    "        new_params.read(\"/home/chase/projects/net-queue/data/simulation/belltownsims/sims/Monday/12/ARRIVAL_RATE_hour_12_params.txt\")\n",
    "        new_params.EXOGENOUS_INTERARRIVAL = np.diag(rates[:,j])\n",
    "        new_params.VERBOSE = False\n",
    "        if i != 0:\n",
    "            for t in top:\n",
    "                new_params.EXOGENOUS_INTERARRIVAL[t,t] = 0.0\n",
    "                new_params.NUM_SPOTS[t,t] = 0\n",
    "\n",
    "        if not os.path.exists(exppath + \"/hour_\" + str(j) + \"/closure_\" + str(i)):\n",
    "            os.mkdir(exppath + \"/hour_\" + str(j) + \"/closure_\" + str(i))\n",
    "\n",
    "        new_params.write(exppath + \"/hour_\" + str(j) + \"/closure_\" + str(i), \"closure_\" + str(i))\n",
    "\n",
    "        qnetpath = \"/home/chase/projects/net-queue/src/python/qnet/nbus_batch.py\"\n",
    "        outpath = exppath + \"hour_\" + str(j) + \"/closure_\" + str(i)\n",
    "        paramfilepath = outpath + \"/closure_\" + str(i) + \"_PARAMS.txt\"\n",
    "\n",
    "        for i in range(5):\n",
    "            mcfile.write(\"python \" + qnetpath + \" \" + paramfilepath + \" \" + outpath + \"\\n\")\n",
    "\n",
    "mcfile.close()"
   ]
  },
  {
   "cell_type": "code",
   "execution_count": 20,
   "metadata": {
    "collapsed": true
   },
   "outputs": [],
   "source": [
    "mcfile.close()"
   ]
  },
  {
   "cell_type": "code",
   "execution_count": 23,
   "metadata": {},
   "outputs": [
    {
     "ename": "NameError",
     "evalue": "name 'new_params' is not defined",
     "output_type": "error",
     "traceback": [
      "\u001b[0;31m---------------------------------------------------------------------------\u001b[0m",
      "\u001b[0;31mNameError\u001b[0m                                 Traceback (most recent call last)",
      "\u001b[0;32m<ipython-input-23-1669a6620db9>\u001b[0m in \u001b[0;36m<module>\u001b[0;34m()\u001b[0m\n\u001b[0;32m----> 1\u001b[0;31m \u001b[0mnew_params\u001b[0m\u001b[0;34m.\u001b[0m\u001b[0mEXOGENOUS_INTERARRIVAL\u001b[0m\u001b[0;34m\u001b[0m\u001b[0m\n\u001b[0m",
      "\u001b[0;31mNameError\u001b[0m: name 'new_params' is not defined"
     ]
    }
   ],
   "source": []
  },
  {
   "cell_type": "code",
   "execution_count": 7,
   "metadata": {
    "collapsed": true
   },
   "outputs": [],
   "source": [
    "import numpy as np\n",
    "import os\n",
    "\n",
    "output = {}\n",
    "arrival_output = {}"
   ]
  },
  {
   "cell_type": "code",
   "execution_count": 30,
   "metadata": {
    "collapsed": true
   },
   "outputs": [],
   "source": [
    "simdir = \"/home/chase/projects/net-queue/data/simulation/block_closure/sims\"\n",
    "outdirs = os.listdir(simdir)\n",
    "outdirs.remove(\"runMC.sh\")\n",
    "for sim in outdirs:\n",
    "    num = int(sim.split(\"_\")[1])\n",
    "    arrs = []\n",
    "    for f in os.listdir(simdir + \"/\" + sim):\n",
    "        if f[0:4] == \"traf\":\n",
    "            traff = np.loadtxt(simdir + \"/\" + sim + \"/\" + f, delimiter=\",\")\n",
    "            for i in range(num):\n",
    "                i += 1\n",
    "                closed = top[-i:]\n",
    "                for block in closed:\n",
    "                    traff[block,:] = 0.0\n",
    "            arrs.append(traff)\n",
    "            \n",
    "        if f == sim + \"_EXOGENOUS_INTERARRIVAL.txt\":\n",
    "            arrival = np.loadtxt(simdir + \"/\" + sim + \"/\" + f, delimiter=\",\")\n",
    "            arrival_output[num] = sum(sum(arrival))\n",
    "            \n",
    "    total = np.zeros(arrs[0].shape)\n",
    "    for arr in arrs:\n",
    "        total += arr\n",
    "    avg = 1.0/(len(arrs)) * total\n",
    "    \n",
    "    output[num] = np.sum(avg)\n",
    "            \n",
    "    "
   ]
  },
  {
   "cell_type": "code",
   "execution_count": null,
   "metadata": {
    "collapsed": true
   },
   "outputs": [],
   "source": []
  },
  {
   "cell_type": "code",
   "execution_count": 28,
   "metadata": {},
   "outputs": [
    {
     "data": {
      "text/plain": [
       "(256, 256)"
      ]
     },
     "execution_count": 28,
     "metadata": {},
     "output_type": "execute_result"
    }
   ],
   "source": [
    "arrs[0].shape"
   ]
  },
  {
   "cell_type": "code",
   "execution_count": 31,
   "metadata": {},
   "outputs": [
    {
     "data": {
      "image/png": "[encoded data removed]",
      "text/plain": [
       "<matplotlib.figure.Figure at 0x7f1be79825d0>"
      ]
     },
     "metadata": {},
     "output_type": "display_data"
    },
    {
     "data": {
      "image/png": "[encoded data removed]",
      "text/plain": [
       "<matplotlib.figure.Figure at 0x7f1beaa86190>"
      ]
     },
     "metadata": {},
     "output_type": "display_data"
    }
   ],
   "source": [
    "import matplotlib.pyplot as plt\n",
    "%matplotlib inline\n",
    "\n",
    "closures = sorted(output.keys())\n",
    "\n",
    "vals = [ arrival_output[i] for i in closures ]\n",
    "\n",
    "plt.plot(closures, vals)\n",
    "plt.title(\"network-wide total arrivals\")\n",
    "plt.show()\n",
    "\n",
    "vals = [ output[i] for i in closures ]\n",
    "\n",
    "plt.plot(closures, vals)\n",
    "plt.ylim([0,50])\n",
    "plt.title(\"network-wide total rejections\")\n",
    "plt.show()"
   ]
  },
  {
   "cell_type": "code",
   "execution_count": 31,
   "metadata": {
    "collapsed": true
   },
   "outputs": [],
   "source": [
    "#using matlab output data\n",
    "ratepath = \"/home/chase/projects/net-queue/data/simulation/belltownsims/belltowndata/2016_local_uniformity_fixservice/\"\n",
    "occuppath = \"/home/chase/projects/net-queue/data/simulation/belltownsims/belltowndata/\"\n",
    "\n",
    "weekthree = [\"Mon\", \"Tue\", \"Wed\", \"Thu\", \"Fri\", \"Sat\"]\n",
    "\n",
    "ratefiles = os.listdir(ratepath)\n",
    "occupfiles = os.listdir(occuppath)\n",
    "\n",
    "occupmats = {}\n",
    "rejmats = {}\n",
    "arrmats = {}\n",
    "for f in occupfiles:\n",
    "    if f[0:3] in weekthree:\n",
    "        occupmats[f[0:3]] = read_matlab_txt_array(occuppath + \"/\" + f)\n",
    "\n",
    "for f in ratefiles:\n",
    "    tokens = f.split(\"_\")\n",
    "    if tokens[2] == \"Rejections\":\n",
    "        rejmats[tokens[0][0:3]] = 60.0/np.loadtxt(ratepath + \"/\" + f, delimiter=\",\")\n",
    "    if tokens[2] == \"True\":\n",
    "        arrmats[tokens[0][0:3]] = 60.0/np.loadtxt(ratepath + \"/\" + f, delimiter=\",\")\n",
    "    \n",
    "closure_data = {}\n",
    "for day in weekthree:\n",
    "    closure_data[day] = {}\n",
    "    for hour in range(10):\n",
    "        closure_data[day][hour] = {}\n",
    "        closure_data[day][hour][\"arr\"] = []\n",
    "        closure_data[day][hour][\"rej\"] = []\n",
    "        for i in range(20):\n",
    "            loads = occupmats[day][:,hour]\n",
    "            top = np.argpartition(loads , -i)\n",
    "            top = top[-i:]\n",
    "            total_rej_rate = 0\n",
    "            total_arr_rate = 0\n",
    "            for j in range(len(loads)):\n",
    "                if j not in top:\n",
    "                    total_rej_rate += rejmats[day][j,hour]\n",
    "                    total_arr_rate += arrmats[day][j,hour]\n",
    "            closure_data[day][hour][\"arr\"].append(total_arr_rate)\n",
    "            closure_data[day][hour][\"rej\"].append(total_rej_rate)"
   ]
  },
  {
   "cell_type": "code",
   "execution_count": 32,
   "metadata": {},
   "outputs": [
    {
     "name": "stdout",
     "output_type": "stream",
     "text": [
      "0.347573977048\n",
      "3.64210663872\n",
      "79.1566359856\n",
      "95.0191368783\n",
      "117.470488542\n",
      "116.673616907\n",
      "105.587278097\n",
      "22.5658217085\n",
      "20.9518711271\n",
      "31.2371746947\n",
      "==\n",
      "114.266678062\n",
      "275.563046002\n",
      "413.101362941\n",
      "507.985770799\n",
      "573.760419161\n",
      "568.050502642\n",
      "528.563185957\n",
      "464.198277343\n",
      "429.143943963\n",
      "427.883540984\n"
     ]
    }
   ],
   "source": [
    "day=\"Mon\"\n",
    "\n",
    "for hour in range(10):\n",
    "    print(closure_data[day][hour][\"rej\"][1])\n",
    "    \n",
    "print(\"==\")\n",
    "\n",
    "for hour in range(10):\n",
    "    print(closure_data[day][hour][\"arr\"][1])"
   ]
  },
  {
   "cell_type": "code",
   "execution_count": 25,
   "metadata": {},
   "outputs": [
    {
     "data": {
      "text/plain": [
       "1958.0"
      ]
     },
     "execution_count": 25,
     "metadata": {},
     "output_type": "execute_result"
    }
   ],
   "source": [
    "supply = np.loadtxt(\"/home/chase/projects/net-queue/data/simulation/belltownsims/belltowndata/belltown-supply-array.txt\", delimiter=\",\")\n",
    "np.sum(np.diag(supply))"
   ]
  },
  {
   "cell_type": "code",
   "execution_count": 28,
   "metadata": {
    "collapsed": true
   },
   "outputs": [],
   "source": [
    "eff = np.loadtxt(\"/home/chase/projects/net-queue/data/simulation/belltownsims/belltowndata/2016_local_uniformity_fixservice/Friday_blockface_Effective_Arrivals_By_Block.csv\", delimiter=\",\")\n",
    "true = np.loadtxt(\"/home/chase/projects/net-queue/data/simulation/belltownsims/belltowndata/2016_local_uniformity_fixservice/Friday_blockface_True_Arrivals_By_Block.csv\", delimiter=\",\")"
   ]
  },
  {
   "cell_type": "code",
   "execution_count": 30,
   "metadata": {},
   "outputs": [
    {
     "data": {
      "text/plain": [
       "array([[ 500.  ,   20.24,   12.18, ...,  500.  ,  500.  ,  500.  ],\n",
       "       [ 500.  ,   26.52,   26.52, ...,  500.  ,  500.  ,  500.  ],\n",
       "       [  66.08,   26.24,   17.36, ...,   14.04,   13.86,   12.8 ],\n",
       "       ..., \n",
       "       [ 118.94,   41.76,   17.58, ...,   10.06,   12.46,   14.82],\n",
       "       [ 208.9 ,   67.38,   34.82, ...,   24.5 ,   31.66,   30.86],\n",
       "       [ 147.46,   46.  ,   27.64, ...,   37.54,   52.4 ,   52.66]])"
      ]
     },
     "execution_count": 30,
     "metadata": {},
     "output_type": "execute_result"
    }
   ],
   "source": [
    "true"
   ]
  },
  {
   "cell_type": "code",
   "execution_count": null,
   "metadata": {
    "collapsed": true
   },
   "outputs": [],
   "source": []
  }
 ],
 "metadata": {
  "kernelspec": {
   "display_name": "Python 2",
   "language": "python",
   "name": "python2"
  },
  "language_info": {
   "codemirror_mode": {
    "name": "ipython",
    "version": 2
   },
   "file_extension": ".py",
   "mimetype": "text/x-python",
   "name": "python",
   "nbconvert_exporter": "python",
   "pygments_lexer": "ipython2",
   "version": "2.7.12"
  }
 },
 "nbformat": 4,
 "nbformat_minor": 1
}
